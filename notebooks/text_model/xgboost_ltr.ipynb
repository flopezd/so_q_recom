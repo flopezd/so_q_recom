{
 "cells": [
  {
   "cell_type": "code",
   "execution_count": 1,
   "id": "ff94e9cf-ba0a-42db-b446-e1207fc4191f",
   "metadata": {},
   "outputs": [
    {
     "name": "stderr",
     "output_type": "stream",
     "text": [
      "2024-01-10 11:08:24.423233: I tensorflow/core/platform/cpu_feature_guard.cc:182] This TensorFlow binary is optimized to use available CPU instructions in performance-critical operations.\n",
      "To enable the following instructions: AVX2 FMA, in other operations, rebuild TensorFlow with the appropriate compiler flags.\n"
     ]
    }
   ],
   "source": [
    "import numpy as np\n",
    "from xgboost import XGBRanker\n",
    "from sklearn.metrics import ndcg_score\n",
    "import matplotlib.pyplot as plt\n",
    "import psycopg2\n",
    "from gensim.models.doc2vec import Doc2Vec\n",
    "from gensim.utils import simple_preprocess\n",
    "import tensorflow as tf\n",
    "import tensorflow.keras.backend as K\n",
    "from faiss import read_index\n",
    "from psycopg2.extras import execute_values\n",
    "import pickle\n",
    "import pandas as pd\n",
    "from operator import itemgetter"
   ]
  },
  {
   "cell_type": "markdown",
   "id": "12a9d412-c991-4a30-962e-45cf0a8b6081",
   "metadata": {},
   "source": [
    "# Create dataset"
   ]
  },
  {
   "cell_type": "code",
   "execution_count": 288,
   "id": "3b32db32-a0bc-4560-a1f7-68859518c66c",
   "metadata": {},
   "outputs": [
    {
     "name": "stdout",
     "output_type": "stream",
     "text": [
      "WARNING:tensorflow:No training configuration found in save file, so the model was *not* compiled. Compile it manually.\n"
     ]
    }
   ],
   "source": [
    "connection = psycopg2.connect(\n",
    "    user=\"postgres\",\n",
    "    password=\"postgres\",\n",
    "    host=\"127.0.0.1\",\n",
    "    port=\"54320\",\n",
    "    database=\"stack_overflow\",\n",
    ")\n",
    "question_embeddings_model = Doc2Vec.load(\"python.doc\")\n",
    "question_transformer_model = tf.keras.models.load_model(\n",
    "    \"../../scripts/text_model/question_transformer_model\"\n",
    ")\n",
    "index = read_index(\"../../scripts/text_model/users_imp.index\")"
   ]
  },
  {
   "cell_type": "code",
   "execution_count": 289,
   "id": "d0febf2e-2898-45b9-a51d-26eae52e4276",
   "metadata": {},
   "outputs": [],
   "source": [
    "with open(\"../../scripts/text_model/user_embeddings.pickle\", \"rb\") as f:\n",
    "    user_embedding, user_encoder = pickle.load(f)"
   ]
  },
  {
   "cell_type": "code",
   "execution_count": 290,
   "id": "ad582008-cb8f-4e46-aa94-a27c24f97e28",
   "metadata": {},
   "outputs": [],
   "source": [
    "MIN_ANSWERS = 4\n",
    "with connection:\n",
    "    with connection.cursor() as cursor:\n",
    "        cursor.execute(\n",
    "            f\"\"\"select p.id, p.title, p.body_text\n",
    "        from posts_19 p\n",
    "        join posts_19_tags pt on pt.post_id=p.id\n",
    "        join posts_19 a on a.parent_id=p.id\n",
    "        join tags t on pt.tag_id=t.id\n",
    "        where p.body_text is not null\n",
    "        and p.creation_date < '2022-01-01'\n",
    "        and t.tag_name = 'python'\n",
    "        group by p.id\n",
    "        HAVING count(*) > {MIN_ANSWERS}\n",
    "        limit 30000\"\"\"\n",
    "        )\n",
    "        posts = cursor.fetchall()"
   ]
  },
  {
   "cell_type": "code",
   "execution_count": 291,
   "id": "2076206b-1d19-4022-95ad-5505a4fd0b0a",
   "metadata": {},
   "outputs": [],
   "source": [
    "posts_vectors = []\n",
    "posts_ids = []\n",
    "for p_id, title, body in posts:\n",
    "    posts_ids.append(p_id)\n",
    "    post_text = body\n",
    "    if title is not None:\n",
    "        post_text = title + \"\\n\\n\" + body\n",
    "    posts_vectors.append(\n",
    "        question_embeddings_model.infer_vector(simple_preprocess(post_text))\n",
    "    )"
   ]
  },
  {
   "cell_type": "code",
   "execution_count": 266,
   "id": "e327d988-9f92-4b32-b38a-2de7f5b5af9e",
   "metadata": {},
   "outputs": [
    {
     "data": {
      "text/plain": [
       "(13205, 50)"
      ]
     },
     "execution_count": 266,
     "metadata": {},
     "output_type": "execute_result"
    }
   ],
   "source": [
    "posts_vectors = np.array(posts_vectors)\n",
    "posts_vectors.shape"
   ]
  },
  {
   "cell_type": "code",
   "execution_count": 267,
   "id": "cc8ae250-d55e-41bd-8653-1154745cdf3b",
   "metadata": {},
   "outputs": [
    {
     "name": "stdout",
     "output_type": "stream",
     "text": [
      "413/413 [==============================] - 0s 698us/step\n"
     ]
    },
    {
     "data": {
      "text/plain": [
       "(13205, 10)"
      ]
     },
     "execution_count": 267,
     "metadata": {},
     "output_type": "execute_result"
    }
   ],
   "source": [
    "questions_transformed = question_transformer_model.predict(posts_vectors)\n",
    "questions_transformed.shape"
   ]
  },
  {
   "cell_type": "code",
   "execution_count": 268,
   "id": "2068fdee-edad-4249-9c77-4c614861b778",
   "metadata": {},
   "outputs": [],
   "source": [
    "qid2emb = {pid: emb for pid, emb in zip(posts_ids, questions_transformed)}"
   ]
  },
  {
   "cell_type": "code",
   "execution_count": 269,
   "id": "8979a439-a5ad-4d2c-91b0-2f147bf42a2b",
   "metadata": {},
   "outputs": [],
   "source": [
    "distances, similar_questions = index.search(questions_transformed, 10000)\n",
    "features_df = pd.DataFrame(\n",
    "    list(zip(posts_ids, similar_questions)), columns=[\"q_id\", \"u_id\"]\n",
    ").explode(\"u_id\")\n",
    "features_df[\"u_id\"] = features_df[\"u_id\"].astype(int)"
   ]
  },
  {
   "cell_type": "code",
   "execution_count": 270,
   "id": "dfbcab34-1d29-479b-9230-9a0bddbf3656",
   "metadata": {},
   "outputs": [
    {
     "data": {
      "text/html": [
       "<div>\n",
       "<style scoped>\n",
       "    .dataframe tbody tr th:only-of-type {\n",
       "        vertical-align: middle;\n",
       "    }\n",
       "\n",
       "    .dataframe tbody tr th {\n",
       "        vertical-align: top;\n",
       "    }\n",
       "\n",
       "    .dataframe thead th {\n",
       "        text-align: right;\n",
       "    }\n",
       "</style>\n",
       "<table border=\"1\" class=\"dataframe\">\n",
       "  <thead>\n",
       "    <tr style=\"text-align: right;\">\n",
       "      <th></th>\n",
       "      <th>q_id</th>\n",
       "      <th>u_id</th>\n",
       "    </tr>\n",
       "  </thead>\n",
       "  <tbody>\n",
       "    <tr>\n",
       "      <th>0</th>\n",
       "      <td>773</td>\n",
       "      <td>12234734</td>\n",
       "    </tr>\n",
       "    <tr>\n",
       "      <th>0</th>\n",
       "      <td>773</td>\n",
       "      <td>3558077</td>\n",
       "    </tr>\n",
       "    <tr>\n",
       "      <th>0</th>\n",
       "      <td>773</td>\n",
       "      <td>7122438</td>\n",
       "    </tr>\n",
       "    <tr>\n",
       "      <th>0</th>\n",
       "      <td>773</td>\n",
       "      <td>3286487</td>\n",
       "    </tr>\n",
       "    <tr>\n",
       "      <th>0</th>\n",
       "      <td>773</td>\n",
       "      <td>14978092</td>\n",
       "    </tr>\n",
       "    <tr>\n",
       "      <th>...</th>\n",
       "      <td>...</td>\n",
       "      <td>...</td>\n",
       "    </tr>\n",
       "    <tr>\n",
       "      <th>13204</th>\n",
       "      <td>70545736</td>\n",
       "      <td>7145465</td>\n",
       "    </tr>\n",
       "    <tr>\n",
       "      <th>13204</th>\n",
       "      <td>70545736</td>\n",
       "      <td>11592386</td>\n",
       "    </tr>\n",
       "    <tr>\n",
       "      <th>13204</th>\n",
       "      <td>70545736</td>\n",
       "      <td>11369701</td>\n",
       "    </tr>\n",
       "    <tr>\n",
       "      <th>13204</th>\n",
       "      <td>70545736</td>\n",
       "      <td>10791931</td>\n",
       "    </tr>\n",
       "    <tr>\n",
       "      <th>13204</th>\n",
       "      <td>70545736</td>\n",
       "      <td>3218693</td>\n",
       "    </tr>\n",
       "  </tbody>\n",
       "</table>\n",
       "<p>132050000 rows × 2 columns</p>\n",
       "</div>"
      ],
      "text/plain": [
       "           q_id      u_id\n",
       "0           773  12234734\n",
       "0           773   3558077\n",
       "0           773   7122438\n",
       "0           773   3286487\n",
       "0           773  14978092\n",
       "...         ...       ...\n",
       "13204  70545736   7145465\n",
       "13204  70545736  11592386\n",
       "13204  70545736  11369701\n",
       "13204  70545736  10791931\n",
       "13204  70545736   3218693\n",
       "\n",
       "[132050000 rows x 2 columns]"
      ]
     },
     "execution_count": 270,
     "metadata": {},
     "output_type": "execute_result"
    }
   ],
   "source": [
    "features_df"
   ]
  },
  {
   "cell_type": "code",
   "execution_count": 271,
   "id": "da81ebf2-7c5b-4866-bc9b-125d6ce62c91",
   "metadata": {},
   "outputs": [],
   "source": [
    "batch_size = 1000000\n",
    "\n",
    "results = []\n",
    "with connection:\n",
    "    for batch_idx in range(len(features_df) // batch_size):\n",
    "        with connection.cursor() as cursor:\n",
    "            execute_values(\n",
    "                cursor,\n",
    "                \"\"\"select q_id, u_id, q_a.score\n",
    "                                    FROM (VALUES %s) AS base_questions (q_id, u_id)\n",
    "                                    JOIN posts_19 q_a ON q_a.parent_id = q_id\n",
    "                                    WHERE q_a.owner_user_id=u_id\"\"\",\n",
    "                features_df[batch_idx * batch_size : (batch_idx + 1) * batch_size][\n",
    "                    [\"q_id\", \"u_id\"]\n",
    "                ].values.tolist(),\n",
    "                page_size=batch_size,\n",
    "            )\n",
    "            results.extend(cursor.fetchall())\n",
    "dataset = pd.DataFrame(results, columns=[\"q_id\", \"u_id\", \"score\"])"
   ]
  },
  {
   "cell_type": "code",
   "execution_count": 272,
   "id": "d42d9b3a-6d0c-4d72-891a-aaf38b20f510",
   "metadata": {},
   "outputs": [
    {
     "name": "stdout",
     "output_type": "stream",
     "text": [
      "30525\n"
     ]
    },
    {
     "data": {
      "text/html": [
       "<div>\n",
       "<style scoped>\n",
       "    .dataframe tbody tr th:only-of-type {\n",
       "        vertical-align: middle;\n",
       "    }\n",
       "\n",
       "    .dataframe tbody tr th {\n",
       "        vertical-align: top;\n",
       "    }\n",
       "\n",
       "    .dataframe thead th {\n",
       "        text-align: right;\n",
       "    }\n",
       "</style>\n",
       "<table border=\"1\" class=\"dataframe\">\n",
       "  <thead>\n",
       "    <tr style=\"text-align: right;\">\n",
       "      <th></th>\n",
       "      <th>q_id</th>\n",
       "      <th>u_id</th>\n",
       "      <th>score</th>\n",
       "    </tr>\n",
       "  </thead>\n",
       "  <tbody>\n",
       "    <tr>\n",
       "      <th>138</th>\n",
       "      <td>773</td>\n",
       "      <td>4531270</td>\n",
       "      <td>145</td>\n",
       "    </tr>\n",
       "    <tr>\n",
       "      <th>104</th>\n",
       "      <td>773</td>\n",
       "      <td>650654</td>\n",
       "      <td>33</td>\n",
       "    </tr>\n",
       "    <tr>\n",
       "      <th>20</th>\n",
       "      <td>972</td>\n",
       "      <td>15096247</td>\n",
       "      <td>1</td>\n",
       "    </tr>\n",
       "    <tr>\n",
       "      <th>256</th>\n",
       "      <td>972</td>\n",
       "      <td>541136</td>\n",
       "      <td>157</td>\n",
       "    </tr>\n",
       "    <tr>\n",
       "      <th>102</th>\n",
       "      <td>1854</td>\n",
       "      <td>3191896</td>\n",
       "      <td>14</td>\n",
       "    </tr>\n",
       "  </tbody>\n",
       "</table>\n",
       "</div>"
      ],
      "text/plain": [
       "     q_id      u_id  score\n",
       "138   773   4531270    145\n",
       "104   773    650654     33\n",
       "20    972  15096247      1\n",
       "256   972    541136    157\n",
       "102  1854   3191896     14"
      ]
     },
     "execution_count": 272,
     "metadata": {},
     "output_type": "execute_result"
    }
   ],
   "source": [
    "dataset.sort_values(by=[\"q_id\"], inplace=True)\n",
    "print(len(dataset))\n",
    "dataset.head()"
   ]
  },
  {
   "cell_type": "code",
   "execution_count": 281,
   "id": "e3ee1e83-5a8e-495c-b652-143a8e802fbd",
   "metadata": {},
   "outputs": [],
   "source": [
    "feats = np.concatenate(\n",
    "    (\n",
    "        user_embedding[user_encoder.transform(dataset[\"u_id\"])],\n",
    "        np.array(itemgetter(*dataset[\"q_id\"])(qid2emb)),\n",
    "    ),\n",
    "    axis=1,\n",
    ")\n",
    "scores = dataset[\"score\"]\n",
    "q_ids = dataset[\"q_id\"]\n",
    "\n",
    "train_feats = feats[:25000]\n",
    "train_scores = scores[:25000]\n",
    "train_q_ids = q_ids[:25000]\n",
    "\n",
    "eval_feats = feats[25000:]\n",
    "eval_scores = scores[25000:]\n",
    "eval_q_ids = q_ids[25000:]"
   ]
  },
  {
   "cell_type": "markdown",
   "id": "efb55eb0-736d-4295-a371-e2bf35c07218",
   "metadata": {},
   "source": [
    "# Train LTR"
   ]
  },
  {
   "cell_type": "code",
   "execution_count": 349,
   "id": "217110e0-5053-43eb-a2eb-177cbfc05eb9",
   "metadata": {},
   "outputs": [],
   "source": [
    "params = {\n",
    "    \"objective\": \"rank:pairwise\",\n",
    "    \"learning_rate\": 0.1,\n",
    "    \"gamma\": 1.0,\n",
    "    \"min_child_weight\": 0.1,\n",
    "    \"max_depth\": 6,\n",
    "    \"n_estimators\": 200,\n",
    "    \"early_stopping_rounds\": 50,\n",
    "    \"objective\": \"rank:ndcg\",\n",
    "    \"eval_metric\": [\"ndcg\"],\n",
    "}\n",
    "# 'eval_metric':[\"map\", \"ndcg\"],}\n",
    "ranker = XGBRanker(**params)"
   ]
  },
  {
   "cell_type": "code",
   "execution_count": 350,
   "id": "e5346fd0-c1b3-4c27-a402-001b3892d1d3",
   "metadata": {},
   "outputs": [
    {
     "data": {
      "text/html": [
       "<style>#sk-container-id-26 {color: black;background-color: white;}#sk-container-id-26 pre{padding: 0;}#sk-container-id-26 div.sk-toggleable {background-color: white;}#sk-container-id-26 label.sk-toggleable__label {cursor: pointer;display: block;width: 100%;margin-bottom: 0;padding: 0.3em;box-sizing: border-box;text-align: center;}#sk-container-id-26 label.sk-toggleable__label-arrow:before {content: \"▸\";float: left;margin-right: 0.25em;color: #696969;}#sk-container-id-26 label.sk-toggleable__label-arrow:hover:before {color: black;}#sk-container-id-26 div.sk-estimator:hover label.sk-toggleable__label-arrow:before {color: black;}#sk-container-id-26 div.sk-toggleable__content {max-height: 0;max-width: 0;overflow: hidden;text-align: left;background-color: #f0f8ff;}#sk-container-id-26 div.sk-toggleable__content pre {margin: 0.2em;color: black;border-radius: 0.25em;background-color: #f0f8ff;}#sk-container-id-26 input.sk-toggleable__control:checked~div.sk-toggleable__content {max-height: 200px;max-width: 100%;overflow: auto;}#sk-container-id-26 input.sk-toggleable__control:checked~label.sk-toggleable__label-arrow:before {content: \"▾\";}#sk-container-id-26 div.sk-estimator input.sk-toggleable__control:checked~label.sk-toggleable__label {background-color: #d4ebff;}#sk-container-id-26 div.sk-label input.sk-toggleable__control:checked~label.sk-toggleable__label {background-color: #d4ebff;}#sk-container-id-26 input.sk-hidden--visually {border: 0;clip: rect(1px 1px 1px 1px);clip: rect(1px, 1px, 1px, 1px);height: 1px;margin: -1px;overflow: hidden;padding: 0;position: absolute;width: 1px;}#sk-container-id-26 div.sk-estimator {font-family: monospace;background-color: #f0f8ff;border: 1px dotted black;border-radius: 0.25em;box-sizing: border-box;margin-bottom: 0.5em;}#sk-container-id-26 div.sk-estimator:hover {background-color: #d4ebff;}#sk-container-id-26 div.sk-parallel-item::after {content: \"\";width: 100%;border-bottom: 1px solid gray;flex-grow: 1;}#sk-container-id-26 div.sk-label:hover label.sk-toggleable__label {background-color: #d4ebff;}#sk-container-id-26 div.sk-serial::before {content: \"\";position: absolute;border-left: 1px solid gray;box-sizing: border-box;top: 0;bottom: 0;left: 50%;z-index: 0;}#sk-container-id-26 div.sk-serial {display: flex;flex-direction: column;align-items: center;background-color: white;padding-right: 0.2em;padding-left: 0.2em;position: relative;}#sk-container-id-26 div.sk-item {position: relative;z-index: 1;}#sk-container-id-26 div.sk-parallel {display: flex;align-items: stretch;justify-content: center;background-color: white;position: relative;}#sk-container-id-26 div.sk-item::before, #sk-container-id-26 div.sk-parallel-item::before {content: \"\";position: absolute;border-left: 1px solid gray;box-sizing: border-box;top: 0;bottom: 0;left: 50%;z-index: -1;}#sk-container-id-26 div.sk-parallel-item {display: flex;flex-direction: column;z-index: 1;position: relative;background-color: white;}#sk-container-id-26 div.sk-parallel-item:first-child::after {align-self: flex-end;width: 50%;}#sk-container-id-26 div.sk-parallel-item:last-child::after {align-self: flex-start;width: 50%;}#sk-container-id-26 div.sk-parallel-item:only-child::after {width: 0;}#sk-container-id-26 div.sk-dashed-wrapped {border: 1px dashed gray;margin: 0 0.4em 0.5em 0.4em;box-sizing: border-box;padding-bottom: 0.4em;background-color: white;}#sk-container-id-26 div.sk-label label {font-family: monospace;font-weight: bold;display: inline-block;line-height: 1.2em;}#sk-container-id-26 div.sk-label-container {text-align: center;}#sk-container-id-26 div.sk-container {/* jupyter's `normalize.less` sets `[hidden] { display: none; }` but bootstrap.min.css set `[hidden] { display: none !important; }` so we also need the `!important` here to be able to override the default hidden behavior on the sphinx rendered scikit-learn.org. See: https://github.com/scikit-learn/scikit-learn/issues/21755 */display: inline-block !important;position: relative;}#sk-container-id-26 div.sk-text-repr-fallback {display: none;}</style><div id=\"sk-container-id-26\" class=\"sk-top-container\"><div class=\"sk-text-repr-fallback\"><pre>XGBRanker(base_score=None, booster=None, callbacks=None, colsample_bylevel=None,\n",
       "          colsample_bynode=None, colsample_bytree=None,\n",
       "          early_stopping_rounds=50, enable_categorical=False,\n",
       "          eval_metric=[&#x27;ndcg&#x27;], feature_types=None, gamma=1.0, gpu_id=None,\n",
       "          grow_policy=None, importance_type=None, interaction_constraints=None,\n",
       "          learning_rate=0.1, max_bin=None, max_cat_threshold=None,\n",
       "          max_cat_to_onehot=None, max_delta_step=None, max_depth=6,\n",
       "          max_leaves=None, min_child_weight=0.1, missing=nan,\n",
       "          monotone_constraints=None, n_estimators=200, n_jobs=None,\n",
       "          num_parallel_tree=None, objective=&#x27;rank:ndcg&#x27;, predictor=None, ...)</pre><b>In a Jupyter environment, please rerun this cell to show the HTML representation or trust the notebook. <br />On GitHub, the HTML representation is unable to render, please try loading this page with nbviewer.org.</b></div><div class=\"sk-container\" hidden><div class=\"sk-item\"><div class=\"sk-estimator sk-toggleable\"><input class=\"sk-toggleable__control sk-hidden--visually\" id=\"sk-estimator-id-26\" type=\"checkbox\" checked><label for=\"sk-estimator-id-26\" class=\"sk-toggleable__label sk-toggleable__label-arrow\">XGBRanker</label><div class=\"sk-toggleable__content\"><pre>XGBRanker(base_score=None, booster=None, callbacks=None, colsample_bylevel=None,\n",
       "          colsample_bynode=None, colsample_bytree=None,\n",
       "          early_stopping_rounds=50, enable_categorical=False,\n",
       "          eval_metric=[&#x27;ndcg&#x27;], feature_types=None, gamma=1.0, gpu_id=None,\n",
       "          grow_policy=None, importance_type=None, interaction_constraints=None,\n",
       "          learning_rate=0.1, max_bin=None, max_cat_threshold=None,\n",
       "          max_cat_to_onehot=None, max_delta_step=None, max_depth=6,\n",
       "          max_leaves=None, min_child_weight=0.1, missing=nan,\n",
       "          monotone_constraints=None, n_estimators=200, n_jobs=None,\n",
       "          num_parallel_tree=None, objective=&#x27;rank:ndcg&#x27;, predictor=None, ...)</pre></div></div></div></div></div>"
      ],
      "text/plain": [
       "XGBRanker(base_score=None, booster=None, callbacks=None, colsample_bylevel=None,\n",
       "          colsample_bynode=None, colsample_bytree=None,\n",
       "          early_stopping_rounds=50, enable_categorical=False,\n",
       "          eval_metric=['ndcg'], feature_types=None, gamma=1.0, gpu_id=None,\n",
       "          grow_policy=None, importance_type=None, interaction_constraints=None,\n",
       "          learning_rate=0.1, max_bin=None, max_cat_threshold=None,\n",
       "          max_cat_to_onehot=None, max_delta_step=None, max_depth=6,\n",
       "          max_leaves=None, min_child_weight=0.1, missing=nan,\n",
       "          monotone_constraints=None, n_estimators=200, n_jobs=None,\n",
       "          num_parallel_tree=None, objective='rank:ndcg', predictor=None, ...)"
      ]
     },
     "execution_count": 350,
     "metadata": {},
     "output_type": "execute_result"
    }
   ],
   "source": [
    "ranker.fit(\n",
    "    feats,\n",
    "    scores,\n",
    "    qid=q_ids,\n",
    "    eval_set=[(eval_feats, eval_scores)],\n",
    "    eval_qid=[eval_q_ids],\n",
    ")\n",
    "# eval_metric=ndcg_score)"
   ]
  },
  {
   "cell_type": "code",
   "execution_count": 351,
   "id": "27435864-7b72-4144-9862-6eb20290952c",
   "metadata": {},
   "outputs": [
    {
     "data": {
      "text/plain": [
       "(200, 0.9039975513944346, 196)"
      ]
     },
     "execution_count": 351,
     "metadata": {},
     "output_type": "execute_result"
    }
   ],
   "source": [
    "ranker.get_num_boosting_rounds(), ranker.best_score, ranker.best_iteration"
   ]
  },
  {
   "cell_type": "code",
   "execution_count": 352,
   "id": "e9d16252-86b2-41a3-b956-4ba1784d5571",
   "metadata": {},
   "outputs": [],
   "source": [
    "# plt.plot(ranker.evals_result()[\"validation_0\"][\"map\"])\n",
    "# plt.xlabel(\"Round\")\n",
    "# plt.ylabel(\"MAP\")\n",
    "# plt.show()"
   ]
  },
  {
   "cell_type": "code",
   "execution_count": 353,
   "id": "7506c9a3-cb64-4ff5-92d4-99222603609a",
   "metadata": {},
   "outputs": [
    {
     "data": {
      "image/png": "[encoded data removed]",
      "text/plain": [
       "<Figure size 640x480 with 1 Axes>"
      ]
     },
     "metadata": {},
     "output_type": "display_data"
    }
   ],
   "source": [
    "plt.plot(ranker.evals_result()[\"validation_0\"][\"ndcg\"])\n",
    "plt.xlabel(\"Round\")\n",
    "plt.ylabel(\"NDCG\")\n",
    "xgboostrank_loss.pdf\n",
    "plt.show()"
   ]
  },
  {
   "cell_type": "code",
   "execution_count": 371,
   "id": "37e1f4bb-1f77-4c7b-9a56-6b5418e9ba57",
   "metadata": {},
   "outputs": [
    {
     "data": {
      "text/html": [
       "<div>\n",
       "<style scoped>\n",
       "    .dataframe tbody tr th:only-of-type {\n",
       "        vertical-align: middle;\n",
       "    }\n",
       "\n",
       "    .dataframe tbody tr th {\n",
       "        vertical-align: top;\n",
       "    }\n",
       "\n",
       "    .dataframe thead th {\n",
       "        text-align: right;\n",
       "    }\n",
       "</style>\n",
       "<table border=\"1\" class=\"dataframe\">\n",
       "  <thead>\n",
       "    <tr style=\"text-align: right;\">\n",
       "      <th></th>\n",
       "      <th>X</th>\n",
       "      <th>qid</th>\n",
       "    </tr>\n",
       "  </thead>\n",
       "  <tbody>\n",
       "    <tr>\n",
       "      <th>0</th>\n",
       "      <td>[0.36553826928138733, -0.1780138462781906, 0.3...</td>\n",
       "      <td>65155606</td>\n",
       "    </tr>\n",
       "    <tr>\n",
       "      <th>1</th>\n",
       "      <td>[0.3693523705005646, -0.17812000215053558, 0.3...</td>\n",
       "      <td>65155606</td>\n",
       "    </tr>\n",
       "    <tr>\n",
       "      <th>2</th>\n",
       "      <td>[0.3667551577091217, -0.17811796069145203, 0.3...</td>\n",
       "      <td>65155606</td>\n",
       "    </tr>\n",
       "    <tr>\n",
       "      <th>3</th>\n",
       "      <td>[0.37019971013069153, -0.1782977432012558, 0.3...</td>\n",
       "      <td>65155763</td>\n",
       "    </tr>\n",
       "    <tr>\n",
       "      <th>4</th>\n",
       "      <td>[0.3693523705005646, -0.17812000215053558, 0.3...</td>\n",
       "      <td>65155763</td>\n",
       "    </tr>\n",
       "  </tbody>\n",
       "</table>\n",
       "</div>"
      ],
      "text/plain": [
       "                                                   X       qid\n",
       "0  [0.36553826928138733, -0.1780138462781906, 0.3...  65155606\n",
       "1  [0.3693523705005646, -0.17812000215053558, 0.3...  65155606\n",
       "2  [0.3667551577091217, -0.17811796069145203, 0.3...  65155606\n",
       "3  [0.37019971013069153, -0.1782977432012558, 0.3...  65155763\n",
       "4  [0.3693523705005646, -0.17812000215053558, 0.3...  65155763"
      ]
     },
     "execution_count": 371,
     "metadata": {},
     "output_type": "execute_result"
    }
   ],
   "source": [
    "eval_X = pd.DataFrame(list(zip(eval_feats.tolist(), eval_q_ids)), columns=[\"X\", \"qid\"])\n",
    "eval_X.head()"
   ]
  },
  {
   "cell_type": "code",
   "execution_count": 374,
   "id": "2edb130a-24d6-4608-9fcf-f30e314d4870",
   "metadata": {},
   "outputs": [],
   "source": [
    "import warnings\n",
    "\n",
    "warnings.simplefilter(action=\"ignore\", category=FutureWarning)\n",
    "\n",
    "predicted_scores = ranker.predict(eval_feats)\n",
    "\n",
    "grouped_predicted_scores = []\n",
    "grouped_eval_scores = []\n",
    "\n",
    "last_qid = eval_q_ids.values[0]\n",
    "last_predicted_scores = []\n",
    "last_eval_scores = []\n",
    "for pscore, escore, q_id in zip(predicted_scores, eval_scores, eval_q_ids):\n",
    "    if q_id == last_qid:\n",
    "        last_predicted_scores.append(pscore)\n",
    "        last_eval_scores.append(escore)\n",
    "    else:\n",
    "        grouped_predicted_scores.append(last_predicted_scores)\n",
    "        grouped_eval_scores.append(last_eval_scores)\n",
    "        last_predicted_scores = [pscore]\n",
    "        last_eval_scores = [escore]\n",
    "        last_qid = q_id\n",
    "\n",
    "grouped_predicted_scores.append(last_predicted_scores)\n",
    "grouped_eval_scores.append(last_eval_scores)"
   ]
  },
  {
   "cell_type": "code",
   "execution_count": 377,
   "id": "3cc16a3b-d3e9-45c7-a9ab-fe548f29222e",
   "metadata": {},
   "outputs": [
    {
     "data": {
      "text/plain": [
       "(0.8202570246321309, 3.606297562263516)"
      ]
     },
     "execution_count": 377,
     "metadata": {},
     "output_type": "execute_result"
    }
   ],
   "source": [
    "group_ncdg = []\n",
    "\n",
    "for p_scores, e_scores in zip(grouped_predicted_scores, grouped_eval_scores):\n",
    "    if len(p_scores) > 1:\n",
    "        group_ncdg.append(ndcg_score([p_scores], [e_scores]))\n",
    "\n",
    "group_ncdg = np.array(group_ncdg)\n",
    "group_ncdg.mean(), group_ncdg.std()"
   ]
  },
  {
   "cell_type": "code",
   "execution_count": 373,
   "id": "b62d4b50-0980-482b-bea2-60de2accfe92",
   "metadata": {},
   "outputs": [],
   "source": [
    "ranker.save_model(\"xgboost_ranker\")"
   ]
  },
  {
   "cell_type": "code",
   "execution_count": null,
   "id": "2fd77ee1-96fa-4fbf-9450-40fc1b4d1e34",
   "metadata": {},
   "outputs": [],
   "source": []
  }
 ],
 "metadata": {
  "kernelspec": {
   "display_name": "Python 3 (ipykernel)",
   "language": "python",
   "name": "python3"
  },
  "language_info": {
   "codemirror_mode": {
    "name": "ipython",
    "version": 3
   },
   "file_extension": ".py",
   "mimetype": "text/x-python",
   "name": "python",
   "nbconvert_exporter": "python",
   "pygments_lexer": "ipython3",
   "version": "3.10.12"
  }
 },
 "nbformat": 4,
 "nbformat_minor": 5
}
