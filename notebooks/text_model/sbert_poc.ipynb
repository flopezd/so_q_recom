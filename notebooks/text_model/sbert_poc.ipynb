{
 "cells": [
  {
   "cell_type": "code",
   "execution_count": 53,
   "metadata": {},
   "outputs": [],
   "source": [
    "from sentence_transformers import SentenceTransformer, InputExample, losses\n",
    "from psycopg2.extras import execute_values\n",
    "from torch.utils.data import DataLoader\n",
    "import psycopg2\n",
    "import pandas as pd\n",
    "import random\n",
    "import numpy as np\n",
    "import faiss"
   ]
  },
  {
   "attachments": {},
   "cell_type": "markdown",
   "metadata": {},
   "source": [
    "## Finetune sbert"
   ]
  },
  {
   "cell_type": "code",
   "execution_count": 2,
   "metadata": {},
   "outputs": [],
   "source": [
    "connection = psycopg2.connect(user=\"postgres\", password=\"postgres\", host=\"127.0.0.1\", port=\"63333\", database=\"stack_overflow\")"
   ]
  },
  {
   "cell_type": "code",
   "execution_count": 29,
   "metadata": {},
   "outputs": [],
   "source": [
    "with connection:\n",
    "    with connection.cursor() as cursor:\n",
    "        cursor.execute(\"\"\"select q.body_text, q.title, sq.body_text, sq.title\n",
    "        FROM posts_19 q\n",
    "        JOIN posts_19_tags pt on pt.post_id=q.id\n",
    "        JOIN tags t on pt.tag_id=t.id\n",
    "        JOIN posts_19 q_aa ON q_aa.id = q.accepted_answer_id\n",
    "        JOIN posts_19 sa ON sa.owner_user_id=q_aa.owner_user_id\n",
    "        JOIN posts_19 sq ON sq.id=sa.parent_id\n",
    "        WHERE q.body_text is not null\n",
    "        and sa.parent_id != q.id \n",
    "        and q.post_type_id=1 \n",
    "        and q.creation_date < '2022-01-01'\n",
    "        and t.tag_name = 'python'\n",
    "        and q_aa.post_type_id=2 \n",
    "        and sa.post_type_id=2\n",
    "        limit 10000\"\"\")\n",
    "        posts = cursor.fetchall()"
   ]
  },
  {
   "cell_type": "code",
   "execution_count": 33,
   "metadata": {},
   "outputs": [],
   "source": [
    "train_examples = [] \n",
    "for q_text, q_title, sq_text, sq_title in random.sample(posts, 10):\n",
    "    post_text = q_text\n",
    "    if q_title is not None:\n",
    "        post_text = q_title + \"\\n\\n\" + q_text\n",
    "    sim_post_text = sq_text\n",
    "    if sq_title is not None:\n",
    "        sim_post_text = sq_title + \"\\n\\n\" + sq_text\n",
    "    train_examples.append(InputExample(texts=[post_text, sim_post_text], label=.98))"
   ]
  },
  {
   "cell_type": "code",
   "execution_count": 34,
   "metadata": {},
   "outputs": [],
   "source": [
    "train_dataloader = DataLoader(train_examples, batch_size=2)\n",
    "\n",
    "model = SentenceTransformer('nli-distilroberta-base-v2')\n",
    "\n",
    "train_loss = losses.CosineSimilarityLoss(model=model)"
   ]
  },
  {
   "cell_type": "code",
   "execution_count": 35,
   "metadata": {},
   "outputs": [
    {
     "name": "stderr",
     "output_type": "stream",
     "text": [
      "Iteration: 100%|██████████| 5/5 [00:06<00:00,  1.21s/it]\n",
      "Iteration: 100%|██████████| 5/5 [00:05<00:00,  1.19s/it]\n",
      "Iteration: 100%|██████████| 5/5 [00:05<00:00,  1.12s/it]\n",
      "Epoch: 100%|██████████| 3/3 [00:17<00:00,  5.86s/it]\n"
     ]
    }
   ],
   "source": [
    "num_epochs = 3\n",
    "warmup_steps = int(len(train_dataloader) * num_epochs * 0.1)\n",
    "\n",
    "model.fit(train_objectives=[(train_dataloader, train_loss)], epochs=num_epochs, warmup_steps=warmup_steps, show_progress_bar=True)"
   ]
  },
  {
   "attachments": {},
   "cell_type": "markdown",
   "metadata": {},
   "source": [
    "## Test recall"
   ]
  },
  {
   "cell_type": "code",
   "execution_count": 36,
   "metadata": {},
   "outputs": [],
   "source": [
    "with connection:\n",
    "    with connection.cursor() as cursor:\n",
    "        cursor.execute(\"\"\"select p.id, p.title, p.body_text\n",
    "        from posts_19 p\n",
    "        join posts_19_tags pt on pt.post_id=p.id\n",
    "        join tags t on pt.tag_id=t.id\n",
    "        where p.body_text is not null\n",
    "        and p.post_type_id=1 \n",
    "        and creation_date < '2022-01-01'\n",
    "        and t.tag_name = 'python'\n",
    "        limit 10000\"\"\")\n",
    "        all_posts = cursor.fetchall()"
   ]
  },
  {
   "cell_type": "code",
   "execution_count": 37,
   "metadata": {},
   "outputs": [],
   "source": [
    "posts_texts = []\n",
    "posts_ids = []\n",
    "for p_id, title, body in all_posts:\n",
    "    post_text = body\n",
    "    if title is not None:\n",
    "        post_text = title + \"\\n\\n\" + body\n",
    "    posts_ids.append(p_id)\n",
    "    posts_texts.append(post_text)"
   ]
  },
  {
   "cell_type": "code",
   "execution_count": 38,
   "metadata": {},
   "outputs": [],
   "source": [
    "encoded_data = model.encode(posts_texts)"
   ]
  },
  {
   "cell_type": "code",
   "execution_count": 41,
   "metadata": {},
   "outputs": [],
   "source": [
    "vectors_ids = np.array(posts_ids)"
   ]
  },
  {
   "cell_type": "code",
   "execution_count": 42,
   "metadata": {},
   "outputs": [],
   "source": [
    "v_id2idx = {v_id: idx for idx, v_id in enumerate(vectors_ids)}"
   ]
  },
  {
   "cell_type": "code",
   "execution_count": 40,
   "metadata": {},
   "outputs": [
    {
     "data": {
      "text/plain": [
       "(10000, 768)"
      ]
     },
     "execution_count": 40,
     "metadata": {},
     "output_type": "execute_result"
    }
   ],
   "source": [
    "encoded_data.shape"
   ]
  },
  {
   "cell_type": "code",
   "execution_count": 45,
   "metadata": {},
   "outputs": [],
   "source": [
    "index = faiss.index_factory(768, \"IDMap,Flat\")\n",
    "index.train(encoded_data)\n",
    "index.add_with_ids(encoded_data, vectors_ids)"
   ]
  },
  {
   "attachments": {},
   "cell_type": "markdown",
   "metadata": {},
   "source": [
    "## Test recall"
   ]
  },
  {
   "cell_type": "code",
   "execution_count": 46,
   "metadata": {},
   "outputs": [],
   "source": [
    "MIN_ANSWERS = 9\n",
    "with connection:\n",
    "    with connection.cursor() as cursor:\n",
    "        cursor.execute(f\"\"\"select p.id, p.title, p.body_text\n",
    "        from posts_19 p\n",
    "        join posts_19_tags pt on pt.post_id=p.id\n",
    "        join posts_19 a on a.parent_id=p.id\n",
    "        join tags t on pt.tag_id=t.id\n",
    "        where p.body_text is not null\n",
    "        and p.creation_date < '2022-01-01'\n",
    "        and t.tag_name = 'python'\n",
    "        group by p.id\n",
    "        HAVING count(*) > {MIN_ANSWERS}\n",
    "        limit 30\"\"\")\n",
    "        recall_posts = cursor.fetchall()"
   ]
  },
  {
   "cell_type": "code",
   "execution_count": 47,
   "metadata": {},
   "outputs": [],
   "source": [
    "posts_vectors=[]\n",
    "posts_ids = []\n",
    "for p_id, title, body in recall_posts:\n",
    "    posts_ids.append(p_id)\n",
    "    post_text = body\n",
    "    if title is not None:\n",
    "        post_text = title + \"\\n\\n\" + body\n",
    "    posts_vectors.append(post_text)\n",
    "posts_vectors = model.encode(posts_vectors)"
   ]
  },
  {
   "cell_type": "code",
   "execution_count": 48,
   "metadata": {},
   "outputs": [
    {
     "data": {
      "text/plain": [
       "(30, 500)"
      ]
     },
     "execution_count": 48,
     "metadata": {},
     "output_type": "execute_result"
    }
   ],
   "source": [
    "N_SIMILAR_QUESTIONS = 500\n",
    "distances, similar_questions = index.search(posts_vectors, N_SIMILAR_QUESTIONS)\n",
    "similar_questions.shape"
   ]
  },
  {
   "cell_type": "code",
   "execution_count": 52,
   "metadata": {},
   "outputs": [
    {
     "data": {
      "text/html": [
       "<div>\n",
       "<style scoped>\n",
       "    .dataframe tbody tr th:only-of-type {\n",
       "        vertical-align: middle;\n",
       "    }\n",
       "\n",
       "    .dataframe tbody tr th {\n",
       "        vertical-align: top;\n",
       "    }\n",
       "\n",
       "    .dataframe thead th {\n",
       "        text-align: right;\n",
       "    }\n",
       "</style>\n",
       "<table border=\"1\" class=\"dataframe\">\n",
       "  <thead>\n",
       "    <tr style=\"text-align: right;\">\n",
       "      <th></th>\n",
       "      <th>q_id</th>\n",
       "      <th>sq_id</th>\n",
       "      <th>X</th>\n",
       "    </tr>\n",
       "  </thead>\n",
       "  <tbody>\n",
       "    <tr>\n",
       "      <th>0</th>\n",
       "      <td>1854</td>\n",
       "      <td>3333243</td>\n",
       "      <td>[0.3333763, 0.110242635, -0.11257695, -0.07789...</td>\n",
       "    </tr>\n",
       "    <tr>\n",
       "      <th>1</th>\n",
       "      <td>1854</td>\n",
       "      <td>647515</td>\n",
       "      <td>[0.24326734, -0.00912565, 0.10152519, -0.11551...</td>\n",
       "    </tr>\n",
       "    <tr>\n",
       "      <th>2</th>\n",
       "      <td>1854</td>\n",
       "      <td>1405913</td>\n",
       "      <td>[0.011253402, -0.20168363, 0.09048267, 0.06326...</td>\n",
       "    </tr>\n",
       "    <tr>\n",
       "      <th>3</th>\n",
       "      <td>1854</td>\n",
       "      <td>680207</td>\n",
       "      <td>[0.12657654, -0.029177487, 0.10178462, 0.05899...</td>\n",
       "    </tr>\n",
       "    <tr>\n",
       "      <th>4</th>\n",
       "      <td>1854</td>\n",
       "      <td>3518491</td>\n",
       "      <td>[0.08814222, 0.0036339462, 0.111369364, 0.1081...</td>\n",
       "    </tr>\n",
       "  </tbody>\n",
       "</table>\n",
       "</div>"
      ],
      "text/plain": [
       "   q_id    sq_id                                                  X\n",
       "0  1854  3333243  [0.3333763, 0.110242635, -0.11257695, -0.07789...\n",
       "1  1854   647515  [0.24326734, -0.00912565, 0.10152519, -0.11551...\n",
       "2  1854  1405913  [0.011253402, -0.20168363, 0.09048267, 0.06326...\n",
       "3  1854   680207  [0.12657654, -0.029177487, 0.10178462, 0.05899...\n",
       "4  1854  3518491  [0.08814222, 0.0036339462, 0.111369364, 0.1081..."
      ]
     },
     "execution_count": 52,
     "metadata": {},
     "output_type": "execute_result"
    }
   ],
   "source": [
    "missing_vectors = 0\n",
    "features_df = []\n",
    "exact_distances = []\n",
    "for p_id, p_vector, similar_qs in zip(posts_ids, posts_vectors, similar_questions):\n",
    "    for idx, s_q in enumerate(similar_qs):\n",
    "        try:\n",
    "            sq_vector = encoded_data[v_id2idx[s_q]]\n",
    "            features_df.append([p_id, s_q, p_vector-sq_vector])\n",
    "            exact_distances.append(np.linalg.norm(p_vector-sq_vector))\n",
    "        except KeyError:\n",
    "            missing_vectors +=1\n",
    "\n",
    "features_df = pd.DataFrame(features_df, columns=[\"q_id\", \"sq_id\", \"X\"])\n",
    "features_df.head()"
   ]
  },
  {
   "cell_type": "code",
   "execution_count": 54,
   "metadata": {},
   "outputs": [
    {
     "data": {
      "text/html": [
       "<div>\n",
       "<style scoped>\n",
       "    .dataframe tbody tr th:only-of-type {\n",
       "        vertical-align: middle;\n",
       "    }\n",
       "\n",
       "    .dataframe tbody tr th {\n",
       "        vertical-align: top;\n",
       "    }\n",
       "\n",
       "    .dataframe thead th {\n",
       "        text-align: right;\n",
       "    }\n",
       "</style>\n",
       "<table border=\"1\" class=\"dataframe\">\n",
       "  <thead>\n",
       "    <tr style=\"text-align: right;\">\n",
       "      <th></th>\n",
       "      <th>q_id</th>\n",
       "      <th>sq_id</th>\n",
       "      <th>user_id</th>\n",
       "      <th>score</th>\n",
       "    </tr>\n",
       "  </thead>\n",
       "  <tbody>\n",
       "    <tr>\n",
       "      <th>0</th>\n",
       "      <td>32899</td>\n",
       "      <td>1911281</td>\n",
       "      <td>3571</td>\n",
       "      <td>234</td>\n",
       "    </tr>\n",
       "    <tr>\n",
       "      <th>1</th>\n",
       "      <td>38987</td>\n",
       "      <td>595374</td>\n",
       "      <td>424499</td>\n",
       "      <td>184</td>\n",
       "    </tr>\n",
       "    <tr>\n",
       "      <th>2</th>\n",
       "      <td>42950</td>\n",
       "      <td>2545532</td>\n",
       "      <td>4279</td>\n",
       "      <td>20</td>\n",
       "    </tr>\n",
       "    <tr>\n",
       "      <th>3</th>\n",
       "      <td>42950</td>\n",
       "      <td>5802108</td>\n",
       "      <td>4279</td>\n",
       "      <td>20</td>\n",
       "    </tr>\n",
       "    <tr>\n",
       "      <th>4</th>\n",
       "      <td>42950</td>\n",
       "      <td>471928</td>\n",
       "      <td>4279</td>\n",
       "      <td>20</td>\n",
       "    </tr>\n",
       "  </tbody>\n",
       "</table>\n",
       "</div>"
      ],
      "text/plain": [
       "    q_id    sq_id  user_id  score\n",
       "0  32899  1911281     3571    234\n",
       "1  38987   595374   424499    184\n",
       "2  42950  2545532     4279     20\n",
       "3  42950  5802108     4279     20\n",
       "4  42950   471928     4279     20"
      ]
     },
     "execution_count": 54,
     "metadata": {},
     "output_type": "execute_result"
    }
   ],
   "source": [
    "with connection:\n",
    "    with connection.cursor() as cursor:\n",
    "        execute_values(cursor, \"\"\"select q_id, sq_id, q_a.owner_user_id, q_a.score\n",
    "                                FROM (VALUES %s) AS base_questions (q_id, sq_id)\n",
    "                                JOIN posts_19 q_a ON q_a.parent_id = q_id\n",
    "                                JOIN posts_19 sq ON sq.id = sq_id\n",
    "                                JOIN posts_19 sq_a ON sq_a.id = sq.accepted_answer_id\n",
    "                                WHERE sq_a.owner_user_id=q_a.owner_user_id\"\"\",\n",
    "                                features_df[[\"q_id\", \"sq_id\"]].values.tolist(), page_size=len(features_df))\n",
    "        q_ds = cursor.fetchall()\n",
    "        q_ds = pd.DataFrame(q_ds, columns=[\"q_id\", \"sq_id\", \"user_id\", \"score\"])\n",
    "q_ds.head()"
   ]
  },
  {
   "cell_type": "code",
   "execution_count": 55,
   "metadata": {},
   "outputs": [
    {
     "data": {
      "text/plain": [
       "16"
      ]
     },
     "execution_count": 55,
     "metadata": {},
     "output_type": "execute_result"
    }
   ],
   "source": [
    "len(q_ds)"
   ]
  },
  {
   "cell_type": "code",
   "execution_count": null,
   "metadata": {},
   "outputs": [],
   "source": []
  }
 ],
 "metadata": {
  "kernelspec": {
   "display_name": "so_q_recom",
   "language": "python",
   "name": "python3"
  },
  "language_info": {
   "codemirror_mode": {
    "name": "ipython",
    "version": 3
   },
   "file_extension": ".py",
   "mimetype": "text/x-python",
   "name": "python",
   "nbconvert_exporter": "python",
   "pygments_lexer": "ipython3",
   "version": "3.10.6"
  },
  "orig_nbformat": 4
 },
 "nbformat": 4,
 "nbformat_minor": 2
}
