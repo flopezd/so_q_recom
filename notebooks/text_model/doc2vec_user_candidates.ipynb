{
 "cells": [
  {
   "cell_type": "code",
   "execution_count": 2,
   "metadata": {},
   "outputs": [],
   "source": [
    "from gensim.models.doc2vec import Doc2Vec\n",
    "from gensim.utils import simple_preprocess\n",
    "import psycopg2\n",
    "import numpy as np\n",
    "from psycopg2.extras import execute_values\n",
    "from faiss import read_index\n",
    "import pandas as pd\n",
    "import seaborn as sns"
   ]
  },
  {
   "attachments": {},
   "cell_type": "markdown",
   "metadata": {},
   "source": [
    "# Cargar modelo e indice"
   ]
  },
  {
   "cell_type": "code",
   "execution_count": 3,
   "metadata": {},
   "outputs": [],
   "source": [
    "model = Doc2Vec.load(\"python.doc\")\n",
    "index = read_index(\"python.index\")"
   ]
  },
  {
   "attachments": {},
   "cell_type": "markdown",
   "metadata": {},
   "source": [
    "# Traer nuevas preguntas"
   ]
  },
  {
   "cell_type": "code",
   "execution_count": 4,
   "metadata": {},
   "outputs": [],
   "source": [
    "connection = psycopg2.connect(user=\"postgres\", password=\"postgres\", host=\"127.0.0.1\", port=\"63333\", database=\"stack_overflow\")"
   ]
  },
  {
   "cell_type": "code",
   "execution_count": 16,
   "metadata": {},
   "outputs": [],
   "source": [
    "MIN_ANSWERS = 9\n",
    "with connection:\n",
    "    with connection.cursor() as cursor:\n",
    "        cursor.execute(f\"\"\"select p.id, p.title, p.body_text\n",
    "        from posts_19 p\n",
    "        join posts_19_tags pt on pt.post_id=p.id\n",
    "        join posts_19 a on a.parent_id=p.id\n",
    "        join tags t on pt.tag_id=t.id\n",
    "        where p.body_text is not null\n",
    "        and p.creation_date < '2022-01-01'\n",
    "        and t.tag_name = 'python'\n",
    "        group by p.id\n",
    "        HAVING count(*) > {MIN_ANSWERS}\n",
    "        limit 3000\"\"\")\n",
    "        posts = cursor.fetchall()"
   ]
  },
  {
   "attachments": {},
   "cell_type": "markdown",
   "metadata": {},
   "source": [
    "# Encontrar las preguntas cercanas y sus vectores de distancia"
   ]
  },
  {
   "cell_type": "code",
   "execution_count": 17,
   "metadata": {},
   "outputs": [],
   "source": [
    "posts_vectors=[]\n",
    "posts_ids = []\n",
    "for p_id, title, body in posts:\n",
    "    posts_ids.append(p_id)\n",
    "    post_text = body\n",
    "    if title is not None:\n",
    "        post_text = title + \"\\n\\n\" + body\n",
    "    posts_vectors.append(model.infer_vector(simple_preprocess(post_text)))"
   ]
  },
  {
   "cell_type": "code",
   "execution_count": 18,
   "metadata": {},
   "outputs": [
    {
     "data": {
      "text/plain": [
       "(1371, 50)"
      ]
     },
     "execution_count": 18,
     "metadata": {},
     "output_type": "execute_result"
    }
   ],
   "source": [
    "posts_vectors = np.array(posts_vectors)\n",
    "posts_vectors.shape"
   ]
  },
  {
   "cell_type": "code",
   "execution_count": 58,
   "metadata": {},
   "outputs": [
    {
     "data": {
      "text/plain": [
       "(1371, 500)"
      ]
     },
     "execution_count": 58,
     "metadata": {},
     "output_type": "execute_result"
    }
   ],
   "source": [
    "N_SIMILAR_QUESTIONS = 500\n",
    "distances, similar_questions = index.search(posts_vectors, N_SIMILAR_QUESTIONS)\n",
    "similar_questions.shape"
   ]
  },
  {
   "cell_type": "code",
   "execution_count": 59,
   "metadata": {},
   "outputs": [
    {
     "data": {
      "text/html": [
       "<div>\n",
       "<style scoped>\n",
       "    .dataframe tbody tr th:only-of-type {\n",
       "        vertical-align: middle;\n",
       "    }\n",
       "\n",
       "    .dataframe tbody tr th {\n",
       "        vertical-align: top;\n",
       "    }\n",
       "\n",
       "    .dataframe thead th {\n",
       "        text-align: right;\n",
       "    }\n",
       "</style>\n",
       "<table border=\"1\" class=\"dataframe\">\n",
       "  <thead>\n",
       "    <tr style=\"text-align: right;\">\n",
       "      <th></th>\n",
       "      <th>q_id</th>\n",
       "      <th>sq_id</th>\n",
       "      <th>X</th>\n",
       "    </tr>\n",
       "  </thead>\n",
       "  <tbody>\n",
       "    <tr>\n",
       "      <th>0</th>\n",
       "      <td>1854</td>\n",
       "      <td>1854</td>\n",
       "      <td>[0.649378, 0.2630664, 0.44672212, 0.15883332, ...</td>\n",
       "    </tr>\n",
       "    <tr>\n",
       "      <th>1</th>\n",
       "      <td>1854</td>\n",
       "      <td>67103056</td>\n",
       "      <td>[0.67251927, 1.6748271, 0.80690515, 0.66100645...</td>\n",
       "    </tr>\n",
       "    <tr>\n",
       "      <th>2</th>\n",
       "      <td>1854</td>\n",
       "      <td>4813238</td>\n",
       "      <td>[0.5894268, 1.4415798, 0.7403469, 0.75718874, ...</td>\n",
       "    </tr>\n",
       "    <tr>\n",
       "      <th>3</th>\n",
       "      <td>1854</td>\n",
       "      <td>67755168</td>\n",
       "      <td>[0.13446558, 1.6254895, 0.769534, 0.75728595, ...</td>\n",
       "    </tr>\n",
       "    <tr>\n",
       "      <th>4</th>\n",
       "      <td>1854</td>\n",
       "      <td>6586412</td>\n",
       "      <td>[0.59725505, 1.1786168, 0.7956456, 0.93166816,...</td>\n",
       "    </tr>\n",
       "  </tbody>\n",
       "</table>\n",
       "</div>"
      ],
      "text/plain": [
       "   q_id     sq_id                                                  X\n",
       "0  1854      1854  [0.649378, 0.2630664, 0.44672212, 0.15883332, ...\n",
       "1  1854  67103056  [0.67251927, 1.6748271, 0.80690515, 0.66100645...\n",
       "2  1854   4813238  [0.5894268, 1.4415798, 0.7403469, 0.75718874, ...\n",
       "3  1854  67755168  [0.13446558, 1.6254895, 0.769534, 0.75728595, ...\n",
       "4  1854   6586412  [0.59725505, 1.1786168, 0.7956456, 0.93166816,..."
      ]
     },
     "execution_count": 59,
     "metadata": {},
     "output_type": "execute_result"
    }
   ],
   "source": [
    "missing_vectors = 0\n",
    "features_df = []\n",
    "exact_distances = []\n",
    "for p_id, p_vector, similar_qs in zip(posts_ids, posts_vectors, similar_questions):\n",
    "    for idx, s_q in enumerate(similar_qs):\n",
    "        try:\n",
    "            sq_vector = model.dv[str(s_q)]\n",
    "            features_df.append([p_id, s_q, p_vector-sq_vector])\n",
    "            exact_distances.append(np.linalg.norm(p_vector-sq_vector))\n",
    "        except KeyError:\n",
    "            missing_vectors +=1\n",
    "\n",
    "features_df = pd.DataFrame(features_df, columns=[\"q_id\", \"sq_id\", \"X\"])\n",
    "features_df.head()"
   ]
  },
  {
   "cell_type": "code",
   "execution_count": 60,
   "metadata": {},
   "outputs": [
    {
     "data": {
      "text/plain": [
       "(0, 685500)"
      ]
     },
     "execution_count": 60,
     "metadata": {},
     "output_type": "execute_result"
    }
   ],
   "source": [
    "missing_vectors, len(features_df)"
   ]
  },
  {
   "attachments": {},
   "cell_type": "markdown",
   "metadata": {},
   "source": [
    "# Traer usuarios candidatos a partir de las respuestas aceptadas"
   ]
  },
  {
   "cell_type": "code",
   "execution_count": 61,
   "metadata": {},
   "outputs": [
    {
     "data": {
      "text/html": [
       "<div>\n",
       "<style scoped>\n",
       "    .dataframe tbody tr th:only-of-type {\n",
       "        vertical-align: middle;\n",
       "    }\n",
       "\n",
       "    .dataframe tbody tr th {\n",
       "        vertical-align: top;\n",
       "    }\n",
       "\n",
       "    .dataframe thead th {\n",
       "        text-align: right;\n",
       "    }\n",
       "</style>\n",
       "<table border=\"1\" class=\"dataframe\">\n",
       "  <thead>\n",
       "    <tr style=\"text-align: right;\">\n",
       "      <th></th>\n",
       "      <th>q_id</th>\n",
       "      <th>sq_id</th>\n",
       "      <th>user_id</th>\n",
       "      <th>score</th>\n",
       "    </tr>\n",
       "  </thead>\n",
       "  <tbody>\n",
       "    <tr>\n",
       "      <th>0</th>\n",
       "      <td>1345827</td>\n",
       "      <td>1345827</td>\n",
       "      <td>12855</td>\n",
       "      <td>502</td>\n",
       "    </tr>\n",
       "    <tr>\n",
       "      <th>1</th>\n",
       "      <td>775049</td>\n",
       "      <td>1345827</td>\n",
       "      <td>12855</td>\n",
       "      <td>1109</td>\n",
       "    </tr>\n",
       "    <tr>\n",
       "      <th>2</th>\n",
       "      <td>761804</td>\n",
       "      <td>761804</td>\n",
       "      <td>9493</td>\n",
       "      <td>1964</td>\n",
       "    </tr>\n",
       "    <tr>\n",
       "      <th>3</th>\n",
       "      <td>265960</td>\n",
       "      <td>761804</td>\n",
       "      <td>9493</td>\n",
       "      <td>1216</td>\n",
       "    </tr>\n",
       "    <tr>\n",
       "      <th>4</th>\n",
       "      <td>11350770</td>\n",
       "      <td>55696209</td>\n",
       "      <td>4909087</td>\n",
       "      <td>284</td>\n",
       "    </tr>\n",
       "  </tbody>\n",
       "</table>\n",
       "</div>"
      ],
      "text/plain": [
       "       q_id     sq_id  user_id  score\n",
       "0   1345827   1345827    12855    502\n",
       "1    775049   1345827    12855   1109\n",
       "2    761804    761804     9493   1964\n",
       "3    265960    761804     9493   1216\n",
       "4  11350770  55696209  4909087    284"
      ]
     },
     "execution_count": 61,
     "metadata": {},
     "output_type": "execute_result"
    }
   ],
   "source": [
    "with connection:\n",
    "    with connection.cursor() as cursor:\n",
    "        execute_values(cursor, \"\"\"select q_id, sq_id, q_a.owner_user_id, q_a.score\n",
    "                                FROM (VALUES %s) AS base_questions (q_id, sq_id)\n",
    "                                JOIN posts_19 q_a ON q_a.parent_id = q_id\n",
    "                                JOIN posts_19 sq ON sq.id = sq_id\n",
    "                                JOIN posts_19 sq_a ON sq_a.id = sq.accepted_answer_id\n",
    "                                WHERE sq_a.owner_user_id=q_a.owner_user_id\"\"\",\n",
    "                                features_df[[\"q_id\", \"sq_id\"]].values.tolist(), page_size=685500)\n",
    "        q_ds = cursor.fetchall()\n",
    "        q_ds = pd.DataFrame(q_ds, columns=[\"q_id\", \"sq_id\", \"user_id\", \"score\"])\n",
    "q_ds.head()"
   ]
  },
  {
   "cell_type": "code",
   "execution_count": 62,
   "metadata": {},
   "outputs": [
    {
     "name": "stdout",
     "output_type": "stream",
     "text": [
      "1539\n"
     ]
    },
    {
     "data": {
      "text/html": [
       "<div>\n",
       "<style scoped>\n",
       "    .dataframe tbody tr th:only-of-type {\n",
       "        vertical-align: middle;\n",
       "    }\n",
       "\n",
       "    .dataframe tbody tr th {\n",
       "        vertical-align: top;\n",
       "    }\n",
       "\n",
       "    .dataframe thead th {\n",
       "        text-align: right;\n",
       "    }\n",
       "</style>\n",
       "<table border=\"1\" class=\"dataframe\">\n",
       "  <thead>\n",
       "    <tr style=\"text-align: right;\">\n",
       "      <th></th>\n",
       "      <th>q_id</th>\n",
       "      <th>sq_id</th>\n",
       "      <th>user_id</th>\n",
       "      <th>score</th>\n",
       "    </tr>\n",
       "  </thead>\n",
       "  <tbody>\n",
       "    <tr>\n",
       "      <th>0</th>\n",
       "      <td>1345827</td>\n",
       "      <td>1345827</td>\n",
       "      <td>12855</td>\n",
       "      <td>502</td>\n",
       "    </tr>\n",
       "    <tr>\n",
       "      <th>1</th>\n",
       "      <td>775049</td>\n",
       "      <td>1345827</td>\n",
       "      <td>12855</td>\n",
       "      <td>1109</td>\n",
       "    </tr>\n",
       "    <tr>\n",
       "      <th>2</th>\n",
       "      <td>761804</td>\n",
       "      <td>761804</td>\n",
       "      <td>9493</td>\n",
       "      <td>1964</td>\n",
       "    </tr>\n",
       "    <tr>\n",
       "      <th>3</th>\n",
       "      <td>265960</td>\n",
       "      <td>761804</td>\n",
       "      <td>9493</td>\n",
       "      <td>1216</td>\n",
       "    </tr>\n",
       "    <tr>\n",
       "      <th>4</th>\n",
       "      <td>11350770</td>\n",
       "      <td>55696209</td>\n",
       "      <td>4909087</td>\n",
       "      <td>284</td>\n",
       "    </tr>\n",
       "    <tr>\n",
       "      <th>5</th>\n",
       "      <td>6996603</td>\n",
       "      <td>6996603</td>\n",
       "      <td>21886</td>\n",
       "      <td>4529</td>\n",
       "    </tr>\n",
       "    <tr>\n",
       "      <th>6</th>\n",
       "      <td>5424716</td>\n",
       "      <td>5424716</td>\n",
       "      <td>9453</td>\n",
       "      <td>298</td>\n",
       "    </tr>\n",
       "    <tr>\n",
       "      <th>7</th>\n",
       "      <td>5946236</td>\n",
       "      <td>5946236</td>\n",
       "      <td>484293</td>\n",
       "      <td>61</td>\n",
       "    </tr>\n",
       "    <tr>\n",
       "      <th>8</th>\n",
       "      <td>6578986</td>\n",
       "      <td>6578986</td>\n",
       "      <td>1152127</td>\n",
       "      <td>160</td>\n",
       "    </tr>\n",
       "    <tr>\n",
       "      <th>9</th>\n",
       "      <td>54351852</td>\n",
       "      <td>55896204</td>\n",
       "      <td>8841057</td>\n",
       "      <td>39</td>\n",
       "    </tr>\n",
       "  </tbody>\n",
       "</table>\n",
       "</div>"
      ],
      "text/plain": [
       "       q_id     sq_id  user_id  score\n",
       "0   1345827   1345827    12855    502\n",
       "1    775049   1345827    12855   1109\n",
       "2    761804    761804     9493   1964\n",
       "3    265960    761804     9493   1216\n",
       "4  11350770  55696209  4909087    284\n",
       "5   6996603   6996603    21886   4529\n",
       "6   5424716   5424716     9453    298\n",
       "7   5946236   5946236   484293     61\n",
       "8   6578986   6578986  1152127    160\n",
       "9  54351852  55896204  8841057     39"
      ]
     },
     "execution_count": 62,
     "metadata": {},
     "output_type": "execute_result"
    }
   ],
   "source": [
    "print(len(q_ds))\n",
    "q_ds.head(10)"
   ]
  },
  {
   "attachments": {},
   "cell_type": "markdown",
   "metadata": {},
   "source": [
    "### Use doc2vec similarity search"
   ]
  },
  {
   "cell_type": "code",
   "execution_count": 54,
   "metadata": {},
   "outputs": [],
   "source": [
    "features_df = []\n",
    "missing_vectors=0\n",
    "for post_id in posts_ids:\n",
    "    try:\n",
    "        features_df.extend([(post_id, int(id)) for id, _ in model.dv.most_similar(model.dv[str(post_id)],topn=200)])\n",
    "    except KeyError:\n",
    "        missing_vectors +=1\n",
    "\n",
    "features_df = pd.DataFrame(features_df, columns=[\"q_id\", \"sq_id\"])"
   ]
  },
  {
   "cell_type": "code",
   "execution_count": 55,
   "metadata": {},
   "outputs": [
    {
     "data": {
      "text/plain": [
       "(0, 274200)"
      ]
     },
     "execution_count": 55,
     "metadata": {},
     "output_type": "execute_result"
    }
   ],
   "source": [
    "missing_vectors, len(features_df)"
   ]
  },
  {
   "cell_type": "code",
   "execution_count": 56,
   "metadata": {},
   "outputs": [
    {
     "data": {
      "text/html": [
       "<div>\n",
       "<style scoped>\n",
       "    .dataframe tbody tr th:only-of-type {\n",
       "        vertical-align: middle;\n",
       "    }\n",
       "\n",
       "    .dataframe tbody tr th {\n",
       "        vertical-align: top;\n",
       "    }\n",
       "\n",
       "    .dataframe thead th {\n",
       "        text-align: right;\n",
       "    }\n",
       "</style>\n",
       "<table border=\"1\" class=\"dataframe\">\n",
       "  <thead>\n",
       "    <tr style=\"text-align: right;\">\n",
       "      <th></th>\n",
       "      <th>q_id</th>\n",
       "      <th>sq_id</th>\n",
       "      <th>user_id</th>\n",
       "      <th>score</th>\n",
       "    </tr>\n",
       "  </thead>\n",
       "  <tbody>\n",
       "    <tr>\n",
       "      <th>0</th>\n",
       "      <td>1854</td>\n",
       "      <td>1854</td>\n",
       "      <td>2089740</td>\n",
       "      <td>1161</td>\n",
       "    </tr>\n",
       "    <tr>\n",
       "      <th>1</th>\n",
       "      <td>3061</td>\n",
       "      <td>3061</td>\n",
       "      <td>363</td>\n",
       "      <td>2763</td>\n",
       "    </tr>\n",
       "    <tr>\n",
       "      <th>2</th>\n",
       "      <td>3061</td>\n",
       "      <td>63839721</td>\n",
       "      <td>5532667</td>\n",
       "      <td>8</td>\n",
       "    </tr>\n",
       "    <tr>\n",
       "      <th>3</th>\n",
       "      <td>22676</td>\n",
       "      <td>22676</td>\n",
       "      <td>1595</td>\n",
       "      <td>541</td>\n",
       "    </tr>\n",
       "    <tr>\n",
       "      <th>4</th>\n",
       "      <td>32899</td>\n",
       "      <td>32899</td>\n",
       "      <td>3448</td>\n",
       "      <td>271</td>\n",
       "    </tr>\n",
       "  </tbody>\n",
       "</table>\n",
       "</div>"
      ],
      "text/plain": [
       "    q_id     sq_id  user_id  score\n",
       "0   1854      1854  2089740   1161\n",
       "1   3061      3061      363   2763\n",
       "2   3061  63839721  5532667      8\n",
       "3  22676     22676     1595    541\n",
       "4  32899     32899     3448    271"
      ]
     },
     "execution_count": 56,
     "metadata": {},
     "output_type": "execute_result"
    }
   ],
   "source": [
    "with connection:\n",
    "    with connection.cursor() as cursor:\n",
    "        execute_values(cursor, \"\"\"select q_id, sq_id, q_a.owner_user_id, q_a.score\n",
    "                                FROM (VALUES %s) AS base_questions (q_id, sq_id)\n",
    "                                JOIN posts_19 q_a ON q_a.parent_id = q_id\n",
    "                                JOIN posts_19 sq ON sq.id = sq_id\n",
    "                                JOIN posts_19 sq_a ON sq_a.id = sq.accepted_answer_id\n",
    "                                WHERE sq_a.owner_user_id=q_a.owner_user_id\"\"\",\n",
    "                                features_df[[\"q_id\", \"sq_id\"]].values.tolist(), page_size=685500)\n",
    "        q_ds = cursor.fetchall()\n",
    "        q_ds = pd.DataFrame(q_ds, columns=[\"q_id\", \"sq_id\", \"user_id\", \"score\"])\n",
    "q_ds.head()"
   ]
  },
  {
   "cell_type": "code",
   "execution_count": 57,
   "metadata": {},
   "outputs": [
    {
     "name": "stdout",
     "output_type": "stream",
     "text": [
      "1178\n"
     ]
    },
    {
     "data": {
      "text/html": [
       "<div>\n",
       "<style scoped>\n",
       "    .dataframe tbody tr th:only-of-type {\n",
       "        vertical-align: middle;\n",
       "    }\n",
       "\n",
       "    .dataframe tbody tr th {\n",
       "        vertical-align: top;\n",
       "    }\n",
       "\n",
       "    .dataframe thead th {\n",
       "        text-align: right;\n",
       "    }\n",
       "</style>\n",
       "<table border=\"1\" class=\"dataframe\">\n",
       "  <thead>\n",
       "    <tr style=\"text-align: right;\">\n",
       "      <th></th>\n",
       "      <th>q_id</th>\n",
       "      <th>sq_id</th>\n",
       "      <th>user_id</th>\n",
       "      <th>score</th>\n",
       "    </tr>\n",
       "  </thead>\n",
       "  <tbody>\n",
       "    <tr>\n",
       "      <th>0</th>\n",
       "      <td>1854</td>\n",
       "      <td>1854</td>\n",
       "      <td>2089740</td>\n",
       "      <td>1161</td>\n",
       "    </tr>\n",
       "    <tr>\n",
       "      <th>1</th>\n",
       "      <td>3061</td>\n",
       "      <td>3061</td>\n",
       "      <td>363</td>\n",
       "      <td>2763</td>\n",
       "    </tr>\n",
       "    <tr>\n",
       "      <th>2</th>\n",
       "      <td>3061</td>\n",
       "      <td>63839721</td>\n",
       "      <td>5532667</td>\n",
       "      <td>8</td>\n",
       "    </tr>\n",
       "    <tr>\n",
       "      <th>3</th>\n",
       "      <td>22676</td>\n",
       "      <td>22676</td>\n",
       "      <td>1595</td>\n",
       "      <td>541</td>\n",
       "    </tr>\n",
       "    <tr>\n",
       "      <th>4</th>\n",
       "      <td>32899</td>\n",
       "      <td>32899</td>\n",
       "      <td>3448</td>\n",
       "      <td>271</td>\n",
       "    </tr>\n",
       "    <tr>\n",
       "      <th>5</th>\n",
       "      <td>34439</td>\n",
       "      <td>34439</td>\n",
       "      <td>3394</td>\n",
       "      <td>709</td>\n",
       "    </tr>\n",
       "    <tr>\n",
       "      <th>6</th>\n",
       "      <td>36901</td>\n",
       "      <td>36901</td>\n",
       "      <td>720</td>\n",
       "      <td>3034</td>\n",
       "    </tr>\n",
       "    <tr>\n",
       "      <th>7</th>\n",
       "      <td>36901</td>\n",
       "      <td>63072026</td>\n",
       "      <td>7954504</td>\n",
       "      <td>47</td>\n",
       "    </tr>\n",
       "    <tr>\n",
       "      <th>8</th>\n",
       "      <td>38987</td>\n",
       "      <td>38987</td>\n",
       "      <td>541136</td>\n",
       "      <td>8482</td>\n",
       "    </tr>\n",
       "    <tr>\n",
       "      <th>9</th>\n",
       "      <td>42950</td>\n",
       "      <td>42950</td>\n",
       "      <td>1199</td>\n",
       "      <td>1401</td>\n",
       "    </tr>\n",
       "  </tbody>\n",
       "</table>\n",
       "</div>"
      ],
      "text/plain": [
       "    q_id     sq_id  user_id  score\n",
       "0   1854      1854  2089740   1161\n",
       "1   3061      3061      363   2763\n",
       "2   3061  63839721  5532667      8\n",
       "3  22676     22676     1595    541\n",
       "4  32899     32899     3448    271\n",
       "5  34439     34439     3394    709\n",
       "6  36901     36901      720   3034\n",
       "7  36901  63072026  7954504     47\n",
       "8  38987     38987   541136   8482\n",
       "9  42950     42950     1199   1401"
      ]
     },
     "execution_count": 57,
     "metadata": {},
     "output_type": "execute_result"
    }
   ],
   "source": [
    "print(len(q_ds))\n",
    "q_ds.head(10)"
   ]
  },
  {
   "attachments": {},
   "cell_type": "markdown",
   "metadata": {},
   "source": [
    "## Faiss similar questions distances distribution"
   ]
  },
  {
   "cell_type": "code",
   "execution_count": 37,
   "metadata": {},
   "outputs": [
    {
     "data": {
      "text/plain": [
       "(7.8874907, 1.7196511)"
      ]
     },
     "execution_count": 37,
     "metadata": {},
     "output_type": "execute_result"
    }
   ],
   "source": [
    "exact_distances = np.array(exact_distances)\n",
    "exact_distances.mean(), exact_distances.std()"
   ]
  },
  {
   "cell_type": "code",
   "execution_count": 39,
   "metadata": {},
   "outputs": [
    {
     "data": {
      "text/plain": [
       "<seaborn.axisgrid.FacetGrid at 0x7f9b511b1030>"
      ]
     },
     "execution_count": 39,
     "metadata": {},
     "output_type": "execute_result"
    },
    {
     "data": {
      "image/png": "[encoded data removed]",
      "text/plain": [
       "<Figure size 500x500 with 1 Axes>"
      ]
     },
     "metadata": {},
     "output_type": "display_data"
    }
   ],
   "source": [
    "sns.displot(exact_distances)"
   ]
  },
  {
   "cell_type": "code",
   "execution_count": 40,
   "metadata": {},
   "outputs": [
    {
     "data": {
      "text/plain": [
       "685500"
      ]
     },
     "execution_count": 40,
     "metadata": {},
     "output_type": "execute_result"
    }
   ],
   "source": [
    "len(exact_distances)"
   ]
  },
  {
   "cell_type": "code",
   "execution_count": null,
   "metadata": {},
   "outputs": [],
   "source": []
  }
 ],
 "metadata": {
  "kernelspec": {
   "display_name": "so_q_recom",
   "language": "python",
   "name": "python3"
  },
  "language_info": {
   "codemirror_mode": {
    "name": "ipython",
    "version": 3
   },
   "file_extension": ".py",
   "mimetype": "text/x-python",
   "name": "python",
   "nbconvert_exporter": "python",
   "pygments_lexer": "ipython3",
   "version": "3.10.6"
  },
  "orig_nbformat": 4,
  "vscode": {
   "interpreter": {
    "hash": "b43ea873d3b23250d814848f917f736af3c8e8fe5a9c8650bc801acb99dd31c9"
   }
  }
 },
 "nbformat": 4,
 "nbformat_minor": 2
}
