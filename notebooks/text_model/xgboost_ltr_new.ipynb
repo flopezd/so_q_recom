{
 "cells": [
  {
   "cell_type": "code",
   "execution_count": 1,
   "id": "ff94e9cf-ba0a-42db-b446-e1207fc4191f",
   "metadata": {},
   "outputs": [
    {
     "name": "stderr",
     "output_type": "stream",
     "text": [
      "2024-06-28 11:52:06.764380: I tensorflow/core/platform/cpu_feature_guard.cc:182] This TensorFlow binary is optimized to use available CPU instructions in performance-critical operations.\n",
      "To enable the following instructions: AVX2 FMA, in other operations, rebuild TensorFlow with the appropriate compiler flags.\n"
     ]
    }
   ],
   "source": [
    "import numpy as np\n",
    "from xgboost import XGBRanker\n",
    "from sklearn.metrics import ndcg_score\n",
    "import matplotlib.pyplot as plt\n",
    "import psycopg2\n",
    "from gensim.models.doc2vec import Doc2Vec\n",
    "from gensim.utils import simple_preprocess\n",
    "import tensorflow as tf\n",
    "import tensorflow.keras.backend as K\n",
    "from faiss import read_index\n",
    "from psycopg2.extras import execute_values\n",
    "import pickle\n",
    "import pandas as pd\n",
    "from operator import itemgetter\n",
    "from utils.utils import get_q_answers\n",
    "\n",
    "\n",
    "plt.rcParams['text.usetex'] = True\n",
    "plt.rcParams['text.latex.preamble'] = r\"\\usepackage{amsmath}\""
   ]
  },
  {
   "cell_type": "markdown",
   "id": "12a9d412-c991-4a30-962e-45cf0a8b6081",
   "metadata": {},
   "source": [
    "# Create dataset"
   ]
  },
  {
   "cell_type": "code",
   "execution_count": 4,
   "id": "3f1f2fc6-feae-46fc-9f2c-7af901bd2fb8",
   "metadata": {},
   "outputs": [],
   "source": [
    "connection = psycopg2.connect(\n",
    "    user=\"postgres\",\n",
    "    password=\"postgres\",\n",
    "    host=\"127.0.0.1\",\n",
    "    port=\"54320\",\n",
    "    database=\"stack_overflow\",\n",
    ")"
   ]
  },
  {
   "cell_type": "code",
   "execution_count": 11,
   "id": "3b32db32-a0bc-4560-a1f7-68859518c66c",
   "metadata": {},
   "outputs": [
    {
     "name": "stdout",
     "output_type": "stream",
     "text": [
      "WARNING:tensorflow:No training configuration found in save file, so the model was *not* compiled. Compile it manually.\n"
     ]
    }
   ],
   "source": [
    "question_embeddings_model = Doc2Vec.load(\"python.doc\")\n",
    "question_transformer_model = tf.keras.models.load_model(\n",
    "    \"../../scripts/text_model/question_transformer_model\"\n",
    ")\n",
    "index = read_index(\"../../scripts/text_model/users_imp.index\")"
   ]
  },
  {
   "cell_type": "code",
   "execution_count": 12,
   "id": "d0febf2e-2898-45b9-a51d-26eae52e4276",
   "metadata": {},
   "outputs": [],
   "source": [
    "with open(\"../../scripts/text_model/user_embeddings.pickle\", \"rb\") as f:\n",
    "    user_embedding, user_encoder = pickle.load(f)"
   ]
  },
  {
   "cell_type": "code",
   "execution_count": 13,
   "id": "ad582008-cb8f-4e46-aa94-a27c24f97e28",
   "metadata": {},
   "outputs": [],
   "source": [
    "MIN_ANSWERS = 3\n",
    "with connection:\n",
    "    with connection.cursor() as cursor:\n",
    "        cursor.execute(\n",
    "            f\"\"\"select p.id, p.title, p.body_text\n",
    "        from posts_19 p\n",
    "        join posts_19_tags pt on pt.post_id=p.id\n",
    "        join posts_19 a on a.parent_id=p.id\n",
    "        join tags t on pt.tag_id=t.id\n",
    "        where p.body_text is not null\n",
    "        and p.creation_date >= '2022-01-01'\n",
    "        and t.tag_name = 'python'\n",
    "        group by p.id\n",
    "        HAVING count(*) > {MIN_ANSWERS}\n",
    "        limit 30000\"\"\"\n",
    "        )\n",
    "        posts = cursor.fetchall()"
   ]
  },
  {
   "cell_type": "code",
   "execution_count": 14,
   "id": "2076206b-1d19-4022-95ad-5505a4fd0b0a",
   "metadata": {},
   "outputs": [],
   "source": [
    "posts_vectors = []\n",
    "posts_ids = []\n",
    "for p_id, title, body in posts:\n",
    "    posts_ids.append(p_id)\n",
    "    post_text = body\n",
    "    if title is not None:\n",
    "        post_text = title + \"\\n\\n\" + body\n",
    "    posts_vectors.append(\n",
    "        question_embeddings_model.infer_vector(simple_preprocess(post_text))\n",
    "    )"
   ]
  },
  {
   "cell_type": "code",
   "execution_count": 15,
   "id": "e327d988-9f92-4b32-b38a-2de7f5b5af9e",
   "metadata": {},
   "outputs": [
    {
     "data": {
      "text/plain": [
       "(3973, 50)"
      ]
     },
     "execution_count": 15,
     "metadata": {},
     "output_type": "execute_result"
    }
   ],
   "source": [
    "posts_vectors = np.array(posts_vectors)\n",
    "posts_vectors.shape"
   ]
  },
  {
   "cell_type": "code",
   "execution_count": 16,
   "id": "cc8ae250-d55e-41bd-8653-1154745cdf3b",
   "metadata": {},
   "outputs": [
    {
     "name": "stdout",
     "output_type": "stream",
     "text": [
      "125/125 [==============================] - 0s 731us/step\n"
     ]
    },
    {
     "data": {
      "text/plain": [
       "(3973, 10)"
      ]
     },
     "execution_count": 16,
     "metadata": {},
     "output_type": "execute_result"
    }
   ],
   "source": [
    "questions_transformed = question_transformer_model.predict(posts_vectors)\n",
    "questions_transformed.shape"
   ]
  },
  {
   "cell_type": "code",
   "execution_count": 17,
   "id": "2068fdee-edad-4249-9c77-4c614861b778",
   "metadata": {},
   "outputs": [],
   "source": [
    "qid2emb = {pid: emb for pid, emb in zip(posts_ids, questions_transformed)}"
   ]
  },
  {
   "cell_type": "code",
   "execution_count": 18,
   "id": "8979a439-a5ad-4d2c-91b0-2f147bf42a2b",
   "metadata": {},
   "outputs": [],
   "source": [
    "distances, similar_questions = index.search(questions_transformed, 10000)\n",
    "features_df = pd.DataFrame(\n",
    "    list(zip(posts_ids, similar_questions)), columns=[\"q_id\", \"u_id\"]\n",
    ").explode(\"u_id\")\n",
    "features_df[\"u_id\"] = features_df[\"u_id\"].astype(int)"
   ]
  },
  {
   "cell_type": "code",
   "execution_count": 19,
   "id": "dfbcab34-1d29-479b-9230-9a0bddbf3656",
   "metadata": {},
   "outputs": [
    {
     "data": {
      "text/html": [
       "<div>\n",
       "<style scoped>\n",
       "    .dataframe tbody tr th:only-of-type {\n",
       "        vertical-align: middle;\n",
       "    }\n",
       "\n",
       "    .dataframe tbody tr th {\n",
       "        vertical-align: top;\n",
       "    }\n",
       "\n",
       "    .dataframe thead th {\n",
       "        text-align: right;\n",
       "    }\n",
       "</style>\n",
       "<table border=\"1\" class=\"dataframe\">\n",
       "  <thead>\n",
       "    <tr style=\"text-align: right;\">\n",
       "      <th></th>\n",
       "      <th>q_id</th>\n",
       "      <th>u_id</th>\n",
       "    </tr>\n",
       "  </thead>\n",
       "  <tbody>\n",
       "    <tr>\n",
       "      <th>0</th>\n",
       "      <td>70547027</td>\n",
       "      <td>4962195</td>\n",
       "    </tr>\n",
       "    <tr>\n",
       "      <th>0</th>\n",
       "      <td>70547027</td>\n",
       "      <td>10659910</td>\n",
       "    </tr>\n",
       "    <tr>\n",
       "      <th>0</th>\n",
       "      <td>70547027</td>\n",
       "      <td>5405298</td>\n",
       "    </tr>\n",
       "    <tr>\n",
       "      <th>0</th>\n",
       "      <td>70547027</td>\n",
       "      <td>5535114</td>\n",
       "    </tr>\n",
       "    <tr>\n",
       "      <th>0</th>\n",
       "      <td>70547027</td>\n",
       "      <td>5660284</td>\n",
       "    </tr>\n",
       "    <tr>\n",
       "      <th>...</th>\n",
       "      <td>...</td>\n",
       "      <td>...</td>\n",
       "    </tr>\n",
       "    <tr>\n",
       "      <th>3972</th>\n",
       "      <td>74681417</td>\n",
       "      <td>4082726</td>\n",
       "    </tr>\n",
       "    <tr>\n",
       "      <th>3972</th>\n",
       "      <td>74681417</td>\n",
       "      <td>12043163</td>\n",
       "    </tr>\n",
       "    <tr>\n",
       "      <th>3972</th>\n",
       "      <td>74681417</td>\n",
       "      <td>1353861</td>\n",
       "    </tr>\n",
       "    <tr>\n",
       "      <th>3972</th>\n",
       "      <td>74681417</td>\n",
       "      <td>6331369</td>\n",
       "    </tr>\n",
       "    <tr>\n",
       "      <th>3972</th>\n",
       "      <td>74681417</td>\n",
       "      <td>14941819</td>\n",
       "    </tr>\n",
       "  </tbody>\n",
       "</table>\n",
       "<p>39730000 rows × 2 columns</p>\n",
       "</div>"
      ],
      "text/plain": [
       "          q_id      u_id\n",
       "0     70547027   4962195\n",
       "0     70547027  10659910\n",
       "0     70547027   5405298\n",
       "0     70547027   5535114\n",
       "0     70547027   5660284\n",
       "...        ...       ...\n",
       "3972  74681417   4082726\n",
       "3972  74681417  12043163\n",
       "3972  74681417   1353861\n",
       "3972  74681417   6331369\n",
       "3972  74681417  14941819\n",
       "\n",
       "[39730000 rows x 2 columns]"
      ]
     },
     "execution_count": 19,
     "metadata": {},
     "output_type": "execute_result"
    }
   ],
   "source": [
    "features_df"
   ]
  },
  {
   "cell_type": "code",
   "execution_count": 20,
   "id": "da81ebf2-7c5b-4866-bc9b-125d6ce62c91",
   "metadata": {},
   "outputs": [],
   "source": [
    "batch_size = 1000000\n",
    "\n",
    "results = []\n",
    "with connection:\n",
    "    for batch_idx in range(len(features_df) // batch_size):\n",
    "        with connection.cursor() as cursor:\n",
    "            execute_values(\n",
    "                cursor,\n",
    "                \"\"\"select q_id, u_id, q_a.score\n",
    "                                    FROM (VALUES %s) AS base_questions (q_id, u_id)\n",
    "                                    JOIN posts_19 q_a ON q_a.parent_id = q_id\n",
    "                                    WHERE q_a.owner_user_id=u_id\"\"\",\n",
    "                features_df[batch_idx * batch_size : (batch_idx + 1) * batch_size][\n",
    "                    [\"q_id\", \"u_id\"]\n",
    "                ].values.tolist(),\n",
    "                page_size=batch_size,\n",
    "            )\n",
    "            results.extend(cursor.fetchall())\n",
    "dataset = pd.DataFrame(results, columns=[\"q_id\", \"u_id\", \"score\"])"
   ]
  },
  {
   "cell_type": "code",
   "execution_count": 21,
   "id": "d42d9b3a-6d0c-4d72-891a-aaf38b20f510",
   "metadata": {},
   "outputs": [
    {
     "name": "stdout",
     "output_type": "stream",
     "text": [
      "5605\n"
     ]
    },
    {
     "data": {
      "text/html": [
       "<div>\n",
       "<style scoped>\n",
       "    .dataframe tbody tr th:only-of-type {\n",
       "        vertical-align: middle;\n",
       "    }\n",
       "\n",
       "    .dataframe tbody tr th {\n",
       "        vertical-align: top;\n",
       "    }\n",
       "\n",
       "    .dataframe thead th {\n",
       "        text-align: right;\n",
       "    }\n",
       "</style>\n",
       "<table border=\"1\" class=\"dataframe\">\n",
       "  <thead>\n",
       "    <tr style=\"text-align: right;\">\n",
       "      <th></th>\n",
       "      <th>q_id</th>\n",
       "      <th>u_id</th>\n",
       "      <th>score</th>\n",
       "    </tr>\n",
       "  </thead>\n",
       "  <tbody>\n",
       "    <tr>\n",
       "      <th>124</th>\n",
       "      <td>70547027</td>\n",
       "      <td>2988730</td>\n",
       "      <td>2</td>\n",
       "    </tr>\n",
       "    <tr>\n",
       "      <th>144</th>\n",
       "      <td>70547027</td>\n",
       "      <td>5014455</td>\n",
       "      <td>2</td>\n",
       "    </tr>\n",
       "    <tr>\n",
       "      <th>71</th>\n",
       "      <td>70547027</td>\n",
       "      <td>2988730</td>\n",
       "      <td>0</td>\n",
       "    </tr>\n",
       "    <tr>\n",
       "      <th>145</th>\n",
       "      <td>70547281</td>\n",
       "      <td>786593</td>\n",
       "      <td>0</td>\n",
       "    </tr>\n",
       "    <tr>\n",
       "      <th>33</th>\n",
       "      <td>70547426</td>\n",
       "      <td>1192111</td>\n",
       "      <td>0</td>\n",
       "    </tr>\n",
       "  </tbody>\n",
       "</table>\n",
       "</div>"
      ],
      "text/plain": [
       "         q_id     u_id  score\n",
       "124  70547027  2988730      2\n",
       "144  70547027  5014455      2\n",
       "71   70547027  2988730      0\n",
       "145  70547281   786593      0\n",
       "33   70547426  1192111      0"
      ]
     },
     "execution_count": 21,
     "metadata": {},
     "output_type": "execute_result"
    }
   ],
   "source": [
    "dataset.sort_values(by=[\"q_id\"], inplace=True)\n",
    "print(len(dataset))\n",
    "dataset.head()"
   ]
  },
  {
   "cell_type": "code",
   "execution_count": 22,
   "id": "9f4029de-35a4-403e-93fa-6aac76faada9",
   "metadata": {},
   "outputs": [],
   "source": [
    "full_dataset = features_df.merge(dataset, on=[\"q_id\", \"u_id\"], how=\"left\")"
   ]
  },
  {
   "cell_type": "code",
   "execution_count": 23,
   "id": "51afc8d7-1595-40ff-b2c0-f7bf85d59696",
   "metadata": {},
   "outputs": [],
   "source": [
    "full_dataset[\"feats\"] = np.concatenate(\n",
    "    (\n",
    "        user_embedding[user_encoder.transform(full_dataset[\"u_id\"])],\n",
    "        np.array(itemgetter(*full_dataset[\"q_id\"])(qid2emb)),\n",
    "    ),\n",
    "    axis=1,\n",
    ").tolist()"
   ]
  },
  {
   "cell_type": "code",
   "execution_count": 24,
   "id": "51825a10-8e69-4835-8ce2-154d31000045",
   "metadata": {},
   "outputs": [],
   "source": [
    "scored_dataset = full_dataset[~full_dataset[\"score\"].isna()]\n",
    "eval_feats = np.array(scored_dataset[\"feats\"].values.tolist())\n",
    "eval_scores = scored_dataset[\"score\"]\n",
    "eval_q_ids = scored_dataset[\"q_id\"]"
   ]
  },
  {
   "cell_type": "markdown",
   "id": "efb55eb0-736d-4295-a371-e2bf35c07218",
   "metadata": {},
   "source": [
    "# Load LTR"
   ]
  },
  {
   "cell_type": "code",
   "execution_count": 25,
   "id": "9ec8c70c-0a35-4e14-901b-9462cf5857f4",
   "metadata": {},
   "outputs": [],
   "source": [
    "ranker = XGBRanker()\n",
    "ranker.load_model(\"xgboost_ranker\")"
   ]
  },
  {
   "cell_type": "code",
   "execution_count": 26,
   "id": "2edb130a-24d6-4608-9fcf-f30e314d4870",
   "metadata": {},
   "outputs": [],
   "source": [
    "predicted_scores = ranker.predict(eval_feats)\n",
    "\n",
    "grouped_predicted_scores = []\n",
    "grouped_eval_scores = []\n",
    "\n",
    "last_qid = eval_q_ids.values[0]\n",
    "last_predicted_scores = []\n",
    "last_eval_scores = []\n",
    "for pscore, escore, q_id in zip(predicted_scores, eval_scores, eval_q_ids):\n",
    "    if q_id == last_qid:\n",
    "        last_predicted_scores.append(pscore)\n",
    "        last_eval_scores.append(escore)\n",
    "    else:\n",
    "        grouped_predicted_scores.append(last_predicted_scores)\n",
    "        grouped_eval_scores.append(last_eval_scores)\n",
    "        last_predicted_scores = [pscore]\n",
    "        last_eval_scores = [escore]\n",
    "        last_qid = q_id\n",
    "\n",
    "grouped_predicted_scores.append(last_predicted_scores)\n",
    "grouped_eval_scores.append(last_eval_scores)"
   ]
  },
  {
   "cell_type": "code",
   "execution_count": 27,
   "id": "3cc16a3b-d3e9-45c7-a9ab-fe548f29222e",
   "metadata": {},
   "outputs": [
    {
     "data": {
      "text/plain": [
       "(1.0, 1.879287516223711e-16)"
      ]
     },
     "execution_count": 27,
     "metadata": {},
     "output_type": "execute_result"
    }
   ],
   "source": [
    "import warnings\n",
    "\n",
    "warnings.simplefilter(action=\"ignore\", category=FutureWarning)\n",
    "\n",
    "group_ncdg = []\n",
    "\n",
    "for p_scores, e_scores in zip(grouped_predicted_scores, grouped_eval_scores):\n",
    "    if len(p_scores) > 1:\n",
    "        group_ncdg.append(ndcg_score([p_scores], [e_scores]))\n",
    "\n",
    "group_ncdg = np.array(group_ncdg)\n",
    "group_ncdg.mean(), group_ncdg.std()"
   ]
  },
  {
   "cell_type": "markdown",
   "id": "0aac98bc-85ee-4ec7-bb0e-5384763a4a1e",
   "metadata": {},
   "source": [
    "# Evaluate recall"
   ]
  },
  {
   "cell_type": "code",
   "execution_count": 28,
   "id": "faa7da19-3c7f-4f1f-b536-010af217acf4",
   "metadata": {},
   "outputs": [],
   "source": [
    "full_dataset[\"pscore\"] = ranker.predict(np.array(full_dataset[\"feats\"].values.tolist()))"
   ]
  },
  {
   "cell_type": "code",
   "execution_count": 29,
   "id": "3f04bb7f-77af-4963-9ec7-54f05a7e1cac",
   "metadata": {},
   "outputs": [
    {
     "data": {
      "text/plain": [
       "5605"
      ]
     },
     "execution_count": 29,
     "metadata": {},
     "output_type": "execute_result"
    }
   ],
   "source": [
    "full_dataset[\"is_answer\"] = (~full_dataset[\"score\"].isna()).astype(int)\n",
    "full_dataset[\"is_answer\"].sum()"
   ]
  },
  {
   "cell_type": "code",
   "execution_count": 30,
   "id": "cece9732-6aa0-4570-bab8-94f144b15c22",
   "metadata": {},
   "outputs": [],
   "source": [
    "full_dataset = full_dataset.sort_values(by=[\"q_id\", \"pscore\"], ascending=False)"
   ]
  },
  {
   "cell_type": "code",
   "execution_count": 31,
   "id": "f54d1b57-eb07-4ee6-aef4-7d794ee67386",
   "metadata": {},
   "outputs": [
    {
     "data": {
      "text/html": [
       "<div>\n",
       "<style scoped>\n",
       "    .dataframe tbody tr th:only-of-type {\n",
       "        vertical-align: middle;\n",
       "    }\n",
       "\n",
       "    .dataframe tbody tr th {\n",
       "        vertical-align: top;\n",
       "    }\n",
       "\n",
       "    .dataframe thead th {\n",
       "        text-align: right;\n",
       "    }\n",
       "</style>\n",
       "<table border=\"1\" class=\"dataframe\">\n",
       "  <thead>\n",
       "    <tr style=\"text-align: right;\">\n",
       "      <th></th>\n",
       "      <th>q_id</th>\n",
       "      <th>u_id</th>\n",
       "      <th>score</th>\n",
       "      <th>feats</th>\n",
       "      <th>pscore</th>\n",
       "      <th>is_answer</th>\n",
       "    </tr>\n",
       "  </thead>\n",
       "  <tbody>\n",
       "    <tr>\n",
       "      <th>39720061</th>\n",
       "      <td>74681417</td>\n",
       "      <td>6657231</td>\n",
       "      <td>NaN</td>\n",
       "      <td>[-0.32010993361473083, -0.32003816962242126, 0...</td>\n",
       "      <td>0.159008</td>\n",
       "      <td>0</td>\n",
       "    </tr>\n",
       "    <tr>\n",
       "      <th>39720062</th>\n",
       "      <td>74681417</td>\n",
       "      <td>11476836</td>\n",
       "      <td>NaN</td>\n",
       "      <td>[-0.3203243017196655, -0.32027503848075867, 0....</td>\n",
       "      <td>0.159008</td>\n",
       "      <td>0</td>\n",
       "    </tr>\n",
       "    <tr>\n",
       "      <th>39720063</th>\n",
       "      <td>74681417</td>\n",
       "      <td>803194</td>\n",
       "      <td>NaN</td>\n",
       "      <td>[-0.3199814260005951, -0.32052743434906006, 0....</td>\n",
       "      <td>0.159008</td>\n",
       "      <td>0</td>\n",
       "    </tr>\n",
       "    <tr>\n",
       "      <th>39720064</th>\n",
       "      <td>74681417</td>\n",
       "      <td>13965517</td>\n",
       "      <td>NaN</td>\n",
       "      <td>[-0.32054489850997925, -0.31964626908302307, 0...</td>\n",
       "      <td>0.159008</td>\n",
       "      <td>0</td>\n",
       "    </tr>\n",
       "    <tr>\n",
       "      <th>39720065</th>\n",
       "      <td>74681417</td>\n",
       "      <td>10239789</td>\n",
       "      <td>NaN</td>\n",
       "      <td>[-0.3206108808517456, -0.3199508488178253, 0.3...</td>\n",
       "      <td>0.159008</td>\n",
       "      <td>0</td>\n",
       "    </tr>\n",
       "    <tr>\n",
       "      <th>39720066</th>\n",
       "      <td>74681417</td>\n",
       "      <td>9311137</td>\n",
       "      <td>NaN</td>\n",
       "      <td>[-0.32043126225471497, -0.32004314661026, 0.31...</td>\n",
       "      <td>0.159008</td>\n",
       "      <td>0</td>\n",
       "    </tr>\n",
       "    <tr>\n",
       "      <th>39720067</th>\n",
       "      <td>74681417</td>\n",
       "      <td>1491895</td>\n",
       "      <td>NaN</td>\n",
       "      <td>[-0.32051166892051697, -0.32023823261260986, 0...</td>\n",
       "      <td>0.159008</td>\n",
       "      <td>0</td>\n",
       "    </tr>\n",
       "    <tr>\n",
       "      <th>39720068</th>\n",
       "      <td>74681417</td>\n",
       "      <td>15897202</td>\n",
       "      <td>NaN</td>\n",
       "      <td>[-0.32069385051727295, -0.32037508487701416, 0...</td>\n",
       "      <td>0.159008</td>\n",
       "      <td>0</td>\n",
       "    </tr>\n",
       "    <tr>\n",
       "      <th>39720069</th>\n",
       "      <td>74681417</td>\n",
       "      <td>118903</td>\n",
       "      <td>NaN</td>\n",
       "      <td>[-0.3199869394302368, -0.32062122225761414, 0....</td>\n",
       "      <td>0.159008</td>\n",
       "      <td>0</td>\n",
       "    </tr>\n",
       "    <tr>\n",
       "      <th>39720070</th>\n",
       "      <td>74681417</td>\n",
       "      <td>12216324</td>\n",
       "      <td>NaN</td>\n",
       "      <td>[-0.32068586349487305, -0.32030683755874634, 0...</td>\n",
       "      <td>0.159008</td>\n",
       "      <td>0</td>\n",
       "    </tr>\n",
       "  </tbody>\n",
       "</table>\n",
       "</div>"
      ],
      "text/plain": [
       "              q_id      u_id  score  \\\n",
       "39720061  74681417   6657231    NaN   \n",
       "39720062  74681417  11476836    NaN   \n",
       "39720063  74681417    803194    NaN   \n",
       "39720064  74681417  13965517    NaN   \n",
       "39720065  74681417  10239789    NaN   \n",
       "39720066  74681417   9311137    NaN   \n",
       "39720067  74681417   1491895    NaN   \n",
       "39720068  74681417  15897202    NaN   \n",
       "39720069  74681417    118903    NaN   \n",
       "39720070  74681417  12216324    NaN   \n",
       "\n",
       "                                                      feats    pscore  \\\n",
       "39720061  [-0.32010993361473083, -0.32003816962242126, 0...  0.159008   \n",
       "39720062  [-0.3203243017196655, -0.32027503848075867, 0....  0.159008   \n",
       "39720063  [-0.3199814260005951, -0.32052743434906006, 0....  0.159008   \n",
       "39720064  [-0.32054489850997925, -0.31964626908302307, 0...  0.159008   \n",
       "39720065  [-0.3206108808517456, -0.3199508488178253, 0.3...  0.159008   \n",
       "39720066  [-0.32043126225471497, -0.32004314661026, 0.31...  0.159008   \n",
       "39720067  [-0.32051166892051697, -0.32023823261260986, 0...  0.159008   \n",
       "39720068  [-0.32069385051727295, -0.32037508487701416, 0...  0.159008   \n",
       "39720069  [-0.3199869394302368, -0.32062122225761414, 0....  0.159008   \n",
       "39720070  [-0.32068586349487305, -0.32030683755874634, 0...  0.159008   \n",
       "\n",
       "          is_answer  \n",
       "39720061          0  \n",
       "39720062          0  \n",
       "39720063          0  \n",
       "39720064          0  \n",
       "39720065          0  \n",
       "39720066          0  \n",
       "39720067          0  \n",
       "39720068          0  \n",
       "39720069          0  \n",
       "39720070          0  "
      ]
     },
     "execution_count": 31,
     "metadata": {},
     "output_type": "execute_result"
    }
   ],
   "source": [
    "full_dataset.head(10)"
   ]
  },
  {
   "cell_type": "code",
   "execution_count": 32,
   "id": "d102ae9c-4b00-4059-8846-3178e40c42f2",
   "metadata": {},
   "outputs": [],
   "source": [
    "total_questions = len(full_dataset[\"q_id\"].unique())"
   ]
  },
  {
   "cell_type": "code",
   "execution_count": 33,
   "id": "e4bf9b20-7fba-4156-a993-318dab31f00c",
   "metadata": {},
   "outputs": [],
   "source": [
    "top_k = [20, 100, 1000, 4000, 7000, 10000]\n",
    "mean_retrieved_documents = []\n",
    "for k in top_k:\n",
    "    mean_retrieved_documents.append(\n",
    "        full_dataset.groupby(\"q_id\")\n",
    "        .apply(lambda x: x.head(k)[\"is_answer\"].sum())\n",
    "        .median()\n",
    "    )"
   ]
  },
  {
   "cell_type": "code",
   "execution_count": 34,
   "id": "d416f486-d1fe-46c3-b76b-0750bc24c781",
   "metadata": {},
   "outputs": [
    {
     "data": {
      "text/plain": [
       "[0.0, 0.0, 0.0, 1.0, 1.0, 1.0]"
      ]
     },
     "execution_count": 34,
     "metadata": {},
     "output_type": "execute_result"
    }
   ],
   "source": [
    "mean_retrieved_documents"
   ]
  },
  {
   "cell_type": "code",
   "execution_count": 88,
   "id": "6ac73cbf-90dc-4e90-bfc8-c8e176fbe522",
   "metadata": {},
   "outputs": [],
   "source": [
    "with connection:\n",
    "    with connection.cursor() as cursor:\n",
    "        cursor.execute(\n",
    "            \"\"\"select q_a.parent_id, count(*) as answers\n",
    "                            FROM posts_19 q_a\n",
    "                            where q_a.parent_id in %s\n",
    "                            group by q_a.parent_id\"\"\",\n",
    "            (tuple(posts_ids),),\n",
    "        )\n",
    "        q_answers = cursor.fetchall()"
   ]
  },
  {
   "cell_type": "code",
   "execution_count": 89,
   "id": "a6cbcdf0-c488-415c-baee-a5b91ca64b50",
   "metadata": {},
   "outputs": [],
   "source": [
    "q_answers = {q_id: answers for q_id, answers in q_answers}"
   ]
  },
  {
   "cell_type": "code",
   "execution_count": 95,
   "id": "93cf89b0-d493-40cb-b4da-63d0ad4f7947",
   "metadata": {},
   "outputs": [],
   "source": [
    "top_k = list(range(1, 10000, 200))"
   ]
  },
  {
   "cell_type": "code",
   "execution_count": 96,
   "id": "8e698e3a-d0bc-4854-a10a-f228c38bf3cc",
   "metadata": {},
   "outputs": [],
   "source": [
    "mean_recall = []\n",
    "for k in top_k:\n",
    "    mean_recall.append(\n",
    "        (\n",
    "            full_dataset.groupby(\"q_id\")[[\"is_answer\", \"q_id\"]].apply(\n",
    "                lambda x: x.head(k)[\"is_answer\"].sum() / q_answers[x[\"q_id\"].iloc[0]]\n",
    "            )\n",
    "        ).mean()\n",
    "    )"
   ]
  },
  {
   "cell_type": "code",
   "execution_count": 98,
   "id": "fe4e3a02-fbe7-4c49-b2b5-c8b368cc1f1f",
   "metadata": {
    "scrolled": true
   },
   "outputs": [
    {
     "data": {
      "image/png": "[encoded data removed]",
      "text/plain": [
       "<Figure size 640x480 with 1 Axes>"
      ]
     },
     "metadata": {},
     "output_type": "display_data"
    }
   ],
   "source": [
    "fig, ax1 = plt.subplots()\n",
    "\n",
    "color = \"tab:red\"\n",
    "ax1.set_xlabel(\"k\")\n",
    "ax1.set_ylabel(\"mean recall per question\")\n",
    "ax1.plot(top_k, mean_recall, color=color)\n",
    "\n",
    "fig.savefig(\"xgboostrank_recall.pdf\")\n",
    "fig.tight_layout()\n",
    "plt.show()"
   ]
  },
  {
   "cell_type": "code",
   "execution_count": 99,
   "id": "083bfa73-2b6c-413c-9783-d606ca11ea3b",
   "metadata": {},
   "outputs": [
    {
     "data": {
      "text/plain": [
       "[(1, 6.292474200855777e-05),\n",
       " (201, 0.042889004750318614),\n",
       " (401, 0.07252229969320328),\n",
       " (601, 0.09787759294429318),\n",
       " (801, 0.12209864275054307),\n",
       " (1001, 0.1355484658530216),\n",
       " (1201, 0.1458980877052863),\n",
       " (1401, 0.1544396719705051),\n",
       " (1601, 0.16244111133992833),\n",
       " (1801, 0.16912731464078054),\n",
       " (2001, 0.17614402265799195),\n",
       " (2201, 0.18340395795719228),\n",
       " (2401, 0.19010464393676074),\n",
       " (2601, 0.19688643291714017),\n",
       " (2801, 0.20154765809183126),\n",
       " (3001, 0.20641634423411417),\n",
       " (3201, 0.2116724579221433),\n",
       " (3401, 0.21813602749293662),\n",
       " (3601, 0.22490193546699963),\n",
       " (3801, 0.23073475940956434),\n",
       " (4001, 0.23733446616029044),\n",
       " (4201, 0.2437605805275073),\n",
       " (4401, 0.25111408573527877),\n",
       " (4601, 0.2570635792319659),\n",
       " (4801, 0.2635837810705669),\n",
       " (5001, 0.26840531451656546),\n",
       " (5201, 0.27350881073508815),\n",
       " (5401, 0.27796058641137933),\n",
       " (5601, 0.2821528724372923),\n",
       " (5801, 0.2869193717041691),\n",
       " (6001, 0.29188922775633064),\n",
       " (6201, 0.2960600394655265),\n",
       " (6401, 0.29990803726016413),\n",
       " (6601, 0.3034708761049058),\n",
       " (6801, 0.3063845913015307),\n",
       " (7001, 0.3095353230263877),\n",
       " (7201, 0.3128562511962965),\n",
       " (7401, 0.3167581844840843),\n",
       " (7601, 0.3201864933176285),\n",
       " (7801, 0.32374803371531286),\n",
       " (8001, 0.32750504941544456),\n",
       " (8201, 0.3318936007080986),\n",
       " (8401, 0.3367638758590181),\n",
       " (8601, 0.3403640700267934),\n",
       " (8801, 0.3441007100961795),\n",
       " (9001, 0.3472518413432081),\n",
       " (9201, 0.35161342488928693),\n",
       " (9401, 0.35520163339191785),\n",
       " (9601, 0.358954944431914),\n",
       " (9801, 0.36127716705365837)]"
      ]
     },
     "execution_count": 99,
     "metadata": {},
     "output_type": "execute_result"
    }
   ],
   "source": [
    "list(zip(top_k, mean_recall))"
   ]
  },
  {
   "cell_type": "markdown",
   "id": "08ba0a3e-5400-4eaa-880a-f58a7b9ddd82",
   "metadata": {},
   "source": [
    "# get dev country with uid and idx"
   ]
  },
  {
   "cell_type": "code",
   "execution_count": 36,
   "id": "6cb6bff2-e9ba-433b-85f2-585ddbc3698a",
   "metadata": {},
   "outputs": [
    {
     "data": {
      "text/html": [
       "<div>\n",
       "<style scoped>\n",
       "    .dataframe tbody tr th:only-of-type {\n",
       "        vertical-align: middle;\n",
       "    }\n",
       "\n",
       "    .dataframe tbody tr th {\n",
       "        vertical-align: top;\n",
       "    }\n",
       "\n",
       "    .dataframe thead th {\n",
       "        text-align: right;\n",
       "    }\n",
       "</style>\n",
       "<table border=\"1\" class=\"dataframe\">\n",
       "  <thead>\n",
       "    <tr style=\"text-align: right;\">\n",
       "      <th></th>\n",
       "      <th>user_id</th>\n",
       "      <th>country</th>\n",
       "      <th>value</th>\n",
       "      <th>developed_country</th>\n",
       "    </tr>\n",
       "  </thead>\n",
       "  <tbody>\n",
       "    <tr>\n",
       "      <th>0</th>\n",
       "      <td>22545</td>\n",
       "      <td>new zealand</td>\n",
       "      <td>0.937</td>\n",
       "      <td>1</td>\n",
       "    </tr>\n",
       "    <tr>\n",
       "      <th>1</th>\n",
       "      <td>22550</td>\n",
       "      <td>india</td>\n",
       "      <td>0.633</td>\n",
       "      <td>0</td>\n",
       "    </tr>\n",
       "    <tr>\n",
       "      <th>2</th>\n",
       "      <td>22554</td>\n",
       "      <td>india</td>\n",
       "      <td>0.633</td>\n",
       "      <td>0</td>\n",
       "    </tr>\n",
       "    <tr>\n",
       "      <th>3</th>\n",
       "      <td>22562</td>\n",
       "      <td>germany</td>\n",
       "      <td>0.942</td>\n",
       "      <td>1</td>\n",
       "    </tr>\n",
       "    <tr>\n",
       "      <th>4</th>\n",
       "      <td>22564</td>\n",
       "      <td>ireland</td>\n",
       "      <td>0.945</td>\n",
       "      <td>1</td>\n",
       "    </tr>\n",
       "  </tbody>\n",
       "</table>\n",
       "</div>"
      ],
      "text/plain": [
       "   user_id      country  value  developed_country\n",
       "0    22545  new zealand  0.937                  1\n",
       "1    22550        india  0.633                  0\n",
       "2    22554        india  0.633                  0\n",
       "3    22562      germany  0.942                  1\n",
       "4    22564      ireland  0.945                  1"
      ]
     },
     "execution_count": 36,
     "metadata": {},
     "output_type": "execute_result"
    }
   ],
   "source": [
    "users = pd.read_csv(\"users_dev_country.csv\")\n",
    "users.head()"
   ]
  },
  {
   "cell_type": "code",
   "execution_count": 37,
   "id": "88aaa798-e010-4fa4-b901-912df3cc3c80",
   "metadata": {},
   "outputs": [
    {
     "data": {
      "text/html": [
       "<div>\n",
       "<style scoped>\n",
       "    .dataframe tbody tr th:only-of-type {\n",
       "        vertical-align: middle;\n",
       "    }\n",
       "\n",
       "    .dataframe tbody tr th {\n",
       "        vertical-align: top;\n",
       "    }\n",
       "\n",
       "    .dataframe thead th {\n",
       "        text-align: right;\n",
       "    }\n",
       "</style>\n",
       "<table border=\"1\" class=\"dataframe\">\n",
       "  <thead>\n",
       "    <tr style=\"text-align: right;\">\n",
       "      <th></th>\n",
       "      <th>q_id</th>\n",
       "      <th>u_id</th>\n",
       "      <th>score</th>\n",
       "      <th>feats</th>\n",
       "      <th>pscore</th>\n",
       "      <th>is_answer</th>\n",
       "      <th>developed_country</th>\n",
       "    </tr>\n",
       "  </thead>\n",
       "  <tbody>\n",
       "    <tr>\n",
       "      <th>39720061</th>\n",
       "      <td>74681417</td>\n",
       "      <td>6657231</td>\n",
       "      <td>NaN</td>\n",
       "      <td>[-0.32010993361473083, -0.32003816962242126, 0...</td>\n",
       "      <td>0.159008</td>\n",
       "      <td>0</td>\n",
       "      <td>0.0</td>\n",
       "    </tr>\n",
       "    <tr>\n",
       "      <th>39720062</th>\n",
       "      <td>74681417</td>\n",
       "      <td>11476836</td>\n",
       "      <td>NaN</td>\n",
       "      <td>[-0.3203243017196655, -0.32027503848075867, 0....</td>\n",
       "      <td>0.159008</td>\n",
       "      <td>0</td>\n",
       "      <td>NaN</td>\n",
       "    </tr>\n",
       "    <tr>\n",
       "      <th>39720063</th>\n",
       "      <td>74681417</td>\n",
       "      <td>803194</td>\n",
       "      <td>NaN</td>\n",
       "      <td>[-0.3199814260005951, -0.32052743434906006, 0....</td>\n",
       "      <td>0.159008</td>\n",
       "      <td>0</td>\n",
       "      <td>NaN</td>\n",
       "    </tr>\n",
       "    <tr>\n",
       "      <th>39720064</th>\n",
       "      <td>74681417</td>\n",
       "      <td>13965517</td>\n",
       "      <td>NaN</td>\n",
       "      <td>[-0.32054489850997925, -0.31964626908302307, 0...</td>\n",
       "      <td>0.159008</td>\n",
       "      <td>0</td>\n",
       "      <td>1.0</td>\n",
       "    </tr>\n",
       "    <tr>\n",
       "      <th>39720065</th>\n",
       "      <td>74681417</td>\n",
       "      <td>10239789</td>\n",
       "      <td>NaN</td>\n",
       "      <td>[-0.3206108808517456, -0.3199508488178253, 0.3...</td>\n",
       "      <td>0.159008</td>\n",
       "      <td>0</td>\n",
       "      <td>1.0</td>\n",
       "    </tr>\n",
       "  </tbody>\n",
       "</table>\n",
       "</div>"
      ],
      "text/plain": [
       "              q_id      u_id  score  \\\n",
       "39720061  74681417   6657231    NaN   \n",
       "39720062  74681417  11476836    NaN   \n",
       "39720063  74681417    803194    NaN   \n",
       "39720064  74681417  13965517    NaN   \n",
       "39720065  74681417  10239789    NaN   \n",
       "\n",
       "                                                      feats    pscore  \\\n",
       "39720061  [-0.32010993361473083, -0.32003816962242126, 0...  0.159008   \n",
       "39720062  [-0.3203243017196655, -0.32027503848075867, 0....  0.159008   \n",
       "39720063  [-0.3199814260005951, -0.32052743434906006, 0....  0.159008   \n",
       "39720064  [-0.32054489850997925, -0.31964626908302307, 0...  0.159008   \n",
       "39720065  [-0.3206108808517456, -0.3199508488178253, 0.3...  0.159008   \n",
       "\n",
       "          is_answer  developed_country  \n",
       "39720061          0                0.0  \n",
       "39720062          0                NaN  \n",
       "39720063          0                NaN  \n",
       "39720064          0                1.0  \n",
       "39720065          0                1.0  "
      ]
     },
     "execution_count": 37,
     "metadata": {},
     "output_type": "execute_result"
    }
   ],
   "source": [
    "full_dataset = full_dataset.join(\n",
    "    users[[\"user_id\", \"developed_country\"]].set_index(\"user_id\"), on=\"u_id\"\n",
    ")\n",
    "full_dataset.head()"
   ]
  },
  {
   "cell_type": "code",
   "execution_count": 38,
   "id": "439dde78-1cee-48f6-9ccf-42f9c5a39e35",
   "metadata": {},
   "outputs": [
    {
     "data": {
      "text/html": [
       "<div>\n",
       "<style scoped>\n",
       "    .dataframe tbody tr th:only-of-type {\n",
       "        vertical-align: middle;\n",
       "    }\n",
       "\n",
       "    .dataframe tbody tr th {\n",
       "        vertical-align: top;\n",
       "    }\n",
       "\n",
       "    .dataframe thead th {\n",
       "        text-align: right;\n",
       "    }\n",
       "</style>\n",
       "<table border=\"1\" class=\"dataframe\">\n",
       "  <thead>\n",
       "    <tr style=\"text-align: right;\">\n",
       "      <th></th>\n",
       "      <th>q_id</th>\n",
       "      <th>u_id</th>\n",
       "      <th>score</th>\n",
       "      <th>feats</th>\n",
       "      <th>pscore</th>\n",
       "      <th>is_answer</th>\n",
       "      <th>developed_country</th>\n",
       "      <th>idx</th>\n",
       "    </tr>\n",
       "  </thead>\n",
       "  <tbody>\n",
       "    <tr>\n",
       "      <th>39720061</th>\n",
       "      <td>74681417</td>\n",
       "      <td>6657231</td>\n",
       "      <td>NaN</td>\n",
       "      <td>[-0.32010993361473083, -0.32003816962242126, 0...</td>\n",
       "      <td>0.159008</td>\n",
       "      <td>0</td>\n",
       "      <td>0.0</td>\n",
       "      <td>0</td>\n",
       "    </tr>\n",
       "    <tr>\n",
       "      <th>39720062</th>\n",
       "      <td>74681417</td>\n",
       "      <td>11476836</td>\n",
       "      <td>NaN</td>\n",
       "      <td>[-0.3203243017196655, -0.32027503848075867, 0....</td>\n",
       "      <td>0.159008</td>\n",
       "      <td>0</td>\n",
       "      <td>NaN</td>\n",
       "      <td>1</td>\n",
       "    </tr>\n",
       "    <tr>\n",
       "      <th>39720063</th>\n",
       "      <td>74681417</td>\n",
       "      <td>803194</td>\n",
       "      <td>NaN</td>\n",
       "      <td>[-0.3199814260005951, -0.32052743434906006, 0....</td>\n",
       "      <td>0.159008</td>\n",
       "      <td>0</td>\n",
       "      <td>NaN</td>\n",
       "      <td>2</td>\n",
       "    </tr>\n",
       "    <tr>\n",
       "      <th>39720064</th>\n",
       "      <td>74681417</td>\n",
       "      <td>13965517</td>\n",
       "      <td>NaN</td>\n",
       "      <td>[-0.32054489850997925, -0.31964626908302307, 0...</td>\n",
       "      <td>0.159008</td>\n",
       "      <td>0</td>\n",
       "      <td>1.0</td>\n",
       "      <td>3</td>\n",
       "    </tr>\n",
       "    <tr>\n",
       "      <th>39720065</th>\n",
       "      <td>74681417</td>\n",
       "      <td>10239789</td>\n",
       "      <td>NaN</td>\n",
       "      <td>[-0.3206108808517456, -0.3199508488178253, 0.3...</td>\n",
       "      <td>0.159008</td>\n",
       "      <td>0</td>\n",
       "      <td>1.0</td>\n",
       "      <td>4</td>\n",
       "    </tr>\n",
       "  </tbody>\n",
       "</table>\n",
       "</div>"
      ],
      "text/plain": [
       "              q_id      u_id  score  \\\n",
       "39720061  74681417   6657231    NaN   \n",
       "39720062  74681417  11476836    NaN   \n",
       "39720063  74681417    803194    NaN   \n",
       "39720064  74681417  13965517    NaN   \n",
       "39720065  74681417  10239789    NaN   \n",
       "\n",
       "                                                      feats    pscore  \\\n",
       "39720061  [-0.32010993361473083, -0.32003816962242126, 0...  0.159008   \n",
       "39720062  [-0.3203243017196655, -0.32027503848075867, 0....  0.159008   \n",
       "39720063  [-0.3199814260005951, -0.32052743434906006, 0....  0.159008   \n",
       "39720064  [-0.32054489850997925, -0.31964626908302307, 0...  0.159008   \n",
       "39720065  [-0.3206108808517456, -0.3199508488178253, 0.3...  0.159008   \n",
       "\n",
       "          is_answer  developed_country  idx  \n",
       "39720061          0                0.0    0  \n",
       "39720062          0                NaN    1  \n",
       "39720063          0                NaN    2  \n",
       "39720064          0                1.0    3  \n",
       "39720065          0                1.0    4  "
      ]
     },
     "execution_count": 38,
     "metadata": {},
     "output_type": "execute_result"
    }
   ],
   "source": [
    "full_dataset[\"idx\"] = full_dataset.groupby(\"q_id\")[\"q_id\"].cumcount()\n",
    "full_dataset.head()"
   ]
  },
  {
   "cell_type": "code",
   "execution_count": 39,
   "id": "82d9a729-194f-495c-81fc-ff89feddd937",
   "metadata": {},
   "outputs": [],
   "source": [
    "full_dataset.to_csv(\"xgboost_ltr_dataset.csv\",index=False)"
   ]
  },
  {
   "cell_type": "code",
   "execution_count": 40,
   "id": "000c70f4-ed45-4ffa-83a3-b4072784e8b1",
   "metadata": {},
   "outputs": [
    {
     "data": {
      "text/plain": [
       "(2788, 2806)"
      ]
     },
     "execution_count": 40,
     "metadata": {},
     "output_type": "execute_result"
    }
   ],
   "source": [
    "q_answers_dev_country, q_answers_no_dev_country = get_q_answers(connection, tuple(posts_ids))\n",
    "len(q_answers_dev_country), len(q_answers_no_dev_country)"
   ]
  },
  {
   "cell_type": "code",
   "execution_count": null,
   "id": "f8115e40-627a-4894-ae41-50ec7c2fa630",
   "metadata": {},
   "outputs": [],
   "source": []
  },
  {
   "cell_type": "code",
   "execution_count": 49,
   "id": "27a46e1b-f5c9-4f8d-a87c-3b70d50fb73d",
   "metadata": {},
   "outputs": [],
   "source": [
    "top_k = range(1, 101, 20)\n",
    "\n",
    "dev_dataset = full_dataset[full_dataset[\"developed_country\"] == 1]\n",
    "no_dev_dataset = full_dataset[full_dataset[\"developed_country\"] == 0]\n",
    "\n",
    "dev_mean_recall = []\n",
    "no_dev_mean_recall = []\n",
    "for k in top_k:    \n",
    "    dev_recall = (dev_dataset[[\"is_answer\", \"q_id\", \"idx\"]]\n",
    "        .groupby(\"q_id\")\n",
    "        .apply(\n",
    "            lambda x: (\n",
    "                x[x[\"idx\"] <= k][\"is_answer\"].sum()\n",
    "            )\n",
    "        )\n",
    "        .dropna())\n",
    "    dev_mean_recall.append(dev_recall.sum())    \n",
    "    \n",
    "    no_dev_recall = (no_dev_dataset[[\"is_answer\", \"q_id\", \"idx\"]]\n",
    "        .groupby(\"q_id\")\n",
    "        .apply(\n",
    "            lambda x: (\n",
    "                x[x[\"idx\"] <= k][\"is_answer\"].sum()\n",
    "            )\n",
    "        )\n",
    "        .dropna()\n",
    "    )\n",
    "    no_dev_mean_recall.append(no_dev_recall.sum())"
   ]
  },
  {
   "cell_type": "code",
   "execution_count": 50,
   "id": "38d6dafe-192d-4ff0-a804-9f35266edf57",
   "metadata": {},
   "outputs": [
    {
     "data": {
      "image/png": "[encoded data removed]",
      "text/plain": [
       "<Figure size 640x480 with 1 Axes>"
      ]
     },
     "metadata": {},
     "output_type": "display_data"
    }
   ],
   "source": [
    "fig, ax1 = plt.subplots()\n",
    "\n",
    "color = \"tab:red\"\n",
    "ax1.set_xlabel(\"k\")\n",
    "ax1.set_ylabel(\"$P[\\widehat{A}=True|A=True \\land C=x]$\")\n",
    "ax1.plot(top_k, dev_mean_recall, color=color, label=\"$x=IDH^+$\")\n",
    "ax1.plot(top_k, no_dev_mean_recall, color=\"tab:blue\", label=\"$x=IDH^-$\")\n",
    "ax1.legend(loc=\"upper left\")\n",
    "\n",
    "fig.tight_layout()"
   ]
  },
  {
   "cell_type": "code",
   "execution_count": null,
   "id": "e1273f54-b5f9-4ecd-a3f3-0edbb8bbf3fc",
   "metadata": {},
   "outputs": [],
   "source": []
  },
  {
   "cell_type": "code",
   "execution_count": 44,
   "id": "b7408a0d-c387-4021-b747-37b8b27963b9",
   "metadata": {},
   "outputs": [],
   "source": [
    "top_k = range(1, 101, 20)\n",
    "\n",
    "dev_dataset = full_dataset[full_dataset[\"developed_country\"] == 1]\n",
    "no_dev_dataset = full_dataset[full_dataset[\"developed_country\"] == 0]\n",
    "\n",
    "dev_mean_recall = []\n",
    "no_dev_mean_recall = []\n",
    "for k in top_k:    \n",
    "    dev_recall = (dev_dataset[[\"is_answer\", \"q_id\", \"idx\"]]\n",
    "        .groupby(\"q_id\")\n",
    "        .apply(\n",
    "            lambda x: (\n",
    "                x[x[\"idx\"] <= k][\"is_answer\"].sum()\n",
    "                / q_answers_dev_country[x[\"q_id\"].iloc[0]]\n",
    "                if x[\"q_id\"].iloc[0] in q_answers_dev_country\n",
    "                else np.NaN\n",
    "            )\n",
    "        )\n",
    "        .dropna())\n",
    "    dev_mean_recall.append(dev_recall.mean())    \n",
    "    \n",
    "    no_dev_recall = (no_dev_dataset[[\"is_answer\", \"q_id\", \"idx\"]]\n",
    "        .groupby(\"q_id\")\n",
    "        .apply(\n",
    "            lambda x: (\n",
    "                x[x[\"idx\"] <= k][\"is_answer\"].sum()\n",
    "                / q_answers_no_dev_country[x[\"q_id\"].iloc[0]]\n",
    "                if x[\"q_id\"].iloc[0] in q_answers_no_dev_country\n",
    "                else np.NaN\n",
    "            )\n",
    "        )\n",
    "        .dropna()\n",
    "    )\n",
    "    no_dev_mean_recall.append(no_dev_recall.mean())"
   ]
  },
  {
   "cell_type": "code",
   "execution_count": 45,
   "id": "80f1acd9-2829-468e-8c2a-ae422dd59731",
   "metadata": {},
   "outputs": [
    {
     "data": {
      "text/plain": [
       "(39730061, 11753494, 13931587)"
      ]
     },
     "execution_count": 45,
     "metadata": {},
     "output_type": "execute_result"
    }
   ],
   "source": [
    "len(full_dataset), len(dev_dataset), len(no_dev_dataset)"
   ]
  },
  {
   "cell_type": "code",
   "execution_count": 46,
   "id": "3a38785d-6114-4e04-85eb-9b9e3869c4d9",
   "metadata": {},
   "outputs": [
    {
     "data": {
      "image/png": "[encoded data removed]",
      "text/plain": [
       "<Figure size 640x480 with 1 Axes>"
      ]
     },
     "metadata": {},
     "output_type": "display_data"
    }
   ],
   "source": [
    "fig, ax1 = plt.subplots()\n",
    "\n",
    "color = \"tab:red\"\n",
    "ax1.set_xlabel(\"k\")\n",
    "ax1.set_ylabel(\"$P[\\widehat{A}=True|A=True \\land C=x]$\")\n",
    "ax1.plot(top_k, dev_mean_recall, color=color, label=\"$x=IDH^+$\")\n",
    "ax1.plot(top_k, no_dev_mean_recall, color=\"tab:blue\", label=\"$x=IDH^-$\")\n",
    "ax1.set_ylim(0, 0.055)\n",
    "ax1.legend(loc=\"upper left\")\n",
    "\n",
    "fig.tight_layout()\n",
    "fig.savefig(\"recall_mean_before.pdf\")"
   ]
  },
  {
   "cell_type": "code",
   "execution_count": null,
   "id": "c18ce73a-3682-4a40-aebd-1da568ad31c2",
   "metadata": {},
   "outputs": [],
   "source": []
  },
  {
   "cell_type": "code",
   "execution_count": null,
   "id": "cef43f96-921f-4843-b4b8-91ebe08fa381",
   "metadata": {},
   "outputs": [],
   "source": []
  },
  {
   "cell_type": "code",
   "execution_count": null,
   "id": "0c6493f0-2537-4b3e-97b5-89dc4f0fe18a",
   "metadata": {},
   "outputs": [],
   "source": []
  },
  {
   "cell_type": "code",
   "execution_count": 39,
   "id": "4eb370c3-a4b7-41e3-85da-f5141f4cad37",
   "metadata": {},
   "outputs": [
    {
     "name": "stderr",
     "output_type": "stream",
     "text": [
      "No artists with labels found to put in legend.  Note that artists whose label start with an underscore are ignored when legend() is called with no argument.\n"
     ]
    },
    {
     "data": {
      "text/plain": [
       "<matplotlib.legend.Legend at 0x7fe8263861a0>"
      ]
     },
     "execution_count": 39,
     "metadata": {},
     "output_type": "execute_result"
    },
    {
     "data": {
      "image/png": "[encoded data removed]",
      "text/plain": [
       "<Figure size 640x480 with 1 Axes>"
      ]
     },
     "metadata": {},
     "output_type": "display_data"
    }
   ],
   "source": [
    "fig, ax1 = plt.subplots()\n",
    "\n",
    "dev_mean_recall_difference = [np.absolute(k_dev_mean_recall - k_no_dev_mean_recall)\n",
    "                             for k_dev_mean_recall, k_no_dev_mean_recall\n",
    "                             in zip(dev_mean_recall, no_dev_mean_recall)]\n",
    "color = \"black\"\n",
    "ax1.set_xlabel(\"k\")\n",
    "ax1.set_ylabel(\"mean recall difference per question\")\n",
    "ax1.plot(top_k, dev_mean_recall_difference, color=color)\n",
    "ax1.set_ylim(0, 0.018)\n",
    "\n",
    "fig.savefig(\"recall_difference_before.pdf\")\n",
    "fig.tight_layout()\n",
    "ax1.legend()"
   ]
  },
  {
   "cell_type": "code",
   "execution_count": null,
   "id": "8b305710-58e7-418c-9a57-e1f584edb3d0",
   "metadata": {},
   "outputs": [],
   "source": []
  },
  {
   "cell_type": "code",
   "execution_count": null,
   "id": "979b2c5a-9b4e-48af-a908-bb20d6cb48b5",
   "metadata": {},
   "outputs": [],
   "source": []
  },
  {
   "cell_type": "code",
   "execution_count": null,
   "id": "af7ec904-3999-49ea-a986-15609280a18d",
   "metadata": {},
   "outputs": [],
   "source": []
  },
  {
   "cell_type": "code",
   "execution_count": 27,
   "id": "7c76d93a-9fb6-47c1-980f-b9cb46a8e88d",
   "metadata": {},
   "outputs": [],
   "source": [
    "with connection:\n",
    "    with connection.cursor() as cursor:\n",
    "        cursor.execute(\n",
    "            \"\"\"SELECT q_a.parent_id, count(*) as answers\n",
    "                FROM posts_19 q_a\n",
    "                where q_a.parent_id in %s\n",
    "                group by q_a.parent_id\"\"\",\n",
    "            (tuple(posts_ids),),\n",
    "        )\n",
    "        q_answers_result = cursor.fetchall()\n",
    "q_answers = {q_id: count_answers for q_id, count_answers in q_answers_result}"
   ]
  },
  {
   "cell_type": "code",
   "execution_count": 27,
   "id": "526fdd91-9af5-4dd3-8d7a-530067481663",
   "metadata": {},
   "outputs": [],
   "source": [
    "top_k = range(0, 101)\n",
    "\n",
    "mean_recall = []\n",
    "for k in top_k:    \n",
    "    k_recall = (full_dataset[[\"is_answer\", \"q_id\", \"idx\"]]\n",
    "        .groupby(\"q_id\")\n",
    "        .apply(\n",
    "            lambda x: (\n",
    "                x[x[\"idx\"] <= k][\"is_answer\"].sum()\n",
    "                / q_answers[x[\"q_id\"].iloc[0]]\n",
    "                if x[\"q_id\"].iloc[0] in q_answers\n",
    "                else np.NaN\n",
    "            )\n",
    "        )\n",
    "        .dropna())\n",
    "    mean_recall.append(k_recall.mean())\n",
    "\n"
   ]
  },
  {
   "cell_type": "code",
   "execution_count": 29,
   "id": "968169b0-3aa8-48a6-ba0a-ef59c8ad1956",
   "metadata": {},
   "outputs": [
    {
     "data": {
      "image/png": "[encoded data removed]",
      "text/plain": [
       "<Figure size 640x480 with 1 Axes>"
      ]
     },
     "metadata": {},
     "output_type": "display_data"
    }
   ],
   "source": [
    "fig, ax1 = plt.subplots()\n",
    "\n",
    "color = \"black\"\n",
    "ax1.set_xlabel(\"k\")\n",
    "ax1.set_ylabel(\"$P[\\widehat{A}=True|A=True]$\")\n",
    "ax1.plot(top_k, mean_recall, color=color)\n",
    "ax1.set_ylim(0, 0.075)\n",
    "ax1.grid()\n",
    "\n",
    "fig.tight_layout()\n",
    "fig.savefig(\"recall_mean_before_all.pdf\")"
   ]
  },
  {
   "cell_type": "code",
   "execution_count": null,
   "id": "e95747a0-e04c-4294-ab7f-aa0d95c3c242",
   "metadata": {},
   "outputs": [],
   "source": []
  },
  {
   "cell_type": "code",
   "execution_count": 100,
   "id": "c5654750-c0de-4bc2-942c-42fa6bfd92c0",
   "metadata": {},
   "outputs": [],
   "source": [
    "mean_recall = []\n",
    "for k in range(1, 100):\n",
    "    mean_recall.append(\n",
    "        (\n",
    "            full_dataset.groupby(\"q_id\")[[\"is_answer\", \"q_id\"]].apply(\n",
    "                lambda x: x.head(k)[\"is_answer\"].sum() / q_answers[x[\"q_id\"].iloc[0]]\n",
    "            )\n",
    "        ).mean()\n",
    "    )"
   ]
  },
  {
   "cell_type": "code",
   "execution_count": 102,
   "id": "1ed5c925-d8cb-44bd-af2c-7bd700d0ca08",
   "metadata": {},
   "outputs": [
    {
     "data": {
      "image/png": "[encoded data removed]",
      "text/plain": [
       "<Figure size 640x480 with 1 Axes>"
      ]
     },
     "metadata": {},
     "output_type": "display_data"
    }
   ],
   "source": [
    "fig, ax1 = plt.subplots()\n",
    "\n",
    "color = \"tab:red\"\n",
    "ax1.set_xlabel(\"k\")\n",
    "ax1.set_ylabel(\"mean recall per question\")\n",
    "ax1.plot(list(range(1, 100)), mean_recall, color=color)\n",
    "\n",
    "fig.tight_layout()\n",
    "plt.show()"
   ]
  },
  {
   "cell_type": "code",
   "execution_count": null,
   "id": "9ea3121f-4de7-42f4-9470-9195ffc36407",
   "metadata": {},
   "outputs": [],
   "source": []
  },
  {
   "cell_type": "code",
   "execution_count": null,
   "id": "a5086e81-afc2-4437-8534-171c85a76360",
   "metadata": {},
   "outputs": [],
   "source": []
  },
  {
   "cell_type": "markdown",
   "id": "5b40e86a-22ba-4748-bafe-ba19e1177642",
   "metadata": {},
   "source": [
    "armar el end2end con los q nuevos, evaluar el recall, ncdg a p candidatos"
   ]
  },
  {
   "cell_type": "code",
   "execution_count": 43,
   "id": "ce16d480-0dd8-4061-9769-4c1a89f12594",
   "metadata": {},
   "outputs": [],
   "source": [
    "\n",
    "# aramar el baseline con random"
   ]
  },
  {
   "cell_type": "code",
   "execution_count": 44,
   "id": "b62d4b50-0980-482b-bea2-60de2accfe92",
   "metadata": {},
   "outputs": [],
   "source": [
    "# median +iqr gapplot "
   ]
  },
  {
   "cell_type": "code",
   "execution_count": null,
   "id": "d5a94fe2-a29e-4164-89bc-f7ea621a517c",
   "metadata": {},
   "outputs": [],
   "source": []
  },
  {
   "cell_type": "code",
   "execution_count": null,
   "id": "80acd4db-c12d-44ec-89e3-e4a37dfe9342",
   "metadata": {},
   "outputs": [],
   "source": []
  },
  {
   "cell_type": "code",
   "execution_count": null,
   "id": "e41e3bee-a5e1-49da-86bf-d58c20b05f1a",
   "metadata": {},
   "outputs": [],
   "source": []
  },
  {
   "cell_type": "code",
   "execution_count": null,
   "id": "0df01014-6a02-4a2c-8a6e-91db6dc6c193",
   "metadata": {},
   "outputs": [],
   "source": []
  },
  {
   "cell_type": "code",
   "execution_count": null,
   "id": "afd7d297-eeca-4b06-9cd2-5572e85bbef6",
   "metadata": {},
   "outputs": [],
   "source": []
  },
  {
   "cell_type": "markdown",
   "id": "2a27efce-ec8a-4d0d-ba3a-2246dc131733",
   "metadata": {},
   "source": [
    "# Random candidates"
   ]
  },
  {
   "cell_type": "code",
   "execution_count": null,
   "id": "529a21cf-3317-4155-8e9e-89420a257029",
   "metadata": {},
   "outputs": [],
   "source": [
    "with connection:\n",
    "    with connection.cursor() as cursor:\n",
    "        cursor.execute(f\"\"\"\n",
    "        select u.id, sum(a.score)\n",
    "        from users u\n",
    "            join posts_19 a on a.owner_user_id=u.id\n",
    "            join posts_19 p on a.parent_id=p.id\n",
    "            join posts_19_tags pt on pt.post_id=p.id\n",
    "            join tags t on pt.tag_id=t.id\n",
    "        where p.creation_date < '2022-01-01'\n",
    "            and t.tag_name = 'python'\n",
    "        group by u.id\n",
    "        order by 2 desc\n",
    "        limit 10000\n",
    "        \"\"\")\n",
    "        top_users = cursor.fetchall()\n",
    "\n"
   ]
  },
  {
   "cell_type": "code",
   "execution_count": 52,
   "id": "616fc93f-6680-42c2-b1b8-32b053a5cfc9",
   "metadata": {},
   "outputs": [],
   "source": [
    "\n",
    "with open('posts_ids_top_users.pickle', 'wb') as f:\n",
    "    pickle.dump((posts_ids, top_users), f)"
   ]
  },
  {
   "cell_type": "code",
   "execution_count": 3,
   "id": "27ae566a-46c5-4e4e-a113-965a3b11c952",
   "metadata": {},
   "outputs": [],
   "source": [
    "\n",
    "with open('posts_ids_top_users.pickle', 'rb') as f:\n",
    "    posts_ids, top_users = pickle.load(f)"
   ]
  },
  {
   "cell_type": "code",
   "execution_count": 4,
   "id": "93bd88fa-1c43-464d-93ac-14b246c1a381",
   "metadata": {},
   "outputs": [
    {
     "data": {
      "text/plain": [
       "(3973, 10000)"
      ]
     },
     "execution_count": 4,
     "metadata": {},
     "output_type": "execute_result"
    }
   ],
   "source": [
    "len(posts_ids), len(top_users)"
   ]
  },
  {
   "cell_type": "code",
   "execution_count": 20,
   "id": "a1922d03-8fea-4aeb-a9f4-d40ca8221ab6",
   "metadata": {},
   "outputs": [
    {
     "data": {
      "text/html": [
       "<div>\n",
       "<style scoped>\n",
       "    .dataframe tbody tr th:only-of-type {\n",
       "        vertical-align: middle;\n",
       "    }\n",
       "\n",
       "    .dataframe tbody tr th {\n",
       "        vertical-align: top;\n",
       "    }\n",
       "\n",
       "    .dataframe thead th {\n",
       "        text-align: right;\n",
       "    }\n",
       "</style>\n",
       "<table border=\"1\" class=\"dataframe\">\n",
       "  <thead>\n",
       "    <tr style=\"text-align: right;\">\n",
       "      <th></th>\n",
       "      <th>q_id</th>\n",
       "      <th>u_id</th>\n",
       "    </tr>\n",
       "  </thead>\n",
       "  <tbody>\n",
       "    <tr>\n",
       "      <th>0</th>\n",
       "      <td>70547027</td>\n",
       "      <td>100297</td>\n",
       "    </tr>\n",
       "    <tr>\n",
       "      <th>1</th>\n",
       "      <td>70547281</td>\n",
       "      <td>100297</td>\n",
       "    </tr>\n",
       "    <tr>\n",
       "      <th>2</th>\n",
       "      <td>70547426</td>\n",
       "      <td>100297</td>\n",
       "    </tr>\n",
       "    <tr>\n",
       "      <th>3</th>\n",
       "      <td>70549423</td>\n",
       "      <td>100297</td>\n",
       "    </tr>\n",
       "    <tr>\n",
       "      <th>4</th>\n",
       "      <td>70550513</td>\n",
       "      <td>100297</td>\n",
       "    </tr>\n",
       "  </tbody>\n",
       "</table>\n",
       "</div>"
      ],
      "text/plain": [
       "       q_id    u_id\n",
       "0  70547027  100297\n",
       "1  70547281  100297\n",
       "2  70547426  100297\n",
       "3  70549423  100297\n",
       "4  70550513  100297"
      ]
     },
     "execution_count": 20,
     "metadata": {},
     "output_type": "execute_result"
    }
   ],
   "source": [
    "# TODO:repeat every element instead\n",
    "u_ids = np.repeat(np.array([uid for uid, scor in top_users]), len(posts_ids))\n",
    "\n",
    "random_df = pd.DataFrame(list(zip(posts_ids * 10000, u_ids)), columns=[\"q_id\", \"u_id\"])\n",
    "random_df.head()"
   ]
  },
  {
   "cell_type": "markdown",
   "id": "f52170c5-256a-47fd-b0e6-46875e030361",
   "metadata": {},
   "source": [
    "# Evaluate recall"
   ]
  },
  {
   "cell_type": "code",
   "execution_count": 21,
   "id": "c34d11a2-55da-43dc-b9b8-ee7e958a9fcd",
   "metadata": {},
   "outputs": [],
   "source": [
    "results = []\n",
    "batch_size = 1000000\n",
    "\n",
    "with connection:\n",
    "    for batch_idx in range(len(random_df) // batch_size):\n",
    "        with connection.cursor() as cursor:\n",
    "            execute_values(\n",
    "                cursor,\n",
    "                \"\"\"select q_id, u_id, q_a.score\n",
    "                        FROM (VALUES %s) AS base_questions (q_id, u_id)\n",
    "                        JOIN posts_19 q_a ON q_a.parent_id = q_id\n",
    "                        WHERE q_a.owner_user_id=u_id\"\"\",\n",
    "                random_df[batch_idx * batch_size : (batch_idx + 1) * batch_size][\n",
    "                    [\"q_id\", \"u_id\"]\n",
    "                ].values.tolist(),\n",
    "                page_size=batch_size,\n",
    "            )\n",
    "            results.extend(cursor.fetchall())\n",
    "random_df_scores = pd.DataFrame(results, columns=[\"q_id\", \"u_id\", \"score\"])"
   ]
  },
  {
   "cell_type": "code",
   "execution_count": 22,
   "id": "00dfc621-07e9-4d0f-a658-a924308ed91a",
   "metadata": {},
   "outputs": [
    {
     "data": {
      "text/html": [
       "<div>\n",
       "<style scoped>\n",
       "    .dataframe tbody tr th:only-of-type {\n",
       "        vertical-align: middle;\n",
       "    }\n",
       "\n",
       "    .dataframe tbody tr th {\n",
       "        vertical-align: top;\n",
       "    }\n",
       "\n",
       "    .dataframe thead th {\n",
       "        text-align: right;\n",
       "    }\n",
       "</style>\n",
       "<table border=\"1\" class=\"dataframe\">\n",
       "  <thead>\n",
       "    <tr style=\"text-align: right;\">\n",
       "      <th></th>\n",
       "      <th>q_id</th>\n",
       "      <th>u_id</th>\n",
       "      <th>score</th>\n",
       "    </tr>\n",
       "  </thead>\n",
       "  <tbody>\n",
       "    <tr>\n",
       "      <th>0</th>\n",
       "      <td>71434012</td>\n",
       "      <td>16343464</td>\n",
       "      <td>1</td>\n",
       "    </tr>\n",
       "    <tr>\n",
       "      <th>1</th>\n",
       "      <td>71786720</td>\n",
       "      <td>1491895</td>\n",
       "      <td>3</td>\n",
       "    </tr>\n",
       "    <tr>\n",
       "      <th>2</th>\n",
       "      <td>72098906</td>\n",
       "      <td>16343464</td>\n",
       "      <td>3</td>\n",
       "    </tr>\n",
       "    <tr>\n",
       "      <th>3</th>\n",
       "      <td>72132786</td>\n",
       "      <td>7964527</td>\n",
       "      <td>2</td>\n",
       "    </tr>\n",
       "    <tr>\n",
       "      <th>4</th>\n",
       "      <td>72249268</td>\n",
       "      <td>7964527</td>\n",
       "      <td>5</td>\n",
       "    </tr>\n",
       "  </tbody>\n",
       "</table>\n",
       "</div>"
      ],
      "text/plain": [
       "       q_id      u_id  score\n",
       "0  71434012  16343464      1\n",
       "1  71786720   1491895      3\n",
       "2  72098906  16343464      3\n",
       "3  72132786   7964527      2\n",
       "4  72249268   7964527      5"
      ]
     },
     "execution_count": 22,
     "metadata": {},
     "output_type": "execute_result"
    }
   ],
   "source": [
    "random_df_scores.head()"
   ]
  },
  {
   "cell_type": "code",
   "execution_count": 23,
   "id": "f481bda1-8a03-4377-a880-ea64f8f7c391",
   "metadata": {},
   "outputs": [
    {
     "data": {
      "text/html": [
       "<div>\n",
       "<style scoped>\n",
       "    .dataframe tbody tr th:only-of-type {\n",
       "        vertical-align: middle;\n",
       "    }\n",
       "\n",
       "    .dataframe tbody tr th {\n",
       "        vertical-align: top;\n",
       "    }\n",
       "\n",
       "    .dataframe thead th {\n",
       "        text-align: right;\n",
       "    }\n",
       "</style>\n",
       "<table border=\"1\" class=\"dataframe\">\n",
       "  <thead>\n",
       "    <tr style=\"text-align: right;\">\n",
       "      <th></th>\n",
       "      <th>q_id</th>\n",
       "      <th>u_id</th>\n",
       "    </tr>\n",
       "  </thead>\n",
       "  <tbody>\n",
       "    <tr>\n",
       "      <th>0</th>\n",
       "      <td>70547027</td>\n",
       "      <td>100297</td>\n",
       "    </tr>\n",
       "    <tr>\n",
       "      <th>1</th>\n",
       "      <td>70547281</td>\n",
       "      <td>100297</td>\n",
       "    </tr>\n",
       "    <tr>\n",
       "      <th>2</th>\n",
       "      <td>70547426</td>\n",
       "      <td>100297</td>\n",
       "    </tr>\n",
       "    <tr>\n",
       "      <th>3</th>\n",
       "      <td>70549423</td>\n",
       "      <td>100297</td>\n",
       "    </tr>\n",
       "    <tr>\n",
       "      <th>4</th>\n",
       "      <td>70550513</td>\n",
       "      <td>100297</td>\n",
       "    </tr>\n",
       "  </tbody>\n",
       "</table>\n",
       "</div>"
      ],
      "text/plain": [
       "       q_id    u_id\n",
       "0  70547027  100297\n",
       "1  70547281  100297\n",
       "2  70547426  100297\n",
       "3  70549423  100297\n",
       "4  70550513  100297"
      ]
     },
     "execution_count": 23,
     "metadata": {},
     "output_type": "execute_result"
    }
   ],
   "source": [
    "random_df.head()"
   ]
  },
  {
   "cell_type": "code",
   "execution_count": 24,
   "id": "1650a966-968e-43dc-8ad2-31324d21b01a",
   "metadata": {},
   "outputs": [],
   "source": [
    "random_df2 = random_df.merge(random_df_scores, on=[\"q_id\", \"u_id\"], how=\"left\")"
   ]
  },
  {
   "cell_type": "code",
   "execution_count": 25,
   "id": "c725f9eb-1dd7-4b5a-9d8e-f6461e620bff",
   "metadata": {},
   "outputs": [
    {
     "data": {
      "text/html": [
       "<div>\n",
       "<style scoped>\n",
       "    .dataframe tbody tr th:only-of-type {\n",
       "        vertical-align: middle;\n",
       "    }\n",
       "\n",
       "    .dataframe tbody tr th {\n",
       "        vertical-align: top;\n",
       "    }\n",
       "\n",
       "    .dataframe thead th {\n",
       "        text-align: right;\n",
       "    }\n",
       "</style>\n",
       "<table border=\"1\" class=\"dataframe\">\n",
       "  <thead>\n",
       "    <tr style=\"text-align: right;\">\n",
       "      <th></th>\n",
       "      <th>q_id</th>\n",
       "      <th>u_id</th>\n",
       "      <th>score</th>\n",
       "      <th>is_answer</th>\n",
       "    </tr>\n",
       "  </thead>\n",
       "  <tbody>\n",
       "    <tr>\n",
       "      <th>0</th>\n",
       "      <td>70547027</td>\n",
       "      <td>100297</td>\n",
       "      <td>NaN</td>\n",
       "      <td>0</td>\n",
       "    </tr>\n",
       "    <tr>\n",
       "      <th>1</th>\n",
       "      <td>70547281</td>\n",
       "      <td>100297</td>\n",
       "      <td>NaN</td>\n",
       "      <td>0</td>\n",
       "    </tr>\n",
       "    <tr>\n",
       "      <th>2</th>\n",
       "      <td>70547426</td>\n",
       "      <td>100297</td>\n",
       "      <td>NaN</td>\n",
       "      <td>0</td>\n",
       "    </tr>\n",
       "    <tr>\n",
       "      <th>3</th>\n",
       "      <td>70549423</td>\n",
       "      <td>100297</td>\n",
       "      <td>NaN</td>\n",
       "      <td>0</td>\n",
       "    </tr>\n",
       "    <tr>\n",
       "      <th>4</th>\n",
       "      <td>70550513</td>\n",
       "      <td>100297</td>\n",
       "      <td>NaN</td>\n",
       "      <td>0</td>\n",
       "    </tr>\n",
       "  </tbody>\n",
       "</table>\n",
       "</div>"
      ],
      "text/plain": [
       "       q_id    u_id  score  is_answer\n",
       "0  70547027  100297    NaN          0\n",
       "1  70547281  100297    NaN          0\n",
       "2  70547426  100297    NaN          0\n",
       "3  70549423  100297    NaN          0\n",
       "4  70550513  100297    NaN          0"
      ]
     },
     "execution_count": 25,
     "metadata": {},
     "output_type": "execute_result"
    }
   ],
   "source": [
    "random_df2[\"is_answer\"] = (~random_df2[\"score\"].isna()).astype(int)\n",
    "random_df2.head()"
   ]
  },
  {
   "cell_type": "code",
   "execution_count": 54,
   "id": "e841af05-6178-44af-9168-13672fdbd79c",
   "metadata": {},
   "outputs": [],
   "source": [
    "top_k = list([1] + list(range(1275, 1281)) + list(range(1285, 1291)) + list(range(1295, 1301))\n",
    "    + list(range(1380, 1386)) + list(range(1655, 1661)) + list(range(2555, 2561))\n",
    "          + list(range(2575, 2581))+ [10000])\n",
    "\n",
    "mean_recall_random = []\n",
    "for k in top_k:\n",
    "    mean_recall_random.append(\n",
    "        (\n",
    "            random_df2.groupby(\"q_id\")[[\"is_answer\", \"q_id\"]].apply(\n",
    "                lambda x: x.head(k)[\"is_answer\"].sum() / q_answers[x[\"q_id\"].iloc[0]]\n",
    "            )\n",
    "        ).median()\n",
    "    )"
   ]
  },
  {
   "cell_type": "code",
   "execution_count": 53,
   "id": "feb0e8da-38cf-4fc6-9f96-d066371bfa58",
   "metadata": {},
   "outputs": [
    {
     "data": {
      "text/plain": [
       "44"
      ]
     },
     "execution_count": 53,
     "metadata": {},
     "output_type": "execute_result"
    }
   ],
   "source": [
    "len(list([1] + list(range(1275, 1281)) + list(range(1285, 1291)) + list(range(1295, 1301))\n",
    "    + list(range(1380, 1386)) + list(range(1655, 1661)) + list(range(2555, 2561))\n",
    "          + list(range(2575, 2581))+ [10000]))"
   ]
  },
  {
   "cell_type": "code",
   "execution_count": 57,
   "id": "6774dff5-15fe-4b8a-a82a-f17eeac22d03",
   "metadata": {
    "scrolled": true
   },
   "outputs": [
    {
     "data": {
      "image/png": "[encoded data removed]",
      "text/plain": [
       "<Figure size 640x480 with 1 Axes>"
      ]
     },
     "metadata": {},
     "output_type": "display_data"
    }
   ],
   "source": [
    "fig, ax1 = plt.subplots()\n",
    "\n",
    "color = \"tab:red\"\n",
    "ax1.set_xlabel(\"k\")\n",
    "ax1.set_ylabel(\"mean recall per question\")\n",
    "ax1.plot(top_k, mean_recall_random, color=color)\n",
    "\n",
    "fig.tight_layout()\n",
    "fig.savefig(\"baseline_recall.pdf\")\n",
    "plt.show()"
   ]
  },
  {
   "cell_type": "code",
   "execution_count": 56,
   "id": "ae310b69-0332-448c-bc16-9a338fd4a221",
   "metadata": {},
   "outputs": [
    {
     "data": {
      "text/plain": [
       "[(1, 0.0),\n",
       " (1275, 0.0),\n",
       " (1276, 0.0),\n",
       " (1277, 0.1111111111111111),\n",
       " (1278, 0.1111111111111111),\n",
       " (1279, 0.1111111111111111),\n",
       " (1280, 0.1111111111111111),\n",
       " (1285, 0.1111111111111111),\n",
       " (1286, 0.1111111111111111),\n",
       " (1287, 0.1111111111111111),\n",
       " (1288, 0.1111111111111111),\n",
       " (1289, 0.125),\n",
       " (1290, 0.125),\n",
       " (1295, 0.125),\n",
       " (1296, 0.125),\n",
       " (1297, 0.125),\n",
       " (1298, 0.125),\n",
       " (1299, 0.125),\n",
       " (1300, 0.14285714285714285),\n",
       " (1380, 0.14285714285714285),\n",
       " (1381, 0.14285714285714285),\n",
       " (1382, 0.14285714285714285),\n",
       " (1383, 0.14285714285714285),\n",
       " (1384, 0.16666666666666666),\n",
       " (1385, 0.16666666666666666),\n",
       " (1655, 0.16666666666666666),\n",
       " (1656, 0.16666666666666666),\n",
       " (1657, 0.16666666666666666),\n",
       " (1658, 0.2),\n",
       " (1659, 0.2),\n",
       " (1660, 0.2),\n",
       " (2555, 0.2),\n",
       " (2556, 0.2222222222222222),\n",
       " (2557, 0.2222222222222222),\n",
       " (2558, 0.2222222222222222),\n",
       " (2559, 0.2222222222222222),\n",
       " (2560, 0.2222222222222222),\n",
       " (2575, 0.2222222222222222),\n",
       " (2576, 0.25),\n",
       " (2577, 0.25),\n",
       " (2578, 0.25),\n",
       " (2579, 0.25),\n",
       " (2580, 0.25),\n",
       " (10000, 0.25)]"
      ]
     },
     "execution_count": 56,
     "metadata": {},
     "output_type": "execute_result"
    }
   ],
   "source": [
    "list(zip(top_k, mean_recall_random))"
   ]
  },
  {
   "cell_type": "code",
   "execution_count": null,
   "id": "39c46f82-53de-4d7a-9c43-4fe5fdfd8cba",
   "metadata": {},
   "outputs": [],
   "source": []
  },
  {
   "cell_type": "code",
   "execution_count": null,
   "id": "2f123a02-cd74-41a0-b140-83bbf8c37c23",
   "metadata": {},
   "outputs": [],
   "source": [
    "top_k = list(range(1, 10000))\n",
    "\n",
    "def calculate_top_k_p_all(k):\n",
    "    top_df = fair_dataset.groupby(\"q_id\", group_keys=False)[\n",
    "        [\"developed_country\", \"is_answer\", \"q_id\"]\n",
    "    ].apply(lambda x: x.head(k))\n",
    "    return top_df[\"is_answer\"].mean()\n",
    "\n",
    "\n",
    "with Pool(8) as p:\n",
    "    p_is_answer_all = p.map(calculate_top_k_p_all, top_k)"
   ]
  }
 ],
 "metadata": {
  "kernelspec": {
   "display_name": "Python 3 (ipykernel)",
   "language": "python",
   "name": "python3"
  },
  "language_info": {
   "codemirror_mode": {
    "name": "ipython",
    "version": 3
   },
   "file_extension": ".py",
   "mimetype": "text/x-python",
   "name": "python",
   "nbconvert_exporter": "python",
   "pygments_lexer": "ipython3",
   "version": "3.10.12"
  }
 },
 "nbformat": 4,
 "nbformat_minor": 5
}
