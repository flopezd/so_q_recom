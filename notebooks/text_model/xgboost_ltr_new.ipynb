{
 "cells": [
  {
   "cell_type": "code",
   "execution_count": 2,
   "id": "ff94e9cf-ba0a-42db-b446-e1207fc4191f",
   "metadata": {},
   "outputs": [
    {
     "name": "stderr",
     "output_type": "stream",
     "text": [
      "2023-09-25 08:08:50.570498: I tensorflow/core/platform/cpu_feature_guard.cc:182] This TensorFlow binary is optimized to use available CPU instructions in performance-critical operations.\n",
      "To enable the following instructions: AVX2 FMA, in other operations, rebuild TensorFlow with the appropriate compiler flags.\n"
     ]
    }
   ],
   "source": [
    "import numpy as np\n",
    "from xgboost import XGBRanker\n",
    "from sklearn.metrics import ndcg_score\n",
    "import matplotlib.pyplot as plt\n",
    "import psycopg2\n",
    "from gensim.models.doc2vec import Doc2Vec\n",
    "from gensim.utils import simple_preprocess\n",
    "import tensorflow as tf\n",
    "import tensorflow.keras.backend as K\n",
    "from faiss import read_index\n",
    "from psycopg2.extras import execute_values\n",
    "import pickle\n",
    "import pandas as pd\n",
    "from operator import itemgetter"
   ]
  },
  {
   "cell_type": "markdown",
   "id": "12a9d412-c991-4a30-962e-45cf0a8b6081",
   "metadata": {},
   "source": [
    "# Create dataset"
   ]
  },
  {
   "cell_type": "code",
   "execution_count": 3,
   "id": "3b32db32-a0bc-4560-a1f7-68859518c66c",
   "metadata": {},
   "outputs": [
    {
     "name": "stdout",
     "output_type": "stream",
     "text": [
      "WARNING:tensorflow:No training configuration found in save file, so the model was *not* compiled. Compile it manually.\n"
     ]
    }
   ],
   "source": [
    "connection = psycopg2.connect(\n",
    "    user=\"postgres\",\n",
    "    password=\"postgres\",\n",
    "    host=\"127.0.0.1\",\n",
    "    port=\"54320\",\n",
    "    database=\"stack_overflow\",\n",
    ")\n",
    "question_embeddings_model = Doc2Vec.load(\"python.doc\")\n",
    "question_transformer_model = tf.keras.models.load_model(\n",
    "    \"../../scripts/text_model/question_transformer_model\"\n",
    ")\n",
    "index = read_index(\"../../scripts/text_model/users_imp.index\")"
   ]
  },
  {
   "cell_type": "code",
   "execution_count": 4,
   "id": "d0febf2e-2898-45b9-a51d-26eae52e4276",
   "metadata": {},
   "outputs": [],
   "source": [
    "with open(\"../../scripts/text_model/user_embeddings.pickle\", \"rb\") as f:\n",
    "    user_embedding, user_encoder = pickle.load(f)"
   ]
  },
  {
   "cell_type": "code",
   "execution_count": 5,
   "id": "ad582008-cb8f-4e46-aa94-a27c24f97e28",
   "metadata": {},
   "outputs": [],
   "source": [
    "MIN_ANSWERS = 3\n",
    "with connection:\n",
    "    with connection.cursor() as cursor:\n",
    "        cursor.execute(\n",
    "            f\"\"\"select p.id, p.title, p.body_text\n",
    "        from posts_19 p\n",
    "        join posts_19_tags pt on pt.post_id=p.id\n",
    "        join posts_19 a on a.parent_id=p.id\n",
    "        join tags t on pt.tag_id=t.id\n",
    "        where p.body_text is not null\n",
    "        and p.creation_date >= '2022-01-01'\n",
    "        and t.tag_name = 'python'\n",
    "        group by p.id\n",
    "        HAVING count(*) > {MIN_ANSWERS}\n",
    "        limit 30000\"\"\"\n",
    "        )\n",
    "        posts = cursor.fetchall()"
   ]
  },
  {
   "cell_type": "code",
   "execution_count": 6,
   "id": "2076206b-1d19-4022-95ad-5505a4fd0b0a",
   "metadata": {},
   "outputs": [],
   "source": [
    "posts_vectors = []\n",
    "posts_ids = []\n",
    "for p_id, title, body in posts:\n",
    "    posts_ids.append(p_id)\n",
    "    post_text = body\n",
    "    if title is not None:\n",
    "        post_text = title + \"\\n\\n\" + body\n",
    "    posts_vectors.append(\n",
    "        question_embeddings_model.infer_vector(simple_preprocess(post_text))\n",
    "    )"
   ]
  },
  {
   "cell_type": "code",
   "execution_count": 7,
   "id": "e327d988-9f92-4b32-b38a-2de7f5b5af9e",
   "metadata": {},
   "outputs": [
    {
     "data": {
      "text/plain": [
       "(3973, 50)"
      ]
     },
     "execution_count": 7,
     "metadata": {},
     "output_type": "execute_result"
    }
   ],
   "source": [
    "posts_vectors = np.array(posts_vectors)\n",
    "posts_vectors.shape"
   ]
  },
  {
   "cell_type": "code",
   "execution_count": 8,
   "id": "cc8ae250-d55e-41bd-8653-1154745cdf3b",
   "metadata": {},
   "outputs": [
    {
     "name": "stdout",
     "output_type": "stream",
     "text": [
      "125/125 [==============================] - 0s 668us/step\n"
     ]
    },
    {
     "data": {
      "text/plain": [
       "(3973, 10)"
      ]
     },
     "execution_count": 8,
     "metadata": {},
     "output_type": "execute_result"
    }
   ],
   "source": [
    "questions_transformed = question_transformer_model.predict(posts_vectors)\n",
    "questions_transformed.shape"
   ]
  },
  {
   "cell_type": "code",
   "execution_count": 9,
   "id": "2068fdee-edad-4249-9c77-4c614861b778",
   "metadata": {},
   "outputs": [],
   "source": [
    "qid2emb = {pid: emb for pid, emb in zip(posts_ids, questions_transformed)}"
   ]
  },
  {
   "cell_type": "code",
   "execution_count": 10,
   "id": "8979a439-a5ad-4d2c-91b0-2f147bf42a2b",
   "metadata": {},
   "outputs": [],
   "source": [
    "distances, similar_questions = index.search(questions_transformed, 10000)\n",
    "features_df = pd.DataFrame(\n",
    "    list(zip(posts_ids, similar_questions)), columns=[\"q_id\", \"u_id\"]\n",
    ").explode(\"u_id\")\n",
    "features_df[\"u_id\"] = features_df[\"u_id\"].astype(int)"
   ]
  },
  {
   "cell_type": "code",
   "execution_count": 11,
   "id": "dfbcab34-1d29-479b-9230-9a0bddbf3656",
   "metadata": {},
   "outputs": [
    {
     "data": {
      "text/html": [
       "<div>\n",
       "<style scoped>\n",
       "    .dataframe tbody tr th:only-of-type {\n",
       "        vertical-align: middle;\n",
       "    }\n",
       "\n",
       "    .dataframe tbody tr th {\n",
       "        vertical-align: top;\n",
       "    }\n",
       "\n",
       "    .dataframe thead th {\n",
       "        text-align: right;\n",
       "    }\n",
       "</style>\n",
       "<table border=\"1\" class=\"dataframe\">\n",
       "  <thead>\n",
       "    <tr style=\"text-align: right;\">\n",
       "      <th></th>\n",
       "      <th>q_id</th>\n",
       "      <th>u_id</th>\n",
       "    </tr>\n",
       "  </thead>\n",
       "  <tbody>\n",
       "    <tr>\n",
       "      <th>0</th>\n",
       "      <td>70547027</td>\n",
       "      <td>15239951</td>\n",
       "    </tr>\n",
       "    <tr>\n",
       "      <th>0</th>\n",
       "      <td>70547027</td>\n",
       "      <td>15067558</td>\n",
       "    </tr>\n",
       "    <tr>\n",
       "      <th>0</th>\n",
       "      <td>70547027</td>\n",
       "      <td>9885747</td>\n",
       "    </tr>\n",
       "    <tr>\n",
       "      <th>0</th>\n",
       "      <td>70547027</td>\n",
       "      <td>9209546</td>\n",
       "    </tr>\n",
       "    <tr>\n",
       "      <th>0</th>\n",
       "      <td>70547027</td>\n",
       "      <td>12696163</td>\n",
       "    </tr>\n",
       "    <tr>\n",
       "      <th>...</th>\n",
       "      <td>...</td>\n",
       "      <td>...</td>\n",
       "    </tr>\n",
       "    <tr>\n",
       "      <th>3972</th>\n",
       "      <td>74681417</td>\n",
       "      <td>7145465</td>\n",
       "    </tr>\n",
       "    <tr>\n",
       "      <th>3972</th>\n",
       "      <td>74681417</td>\n",
       "      <td>8431101</td>\n",
       "    </tr>\n",
       "    <tr>\n",
       "      <th>3972</th>\n",
       "      <td>74681417</td>\n",
       "      <td>3218693</td>\n",
       "    </tr>\n",
       "    <tr>\n",
       "      <th>3972</th>\n",
       "      <td>74681417</td>\n",
       "      <td>4407260</td>\n",
       "    </tr>\n",
       "    <tr>\n",
       "      <th>3972</th>\n",
       "      <td>74681417</td>\n",
       "      <td>15438033</td>\n",
       "    </tr>\n",
       "  </tbody>\n",
       "</table>\n",
       "<p>39730000 rows × 2 columns</p>\n",
       "</div>"
      ],
      "text/plain": [
       "          q_id      u_id\n",
       "0     70547027  15239951\n",
       "0     70547027  15067558\n",
       "0     70547027   9885747\n",
       "0     70547027   9209546\n",
       "0     70547027  12696163\n",
       "...        ...       ...\n",
       "3972  74681417   7145465\n",
       "3972  74681417   8431101\n",
       "3972  74681417   3218693\n",
       "3972  74681417   4407260\n",
       "3972  74681417  15438033\n",
       "\n",
       "[39730000 rows x 2 columns]"
      ]
     },
     "execution_count": 11,
     "metadata": {},
     "output_type": "execute_result"
    }
   ],
   "source": [
    "features_df"
   ]
  },
  {
   "cell_type": "code",
   "execution_count": 12,
   "id": "da81ebf2-7c5b-4866-bc9b-125d6ce62c91",
   "metadata": {},
   "outputs": [],
   "source": [
    "batch_size = 1000000\n",
    "\n",
    "results = []\n",
    "with connection:\n",
    "    for batch_idx in range(len(features_df) // batch_size):\n",
    "        with connection.cursor() as cursor:\n",
    "            execute_values(\n",
    "                cursor,\n",
    "                \"\"\"select q_id, u_id, q_a.score\n",
    "                                    FROM (VALUES %s) AS base_questions (q_id, u_id)\n",
    "                                    JOIN posts_19 q_a ON q_a.parent_id = q_id\n",
    "                                    WHERE q_a.owner_user_id=u_id\"\"\",\n",
    "                features_df[batch_idx * batch_size : (batch_idx + 1) * batch_size][\n",
    "                    [\"q_id\", \"u_id\"]\n",
    "                ].values.tolist(),\n",
    "                page_size=batch_size,\n",
    "            )\n",
    "            results.extend(cursor.fetchall())\n",
    "dataset = pd.DataFrame(results, columns=[\"q_id\", \"u_id\", \"score\"])"
   ]
  },
  {
   "cell_type": "code",
   "execution_count": 13,
   "id": "d42d9b3a-6d0c-4d72-891a-aaf38b20f510",
   "metadata": {},
   "outputs": [
    {
     "name": "stdout",
     "output_type": "stream",
     "text": [
      "6411\n"
     ]
    },
    {
     "data": {
      "text/html": [
       "<div>\n",
       "<style scoped>\n",
       "    .dataframe tbody tr th:only-of-type {\n",
       "        vertical-align: middle;\n",
       "    }\n",
       "\n",
       "    .dataframe tbody tr th {\n",
       "        vertical-align: top;\n",
       "    }\n",
       "\n",
       "    .dataframe thead th {\n",
       "        text-align: right;\n",
       "    }\n",
       "</style>\n",
       "<table border=\"1\" class=\"dataframe\">\n",
       "  <thead>\n",
       "    <tr style=\"text-align: right;\">\n",
       "      <th></th>\n",
       "      <th>q_id</th>\n",
       "      <th>u_id</th>\n",
       "      <th>score</th>\n",
       "    </tr>\n",
       "  </thead>\n",
       "  <tbody>\n",
       "    <tr>\n",
       "      <th>0</th>\n",
       "      <td>70547027</td>\n",
       "      <td>901925</td>\n",
       "      <td>4</td>\n",
       "    </tr>\n",
       "    <tr>\n",
       "      <th>80</th>\n",
       "      <td>70547027</td>\n",
       "      <td>2988730</td>\n",
       "      <td>0</td>\n",
       "    </tr>\n",
       "    <tr>\n",
       "      <th>20</th>\n",
       "      <td>70547027</td>\n",
       "      <td>2988730</td>\n",
       "      <td>2</td>\n",
       "    </tr>\n",
       "    <tr>\n",
       "      <th>42</th>\n",
       "      <td>70547281</td>\n",
       "      <td>786593</td>\n",
       "      <td>0</td>\n",
       "    </tr>\n",
       "    <tr>\n",
       "      <th>7</th>\n",
       "      <td>70547281</td>\n",
       "      <td>14531062</td>\n",
       "      <td>0</td>\n",
       "    </tr>\n",
       "  </tbody>\n",
       "</table>\n",
       "</div>"
      ],
      "text/plain": [
       "        q_id      u_id  score\n",
       "0   70547027    901925      4\n",
       "80  70547027   2988730      0\n",
       "20  70547027   2988730      2\n",
       "42  70547281    786593      0\n",
       "7   70547281  14531062      0"
      ]
     },
     "execution_count": 13,
     "metadata": {},
     "output_type": "execute_result"
    }
   ],
   "source": [
    "dataset.sort_values(by=[\"q_id\"], inplace=True)\n",
    "print(len(dataset))\n",
    "dataset.head()"
   ]
  },
  {
   "cell_type": "code",
   "execution_count": 14,
   "id": "9f4029de-35a4-403e-93fa-6aac76faada9",
   "metadata": {},
   "outputs": [],
   "source": [
    "full_dataset = features_df.merge(dataset, on=[\"q_id\", \"u_id\"], how=\"left\")"
   ]
  },
  {
   "cell_type": "code",
   "execution_count": 15,
   "id": "51afc8d7-1595-40ff-b2c0-f7bf85d59696",
   "metadata": {},
   "outputs": [],
   "source": [
    "full_dataset[\"feats\"] = np.concatenate(\n",
    "    (\n",
    "        user_embedding[user_encoder.transform(full_dataset[\"u_id\"])],\n",
    "        np.array(itemgetter(*full_dataset[\"q_id\"])(qid2emb)),\n",
    "    ),\n",
    "    axis=1,\n",
    ").tolist()"
   ]
  },
  {
   "cell_type": "code",
   "execution_count": 16,
   "id": "51825a10-8e69-4835-8ce2-154d31000045",
   "metadata": {},
   "outputs": [],
   "source": [
    "scored_dataset = full_dataset[~full_dataset[\"score\"].isna()]\n",
    "eval_feats = np.array(scored_dataset[\"feats\"].values.tolist())\n",
    "eval_scores = scored_dataset[\"score\"]\n",
    "eval_q_ids = scored_dataset[\"q_id\"]"
   ]
  },
  {
   "cell_type": "markdown",
   "id": "efb55eb0-736d-4295-a371-e2bf35c07218",
   "metadata": {},
   "source": [
    "# Load LTR"
   ]
  },
  {
   "cell_type": "code",
   "execution_count": 17,
   "id": "9ec8c70c-0a35-4e14-901b-9462cf5857f4",
   "metadata": {},
   "outputs": [],
   "source": [
    "ranker = XGBRanker()\n",
    "ranker.load_model(\"xgboost_ranker\")"
   ]
  },
  {
   "cell_type": "code",
   "execution_count": 18,
   "id": "2edb130a-24d6-4608-9fcf-f30e314d4870",
   "metadata": {},
   "outputs": [],
   "source": [
    "predicted_scores = ranker.predict(eval_feats)\n",
    "\n",
    "grouped_predicted_scores = []\n",
    "grouped_eval_scores = []\n",
    "\n",
    "last_qid = eval_q_ids.values[0]\n",
    "last_predicted_scores = []\n",
    "last_eval_scores = []\n",
    "for pscore, escore, q_id in zip(predicted_scores, eval_scores, eval_q_ids):\n",
    "    if q_id == last_qid:\n",
    "        last_predicted_scores.append(pscore)\n",
    "        last_eval_scores.append(escore)\n",
    "    else:\n",
    "        grouped_predicted_scores.append(last_predicted_scores)\n",
    "        grouped_eval_scores.append(last_eval_scores)\n",
    "        last_predicted_scores = [pscore]\n",
    "        last_eval_scores = [escore]\n",
    "        last_qid = q_id\n",
    "\n",
    "grouped_predicted_scores.append(last_predicted_scores)\n",
    "grouped_eval_scores.append(last_eval_scores)"
   ]
  },
  {
   "cell_type": "code",
   "execution_count": 19,
   "id": "3cc16a3b-d3e9-45c7-a9ab-fe548f29222e",
   "metadata": {},
   "outputs": [
    {
     "data": {
      "text/plain": [
       "(0.8636684026292202, 2.46910203239068)"
      ]
     },
     "execution_count": 19,
     "metadata": {},
     "output_type": "execute_result"
    }
   ],
   "source": [
    "import warnings\n",
    "\n",
    "warnings.simplefilter(action=\"ignore\", category=FutureWarning)\n",
    "\n",
    "group_ncdg = []\n",
    "\n",
    "for p_scores, e_scores in zip(grouped_predicted_scores, grouped_eval_scores):\n",
    "    if len(p_scores) > 1:\n",
    "        group_ncdg.append(ndcg_score([p_scores], [e_scores]))\n",
    "\n",
    "group_ncdg = np.array(group_ncdg)\n",
    "group_ncdg.mean(), group_ncdg.std()"
   ]
  },
  {
   "cell_type": "markdown",
   "id": "0aac98bc-85ee-4ec7-bb0e-5384763a4a1e",
   "metadata": {},
   "source": [
    "# Evaluate recall"
   ]
  },
  {
   "cell_type": "code",
   "execution_count": 20,
   "id": "faa7da19-3c7f-4f1f-b536-010af217acf4",
   "metadata": {},
   "outputs": [],
   "source": [
    "full_dataset[\"pscore\"] = ranker.predict(np.array(full_dataset[\"feats\"].values.tolist()))"
   ]
  },
  {
   "cell_type": "code",
   "execution_count": 35,
   "id": "3f04bb7f-77af-4963-9ec7-54f05a7e1cac",
   "metadata": {},
   "outputs": [
    {
     "data": {
      "text/plain": [
       "6411"
      ]
     },
     "execution_count": 35,
     "metadata": {},
     "output_type": "execute_result"
    }
   ],
   "source": [
    "full_dataset[\"is_answer\"] = (~full_dataset[\"score\"].isna()).astype(int)\n",
    "full_dataset[\"is_answer\"].sum()"
   ]
  },
  {
   "cell_type": "code",
   "execution_count": 22,
   "id": "cece9732-6aa0-4570-bab8-94f144b15c22",
   "metadata": {},
   "outputs": [],
   "source": [
    "full_dataset = full_dataset.sort_values(by=[\"q_id\", \"pscore\"], ascending=False)"
   ]
  },
  {
   "cell_type": "code",
   "execution_count": 23,
   "id": "f54d1b57-eb07-4ee6-aef4-7d794ee67386",
   "metadata": {},
   "outputs": [
    {
     "data": {
      "text/html": [
       "<div>\n",
       "<style scoped>\n",
       "    .dataframe tbody tr th:only-of-type {\n",
       "        vertical-align: middle;\n",
       "    }\n",
       "\n",
       "    .dataframe tbody tr th {\n",
       "        vertical-align: top;\n",
       "    }\n",
       "\n",
       "    .dataframe thead th {\n",
       "        text-align: right;\n",
       "    }\n",
       "</style>\n",
       "<table border=\"1\" class=\"dataframe\">\n",
       "  <thead>\n",
       "    <tr style=\"text-align: right;\">\n",
       "      <th></th>\n",
       "      <th>q_id</th>\n",
       "      <th>u_id</th>\n",
       "      <th>score</th>\n",
       "      <th>feats</th>\n",
       "      <th>pscore</th>\n",
       "      <th>is_answer</th>\n",
       "    </tr>\n",
       "  </thead>\n",
       "  <tbody>\n",
       "    <tr>\n",
       "      <th>39721925</th>\n",
       "      <td>74681417</td>\n",
       "      <td>100297</td>\n",
       "      <td>NaN</td>\n",
       "      <td>[0.3636975884437561, -0.17862990498542786, 0.3...</td>\n",
       "      <td>2.263848</td>\n",
       "      <td>0</td>\n",
       "    </tr>\n",
       "    <tr>\n",
       "      <th>39729612</th>\n",
       "      <td>74681417</td>\n",
       "      <td>142637</td>\n",
       "      <td>NaN</td>\n",
       "      <td>[0.3586329221725464, -0.17869994044303894, 0.3...</td>\n",
       "      <td>2.089400</td>\n",
       "      <td>0</td>\n",
       "    </tr>\n",
       "    <tr>\n",
       "      <th>39720152</th>\n",
       "      <td>74681417</td>\n",
       "      <td>3874623</td>\n",
       "      <td>NaN</td>\n",
       "      <td>[0.36579445004463196, -0.17795097827911377, 0....</td>\n",
       "      <td>2.024328</td>\n",
       "      <td>0</td>\n",
       "    </tr>\n",
       "    <tr>\n",
       "      <th>39720127</th>\n",
       "      <td>74681417</td>\n",
       "      <td>5923139</td>\n",
       "      <td>NaN</td>\n",
       "      <td>[0.365764319896698, -0.17794328927993774, 0.36...</td>\n",
       "      <td>1.902712</td>\n",
       "      <td>0</td>\n",
       "    </tr>\n",
       "    <tr>\n",
       "      <th>39728376</th>\n",
       "      <td>74681417</td>\n",
       "      <td>7574575</td>\n",
       "      <td>NaN</td>\n",
       "      <td>[0.3638848662376404, -0.17976972460746765, 0.3...</td>\n",
       "      <td>1.897878</td>\n",
       "      <td>0</td>\n",
       "    </tr>\n",
       "    <tr>\n",
       "      <th>39720281</th>\n",
       "      <td>74681417</td>\n",
       "      <td>2390182</td>\n",
       "      <td>NaN</td>\n",
       "      <td>[0.3642725944519043, -0.17835688591003418, 0.3...</td>\n",
       "      <td>1.885602</td>\n",
       "      <td>0</td>\n",
       "    </tr>\n",
       "    <tr>\n",
       "      <th>39729133</th>\n",
       "      <td>74681417</td>\n",
       "      <td>325565</td>\n",
       "      <td>NaN</td>\n",
       "      <td>[0.36622604727745056, -0.1847113072872162, 0.3...</td>\n",
       "      <td>1.845899</td>\n",
       "      <td>0</td>\n",
       "    </tr>\n",
       "    <tr>\n",
       "      <th>39720159</th>\n",
       "      <td>74681417</td>\n",
       "      <td>699305</td>\n",
       "      <td>NaN</td>\n",
       "      <td>[0.36504852771759033, -0.17801634967327118, 0....</td>\n",
       "      <td>1.834514</td>\n",
       "      <td>0</td>\n",
       "    </tr>\n",
       "    <tr>\n",
       "      <th>39721374</th>\n",
       "      <td>74681417</td>\n",
       "      <td>95810</td>\n",
       "      <td>NaN</td>\n",
       "      <td>[0.3644449710845947, -0.17890414595603943, 0.3...</td>\n",
       "      <td>1.815443</td>\n",
       "      <td>0</td>\n",
       "    </tr>\n",
       "    <tr>\n",
       "      <th>39728688</th>\n",
       "      <td>74681417</td>\n",
       "      <td>14101475</td>\n",
       "      <td>NaN</td>\n",
       "      <td>[0.362300306558609, -0.17869533598423004, 0.36...</td>\n",
       "      <td>1.798422</td>\n",
       "      <td>0</td>\n",
       "    </tr>\n",
       "  </tbody>\n",
       "</table>\n",
       "</div>"
      ],
      "text/plain": [
       "              q_id      u_id  score  \\\n",
       "39721925  74681417    100297    NaN   \n",
       "39729612  74681417    142637    NaN   \n",
       "39720152  74681417   3874623    NaN   \n",
       "39720127  74681417   5923139    NaN   \n",
       "39728376  74681417   7574575    NaN   \n",
       "39720281  74681417   2390182    NaN   \n",
       "39729133  74681417    325565    NaN   \n",
       "39720159  74681417    699305    NaN   \n",
       "39721374  74681417     95810    NaN   \n",
       "39728688  74681417  14101475    NaN   \n",
       "\n",
       "                                                      feats    pscore  \\\n",
       "39721925  [0.3636975884437561, -0.17862990498542786, 0.3...  2.263848   \n",
       "39729612  [0.3586329221725464, -0.17869994044303894, 0.3...  2.089400   \n",
       "39720152  [0.36579445004463196, -0.17795097827911377, 0....  2.024328   \n",
       "39720127  [0.365764319896698, -0.17794328927993774, 0.36...  1.902712   \n",
       "39728376  [0.3638848662376404, -0.17976972460746765, 0.3...  1.897878   \n",
       "39720281  [0.3642725944519043, -0.17835688591003418, 0.3...  1.885602   \n",
       "39729133  [0.36622604727745056, -0.1847113072872162, 0.3...  1.845899   \n",
       "39720159  [0.36504852771759033, -0.17801634967327118, 0....  1.834514   \n",
       "39721374  [0.3644449710845947, -0.17890414595603943, 0.3...  1.815443   \n",
       "39728688  [0.362300306558609, -0.17869533598423004, 0.36...  1.798422   \n",
       "\n",
       "          is_answer  \n",
       "39721925          0  \n",
       "39729612          0  \n",
       "39720152          0  \n",
       "39720127          0  \n",
       "39728376          0  \n",
       "39720281          0  \n",
       "39729133          0  \n",
       "39720159          0  \n",
       "39721374          0  \n",
       "39728688          0  "
      ]
     },
     "execution_count": 23,
     "metadata": {},
     "output_type": "execute_result"
    }
   ],
   "source": [
    "full_dataset.head(10)"
   ]
  },
  {
   "cell_type": "code",
   "execution_count": 24,
   "id": "d102ae9c-4b00-4059-8846-3178e40c42f2",
   "metadata": {},
   "outputs": [],
   "source": [
    "total_questions = len(full_dataset[\"q_id\"].unique())"
   ]
  },
  {
   "cell_type": "code",
   "execution_count": 25,
   "id": "e4bf9b20-7fba-4156-a993-318dab31f00c",
   "metadata": {},
   "outputs": [],
   "source": [
    "top_k = [20, 100, 1000, 4000, 7000, 10000]\n",
    "mean_retrieved_documents = []\n",
    "for k in top_k:\n",
    "    mean_retrieved_documents.append(\n",
    "        full_dataset.groupby(\"q_id\")\n",
    "        .apply(lambda x: x.head(k)[\"is_answer\"].sum())\n",
    "        .median()\n",
    "    )"
   ]
  },
  {
   "cell_type": "code",
   "execution_count": 26,
   "id": "d416f486-d1fe-46c3-b76b-0750bc24c781",
   "metadata": {},
   "outputs": [
    {
     "data": {
      "text/plain": [
       "[0.0, 0.0, 0.0, 1.0, 1.0, 2.0]"
      ]
     },
     "execution_count": 26,
     "metadata": {},
     "output_type": "execute_result"
    }
   ],
   "source": [
    "mean_retrieved_documents"
   ]
  },
  {
   "cell_type": "code",
   "execution_count": 27,
   "id": "6ac73cbf-90dc-4e90-bfc8-c8e176fbe522",
   "metadata": {},
   "outputs": [],
   "source": [
    "with connection:\n",
    "    with connection.cursor() as cursor:\n",
    "        cursor.execute(\n",
    "            \"\"\"select q_a.parent_id, count(*) as answers\n",
    "                            FROM posts_19 q_a\n",
    "                            where q_a.parent_id in %s\n",
    "                            group by q_a.parent_id\"\"\",\n",
    "            (tuple(posts_ids),),\n",
    "        )\n",
    "        q_answers = cursor.fetchall()"
   ]
  },
  {
   "cell_type": "code",
   "execution_count": 28,
   "id": "a6cbcdf0-c488-415c-baee-a5b91ca64b50",
   "metadata": {},
   "outputs": [],
   "source": [
    "q_answers = {q_id: answers for q_id, answers in q_answers}"
   ]
  },
  {
   "cell_type": "code",
   "execution_count": 36,
   "id": "8e698e3a-d0bc-4854-a10a-f228c38bf3cc",
   "metadata": {},
   "outputs": [],
   "source": [
    "top_k = [20, 100, 1000, 4000, 7000, 10000]\n",
    "mean_recall = []\n",
    "for k in top_k:\n",
    "    mean_recall.append(\n",
    "        (\n",
    "            full_dataset.groupby(\"q_id\")[[\"is_answer\", \"q_id\"]].apply(\n",
    "                lambda x: x.head(k)[\"is_answer\"].sum() / q_answers[x[\"q_id\"].iloc[0]]\n",
    "            )\n",
    "        ).mean()\n",
    "    )"
   ]
  },
  {
   "cell_type": "code",
   "execution_count": 37,
   "id": "fe4e3a02-fbe7-4c49-b2b5-c8b368cc1f1f",
   "metadata": {
    "scrolled": true
   },
   "outputs": [
    {
     "data": {
      "image/png": "[encoded data removed]",
      "text/plain": [
       "<Figure size 640x480 with 1 Axes>"
      ]
     },
     "metadata": {},
     "output_type": "display_data"
    }
   ],
   "source": [
    "fig, ax1 = plt.subplots()\n",
    "\n",
    "color = \"tab:red\"\n",
    "ax1.set_xlabel(\"k\")\n",
    "ax1.set_ylabel(\"mean recall per question\")\n",
    "ax1.plot(top_k, mean_recall, color=color)\n",
    "\n",
    "fig.tight_layout()\n",
    "plt.show()"
   ]
  },
  {
   "cell_type": "code",
   "execution_count": null,
   "id": "804291ff-1dd3-42c8-ab08-bd9e316b89bd",
   "metadata": {},
   "outputs": [],
   "source": []
  },
  {
   "cell_type": "code",
   "execution_count": null,
   "id": "083bfa73-2b6c-413c-9783-d606ca11ea3b",
   "metadata": {},
   "outputs": [],
   "source": []
  },
  {
   "cell_type": "code",
   "execution_count": null,
   "id": "b3f38983-94cc-41af-ae36-85e3f19eb76d",
   "metadata": {},
   "outputs": [],
   "source": [
    "get dev country with uid and idx"
   ]
  },
  {
   "cell_type": "code",
   "execution_count": 41,
   "id": "6cb6bff2-e9ba-433b-85f2-585ddbc3698a",
   "metadata": {},
   "outputs": [
    {
     "data": {
      "text/html": [
       "<div>\n",
       "<style scoped>\n",
       "    .dataframe tbody tr th:only-of-type {\n",
       "        vertical-align: middle;\n",
       "    }\n",
       "\n",
       "    .dataframe tbody tr th {\n",
       "        vertical-align: top;\n",
       "    }\n",
       "\n",
       "    .dataframe thead th {\n",
       "        text-align: right;\n",
       "    }\n",
       "</style>\n",
       "<table border=\"1\" class=\"dataframe\">\n",
       "  <thead>\n",
       "    <tr style=\"text-align: right;\">\n",
       "      <th></th>\n",
       "      <th>user_id</th>\n",
       "      <th>country</th>\n",
       "      <th>value</th>\n",
       "      <th>developed_country</th>\n",
       "    </tr>\n",
       "  </thead>\n",
       "  <tbody>\n",
       "    <tr>\n",
       "      <th>0</th>\n",
       "      <td>22545</td>\n",
       "      <td>new zealand</td>\n",
       "      <td>0.937</td>\n",
       "      <td>1</td>\n",
       "    </tr>\n",
       "    <tr>\n",
       "      <th>1</th>\n",
       "      <td>22550</td>\n",
       "      <td>india</td>\n",
       "      <td>0.633</td>\n",
       "      <td>0</td>\n",
       "    </tr>\n",
       "    <tr>\n",
       "      <th>2</th>\n",
       "      <td>22554</td>\n",
       "      <td>india</td>\n",
       "      <td>0.633</td>\n",
       "      <td>0</td>\n",
       "    </tr>\n",
       "    <tr>\n",
       "      <th>3</th>\n",
       "      <td>22562</td>\n",
       "      <td>germany</td>\n",
       "      <td>0.942</td>\n",
       "      <td>1</td>\n",
       "    </tr>\n",
       "    <tr>\n",
       "      <th>4</th>\n",
       "      <td>22564</td>\n",
       "      <td>ireland</td>\n",
       "      <td>0.945</td>\n",
       "      <td>1</td>\n",
       "    </tr>\n",
       "  </tbody>\n",
       "</table>\n",
       "</div>"
      ],
      "text/plain": [
       "   user_id      country  value  developed_country\n",
       "0    22545  new zealand  0.937                  1\n",
       "1    22550        india  0.633                  0\n",
       "2    22554        india  0.633                  0\n",
       "3    22562      germany  0.942                  1\n",
       "4    22564      ireland  0.945                  1"
      ]
     },
     "execution_count": 41,
     "metadata": {},
     "output_type": "execute_result"
    }
   ],
   "source": [
    "users = pd.read_csv(\"users_dev_country.csv\")\n",
    "users.head()"
   ]
  },
  {
   "cell_type": "code",
   "execution_count": 42,
   "id": "88aaa798-e010-4fa4-b901-912df3cc3c80",
   "metadata": {},
   "outputs": [
    {
     "data": {
      "text/html": [
       "<div>\n",
       "<style scoped>\n",
       "    .dataframe tbody tr th:only-of-type {\n",
       "        vertical-align: middle;\n",
       "    }\n",
       "\n",
       "    .dataframe tbody tr th {\n",
       "        vertical-align: top;\n",
       "    }\n",
       "\n",
       "    .dataframe thead th {\n",
       "        text-align: right;\n",
       "    }\n",
       "</style>\n",
       "<table border=\"1\" class=\"dataframe\">\n",
       "  <thead>\n",
       "    <tr style=\"text-align: right;\">\n",
       "      <th></th>\n",
       "      <th>q_id</th>\n",
       "      <th>u_id</th>\n",
       "      <th>score</th>\n",
       "      <th>feats</th>\n",
       "      <th>pscore</th>\n",
       "      <th>is_answer</th>\n",
       "      <th>developed_country</th>\n",
       "    </tr>\n",
       "  </thead>\n",
       "  <tbody>\n",
       "    <tr>\n",
       "      <th>39721925</th>\n",
       "      <td>74681417</td>\n",
       "      <td>100297</td>\n",
       "      <td>NaN</td>\n",
       "      <td>[0.3636975884437561, -0.17862990498542786, 0.3...</td>\n",
       "      <td>2.263848</td>\n",
       "      <td>0</td>\n",
       "      <td>1.0</td>\n",
       "    </tr>\n",
       "    <tr>\n",
       "      <th>39729612</th>\n",
       "      <td>74681417</td>\n",
       "      <td>142637</td>\n",
       "      <td>NaN</td>\n",
       "      <td>[0.3586329221725464, -0.17869994044303894, 0.3...</td>\n",
       "      <td>2.089400</td>\n",
       "      <td>0</td>\n",
       "      <td>NaN</td>\n",
       "    </tr>\n",
       "    <tr>\n",
       "      <th>39720152</th>\n",
       "      <td>74681417</td>\n",
       "      <td>3874623</td>\n",
       "      <td>NaN</td>\n",
       "      <td>[0.36579445004463196, -0.17795097827911377, 0....</td>\n",
       "      <td>2.024328</td>\n",
       "      <td>0</td>\n",
       "      <td>1.0</td>\n",
       "    </tr>\n",
       "    <tr>\n",
       "      <th>39720127</th>\n",
       "      <td>74681417</td>\n",
       "      <td>5923139</td>\n",
       "      <td>NaN</td>\n",
       "      <td>[0.365764319896698, -0.17794328927993774, 0.36...</td>\n",
       "      <td>1.902712</td>\n",
       "      <td>0</td>\n",
       "      <td>1.0</td>\n",
       "    </tr>\n",
       "    <tr>\n",
       "      <th>39728376</th>\n",
       "      <td>74681417</td>\n",
       "      <td>7574575</td>\n",
       "      <td>NaN</td>\n",
       "      <td>[0.3638848662376404, -0.17976972460746765, 0.3...</td>\n",
       "      <td>1.897878</td>\n",
       "      <td>0</td>\n",
       "      <td>0.0</td>\n",
       "    </tr>\n",
       "  </tbody>\n",
       "</table>\n",
       "</div>"
      ],
      "text/plain": [
       "              q_id     u_id  score  \\\n",
       "39721925  74681417   100297    NaN   \n",
       "39729612  74681417   142637    NaN   \n",
       "39720152  74681417  3874623    NaN   \n",
       "39720127  74681417  5923139    NaN   \n",
       "39728376  74681417  7574575    NaN   \n",
       "\n",
       "                                                      feats    pscore  \\\n",
       "39721925  [0.3636975884437561, -0.17862990498542786, 0.3...  2.263848   \n",
       "39729612  [0.3586329221725464, -0.17869994044303894, 0.3...  2.089400   \n",
       "39720152  [0.36579445004463196, -0.17795097827911377, 0....  2.024328   \n",
       "39720127  [0.365764319896698, -0.17794328927993774, 0.36...  1.902712   \n",
       "39728376  [0.3638848662376404, -0.17976972460746765, 0.3...  1.897878   \n",
       "\n",
       "          is_answer  developed_country  \n",
       "39721925          0                1.0  \n",
       "39729612          0                NaN  \n",
       "39720152          0                1.0  \n",
       "39720127          0                1.0  \n",
       "39728376          0                0.0  "
      ]
     },
     "execution_count": 42,
     "metadata": {},
     "output_type": "execute_result"
    }
   ],
   "source": [
    "full_dataset = full_dataset.join(\n",
    "    users[[\"user_id\", \"developed_country\"]].set_index(\"user_id\"), on=\"u_id\"\n",
    ")\n",
    "full_dataset.head()"
   ]
  },
  {
   "cell_type": "code",
   "execution_count": 47,
   "id": "439dde78-1cee-48f6-9ccf-42f9c5a39e35",
   "metadata": {},
   "outputs": [
    {
     "data": {
      "text/html": [
       "<div>\n",
       "<style scoped>\n",
       "    .dataframe tbody tr th:only-of-type {\n",
       "        vertical-align: middle;\n",
       "    }\n",
       "\n",
       "    .dataframe tbody tr th {\n",
       "        vertical-align: top;\n",
       "    }\n",
       "\n",
       "    .dataframe thead th {\n",
       "        text-align: right;\n",
       "    }\n",
       "</style>\n",
       "<table border=\"1\" class=\"dataframe\">\n",
       "  <thead>\n",
       "    <tr style=\"text-align: right;\">\n",
       "      <th></th>\n",
       "      <th>q_id</th>\n",
       "      <th>u_id</th>\n",
       "      <th>score</th>\n",
       "      <th>feats</th>\n",
       "      <th>pscore</th>\n",
       "      <th>is_answer</th>\n",
       "      <th>developed_country</th>\n",
       "      <th>idx</th>\n",
       "    </tr>\n",
       "  </thead>\n",
       "  <tbody>\n",
       "    <tr>\n",
       "      <th>39721925</th>\n",
       "      <td>74681417</td>\n",
       "      <td>100297</td>\n",
       "      <td>NaN</td>\n",
       "      <td>[0.3636975884437561, -0.17862990498542786, 0.3...</td>\n",
       "      <td>2.263848</td>\n",
       "      <td>0</td>\n",
       "      <td>1.0</td>\n",
       "      <td>0</td>\n",
       "    </tr>\n",
       "    <tr>\n",
       "      <th>39729612</th>\n",
       "      <td>74681417</td>\n",
       "      <td>142637</td>\n",
       "      <td>NaN</td>\n",
       "      <td>[0.3586329221725464, -0.17869994044303894, 0.3...</td>\n",
       "      <td>2.089400</td>\n",
       "      <td>0</td>\n",
       "      <td>NaN</td>\n",
       "      <td>1</td>\n",
       "    </tr>\n",
       "    <tr>\n",
       "      <th>39720152</th>\n",
       "      <td>74681417</td>\n",
       "      <td>3874623</td>\n",
       "      <td>NaN</td>\n",
       "      <td>[0.36579445004463196, -0.17795097827911377, 0....</td>\n",
       "      <td>2.024328</td>\n",
       "      <td>0</td>\n",
       "      <td>1.0</td>\n",
       "      <td>2</td>\n",
       "    </tr>\n",
       "    <tr>\n",
       "      <th>39720127</th>\n",
       "      <td>74681417</td>\n",
       "      <td>5923139</td>\n",
       "      <td>NaN</td>\n",
       "      <td>[0.365764319896698, -0.17794328927993774, 0.36...</td>\n",
       "      <td>1.902712</td>\n",
       "      <td>0</td>\n",
       "      <td>1.0</td>\n",
       "      <td>3</td>\n",
       "    </tr>\n",
       "    <tr>\n",
       "      <th>39728376</th>\n",
       "      <td>74681417</td>\n",
       "      <td>7574575</td>\n",
       "      <td>NaN</td>\n",
       "      <td>[0.3638848662376404, -0.17976972460746765, 0.3...</td>\n",
       "      <td>1.897878</td>\n",
       "      <td>0</td>\n",
       "      <td>0.0</td>\n",
       "      <td>4</td>\n",
       "    </tr>\n",
       "  </tbody>\n",
       "</table>\n",
       "</div>"
      ],
      "text/plain": [
       "              q_id     u_id  score  \\\n",
       "39721925  74681417   100297    NaN   \n",
       "39729612  74681417   142637    NaN   \n",
       "39720152  74681417  3874623    NaN   \n",
       "39720127  74681417  5923139    NaN   \n",
       "39728376  74681417  7574575    NaN   \n",
       "\n",
       "                                                      feats    pscore  \\\n",
       "39721925  [0.3636975884437561, -0.17862990498542786, 0.3...  2.263848   \n",
       "39729612  [0.3586329221725464, -0.17869994044303894, 0.3...  2.089400   \n",
       "39720152  [0.36579445004463196, -0.17795097827911377, 0....  2.024328   \n",
       "39720127  [0.365764319896698, -0.17794328927993774, 0.36...  1.902712   \n",
       "39728376  [0.3638848662376404, -0.17976972460746765, 0.3...  1.897878   \n",
       "\n",
       "          is_answer  developed_country  idx  \n",
       "39721925          0                1.0    0  \n",
       "39729612          0                NaN    1  \n",
       "39720152          0                1.0    2  \n",
       "39720127          0                1.0    3  \n",
       "39728376          0                0.0    4  "
      ]
     },
     "execution_count": 47,
     "metadata": {},
     "output_type": "execute_result"
    }
   ],
   "source": [
    "full_dataset[\"idx\"] = full_dataset.groupby(\"q_id\")[\"q_id\"].cumcount()\n",
    "full_dataset.head()"
   ]
  },
  {
   "cell_type": "code",
   "execution_count": 48,
   "id": "b7408a0d-c387-4021-b747-37b8b27963b9",
   "metadata": {},
   "outputs": [],
   "source": [
    "top_k = range(0, 100, 8)\n",
    "\n",
    "dev_dataset = full_dataset[full_dataset[\"developed_country\"] == 1]\n",
    "no_dev_dataset = full_dataset[full_dataset[\"developed_country\"] == 0]\n",
    "\n",
    "mean_recall = []\n",
    "dev_mean_recall = []\n",
    "no_dev_mean_recall = []\n",
    "for k in top_k:\n",
    "    mean_recall.append(\n",
    "        full_dataset[[\"is_answer\", \"q_id\", \"idx\"]]\n",
    "        .groupby(\"q_id\")\n",
    "        .apply(\n",
    "            lambda x: x[x[\"idx\"] <= k][\"is_answer\"].sum() / q_answers[x[\"q_id\"].iloc[0]]\n",
    "        )\n",
    "        .mean()\n",
    "    )\n",
    "    dev_mean_recall.append(\n",
    "        dev_dataset[[\"is_answer\", \"q_id\", \"idx\"]]\n",
    "        .groupby(\"q_id\")\n",
    "        .apply(\n",
    "            lambda x: x[x[\"idx\"] <= k][\"is_answer\"].sum() / q_answers[x[\"q_id\"].iloc[0]]\n",
    "        )\n",
    "        .mean()\n",
    "    )\n",
    "    no_dev_mean_recall.append(\n",
    "        no_dev_dataset[[\"is_answer\", \"q_id\", \"idx\"]]\n",
    "        .groupby(\"q_id\")\n",
    "        .apply(\n",
    "            lambda x: x[x[\"idx\"] <= k][\"is_answer\"].sum() / q_answers[x[\"q_id\"].iloc[0]]\n",
    "        )\n",
    "        .mean()\n",
    "    )"
   ]
  },
  {
   "cell_type": "code",
   "execution_count": 49,
   "id": "80f1acd9-2829-468e-8c2a-ae422dd59731",
   "metadata": {},
   "outputs": [
    {
     "data": {
      "text/plain": [
       "(39730071, 12312158, 13603954)"
      ]
     },
     "execution_count": 49,
     "metadata": {},
     "output_type": "execute_result"
    }
   ],
   "source": [
    "len(full_dataset), len(dev_dataset), len(no_dev_dataset)"
   ]
  },
  {
   "cell_type": "code",
   "execution_count": 51,
   "id": "3a38785d-6114-4e04-85eb-9b9e3869c4d9",
   "metadata": {},
   "outputs": [
    {
     "data": {
      "text/plain": [
       "<matplotlib.legend.Legend at 0x7f45d79aae30>"
      ]
     },
     "execution_count": 51,
     "metadata": {},
     "output_type": "execute_result"
    },
    {
     "data": {
      "image/png": "[encoded data removed]",
      "text/plain": [
       "<Figure size 640x480 with 1 Axes>"
      ]
     },
     "metadata": {},
     "output_type": "display_data"
    }
   ],
   "source": [
    "fig, ax1 = plt.subplots()\n",
    "\n",
    "color = \"tab:red\"\n",
    "ax1.set_xlabel(\"k\")\n",
    "ax1.set_ylabel(\"mean recall per question\")\n",
    "ax1.plot(top_k, mean_recall, color=\"tab:brown\", label=\"all\")\n",
    "ax1.plot(top_k, dev_mean_recall, color=color, label=\"dev country\")\n",
    "ax1.plot(top_k, no_dev_mean_recall, color=\"tab:blue\", label=\"not dev country\")\n",
    "\n",
    "fig.tight_layout()\n",
    "fig.legend()"
   ]
  },
  {
   "cell_type": "code",
   "execution_count": null,
   "id": "63909a89-a775-4293-b81c-4f72efc0f0e6",
   "metadata": {},
   "outputs": [],
   "source": []
  },
  {
   "cell_type": "code",
   "execution_count": 38,
   "id": "1a26cbe8-9507-407c-a4bf-319704ee962d",
   "metadata": {},
   "outputs": [],
   "source": [
    "top_k = [20, 100, 1000, 4000, 7000, 10000]\n",
    "median_recall = []\n",
    "for k in top_k:\n",
    "    median_recall.append(\n",
    "        (\n",
    "            full_dataset.groupby(\"q_id\")[[\"is_answer\", \"q_id\"]].apply(\n",
    "                lambda x: x.head(k)[\"is_answer\"].sum() / q_answers[x[\"q_id\"].iloc[0]]\n",
    "            )\n",
    "        ).median()\n",
    "    )"
   ]
  },
  {
   "cell_type": "code",
   "execution_count": 39,
   "id": "86fcd93e-50fe-42d5-ae5c-1a260224912e",
   "metadata": {},
   "outputs": [
    {
     "data": {
      "image/png": "[encoded data removed]",
      "text/plain": [
       "<Figure size 640x480 with 1 Axes>"
      ]
     },
     "metadata": {},
     "output_type": "display_data"
    }
   ],
   "source": [
    "fig, ax1 = plt.subplots()\n",
    "\n",
    "color = \"tab:red\"\n",
    "ax1.set_xlabel(\"k\")\n",
    "ax1.set_ylabel(\"median recall per question\")\n",
    "ax1.plot(top_k, median_recall, color=color)\n",
    "\n",
    "fig.tight_layout()\n",
    "plt.show()"
   ]
  },
  {
   "cell_type": "code",
   "execution_count": 33,
   "id": "f3c20298-2687-435c-a09e-28e0ebbf0bae",
   "metadata": {},
   "outputs": [
    {
     "data": {
      "text/plain": [
       "4.446010571356657"
      ]
     },
     "execution_count": 33,
     "metadata": {},
     "output_type": "execute_result"
    }
   ],
   "source": [
    "np.array(list(q_answers.values())).mean()"
   ]
  },
  {
   "cell_type": "code",
   "execution_count": null,
   "id": "056aadfa-ca84-4a3f-8489-f27bdbcc38ef",
   "metadata": {},
   "outputs": [],
   "source": []
  },
  {
   "cell_type": "markdown",
   "id": "5b40e86a-22ba-4748-bafe-ba19e1177642",
   "metadata": {},
   "source": [
    "armar el end2end con los q nuevos, evaluar el recall, ncdg a p candidatos"
   ]
  },
  {
   "cell_type": "code",
   "execution_count": null,
   "id": "ce16d480-0dd8-4061-9769-4c1a89f12594",
   "metadata": {},
   "outputs": [],
   "source": [
    "\n",
    "aramar el baseline con random"
   ]
  },
  {
   "cell_type": "code",
   "execution_count": null,
   "id": "b62d4b50-0980-482b-bea2-60de2accfe92",
   "metadata": {},
   "outputs": [],
   "source": [
    "median +iqr gapplot "
   ]
  },
  {
   "cell_type": "code",
   "execution_count": null,
   "id": "d5a94fe2-a29e-4164-89bc-f7ea621a517c",
   "metadata": {},
   "outputs": [],
   "source": []
  },
  {
   "cell_type": "code",
   "execution_count": null,
   "id": "80acd4db-c12d-44ec-89e3-e4a37dfe9342",
   "metadata": {},
   "outputs": [],
   "source": []
  },
  {
   "cell_type": "code",
   "execution_count": null,
   "id": "e41e3bee-a5e1-49da-86bf-d58c20b05f1a",
   "metadata": {},
   "outputs": [],
   "source": []
  },
  {
   "cell_type": "code",
   "execution_count": null,
   "id": "0df01014-6a02-4a2c-8a6e-91db6dc6c193",
   "metadata": {},
   "outputs": [],
   "source": []
  },
  {
   "cell_type": "code",
   "execution_count": null,
   "id": "afd7d297-eeca-4b06-9cd2-5572e85bbef6",
   "metadata": {},
   "outputs": [],
   "source": []
  },
  {
   "cell_type": "markdown",
   "id": "2a27efce-ec8a-4d0d-ba3a-2246dc131733",
   "metadata": {},
   "source": [
    "# Random candidates"
   ]
  },
  {
   "cell_type": "code",
   "execution_count": 9,
   "id": "8c122835-9c10-4066-bbd5-014992465634",
   "metadata": {},
   "outputs": [],
   "source": [
    "with connection:\n",
    "    with connection.cursor() as cursor:\n",
    "        cursor.execute(f\"\"\"select u.id\n",
    "        from users u\"\"\") --># respuesto preguntas de python\n",
    "        users = cursor.fetchall()\n",
    "\n",
    "# u.id, sum(respuest.score)\n",
    "# from\n",
    "# \tusers\n",
    "# \trespuestas por users\n",
    "# \tpreguntas de respuestas\n",
    "# where\n",
    "# \tpreguntas de python\n",
    "# group by u.id\n",
    "# order by 2 desc\n",
    "# limit N"
   ]
  },
  {
   "cell_type": "code",
   "execution_count": 10,
   "id": "93bd88fa-1c43-464d-93ac-14b246c1a381",
   "metadata": {},
   "outputs": [
    {
     "data": {
      "text/plain": [
       "19307021"
      ]
     },
     "execution_count": 10,
     "metadata": {},
     "output_type": "execute_result"
    }
   ],
   "source": [
    "len(users)"
   ]
  },
  {
   "cell_type": "code",
   "execution_count": 15,
   "id": "2067451b-c3d5-4cd5-8230-661251c0dc78",
   "metadata": {},
   "outputs": [],
   "source": [
    "u_ids = np.random.choice(\n",
    "    np.array(users).flatten(), size=len(posts_ids) * 10000, replace=True\n",
    ")"
   ]
  },
  {
   "cell_type": "code",
   "execution_count": 24,
   "id": "efb764ec-ad7a-4b3e-9895-6b96cf3c09a2",
   "metadata": {},
   "outputs": [
    {
     "data": {
      "text/html": [
       "<div>\n",
       "<style scoped>\n",
       "    .dataframe tbody tr th:only-of-type {\n",
       "        vertical-align: middle;\n",
       "    }\n",
       "\n",
       "    .dataframe tbody tr th {\n",
       "        vertical-align: top;\n",
       "    }\n",
       "\n",
       "    .dataframe thead th {\n",
       "        text-align: right;\n",
       "    }\n",
       "</style>\n",
       "<table border=\"1\" class=\"dataframe\">\n",
       "  <thead>\n",
       "    <tr style=\"text-align: right;\">\n",
       "      <th></th>\n",
       "      <th>q_id</th>\n",
       "      <th>u_id</th>\n",
       "    </tr>\n",
       "  </thead>\n",
       "  <tbody>\n",
       "    <tr>\n",
       "      <th>0</th>\n",
       "      <td>70547027</td>\n",
       "      <td>7762538</td>\n",
       "    </tr>\n",
       "    <tr>\n",
       "      <th>1</th>\n",
       "      <td>70547281</td>\n",
       "      <td>16095929</td>\n",
       "    </tr>\n",
       "    <tr>\n",
       "      <th>2</th>\n",
       "      <td>70547426</td>\n",
       "      <td>18799584</td>\n",
       "    </tr>\n",
       "    <tr>\n",
       "      <th>3</th>\n",
       "      <td>70549423</td>\n",
       "      <td>8793329</td>\n",
       "    </tr>\n",
       "    <tr>\n",
       "      <th>4</th>\n",
       "      <td>70550513</td>\n",
       "      <td>11930912</td>\n",
       "    </tr>\n",
       "  </tbody>\n",
       "</table>\n",
       "</div>"
      ],
      "text/plain": [
       "       q_id      u_id\n",
       "0  70547027   7762538\n",
       "1  70547281  16095929\n",
       "2  70547426  18799584\n",
       "3  70549423   8793329\n",
       "4  70550513  11930912"
      ]
     },
     "execution_count": 24,
     "metadata": {},
     "output_type": "execute_result"
    }
   ],
   "source": [
    "random_df = pd.DataFrame(list(zip(posts_ids * 10000, u_ids)), columns=[\"q_id\", \"u_id\"])\n",
    "random_df.head()"
   ]
  },
  {
   "cell_type": "markdown",
   "id": "f52170c5-256a-47fd-b0e6-46875e030361",
   "metadata": {},
   "source": [
    "# Evaluate recall"
   ]
  },
  {
   "cell_type": "code",
   "execution_count": 31,
   "id": "c34d11a2-55da-43dc-b9b8-ee7e958a9fcd",
   "metadata": {},
   "outputs": [],
   "source": [
    "results = []\n",
    "\n",
    "with connection:\n",
    "    for batch_idx in range(len(random_df) // batch_size):\n",
    "        with connection.cursor() as cursor:\n",
    "            execute_values(\n",
    "                cursor,\n",
    "                \"\"\"select q_id, u_id, q_a.score\n",
    "                                    FROM (VALUES %s) AS base_questions (q_id, u_id)\n",
    "                                    JOIN posts_19 q_a ON q_a.parent_id = q_id\n",
    "                                    WHERE q_a.owner_user_id=u_id\"\"\",\n",
    "                random_df[batch_idx * batch_size : (batch_idx + 1) * batch_size][\n",
    "                    [\"q_id\", \"u_id\"]\n",
    "                ].values.tolist(),\n",
    "                page_size=batch_size,\n",
    "            )\n",
    "            results.extend(cursor.fetchall())\n",
    "random_df_scores = pd.DataFrame(results, columns=[\"q_id\", \"u_id\", \"score\"])"
   ]
  },
  {
   "cell_type": "code",
   "execution_count": 32,
   "id": "7a1d6f8e-9c4e-43b3-a1d0-53b85a2daa6f",
   "metadata": {},
   "outputs": [
    {
     "data": {
      "text/html": [
       "<div>\n",
       "<style scoped>\n",
       "    .dataframe tbody tr th:only-of-type {\n",
       "        vertical-align: middle;\n",
       "    }\n",
       "\n",
       "    .dataframe tbody tr th {\n",
       "        vertical-align: top;\n",
       "    }\n",
       "\n",
       "    .dataframe thead th {\n",
       "        text-align: right;\n",
       "    }\n",
       "</style>\n",
       "<table border=\"1\" class=\"dataframe\">\n",
       "  <thead>\n",
       "    <tr style=\"text-align: right;\">\n",
       "      <th></th>\n",
       "      <th>q_id</th>\n",
       "      <th>u_id</th>\n",
       "      <th>score</th>\n",
       "      <th>is_answer</th>\n",
       "    </tr>\n",
       "  </thead>\n",
       "  <tbody>\n",
       "    <tr>\n",
       "      <th>0</th>\n",
       "      <td>70547027</td>\n",
       "      <td>7762538</td>\n",
       "      <td>NaN</td>\n",
       "      <td>0</td>\n",
       "    </tr>\n",
       "    <tr>\n",
       "      <th>1</th>\n",
       "      <td>70547281</td>\n",
       "      <td>16095929</td>\n",
       "      <td>NaN</td>\n",
       "      <td>0</td>\n",
       "    </tr>\n",
       "    <tr>\n",
       "      <th>2</th>\n",
       "      <td>70547426</td>\n",
       "      <td>18799584</td>\n",
       "      <td>NaN</td>\n",
       "      <td>0</td>\n",
       "    </tr>\n",
       "    <tr>\n",
       "      <th>3</th>\n",
       "      <td>70549423</td>\n",
       "      <td>8793329</td>\n",
       "      <td>NaN</td>\n",
       "      <td>0</td>\n",
       "    </tr>\n",
       "    <tr>\n",
       "      <th>4</th>\n",
       "      <td>70550513</td>\n",
       "      <td>11930912</td>\n",
       "      <td>NaN</td>\n",
       "      <td>0</td>\n",
       "    </tr>\n",
       "  </tbody>\n",
       "</table>\n",
       "</div>"
      ],
      "text/plain": [
       "       q_id      u_id  score  is_answer\n",
       "0  70547027   7762538    NaN          0\n",
       "1  70547281  16095929    NaN          0\n",
       "2  70547426  18799584    NaN          0\n",
       "3  70549423   8793329    NaN          0\n",
       "4  70550513  11930912    NaN          0"
      ]
     },
     "execution_count": 32,
     "metadata": {},
     "output_type": "execute_result"
    }
   ],
   "source": [
    "random_df = random_df.merge(random_df_scores, on=[\"q_id\", \"u_id\"], how=\"left\")\n",
    "random_df[\"is_answer\"] = (~random_df[\"score\"].isna()).astype(int)\n",
    "random_df.head()"
   ]
  },
  {
   "cell_type": "code",
   "execution_count": 33,
   "id": "e841af05-6178-44af-9168-13672fdbd79c",
   "metadata": {},
   "outputs": [],
   "source": [
    "top_k = [20, 100, 1000, 4000, 7000, 10000]\n",
    "mean_recall_random = []\n",
    "for k in top_k:\n",
    "    mean_recall_random.append(\n",
    "        (\n",
    "            random_df.groupby(\"q_id\")[[\"is_answer\", \"q_id\"]].apply(\n",
    "                lambda x: x.head(k)[\"is_answer\"].sum() / q_answers[x[\"q_id\"].iloc[0]]\n",
    "            )\n",
    "        ).median()\n",
    "    )"
   ]
  },
  {
   "cell_type": "code",
   "execution_count": 34,
   "id": "feb0e8da-38cf-4fc6-9f96-d066371bfa58",
   "metadata": {},
   "outputs": [
    {
     "data": {
      "text/plain": [
       "[0.0, 0.0, 0.0, 0.0, 0.0, 0.0]"
      ]
     },
     "execution_count": 34,
     "metadata": {},
     "output_type": "execute_result"
    }
   ],
   "source": [
    "mean_recall_random"
   ]
  },
  {
   "cell_type": "code",
   "execution_count": 35,
   "id": "6774dff5-15fe-4b8a-a82a-f17eeac22d03",
   "metadata": {
    "scrolled": true
   },
   "outputs": [
    {
     "data": {
      "image/png": "[encoded data removed]",
      "text/plain": [
       "<Figure size 640x480 with 1 Axes>"
      ]
     },
     "metadata": {},
     "output_type": "display_data"
    }
   ],
   "source": [
    "fig, ax1 = plt.subplots()\n",
    "\n",
    "color = \"tab:red\"\n",
    "ax1.set_xlabel(\"k\")\n",
    "ax1.set_ylabel(\"mean recall per question\")\n",
    "ax1.plot(top_k, mean_recall_random, color=color)\n",
    "\n",
    "fig.tight_layout()\n",
    "plt.show()"
   ]
  },
  {
   "cell_type": "code",
   "execution_count": null,
   "id": "532a259d-6f07-4cbf-ab93-ca6bd356069d",
   "metadata": {},
   "outputs": [],
   "source": []
  }
 ],
 "metadata": {
  "kernelspec": {
   "display_name": "Python 3 (ipykernel)",
   "language": "python",
   "name": "python3"
  },
  "language_info": {
   "codemirror_mode": {
    "name": "ipython",
    "version": 3
   },
   "file_extension": ".py",
   "mimetype": "text/x-python",
   "name": "python",
   "nbconvert_exporter": "python",
   "pygments_lexer": "ipython3",
   "version": "3.10.12"
  }
 },
 "nbformat": 4,
 "nbformat_minor": 5
}
