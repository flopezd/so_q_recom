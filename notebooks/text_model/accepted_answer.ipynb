{
 "cells": [
  {
   "cell_type": "code",
   "execution_count": 97,
   "metadata": {},
   "outputs": [],
   "source": [
    "import psycopg2\n",
    "import pandas as pd\n",
    "import numpy as np\n",
    "import seaborn as sns\n",
    "import matplotlib.pyplot as plt\n",
    "from gensim.models.doc2vec import Doc2Vec\n",
    "import random\n",
    "from gensim.utils import simple_preprocess\n",
    "from multiprocessing import Pool\n",
    "plt.rcParams['figure.figsize'] = [10, 6]"
   ]
  },
  {
   "attachments": {},
   "cell_type": "markdown",
   "metadata": {},
   "source": [
    "# Traer las preguntas similares"
   ]
  },
  {
   "cell_type": "code",
   "execution_count": 3,
   "metadata": {},
   "outputs": [],
   "source": [
    "connection = psycopg2.connect(user=\"postgres\", password=\"postgres\", host=\"127.0.0.1\", port=\"63333\", database=\"stack_overflow\")"
   ]
  },
  {
   "cell_type": "code",
   "execution_count": 12,
   "metadata": {},
   "outputs": [
    {
     "data": {
      "text/plain": [
       "[(466969810,)]"
      ]
     },
     "execution_count": 12,
     "metadata": {},
     "output_type": "execute_result"
    }
   ],
   "source": [
    "with connection:\n",
    "    with connection.cursor() as cursor:\n",
    "        cursor.execute(\"\"\"select count(*)\n",
    "        FROM posts_19 q\n",
    "        JOIN posts_19_tags pt on pt.post_id=q.id\n",
    "        JOIN tags t on pt.tag_id=t.id\n",
    "        JOIN posts_19 q_aa ON q_aa.id = q.accepted_answer_id\n",
    "        JOIN posts_19 sa ON sa.owner_user_id=q_aa.owner_user_id\n",
    "        WHERE q.body_text is not null\n",
    "        and sa.parent_id != q.id \n",
    "        and q.post_type_id=1 \n",
    "        and q.creation_date < '2022-01-01'\n",
    "        and t.tag_name = 'python'\n",
    "        and q_aa.post_type_id=2 \n",
    "        and sa.post_type_id=2\"\"\")\n",
    "        posts = cursor.fetchall()\n",
    "posts"
   ]
  },
  {
   "cell_type": "code",
   "execution_count": 113,
   "metadata": {},
   "outputs": [],
   "source": [
    "with connection:\n",
    "    with connection.cursor() as cursor:\n",
    "        cursor.execute(\"\"\"select q.id, sa.parent_id, q_aa.owner_user_id, q.body_text, q.title, sq.body_text, sq.title\n",
    "        FROM posts_19 q\n",
    "        JOIN posts_19_tags pt on pt.post_id=q.id\n",
    "        JOIN tags t on pt.tag_id=t.id\n",
    "        JOIN posts_19 q_aa ON q_aa.id = q.accepted_answer_id\n",
    "        JOIN posts_19 sa ON sa.owner_user_id=q_aa.owner_user_id\n",
    "        JOIN posts_19 sq ON sq.id=sa.parent_id\n",
    "        WHERE q.body_text is not null\n",
    "        and sa.parent_id != q.id \n",
    "        and q.post_type_id=1 \n",
    "        and q.creation_date < '2022-01-01'\n",
    "        and t.tag_name = 'python'\n",
    "        and q_aa.post_type_id=2 \n",
    "        and sa.post_type_id=2\n",
    "        limit 100000\"\"\")\n",
    "        posts = pd.DataFrame(cursor.fetchall(), columns=[\"q_id\", \"sq_id\", \"user_id\", \"q_text\", \"q_title\", \"sq_text\", \"sq_title\"])"
   ]
  },
  {
   "cell_type": "code",
   "execution_count": 116,
   "metadata": {},
   "outputs": [
    {
     "data": {
      "text/html": [
       "<div>\n",
       "<style scoped>\n",
       "    .dataframe tbody tr th:only-of-type {\n",
       "        vertical-align: middle;\n",
       "    }\n",
       "\n",
       "    .dataframe tbody tr th {\n",
       "        vertical-align: top;\n",
       "    }\n",
       "\n",
       "    .dataframe thead th {\n",
       "        text-align: right;\n",
       "    }\n",
       "</style>\n",
       "<table border=\"1\" class=\"dataframe\">\n",
       "  <thead>\n",
       "    <tr style=\"text-align: right;\">\n",
       "      <th></th>\n",
       "      <th>q_id</th>\n",
       "      <th>sq_id</th>\n",
       "      <th>user_id</th>\n",
       "      <th>q_text</th>\n",
       "      <th>q_title</th>\n",
       "      <th>sq_text</th>\n",
       "      <th>sq_title</th>\n",
       "    </tr>\n",
       "  </thead>\n",
       "  <tbody>\n",
       "    <tr>\n",
       "      <th>0</th>\n",
       "      <td>466345</td>\n",
       "      <td>331367</td>\n",
       "      <td>41165</td>\n",
       "      <td>How do I convert the following string to a dat...</td>\n",
       "      <td>Convert string \"Jun 1 2005 1:33PM\" into datetime</td>\n",
       "      <td>Say I have 2 tables: Customers and Orders. A C...</td>\n",
       "      <td>SQL Statement Help - Select latest Order for e...</td>\n",
       "    </tr>\n",
       "    <tr>\n",
       "      <th>1</th>\n",
       "      <td>466611</td>\n",
       "      <td>4869770</td>\n",
       "      <td>17017</td>\n",
       "      <td>When using Python's super() to do method chain...</td>\n",
       "      <td>Why do I have to specify my own class when usi...</td>\n",
       "      <td>Why is Python assignment a statement rather th...</td>\n",
       "      <td>Why does Python assignment not return a value?</td>\n",
       "    </tr>\n",
       "    <tr>\n",
       "      <th>2</th>\n",
       "      <td>466611</td>\n",
       "      <td>5853183</td>\n",
       "      <td>17017</td>\n",
       "      <td>When using Python's super() to do method chain...</td>\n",
       "      <td>Why do I have to specify my own class when usi...</td>\n",
       "      <td>Can I specify the name I want for the many to ...</td>\n",
       "      <td>Django admin many to many table name</td>\n",
       "    </tr>\n",
       "    <tr>\n",
       "      <th>3</th>\n",
       "      <td>467920</td>\n",
       "      <td>354883</td>\n",
       "      <td>15154</td>\n",
       "      <td>I'm speaking of this module:\\nhttp://docs.pyth...</td>\n",
       "      <td>In what situation should the built-in 'operato...</td>\n",
       "      <td>The canonical way to return multiple values in...</td>\n",
       "      <td>Alternatives for returning multiple values fro...</td>\n",
       "    </tr>\n",
       "    <tr>\n",
       "      <th>4</th>\n",
       "      <td>467920</td>\n",
       "      <td>48905129</td>\n",
       "      <td>15154</td>\n",
       "      <td>I'm speaking of this module:\\nhttp://docs.pyth...</td>\n",
       "      <td>In what situation should the built-in 'operato...</td>\n",
       "      <td>In PowerShell (5.1.14393.1944), when I have a ...</td>\n",
       "      <td>ForEach-Object loop running when variable valu...</td>\n",
       "    </tr>\n",
       "  </tbody>\n",
       "</table>\n",
       "</div>"
      ],
      "text/plain": [
       "     q_id     sq_id  user_id  \\\n",
       "0  466345    331367    41165   \n",
       "1  466611   4869770    17017   \n",
       "2  466611   5853183    17017   \n",
       "3  467920    354883    15154   \n",
       "4  467920  48905129    15154   \n",
       "\n",
       "                                              q_text  \\\n",
       "0  How do I convert the following string to a dat...   \n",
       "1  When using Python's super() to do method chain...   \n",
       "2  When using Python's super() to do method chain...   \n",
       "3  I'm speaking of this module:\\nhttp://docs.pyth...   \n",
       "4  I'm speaking of this module:\\nhttp://docs.pyth...   \n",
       "\n",
       "                                             q_title  \\\n",
       "0   Convert string \"Jun 1 2005 1:33PM\" into datetime   \n",
       "1  Why do I have to specify my own class when usi...   \n",
       "2  Why do I have to specify my own class when usi...   \n",
       "3  In what situation should the built-in 'operato...   \n",
       "4  In what situation should the built-in 'operato...   \n",
       "\n",
       "                                             sq_text  \\\n",
       "0  Say I have 2 tables: Customers and Orders. A C...   \n",
       "1  Why is Python assignment a statement rather th...   \n",
       "2  Can I specify the name I want for the many to ...   \n",
       "3  The canonical way to return multiple values in...   \n",
       "4  In PowerShell (5.1.14393.1944), when I have a ...   \n",
       "\n",
       "                                            sq_title  \n",
       "0  SQL Statement Help - Select latest Order for e...  \n",
       "1     Why does Python assignment not return a value?  \n",
       "2               Django admin many to many table name  \n",
       "3  Alternatives for returning multiple values fro...  \n",
       "4  ForEach-Object loop running when variable valu...  "
      ]
     },
     "execution_count": 116,
     "metadata": {},
     "output_type": "execute_result"
    }
   ],
   "source": [
    "posts.head()"
   ]
  },
  {
   "attachments": {},
   "cell_type": "markdown",
   "metadata": {},
   "source": [
    "### Calcular distancias"
   ]
  },
  {
   "cell_type": "code",
   "execution_count": 117,
   "metadata": {},
   "outputs": [],
   "source": [
    "\n",
    "model = Doc2Vec.load(\"python.doc\")"
   ]
  },
  {
   "cell_type": "code",
   "execution_count": 119,
   "metadata": {},
   "outputs": [],
   "source": [
    "def get_vector(body, title):\n",
    "    post_text = body\n",
    "    if title is not None:\n",
    "        post_text = title + \"\\n\\n\" + body\n",
    "    return model.infer_vector(simple_preprocess(post_text))\n",
    "\n",
    "def calculate_distance(similar_questions):\n",
    "    q_body, q_title, sq_body, sq_title = similar_questions\n",
    "    return np.linalg.norm(get_vector(q_body, q_title)-get_vector(sq_body, sq_title))"
   ]
  },
  {
   "cell_type": "code",
   "execution_count": 120,
   "metadata": {},
   "outputs": [],
   "source": [
    "with Pool(8) as p:\n",
    "    distances = p.map(calculate_distance,  posts[[\"q_text\", \"q_title\", \"sq_text\", \"sq_title\"]].values.tolist())"
   ]
  },
  {
   "cell_type": "code",
   "execution_count": 121,
   "metadata": {},
   "outputs": [
    {
     "data": {
      "text/plain": [
       "(12.447124, 2.2806447)"
      ]
     },
     "execution_count": 121,
     "metadata": {},
     "output_type": "execute_result"
    }
   ],
   "source": [
    "distances = np.array(distances)\n",
    "distances.mean(), distances.std()"
   ]
  },
  {
   "cell_type": "code",
   "execution_count": 122,
   "metadata": {},
   "outputs": [
    {
     "data": {
      "text/plain": [
       "<seaborn.axisgrid.FacetGrid at 0x7fbb7df604f0>"
      ]
     },
     "execution_count": 122,
     "metadata": {},
     "output_type": "execute_result"
    },
    {
     "data": {
      "image/png": "[encoded data removed]",
      "text/plain": [
       "<Figure size 500x500 with 1 Axes>"
      ]
     },
     "metadata": {},
     "output_type": "display_data"
    }
   ],
   "source": [
    "sns.displot(distances)"
   ]
  },
  {
   "cell_type": "code",
   "execution_count": 123,
   "metadata": {},
   "outputs": [
    {
     "data": {
      "text/plain": [
       "100000"
      ]
     },
     "execution_count": 123,
     "metadata": {},
     "output_type": "execute_result"
    }
   ],
   "source": [
    "len(distances)"
   ]
  },
  {
   "attachments": {},
   "cell_type": "markdown",
   "metadata": {},
   "source": [
    "### Preguntas al azar"
   ]
  },
  {
   "cell_type": "code",
   "execution_count": 124,
   "metadata": {},
   "outputs": [],
   "source": [
    "sample_size = 100000\n",
    "samples = random.sample(range(len(model.dv)), sample_size*2)"
   ]
  },
  {
   "cell_type": "code",
   "execution_count": 125,
   "metadata": {},
   "outputs": [],
   "source": [
    "random_distances = []\n",
    "for q_v, sq_v in zip(samples[:sample_size], samples[sample_size:]):\n",
    "    random_distances.append(np.linalg.norm(q_v- sq_v))"
   ]
  },
  {
   "cell_type": "code",
   "execution_count": 126,
   "metadata": {},
   "outputs": [
    {
     "data": {
      "text/plain": [
       "(299076.99576, 210837.81289256737)"
      ]
     },
     "execution_count": 126,
     "metadata": {},
     "output_type": "execute_result"
    }
   ],
   "source": [
    "random_distances = np.array(random_distances)\n",
    "random_distances.mean(), random_distances.std()"
   ]
  },
  {
   "cell_type": "code",
   "execution_count": 130,
   "metadata": {},
   "outputs": [
    {
     "data": {
      "text/plain": [
       "array([536149.,  87731.,  57596.,  20649., 524146., 619645., 147527.,\n",
       "       154989., 514818., 400050.])"
      ]
     },
     "execution_count": 130,
     "metadata": {},
     "output_type": "execute_result"
    }
   ],
   "source": [
    "random_distances[:10]"
   ]
  },
  {
   "cell_type": "code",
   "execution_count": 127,
   "metadata": {},
   "outputs": [
    {
     "data": {
      "text/plain": [
       "<seaborn.axisgrid.FacetGrid at 0x7fbb7e36ba00>"
      ]
     },
     "execution_count": 127,
     "metadata": {},
     "output_type": "execute_result"
    },
    {
     "data": {
      "image/png": "[encoded data removed]",
      "text/plain": [
       "<Figure size 500x500 with 1 Axes>"
      ]
     },
     "metadata": {},
     "output_type": "display_data"
    }
   ],
   "source": [
    "sns.displot(random_distances)"
   ]
  },
  {
   "cell_type": "code",
   "execution_count": 128,
   "metadata": {},
   "outputs": [
    {
     "data": {
      "text/plain": [
       "100000"
      ]
     },
     "execution_count": 128,
     "metadata": {},
     "output_type": "execute_result"
    }
   ],
   "source": [
    "len(random_distances)"
   ]
  },
  {
   "attachments": {},
   "cell_type": "markdown",
   "metadata": {},
   "source": [
    "### Answers per user with accepted answers"
   ]
  },
  {
   "cell_type": "code",
   "execution_count": 38,
   "metadata": {},
   "outputs": [
    {
     "data": {
      "text/html": [
       "<div>\n",
       "<style scoped>\n",
       "    .dataframe tbody tr th:only-of-type {\n",
       "        vertical-align: middle;\n",
       "    }\n",
       "\n",
       "    .dataframe tbody tr th {\n",
       "        vertical-align: top;\n",
       "    }\n",
       "\n",
       "    .dataframe thead th {\n",
       "        text-align: right;\n",
       "    }\n",
       "</style>\n",
       "<table border=\"1\" class=\"dataframe\">\n",
       "  <thead>\n",
       "    <tr style=\"text-align: right;\">\n",
       "      <th></th>\n",
       "      <th>u_id</th>\n",
       "      <th>total_answers</th>\n",
       "    </tr>\n",
       "  </thead>\n",
       "  <tbody>\n",
       "    <tr>\n",
       "      <th>0</th>\n",
       "      <td>57</td>\n",
       "      <td>2</td>\n",
       "    </tr>\n",
       "    <tr>\n",
       "      <th>1</th>\n",
       "      <td>86</td>\n",
       "      <td>3</td>\n",
       "    </tr>\n",
       "    <tr>\n",
       "      <th>2</th>\n",
       "      <td>95</td>\n",
       "      <td>1</td>\n",
       "    </tr>\n",
       "    <tr>\n",
       "      <th>3</th>\n",
       "      <td>99</td>\n",
       "      <td>3</td>\n",
       "    </tr>\n",
       "    <tr>\n",
       "      <th>4</th>\n",
       "      <td>115</td>\n",
       "      <td>2</td>\n",
       "    </tr>\n",
       "  </tbody>\n",
       "</table>\n",
       "</div>"
      ],
      "text/plain": [
       "   u_id  total_answers\n",
       "0    57              2\n",
       "1    86              3\n",
       "2    95              1\n",
       "3    99              3\n",
       "4   115              2"
      ]
     },
     "execution_count": 38,
     "metadata": {},
     "output_type": "execute_result"
    }
   ],
   "source": [
    "with connection:\n",
    "    with connection.cursor() as cursor:\n",
    "        cursor.execute(\"\"\"\n",
    "                select ans.owner_user_id, count(*)\n",
    "                from posts_19 ans\n",
    "                join posts_19 p on ans.parent_id = p.id\n",
    "                JOIN posts_19_tags pt on pt.post_id=p.id\n",
    "                JOIN tags t on pt.tag_id=t.id\n",
    "                where ans.post_type_id=2\n",
    "                and p.creation_date < '2022-01-01'\n",
    "                and t.tag_name = 'python'\n",
    "                and ans.owner_user_id in (\n",
    "                        select distinct(a.owner_user_id)\n",
    "                        from posts_19 a\n",
    "                        join posts_19 p on a.id = p.accepted_answer_id\n",
    "                        JOIN posts_19_tags pt on pt.post_id=p.id\n",
    "                        JOIN tags t on pt.tag_id=t.id\n",
    "                        where a.post_type_id=2\n",
    "                        and p.post_type_id=1\n",
    "                        and p.creation_date < '2022-01-01'\n",
    "                        and t.tag_name = 'python'\n",
    "                )\n",
    "                group by ans.owner_user_id\"\"\")\n",
    "        ans_per_user = pd.DataFrame(cursor.fetchall(), columns=[\"u_id\", \"total_answers\"])\n",
    "ans_per_user.head()"
   ]
  },
  {
   "cell_type": "code",
   "execution_count": 8,
   "metadata": {},
   "outputs": [
    {
     "data": {
      "text/plain": [
       "count    80118.000000\n",
       "mean        10.736039\n",
       "std         75.700940\n",
       "min          1.000000\n",
       "25%          1.000000\n",
       "50%          2.000000\n",
       "75%          6.000000\n",
       "max      11681.000000\n",
       "Name: total_answers, dtype: float64"
      ]
     },
     "execution_count": 8,
     "metadata": {},
     "output_type": "execute_result"
    }
   ],
   "source": [
    "ans_per_user[\"total_answers\"].describe()"
   ]
  },
  {
   "cell_type": "code",
   "execution_count": 129,
   "metadata": {},
   "outputs": [
    {
     "data": {
      "text/plain": [
       "2.0"
      ]
     },
     "execution_count": 129,
     "metadata": {},
     "output_type": "execute_result"
    }
   ],
   "source": [
    "ans_per_user[\"total_answers\"].median()"
   ]
  },
  {
   "cell_type": "code",
   "execution_count": 23,
   "metadata": {},
   "outputs": [
    {
     "data": {
      "text/plain": [
       "16244    11681\n",
       "38374     5163\n",
       "21962     4811\n",
       "47722     4088\n",
       "27921     3249\n",
       "11241     3237\n",
       "32490     3070\n",
       "893       2908\n",
       "7468      2888\n",
       "6260      2540\n",
       "Name: total_answers, dtype: int64"
      ]
     },
     "execution_count": 23,
     "metadata": {},
     "output_type": "execute_result"
    }
   ],
   "source": [
    "ans_per_user[\"total_answers\"].sort_values(ascending=False)[:10]"
   ]
  },
  {
   "cell_type": "code",
   "execution_count": 37,
   "metadata": {},
   "outputs": [
    {
     "data": {
      "text/plain": [
       "<Axes: xlabel='total_answers', ylabel='Count'>"
      ]
     },
     "execution_count": 37,
     "metadata": {},
     "output_type": "execute_result"
    },
    {
     "data": {
      "image/png": "[encoded data removed]",
      "text/plain": [
       "<Figure size 1000x600 with 1 Axes>"
      ]
     },
     "metadata": {},
     "output_type": "display_data"
    }
   ],
   "source": [
    "sns.histplot(ans_per_user[ans_per_user[\"total_answers\"]<50][\"total_answers\"])"
   ]
  },
  {
   "attachments": {},
   "cell_type": "markdown",
   "metadata": {},
   "source": [
    "### How many questions with accepted answer are there?"
   ]
  },
  {
   "cell_type": "code",
   "execution_count": 14,
   "metadata": {},
   "outputs": [
    {
     "data": {
      "text/plain": [
       "[(446528,)]"
      ]
     },
     "execution_count": 14,
     "metadata": {},
     "output_type": "execute_result"
    }
   ],
   "source": [
    "with connection:\n",
    "    with connection.cursor() as cursor:\n",
    "        cursor.execute(\"\"\"\n",
    "                select count(*)\n",
    "                from posts_19 p\n",
    "                JOIN posts_19_tags pt on pt.post_id=p.id\n",
    "                JOIN tags t on pt.tag_id=t.id\n",
    "                where p.post_type_id=1\n",
    "                and p.creation_date < '2022-01-01'\n",
    "                and t.tag_name = 'python'\n",
    "                and p.accepted_answer_id is not null\"\"\")\n",
    "        total_aa = cursor.fetchall()\n",
    "total_aa"
   ]
  },
  {
   "cell_type": "code",
   "execution_count": null,
   "metadata": {},
   "outputs": [],
   "source": []
  }
 ],
 "metadata": {
  "kernelspec": {
   "display_name": "so_q_recom",
   "language": "python",
   "name": "python3"
  },
  "language_info": {
   "codemirror_mode": {
    "name": "ipython",
    "version": 3
   },
   "file_extension": ".py",
   "mimetype": "text/x-python",
   "name": "python",
   "nbconvert_exporter": "python",
   "pygments_lexer": "ipython3",
   "version": "3.10.12"
  },
  "orig_nbformat": 4,
  "vscode": {
   "interpreter": {
    "hash": "b43ea873d3b23250d814848f917f736af3c8e8fe5a9c8650bc801acb99dd31c9"
   }
  }
 },
 "nbformat": 4,
 "nbformat_minor": 2
}
