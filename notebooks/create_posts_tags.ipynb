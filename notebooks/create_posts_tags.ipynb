{
 "cells": [
  {
   "cell_type": "code",
   "execution_count": 1,
   "metadata": {},
   "outputs": [],
   "source": [
    "import psycopg2"
   ]
  },
  {
   "attachments": {},
   "cell_type": "markdown",
   "metadata": {},
   "source": [
    "# Revision de la tabla de tags y de posts"
   ]
  },
  {
   "cell_type": "code",
   "execution_count": 2,
   "metadata": {},
   "outputs": [],
   "source": [
    "connection = psycopg2.connect(user=\"postgres\", password=\"postgres\", host=\"127.0.0.1\", port=\"63333\", database=\"stack_overflow\")"
   ]
  },
  {
   "cell_type": "code",
   "execution_count": 3,
   "metadata": {},
   "outputs": [
    {
     "data": {
      "text/plain": [
       "[('<c#><floating-point><type-conversion><double><decimal>',),\n",
       " ('<html><css><internet-explorer-7>',),\n",
       " ('<c#><.net><datetime>',),\n",
       " ('<c#><datetime><time><datediff><relative-time-span>',),\n",
       " ('<html><browser><timezone><user-agent><timezone-offset>',),\n",
       " ('<.net><math>',)]"
      ]
     },
     "execution_count": 3,
     "metadata": {},
     "output_type": "execute_result"
    }
   ],
   "source": [
    "with connection:\n",
    "    with connection.cursor() as cursor:\n",
    "        cursor.execute(\"select tags from posts_19 where tags is not null limit 6\")\n",
    "        posts_tags_sample = cursor.fetchall()\n",
    "posts_tags_sample"
   ]
  },
  {
   "cell_type": "code",
   "execution_count": 4,
   "metadata": {},
   "outputs": [
    {
     "data": {
      "text/plain": [
       "[('javascript', 2453736),\n",
       " ('python', 2071403),\n",
       " ('java', 1878099),\n",
       " ('c#', 1571218),\n",
       " ('php', 1451338),\n",
       " ('android', 1393144)]"
      ]
     },
     "execution_count": 4,
     "metadata": {},
     "output_type": "execute_result"
    }
   ],
   "source": [
    "with connection:\n",
    "    with connection.cursor() as cursor:\n",
    "        cursor.execute(\"select tag_name, count from tags order by count desc limit 6\")\n",
    "        top_tags_sample = cursor.fetchall()\n",
    "top_tags_sample"
   ]
  },
  {
   "cell_type": "code",
   "execution_count": 5,
   "metadata": {},
   "outputs": [
    {
     "data": {
      "text/plain": [
       "[]"
      ]
     },
     "execution_count": 5,
     "metadata": {},
     "output_type": "execute_result"
    }
   ],
   "source": [
    "with connection:\n",
    "    with connection.cursor() as cursor:\n",
    "        cursor.execute(\"select tag_name from tags where tag_name like '%<%' or tag_name like '%>%'\")\n",
    "        tags_with_angle_brackets = cursor.fetchall()\n",
    "tags_with_angle_brackets"
   ]
  },
  {
   "attachments": {},
   "cell_type": "markdown",
   "metadata": {},
   "source": [
    "# Crear la tabla de posts_tags"
   ]
  },
  {
   "cell_type": "code",
   "execution_count": 6,
   "metadata": {},
   "outputs": [
    {
     "data": {
      "text/plain": [
       "[(9, '.net', 1),\n",
       " (6, 'html', 2),\n",
       " (6, 'css', 4),\n",
       " (9, 'c#', 9),\n",
       " (4, 'c#', 9),\n",
       " (4, 'floating-point', 305),\n",
       " (4, 'double', 451),\n",
       " (4, 'decimal', 6250),\n",
       " (4, 'type-conversion', 9780),\n",
       " (6, 'internet-explorer-7', 36930)]"
      ]
     },
     "execution_count": 6,
     "metadata": {},
     "output_type": "execute_result"
    }
   ],
   "source": [
    "with connection:\n",
    "    with connection.cursor() as cursor:\n",
    "        cursor.execute(\"\"\"\n",
    "        with posts_tags_exp as (\n",
    "            select id, regexp_split_to_table(trim('<>' from tags), '><') as i_tag\n",
    "            from posts_19 where tags is not null limit 10\n",
    "        )\n",
    "        select pt.id, pt.i_tag, t.id\n",
    "        from posts_tags_exp pt\n",
    "        left join tags t on pt.i_tag=t.tag_name\n",
    "        \"\"\")\n",
    "        posts2tags = cursor.fetchall()\n",
    "posts2tags"
   ]
  },
  {
   "cell_type": "code",
   "execution_count": 19,
   "metadata": {},
   "outputs": [],
   "source": [
    "with connection:\n",
    "    with connection.cursor() as cursor:\n",
    "        cursor.execute(\"\"\"\n",
    "        DROP TABLE IF EXISTS posts_19_tags;\n",
    "        CREATE TEMP TABLE posts_19_tags AS\n",
    "        with posts_tags_exp as (\n",
    "            select id, regexp_split_to_table(trim('<>' from tags), '><') as i_tag\n",
    "            from posts_19 where tags is not null\n",
    "        )\n",
    "        select pt.id as post_id, t.id as tag_id\n",
    "        from posts_tags_exp pt\n",
    "        left join tags t on pt.i_tag=t.tag_name\n",
    "        \"\"\")"
   ]
  },
  {
   "attachments": {},
   "cell_type": "markdown",
   "metadata": {},
   "source": [
    "### Prueba de la relacion"
   ]
  },
  {
   "cell_type": "code",
   "execution_count": 23,
   "metadata": {},
   "outputs": [
    {
     "data": {
      "text/plain": [
       "[('culture', 90061, None),\n",
       " ('globalization', 90061, None),\n",
       " ('.net', 90061, None),\n",
       " ('loops', 93511, 'Ireland'),\n",
       " ('xslt', 93511, 'Ireland'),\n",
       " ('xml', 93511, 'Ireland'),\n",
       " ('exists', 99132, 'Canada'),\n",
       " ('directory', 99132, 'Canada'),\n",
       " ('makefile', 99132, 'Canada'),\n",
       " ('html', 101574, 'United States'),\n",
       " ('.net', 112625, 'Australia'),\n",
       " ('auto-indent', 118728, None),\n",
       " ('indentation', 118728, None),\n",
       " ('notepad++', 118728, None),\n",
       " ('add-in', 126526, 'United Kingdom'),\n",
       " ('ms-office', 126526, 'United Kingdom'),\n",
       " ('vb.net', 126526, 'United Kingdom'),\n",
       " ('duplicate-removal', 150760, 'United States'),\n",
       " ('business-intelligence', 150760, 'United States'),\n",
       " ('duplicates', 150760, 'United States')]"
      ]
     },
     "execution_count": 23,
     "metadata": {},
     "output_type": "execute_result"
    }
   ],
   "source": [
    "with connection:\n",
    "    with connection.cursor() as cursor:\n",
    "        cursor.execute(\"\"\"select t.tag_name, p.id, u.country\n",
    "        from posts_19_tags pt\n",
    "        join posts_19 p on pt.post_id=p.id \n",
    "        join tags t on pt.tag_id=t.id \n",
    "        join users u on p.owner_user_id=u.id \n",
    "        limit 20\"\"\")\n",
    "        post_tags_country = cursor.fetchall()\n",
    "post_tags_country"
   ]
  },
  {
   "cell_type": "code",
   "execution_count": null,
   "metadata": {},
   "outputs": [],
   "source": []
  }
 ],
 "metadata": {
  "kernelspec": {
   "display_name": "ardudor_sv",
   "language": "python",
   "name": "python3"
  },
  "language_info": {
   "codemirror_mode": {
    "name": "ipython",
    "version": 3
   },
   "file_extension": ".py",
   "mimetype": "text/x-python",
   "name": "python",
   "nbconvert_exporter": "python",
   "pygments_lexer": "ipython3",
   "version": "3.10.6"
  },
  "orig_nbformat": 4
 },
 "nbformat": 4,
 "nbformat_minor": 2
}
