{
 "cells": [
  {
   "cell_type": "code",
   "execution_count": 2,
   "metadata": {},
   "outputs": [],
   "source": [
    "import psycopg2"
   ]
  },
  {
   "attachments": {},
   "cell_type": "markdown",
   "metadata": {},
   "source": [
    "# Revision de la tabla de tags y de posts"
   ]
  },
  {
   "cell_type": "code",
   "execution_count": 12,
   "metadata": {},
   "outputs": [],
   "source": [
    "connection = psycopg2.connect(\n",
    "    user=\"postgres\",\n",
    "    password=\"postgres\",\n",
    "    host=\"127.0.0.1\",\n",
    "    port=\"63333\",\n",
    "    database=\"stack_overflow\",\n",
    ")"
   ]
  },
  {
   "cell_type": "code",
   "execution_count": 4,
   "metadata": {},
   "outputs": [
    {
     "data": {
      "text/plain": [
       "[('<bash><whitespace>',),\n",
       " ('<visual-studio-2008><validation><css>',),\n",
       " ('<javascript><apache-flex><actionscript-3>',),\n",
       " ('<sql-server><indexing>',),\n",
       " ('<c++><boost>',),\n",
       " ('<performance><http><https>',)]"
      ]
     },
     "execution_count": 4,
     "metadata": {},
     "output_type": "execute_result"
    }
   ],
   "source": [
    "with connection:\n",
    "    with connection.cursor() as cursor:\n",
    "        cursor.execute(\"select tags from posts_19 where tags is not null limit 6\")\n",
    "        posts_tags_sample = cursor.fetchall()\n",
    "posts_tags_sample"
   ]
  },
  {
   "cell_type": "code",
   "execution_count": 5,
   "metadata": {},
   "outputs": [
    {
     "data": {
      "text/plain": [
       "[('javascript', 2453736),\n",
       " ('python', 2071403),\n",
       " ('java', 1878099),\n",
       " ('c#', 1571218),\n",
       " ('php', 1451338),\n",
       " ('android', 1393144)]"
      ]
     },
     "execution_count": 5,
     "metadata": {},
     "output_type": "execute_result"
    }
   ],
   "source": [
    "with connection:\n",
    "    with connection.cursor() as cursor:\n",
    "        cursor.execute(\"select tag_name, count from tags order by count desc limit 6\")\n",
    "        top_tags_sample = cursor.fetchall()\n",
    "top_tags_sample"
   ]
  },
  {
   "cell_type": "code",
   "execution_count": 6,
   "metadata": {},
   "outputs": [
    {
     "data": {
      "text/plain": [
       "[]"
      ]
     },
     "execution_count": 6,
     "metadata": {},
     "output_type": "execute_result"
    }
   ],
   "source": [
    "with connection:\n",
    "    with connection.cursor() as cursor:\n",
    "        cursor.execute(\n",
    "            \"select tag_name from tags where tag_name like '%<%' or tag_name like '%>%'\"\n",
    "        )\n",
    "        tags_with_angle_brackets = cursor.fetchall()\n",
    "tags_with_angle_brackets"
   ]
  },
  {
   "attachments": {},
   "cell_type": "markdown",
   "metadata": {},
   "source": [
    "# Crear la tabla de posts_tags"
   ]
  },
  {
   "cell_type": "code",
   "execution_count": 7,
   "metadata": {},
   "outputs": [
    {
     "data": {
      "text/plain": [
       "[(149206, 'javascript', 3),\n",
       " (149131, 'css', 4),\n",
       " (149206, 'apache-flex', 38),\n",
       " (149213, 'sql-server', 72),\n",
       " (149213, 'indexing', 317),\n",
       " (149131, 'validation', 355),\n",
       " (149057, 'bash', 387),\n",
       " (149057, 'whitespace', 1084),\n",
       " (149206, 'actionscript-3', 14012),\n",
       " (149131, 'visual-studio-2008', 32472)]"
      ]
     },
     "execution_count": 7,
     "metadata": {},
     "output_type": "execute_result"
    }
   ],
   "source": [
    "with connection:\n",
    "    with connection.cursor() as cursor:\n",
    "        cursor.execute(\n",
    "            \"\"\"\n",
    "        with posts_tags_exp as (\n",
    "            select id, regexp_split_to_table(trim('<>' from tags), '><') as i_tag\n",
    "            from posts_19 where tags is not null limit 10\n",
    "        )\n",
    "        select pt.id, pt.i_tag, t.id\n",
    "        from posts_tags_exp pt\n",
    "        left join tags t on pt.i_tag=t.tag_name\n",
    "        \"\"\"\n",
    "        )\n",
    "        posts2tags = cursor.fetchall()\n",
    "posts2tags"
   ]
  },
  {
   "cell_type": "code",
   "execution_count": 14,
   "metadata": {},
   "outputs": [],
   "source": [
    "with connection:\n",
    "    with connection.cursor() as cursor:\n",
    "        cursor.execute(\n",
    "            \"\"\"\n",
    "        DROP TABLE IF EXISTS posts_19_tags;\n",
    "        CREATE TABLE posts_19_tags AS\n",
    "        with posts_tags_exp as (\n",
    "            select id, regexp_split_to_table(trim('<>' from tags), '><') as i_tag\n",
    "            from posts_19 where tags is not null\n",
    "        )\n",
    "        select pt.id as post_id, t.id as tag_id\n",
    "        from posts_tags_exp pt\n",
    "        left join tags t on pt.i_tag=t.tag_name\n",
    "        \"\"\"\n",
    "        )"
   ]
  },
  {
   "attachments": {},
   "cell_type": "markdown",
   "metadata": {},
   "source": [
    "### Prueba de la relacion"
   ]
  },
  {
   "cell_type": "code",
   "execution_count": 16,
   "metadata": {},
   "outputs": [
    {
     "data": {
      "text/plain": [
       "[('maven-surefire-plugin', 74306381, 'Ukraine'),\n",
       " ('lombok', 74306381, 'Ukraine'),\n",
       " ('reporting', 74306381, 'Ukraine'),\n",
       " ('maven', 74306381, 'Ukraine'),\n",
       " ('delimiter', 74308951, 'Cameroon'),\n",
       " ('split', 74308951, 'Cameroon'),\n",
       " ('string', 74308951, 'Cameroon'),\n",
       " ('python', 74308951, 'Cameroon'),\n",
       " ('stack-navigator', 74309130, 'Bulgaria'),\n",
       " ('react-native', 74309130, 'Bulgaria'),\n",
       " ('reactjs', 74309130, 'Bulgaria'),\n",
       " ('android', 74309130, 'Bulgaria'),\n",
       " ('javascript', 74309130, 'Bulgaria'),\n",
       " ('husky', 74309392, 'United States'),\n",
       " ('githooks', 74309392, 'United States'),\n",
       " ('visual-studio-code', 74309392, 'United States'),\n",
       " ('git', 74309392, 'United States'),\n",
       " ('reactjs', 74309392, 'United States'),\n",
       " ('ssh-keys', 74316439, 'Latvia'),\n",
       " ('key', 74316439, 'Latvia')]"
      ]
     },
     "execution_count": 16,
     "metadata": {},
     "output_type": "execute_result"
    }
   ],
   "source": [
    "with connection:\n",
    "    with connection.cursor() as cursor:\n",
    "        cursor.execute(\n",
    "            \"\"\"select t.tag_name, p.id, u.country\n",
    "        from posts_19_tags pt\n",
    "        join posts_19 p on pt.post_id=p.id \n",
    "        join tags t on pt.tag_id=t.id \n",
    "        join users u on p.owner_user_id=u.id\n",
    "        where u.country is not null\n",
    "        limit 20\"\"\"\n",
    "        )\n",
    "        post_tags_country = cursor.fetchall()\n",
    "post_tags_country"
   ]
  },
  {
   "cell_type": "code",
   "execution_count": null,
   "metadata": {},
   "outputs": [],
   "source": []
  }
 ],
 "metadata": {
  "kernelspec": {
   "display_name": "ardudor_sv",
   "language": "python",
   "name": "python3"
  },
  "language_info": {
   "codemirror_mode": {
    "name": "ipython",
    "version": 3
   },
   "file_extension": ".py",
   "mimetype": "text/x-python",
   "name": "python",
   "nbconvert_exporter": "python",
   "pygments_lexer": "ipython3",
   "version": "3.10.6"
  },
  "orig_nbformat": 4
 },
 "nbformat": 4,
 "nbformat_minor": 2
}
