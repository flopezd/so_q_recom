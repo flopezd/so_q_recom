{
 "cells": [
  {
   "cell_type": "code",
   "execution_count": 41,
   "metadata": {},
   "outputs": [],
   "source": [
    "import psycopg2\n",
    "from psycopg2.extras import execute_values\n",
    "import pandas as pd\n",
    "import re\n",
    "from multiprocessing import Pool\n",
    "import textwrap\n",
    "import matplotlib.pyplot as plt\n",
    "\n",
    "plt.rcParams[\"figure.figsize\"] = [10, 6]"
   ]
  },
  {
   "attachments": {},
   "cell_type": "markdown",
   "metadata": {},
   "source": [
    "# Obtener la ubicacion de los usuarios"
   ]
  },
  {
   "cell_type": "code",
   "execution_count": 58,
   "metadata": {},
   "outputs": [],
   "source": [
    "connection = psycopg2.connect(\n",
    "    user=\"postgres\",\n",
    "    password=\"postgres\",\n",
    "    host=\"127.0.0.1\",\n",
    "    port=\"63333\",\n",
    "    database=\"stack_overflow\",\n",
    ")"
   ]
  },
  {
   "cell_type": "code",
   "execution_count": 3,
   "metadata": {},
   "outputs": [],
   "source": [
    "with connection:\n",
    "    with connection.cursor() as cursor:\n",
    "        cursor.execute(\"select count(*) from users where id > 0\")\n",
    "        user_count = cursor.fetchall()[0][0]"
   ]
  },
  {
   "cell_type": "code",
   "execution_count": 4,
   "metadata": {},
   "outputs": [],
   "source": [
    "with connection:\n",
    "    with connection.cursor() as cursor:\n",
    "        cursor.execute(\n",
    "            \"select id, location from users where location is not null and id > 0;\"\n",
    "        )\n",
    "        locations = cursor.fetchall()"
   ]
  },
  {
   "cell_type": "code",
   "execution_count": 5,
   "metadata": {},
   "outputs": [
    {
     "name": "stdout",
     "output_type": "stream",
     "text": [
      "Usuarios totales: 19307010, usuarios con ubicacion: 4114054 (21.31%)\n",
      "Muestra de las ubicaciones: [(1, 'El Cerrito, CA'), (2, 'Corvallis, OR'), (3, 'Johnson City, TN, USA'), (4, 'New York, NY')]\n"
     ]
    }
   ],
   "source": [
    "print(\n",
    "    f\"Usuarios totales: {user_count}, usuarios con ubicacion: {len(locations)} ({len(locations)*100/user_count:.2f}%)\"\n",
    ")\n",
    "print(f\"Muestra de las ubicaciones: {locations[:4]}\")"
   ]
  },
  {
   "attachments": {},
   "cell_type": "markdown",
   "metadata": {},
   "source": [
    "# Datos de los nombres de paises y ciudades"
   ]
  },
  {
   "attachments": {},
   "cell_type": "markdown",
   "metadata": {},
   "source": [
    "Los dataframes fueron creados con los archivos cities5000.txt, admin1CodesASCII.txt y countryInfo.txt de https://download.geonames.org/export/dump/"
   ]
  },
  {
   "cell_type": "code",
   "execution_count": 7,
   "metadata": {},
   "outputs": [
    {
     "data": {
      "text/html": [
       "<div>\n",
       "<style scoped>\n",
       "    .dataframe tbody tr th:only-of-type {\n",
       "        vertical-align: middle;\n",
       "    }\n",
       "\n",
       "    .dataframe tbody tr th {\n",
       "        vertical-align: top;\n",
       "    }\n",
       "\n",
       "    .dataframe thead th {\n",
       "        text-align: right;\n",
       "    }\n",
       "</style>\n",
       "<table border=\"1\" class=\"dataframe\">\n",
       "  <thead>\n",
       "    <tr style=\"text-align: right;\">\n",
       "      <th></th>\n",
       "      <th>1</th>\n",
       "      <th>2</th>\n",
       "      <th>3</th>\n",
       "      <th>8</th>\n",
       "      <th>Country</th>\n",
       "    </tr>\n",
       "  </thead>\n",
       "  <tbody>\n",
       "    <tr>\n",
       "      <th>0</th>\n",
       "      <td>Sant Julià de Lòria</td>\n",
       "      <td>Sant Julia de Loria</td>\n",
       "      <td>San Julia,San Julià,Sant Julia de Loria,Sant J...</td>\n",
       "      <td>AD</td>\n",
       "      <td>Andorra</td>\n",
       "    </tr>\n",
       "    <tr>\n",
       "      <th>1</th>\n",
       "      <td>Ordino</td>\n",
       "      <td>Ordino</td>\n",
       "      <td>Ordino,ao er di nuo,orudino jiao qu,Ордино,オルデ...</td>\n",
       "      <td>AD</td>\n",
       "      <td>Andorra</td>\n",
       "    </tr>\n",
       "    <tr>\n",
       "      <th>2</th>\n",
       "      <td>les Escaldes</td>\n",
       "      <td>les Escaldes</td>\n",
       "      <td>Ehskal'des-Ehndzhordani,Escaldes,Escaldes-Engo...</td>\n",
       "      <td>AD</td>\n",
       "      <td>Andorra</td>\n",
       "    </tr>\n",
       "    <tr>\n",
       "      <th>3</th>\n",
       "      <td>la Massana</td>\n",
       "      <td>la Massana</td>\n",
       "      <td>La Macana,La Massana,La Maçana,La-Massana,la M...</td>\n",
       "      <td>AD</td>\n",
       "      <td>Andorra</td>\n",
       "    </tr>\n",
       "    <tr>\n",
       "      <th>4</th>\n",
       "      <td>Encamp</td>\n",
       "      <td>Encamp</td>\n",
       "      <td>Ehnkam,Encamp,en kan pu,enkanpu jiao qu,Энкам,...</td>\n",
       "      <td>AD</td>\n",
       "      <td>Andorra</td>\n",
       "    </tr>\n",
       "  </tbody>\n",
       "</table>\n",
       "</div>"
      ],
      "text/plain": [
       "                     1                    2  \\\n",
       "0  Sant Julià de Lòria  Sant Julia de Loria   \n",
       "1               Ordino               Ordino   \n",
       "2         les Escaldes         les Escaldes   \n",
       "3           la Massana           la Massana   \n",
       "4               Encamp               Encamp   \n",
       "\n",
       "                                                   3   8  Country  \n",
       "0  San Julia,San Julià,Sant Julia de Loria,Sant J...  AD  Andorra  \n",
       "1  Ordino,ao er di nuo,orudino jiao qu,Ордино,オルデ...  AD  Andorra  \n",
       "2  Ehskal'des-Ehndzhordani,Escaldes,Escaldes-Engo...  AD  Andorra  \n",
       "3  La Macana,La Massana,La Maçana,La-Massana,la M...  AD  Andorra  \n",
       "4  Ehnkam,Encamp,en kan pu,enkanpu jiao qu,Энкам,...  AD  Andorra  "
      ]
     },
     "execution_count": 7,
     "metadata": {},
     "output_type": "execute_result"
    }
   ],
   "source": [
    "cities_df = pd.read_csv(\n",
    "    \"cities5000.txt\", delimiter=\"\\t\", header=None, usecols=[1, 2, 3, 8]\n",
    ")\n",
    "countries_df = pd.read_csv(\n",
    "    \"countryInfo.txt\", delimiter=\"\\t\", usecols=[\"ISO\", \"Country\"]\n",
    ")\n",
    "cities_df = cities_df.join(countries_df.set_index(\"ISO\"), on=8)\n",
    "cities_df.head()"
   ]
  },
  {
   "cell_type": "code",
   "execution_count": 8,
   "metadata": {},
   "outputs": [
    {
     "data": {
      "text/html": [
       "<div>\n",
       "<style scoped>\n",
       "    .dataframe tbody tr th:only-of-type {\n",
       "        vertical-align: middle;\n",
       "    }\n",
       "\n",
       "    .dataframe tbody tr th {\n",
       "        vertical-align: top;\n",
       "    }\n",
       "\n",
       "    .dataframe thead th {\n",
       "        text-align: right;\n",
       "    }\n",
       "</style>\n",
       "<table border=\"1\" class=\"dataframe\">\n",
       "  <thead>\n",
       "    <tr style=\"text-align: right;\">\n",
       "      <th></th>\n",
       "      <th>0</th>\n",
       "      <th>1</th>\n",
       "      <th>2</th>\n",
       "      <th>c_code</th>\n",
       "      <th>Country</th>\n",
       "    </tr>\n",
       "  </thead>\n",
       "  <tbody>\n",
       "    <tr>\n",
       "      <th>0</th>\n",
       "      <td>AD.06</td>\n",
       "      <td>Sant Julià de Loria</td>\n",
       "      <td>Sant Julia de Loria</td>\n",
       "      <td>AD</td>\n",
       "      <td>Andorra</td>\n",
       "    </tr>\n",
       "    <tr>\n",
       "      <th>1</th>\n",
       "      <td>AD.05</td>\n",
       "      <td>Ordino</td>\n",
       "      <td>Ordino</td>\n",
       "      <td>AD</td>\n",
       "      <td>Andorra</td>\n",
       "    </tr>\n",
       "    <tr>\n",
       "      <th>2</th>\n",
       "      <td>AD.04</td>\n",
       "      <td>La Massana</td>\n",
       "      <td>La Massana</td>\n",
       "      <td>AD</td>\n",
       "      <td>Andorra</td>\n",
       "    </tr>\n",
       "    <tr>\n",
       "      <th>3</th>\n",
       "      <td>AD.03</td>\n",
       "      <td>Encamp</td>\n",
       "      <td>Encamp</td>\n",
       "      <td>AD</td>\n",
       "      <td>Andorra</td>\n",
       "    </tr>\n",
       "    <tr>\n",
       "      <th>4</th>\n",
       "      <td>AD.02</td>\n",
       "      <td>Canillo</td>\n",
       "      <td>Canillo</td>\n",
       "      <td>AD</td>\n",
       "      <td>Andorra</td>\n",
       "    </tr>\n",
       "  </tbody>\n",
       "</table>\n",
       "</div>"
      ],
      "text/plain": [
       "       0                    1                    2 c_code  Country\n",
       "0  AD.06  Sant Julià de Loria  Sant Julia de Loria     AD  Andorra\n",
       "1  AD.05               Ordino               Ordino     AD  Andorra\n",
       "2  AD.04           La Massana           La Massana     AD  Andorra\n",
       "3  AD.03               Encamp               Encamp     AD  Andorra\n",
       "4  AD.02              Canillo              Canillo     AD  Andorra"
      ]
     },
     "execution_count": 8,
     "metadata": {},
     "output_type": "execute_result"
    }
   ],
   "source": [
    "admin1_df = pd.read_csv(\n",
    "    \"admin1CodesASCII.txt\", delimiter=\"\\t\", header=None, usecols=[0, 1, 2]\n",
    ")\n",
    "admin1_df[\"c_code\"] = admin1_df[0].str.split(\".\", expand=True)[0]\n",
    "admin1_df = admin1_df.join(countries_df.set_index(\"ISO\"), on=\"c_code\")\n",
    "admin1_df.head()"
   ]
  },
  {
   "cell_type": "code",
   "execution_count": 9,
   "metadata": {},
   "outputs": [],
   "source": [
    "cc_delim_begin = r\"\\b(\"\n",
    "cc_delim_end = r\")\\b\"\n",
    "\n",
    "cities_df[1] = cities_df[1].str.lower()\n",
    "cities_df[2] = cities_df[2].str.lower()\n",
    "\n",
    "admin1_df[1] = admin1_df[1].str.lower()\n",
    "admin1_df[2] = admin1_df[2].str.lower()\n",
    "\n",
    "# Creates a regex that search if the name from cities_df in columns 1(city names), 2(city names ascii), 8(country code) or the country name are present.\n",
    "countries_names = sorted(cities_df[\"Country\"].unique().tolist(), key=len, reverse=True)\n",
    "countries_names = re.compile(\n",
    "    cc_delim_begin + \"|\".join(countries_names) + cc_delim_end, re.IGNORECASE\n",
    ")\n",
    "cities_names_1 = sorted(\n",
    "    cities_df[1].apply(lambda x: re.escape(x)), key=len, reverse=True\n",
    ")\n",
    "cities_names_1 = re.compile(\n",
    "    cc_delim_begin + \"|\".join(cities_names_1) + cc_delim_end, re.IGNORECASE\n",
    ")\n",
    "cities_names_2 = sorted(\n",
    "    cities_df[~cities_df[2].isna()][2].apply(lambda x: re.escape(x)),\n",
    "    key=len,\n",
    "    reverse=True,\n",
    ")\n",
    "cities_names_2 = re.compile(\n",
    "    cc_delim_begin + \"|\".join(cities_names_2) + cc_delim_end, re.IGNORECASE\n",
    ")\n",
    "country_iso = sorted(\n",
    "    cities_df[~cities_df[8].isna()][8].apply(lambda x: re.escape(x)),\n",
    "    key=len,\n",
    "    reverse=True,\n",
    ")\n",
    "country_iso = re.compile(\n",
    "    cc_delim_begin + \"|\".join(country_iso) + cc_delim_end, re.IGNORECASE\n",
    ")\n",
    "\n",
    "# Creates a regex that search if the name from admin1_df in columns 1(admin1 names), 2(admin1 names ascii) are present.\n",
    "admin1_names_1 = sorted(\n",
    "    admin1_df[1].apply(lambda x: re.escape(x)), key=len, reverse=True\n",
    ")\n",
    "admin1_names_1 = re.compile(\n",
    "    cc_delim_begin + \"|\".join(admin1_names_1) + cc_delim_end, re.IGNORECASE\n",
    ")\n",
    "admin1_names_2 = sorted(\n",
    "    admin1_df[2].apply(lambda x: re.escape(x)), key=len, reverse=True\n",
    ")\n",
    "admin1_names_2 = re.compile(\n",
    "    cc_delim_begin + \"|\".join(admin1_names_2) + cc_delim_end, re.IGNORECASE\n",
    ")"
   ]
  },
  {
   "cell_type": "code",
   "execution_count": 10,
   "metadata": {},
   "outputs": [],
   "source": [
    "# Creates a list of tuples containing a regex for every way to name a city and his country\n",
    "country_regex = cities_df[[\"Country\", 3]].dropna()\n",
    "country_regex[3] = country_regex[3].apply(lambda x: re.escape(x))\n",
    "country_regex[3] = (\n",
    "    cc_delim_begin + country_regex[3].str.replace(\",\", \"|\") + cc_delim_end\n",
    ")\n",
    "country_regex = country_regex.values\n",
    "country_regex = [(c, re.compile(r, re.IGNORECASE)) for c, r in country_regex]"
   ]
  },
  {
   "attachments": {},
   "cell_type": "markdown",
   "metadata": {},
   "source": [
    "# Funcion para buscar el pais"
   ]
  },
  {
   "attachments": {},
   "cell_type": "markdown",
   "metadata": {},
   "source": [
    "En orden busca en el texto de la ubicacion:\n",
    " - el nombre del pais\n",
    " - el nombre administrativo de primer nivel en utf-8 y ascii\n",
    " - el nombre de la ciudad en utf-8 y ascii\n",
    " - los nombres alternativos de la ciudad\n",
    " - codigo de 2 letras del nombre del pais (ISO-3166)"
   ]
  },
  {
   "cell_type": "code",
   "execution_count": 11,
   "metadata": {},
   "outputs": [],
   "source": [
    "def search_country(user_loc):\n",
    "    user_id, loc_text = user_loc\n",
    "    try:\n",
    "        country_match = countries_names.search(loc_text)\n",
    "        if country_match is not None:\n",
    "            return (user_id, loc_text, country_match.group(0))\n",
    "\n",
    "        admin1_match = admin1_names_1.search(loc_text)\n",
    "        if admin1_match is not None:\n",
    "            return (\n",
    "                user_id,\n",
    "                loc_text,\n",
    "                admin1_df[admin1_df[1] == admin1_match.group(1).lower()][\n",
    "                    \"Country\"\n",
    "                ].iloc[0],\n",
    "            )\n",
    "\n",
    "        admin1_match = admin1_names_2.search(loc_text)\n",
    "        if admin1_match is not None:\n",
    "            return (\n",
    "                user_id,\n",
    "                loc_text,\n",
    "                admin1_df[admin1_df[2] == admin1_match.group(1).lower()][\n",
    "                    \"Country\"\n",
    "                ].iloc[0],\n",
    "            )\n",
    "\n",
    "        city_match = cities_names_1.search(loc_text)\n",
    "        if city_match is not None:\n",
    "            return (\n",
    "                user_id,\n",
    "                loc_text,\n",
    "                cities_df[cities_df[1] == city_match.group(1).lower()][\"Country\"].iloc[\n",
    "                    0\n",
    "                ],\n",
    "            )\n",
    "\n",
    "        city_match = cities_names_2.search(loc_text)\n",
    "        if city_match is not None:\n",
    "            return (\n",
    "                user_id,\n",
    "                loc_text,\n",
    "                cities_df[cities_df[2] == city_match.group(1).lower()][\"Country\"].iloc[\n",
    "                    0\n",
    "                ],\n",
    "            )\n",
    "\n",
    "        for country, c_regex in country_regex:\n",
    "            if c_regex.search(loc_text) is not None:\n",
    "                return (user_id, loc_text, country)\n",
    "\n",
    "        country_match = country_iso.search(loc_text)\n",
    "        if country_match is not None:\n",
    "            return (\n",
    "                user_id,\n",
    "                loc_text,\n",
    "                cities_df[cities_df[8] == country_match.group(1).lower()][\n",
    "                    \"Country\"\n",
    "                ].iloc[0],\n",
    "            )\n",
    "\n",
    "        return (user_id, loc_text, None)\n",
    "    except:\n",
    "        return (user_id, loc_text, \"Error\")"
   ]
  },
  {
   "cell_type": "code",
   "execution_count": 42,
   "metadata": {},
   "outputs": [],
   "source": [
    "with Pool(8) as p:\n",
    "    maped_countries = p.map(search_country, locations)"
   ]
  },
  {
   "cell_type": "code",
   "execution_count": 43,
   "metadata": {},
   "outputs": [],
   "source": [
    "maped_countries = pd.DataFrame(\n",
    "    maped_countries, columns=[\"user_id\", \"location\", \"country\"]\n",
    ")"
   ]
  },
  {
   "cell_type": "code",
   "execution_count": 44,
   "metadata": {},
   "outputs": [
    {
     "name": "stdout",
     "output_type": "stream",
     "text": [
      "Total de ubicaciones: 4114054\n",
      "Ubicaciones que no machearon: 172570 (4.19%)\n",
      "Ubicaciones que fallaron durante el machero: 22413 (0.54%)\n",
      "Ubicaciones macheadas: 3919071 (95.26%)\n"
     ]
    }
   ],
   "source": [
    "total_loc = len(maped_countries)\n",
    "na_loc = maped_countries[\"country\"].isna().sum()\n",
    "error_loc = (maped_countries[\"country\"] == \"Error\").sum()\n",
    "matched_loc = total_loc - na_loc - error_loc\n",
    "print(f\"Total de ubicaciones: {total_loc}\")\n",
    "print(f\"Ubicaciones que no machearon: {na_loc} ({na_loc*100/total_loc:.2f}%)\")\n",
    "print(\n",
    "    f\"Ubicaciones que fallaron durante el machero: {error_loc} ({error_loc*100/total_loc:.2f}%)\"\n",
    ")\n",
    "print(f\"Ubicaciones macheadas: {matched_loc} ({matched_loc*100/total_loc:.2f}%)\")"
   ]
  },
  {
   "attachments": {},
   "cell_type": "markdown",
   "metadata": {},
   "source": [
    "# Paises con mas muestras"
   ]
  },
  {
   "cell_type": "code",
   "execution_count": 45,
   "metadata": {},
   "outputs": [
    {
     "data": {
      "text/html": [
       "<div>\n",
       "<style scoped>\n",
       "    .dataframe tbody tr th:only-of-type {\n",
       "        vertical-align: middle;\n",
       "    }\n",
       "\n",
       "    .dataframe tbody tr th {\n",
       "        vertical-align: top;\n",
       "    }\n",
       "\n",
       "    .dataframe thead th {\n",
       "        text-align: right;\n",
       "    }\n",
       "</style>\n",
       "<table border=\"1\" class=\"dataframe\">\n",
       "  <thead>\n",
       "    <tr style=\"text-align: right;\">\n",
       "      <th></th>\n",
       "      <th>country</th>\n",
       "      <th>country</th>\n",
       "    </tr>\n",
       "  </thead>\n",
       "  <tbody>\n",
       "    <tr>\n",
       "      <th>India</th>\n",
       "      <td>715071</td>\n",
       "      <td>0.181422</td>\n",
       "    </tr>\n",
       "    <tr>\n",
       "      <th>United States</th>\n",
       "      <td>573934</td>\n",
       "      <td>0.145614</td>\n",
       "    </tr>\n",
       "    <tr>\n",
       "      <th>Canada</th>\n",
       "      <td>149276</td>\n",
       "      <td>0.037873</td>\n",
       "    </tr>\n",
       "    <tr>\n",
       "      <th>United Kingdom</th>\n",
       "      <td>134410</td>\n",
       "      <td>0.034101</td>\n",
       "    </tr>\n",
       "    <tr>\n",
       "      <th>Germany</th>\n",
       "      <td>132920</td>\n",
       "      <td>0.033723</td>\n",
       "    </tr>\n",
       "    <tr>\n",
       "      <th>China</th>\n",
       "      <td>107956</td>\n",
       "      <td>0.027390</td>\n",
       "    </tr>\n",
       "    <tr>\n",
       "      <th>Australia</th>\n",
       "      <td>100342</td>\n",
       "      <td>0.025458</td>\n",
       "    </tr>\n",
       "    <tr>\n",
       "      <th>Brazil</th>\n",
       "      <td>97365</td>\n",
       "      <td>0.024703</td>\n",
       "    </tr>\n",
       "    <tr>\n",
       "      <th>France</th>\n",
       "      <td>84591</td>\n",
       "      <td>0.021462</td>\n",
       "    </tr>\n",
       "    <tr>\n",
       "      <th>Pakistan</th>\n",
       "      <td>80769</td>\n",
       "      <td>0.020492</td>\n",
       "    </tr>\n",
       "  </tbody>\n",
       "</table>\n",
       "</div>"
      ],
      "text/plain": [
       "                country   country\n",
       "India            715071  0.181422\n",
       "United States    573934  0.145614\n",
       "Canada           149276  0.037873\n",
       "United Kingdom   134410  0.034101\n",
       "Germany          132920  0.033723\n",
       "China            107956  0.027390\n",
       "Australia        100342  0.025458\n",
       "Brazil            97365  0.024703\n",
       "France            84591  0.021462\n",
       "Pakistan          80769  0.020492"
      ]
     },
     "execution_count": 45,
     "metadata": {},
     "output_type": "execute_result"
    }
   ],
   "source": [
    "pd.concat(\n",
    "    [\n",
    "        maped_countries[\"country\"].value_counts()[:10],\n",
    "        maped_countries[\"country\"].value_counts(normalize=True)[:10],\n",
    "    ],\n",
    "    axis=1,\n",
    ")"
   ]
  },
  {
   "cell_type": "code",
   "execution_count": 46,
   "metadata": {},
   "outputs": [
    {
     "data": {
      "image/png": "[encoded data removed]",
      "text/plain": [
       "<Figure size 1000x600 with 1 Axes>"
      ]
     },
     "metadata": {},
     "output_type": "display_data"
    }
   ],
   "source": [
    "maped_countries[\"country\"].value_counts()[:20].plot(kind=\"bar\");"
   ]
  },
  {
   "attachments": {},
   "cell_type": "markdown",
   "metadata": {},
   "source": [
    "# Create country column and update values"
   ]
  },
  {
   "cell_type": "code",
   "execution_count": 53,
   "metadata": {},
   "outputs": [
    {
     "name": "stdout",
     "output_type": "stream",
     "text": [
      "Column already exists\n"
     ]
    }
   ],
   "source": [
    "with connection:\n",
    "    with connection.cursor() as cursor:\n",
    "        cursor.execute(\n",
    "            \"\"\"SELECT count(*)\n",
    "            FROM information_schema.columns\n",
    "            WHERE table_name = 'users'\n",
    "            AND column_name = 'country'\n",
    "        \"\"\"\n",
    "        )\n",
    "        if cursor.fetchall()[0][0] == 0:\n",
    "            cursor.execute(\"ALTER TABLE users ADD COLUMN country VARCHAR(255);\")\n",
    "            print(\"Column created\")\n",
    "        else:\n",
    "            print(\"Column already exists\")"
   ]
  },
  {
   "cell_type": "code",
   "execution_count": 54,
   "metadata": {},
   "outputs": [],
   "source": [
    "with connection:\n",
    "    with connection.cursor() as cursor:\n",
    "        execute_values(\n",
    "            cursor,\n",
    "            \"\"\"UPDATE users SET country = data.country\n",
    "                                FROM (VALUES %s) AS data (id, country)\n",
    "                                WHERE users.id = data.id\"\"\",\n",
    "            maped_countries[[\"user_id\", \"country\"]].values,\n",
    "        )"
   ]
  },
  {
   "cell_type": "code",
   "execution_count": 62,
   "metadata": {},
   "outputs": [
    {
     "data": {
      "text/plain": [
       "[(224251, 'California', 'United States'),\n",
       " (224254, 'Melbourne, Australia', 'Australia'),\n",
       " (226877, 'Bangalore, India', 'India'),\n",
       " (227378, 'Finland', 'Finland'),\n",
       " (227382, 'Mountain View, CA', 'United States'),\n",
       " (227393, 'Atlanta, GA', 'United States')]"
      ]
     },
     "execution_count": 62,
     "metadata": {},
     "output_type": "execute_result"
    }
   ],
   "source": [
    "with connection:\n",
    "    with connection.cursor() as cursor:\n",
    "        cursor.execute(\n",
    "            \"select id, location, country from users where country is not null limit 6;\"\n",
    "        )\n",
    "        users_country_sample = cursor.fetchall()\n",
    "users_country_sample"
   ]
  },
  {
   "attachments": {},
   "cell_type": "markdown",
   "metadata": {},
   "source": [
    "# Ubicaciones no encontradas"
   ]
  },
  {
   "cell_type": "code",
   "execution_count": 60,
   "metadata": {},
   "outputs": [
    {
     "name": "stdout",
     "output_type": "stream",
     "text": [
      "Ubicaciones con errores:\n",
      "['Yosemite National Park, CA', 'CA', 'MA', 'Lily, KY', 'Wayzata, MN', 'Bishop,\n",
      "CA', 'Grayson, GA', 'Rumney, NH, US', 'Seagrove, NC', 'Cambrdige, MA', 'Time,\n",
      "IL', 'MN', 'CA', 'Trona, CA', 'MA', 'İstanbul, Türkiye', 'CA', 'MN', 'Gillespie,\n",
      "IL', 'İstanbul, Türkiye', 'US', 'Granite Falls, NC', '.pl', 'Cosmos, MN', 'Dell\n",
      "Rapids, SD']\n"
     ]
    }
   ],
   "source": [
    "print(\"Ubicaciones con errores:\")\n",
    "print(\n",
    "    textwrap.fill(\n",
    "        f'{maped_countries[maped_countries[\"country\"] == \"Error\"][\"location\"].values.tolist()[:25]}',\n",
    "        width=80,\n",
    "    )\n",
    ")"
   ]
  },
  {
   "cell_type": "code",
   "execution_count": 61,
   "metadata": {},
   "outputs": [
    {
     "name": "stdout",
     "output_type": "stream",
     "text": [
      "Ubicaciones sin macheos:\n",
      "['Earth, TX', 'UK', 'Jetzendorf, Deutschland', 'Europe', 'Earth, TX', 'Earth,\n",
      "TX', 'Omnipresent', 'Clio, MI', 'Juda, WI', 'Europe', 'Oxfordshire', 'Remote',\n",
      "'Worldwide', 'OC', 'Dale, WI', '127.0.0.1', 'UK', 'Satanta, KS', 'UK',\n",
      "'Qatsrin', 'Nashvegas', 'WNY', 'Hilbert, WI', 'Earth, TX', 'Slovenija']\n"
     ]
    }
   ],
   "source": [
    "print(\"Ubicaciones sin macheos:\")\n",
    "print(\n",
    "    textwrap.fill(\n",
    "        f'{maped_countries[maped_countries[\"country\"].isna()][\"location\"].values.tolist()[:25]}',\n",
    "        width=80,\n",
    "    )\n",
    ")"
   ]
  },
  {
   "attachments": {},
   "cell_type": "markdown",
   "metadata": {},
   "source": [
    "# Mejoras\n",
    " - Se pueden revisar las ubicaciones que no matchearon o tiraron error. Se pueden agregar chequeos por el codigo de admin1 y por los nombres de admin2.\n",
    " - Usar leveshtein con algun umbral para encontrar las ubicaciones que tenian typos"
   ]
  }
 ],
 "metadata": {
  "kernelspec": {
   "display_name": "Python 3 (ipykernel)",
   "language": "python",
   "name": "python3"
  },
  "language_info": {
   "codemirror_mode": {
    "name": "ipython",
    "version": 3
   },
   "file_extension": ".py",
   "mimetype": "text/x-python",
   "name": "python",
   "nbconvert_exporter": "python",
   "pygments_lexer": "ipython3",
   "version": "3.10.12"
  },
  "vscode": {
   "interpreter": {
    "hash": "bc522436dc25287a87f3a4a1f5a99587c3a6afd07b9a421f82d1fc78c3b5addf"
   }
  }
 },
 "nbformat": 4,
 "nbformat_minor": 4
}
