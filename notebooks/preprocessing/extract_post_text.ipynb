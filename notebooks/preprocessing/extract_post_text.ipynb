{
 "cells": [
  {
   "cell_type": "code",
   "execution_count": 1,
   "metadata": {},
   "outputs": [],
   "source": [
    "import psycopg2\n",
    "from psycopg2.extras import execute_values\n",
    "from bs4 import BeautifulSoup\n",
    "from multiprocessing import Pool"
   ]
  },
  {
   "cell_type": "code",
   "execution_count": 2,
   "metadata": {},
   "outputs": [],
   "source": [
    "connection = psycopg2.connect(user=\"postgres\", password=\"postgres\", host=\"127.0.0.1\", port=\"63333\", database=\"stack_overflow\")"
   ]
  },
  {
   "cell_type": "code",
   "execution_count": 3,
   "metadata": {},
   "outputs": [],
   "source": [
    "with connection:\n",
    "    with connection.cursor() as cursor:\n",
    "        cursor.execute(\"\"\"select title, body\n",
    "        from posts_19\n",
    "        limit 5\"\"\")\n",
    "        posts = cursor.fetchall()"
   ]
  },
  {
   "cell_type": "code",
   "execution_count": 4,
   "metadata": {},
   "outputs": [
    {
     "data": {
      "text/plain": [
       "[('laravel : symlink storage in public not working \" 404 (not found)\"',\n",
       "  '<p>when I try to visualise my picture with this basic url on google :</p>\\n<blockquote>\\n<p>domain.com/storage/transports/picture.png</p>\\n</blockquote>\\n<p>I get <code>(404) not found</code>.</p>\\n<p>(I don\\'t have this error for a file outside the storage symlink in my tree picture and I can totaly see it without any problems, exemple :</p>\\n<blockquote>\\n<p>domain.com/logo.svg</p>\\n</blockquote>\\n<p>I have used <code>php artisan storage:link</code> to create the symlink, so far I\\'m abble to store the pictures exactly where I want to with that controller :</p>\\n<pre><code>public function storeTransports(Request $request)\\n    {\\n        try{\\n            session([\\'content\\'=&gt;\\'content_transports\\']);\\n\\n            $request-&gt;validate([\\n                \\'name\\' =&gt; [ \\'string\\', \\'max:255\\'],\\n                \\'picture\\' =&gt; [ \\'required\\',\\'image\\',\\'mimes:jpeg,png,jpg,gif,svg\\', \\'max:2048\\']\\n            ]);\\n\\n            if(Transport::where(\\'name\\', $request-&gt;name)-&gt;first()){\\n                return redirect(RouteServiceProvider::HOME)-&gt;with(\\'error_transports\\', \\'Transport already exists\\');\\n            }\\n            else{\\n                if($request-&gt;hasFile(\\'picture\\')){\\n                    $sanitized_image_name = strtolower(preg_replace(&quot;([^A-Za-z0-9])&quot;, &quot;&quot;, $request-&gt;name)).\\'_\\'.time();\\n                    $image_name = $sanitized_image_name.\\'.\\'.$request-&gt;picture-&gt;extension();\\n\\n                    Transport::create([\\n                        \\'name\\' =&gt; $request-&gt;name,\\n                        \\'path_picture\\' =&gt; $image_name\\n                    ]);\\n\\n                    $request-&gt;picture-&gt;storeAs(\\'public/transports\\',$image_name);\\n                }\\n            }\\n\\n            return redirect(RouteServiceProvider::HOME)-&gt;with(\\'success_transports\\', \\'Transport saved successfully\\');\\n        } catch (\\\\Illuminate\\\\Database\\\\QueryException $e){\\n            return redirect(RouteServiceProvider::HOME)-&gt;with(\\'error_transports\\',$e-&gt;errorInfo);\\n        }\\n    }\\n</code></pre>\\n<p>I can also visualize my pictures in my public folder :\\n<a href=\"https://i.stack.imgur.com/YHsFM.png\" rel=\"nofollow noreferrer\"><img src=\"https://i.stack.imgur.com/YHsFM.png\" alt=\"folder tree\" /></a></p>\\n<p>i\\'ve <code>rm rf public/storage</code> many times already</p>\\n<p>here is my configfiles.php :</p>\\n<pre><code>&lt;?php\\n\\nreturn [\\n\\n\\n    \\'default\\' =&gt; env(\\'FILESYSTEM_DISK\\', \\'public\\'),\\n\\n\\n    \\'disks\\' =&gt; [\\n\\n        \\'local\\' =&gt; [\\n            \\'driver\\' =&gt; \\'local\\',\\n            \\'root\\' =&gt; storage_path(\\'app\\'),\\n            \\'throw\\' =&gt; false,\\n        ],\\n\\n        \\'public\\' =&gt; [\\n            \\'driver\\' =&gt; \\'local\\',\\n            \\'root\\' =&gt; storage_path(\\'app/public\\'),\\n            \\'url\\' =&gt; env(\\'APP_URL\\').\\'/storage\\',\\n            \\'visibility\\' =&gt; \\'public\\',\\n            \\'throw\\' =&gt; false,\\n        ],\\n\\n        \\'s3\\' =&gt; [\\n            \\'driver\\' =&gt; \\'s3\\',\\n            \\'key\\' =&gt; env(\\'AWS_ACCESS_KEY_ID\\'),\\n            \\'secret\\' =&gt; env(\\'AWS_SECRET_ACCESS_KEY\\'),\\n            \\'region\\' =&gt; env(\\'AWS_DEFAULT_REGION\\'),\\n            \\'bucket\\' =&gt; env(\\'AWS_BUCKET\\'),\\n            \\'url\\' =&gt; env(\\'AWS_URL\\'),\\n            \\'endpoint\\' =&gt; env(\\'AWS_ENDPOINT\\'),\\n            \\'use_path_style_endpoint\\' =&gt; env(\\'AWS_USE_PATH_STYLE_ENDPOINT\\', false),\\n            \\'throw\\' =&gt; false,\\n        ],\\n\\n    ],\\n\\n    \\'links\\' =&gt; [\\n        public_path(\\'storage\\') =&gt; storage_path(\\'app/public\\'),\\n    ],\\n\\n];\\n</code></pre>\\n<p>I appreciate your help, I\\'ve been looking at all the stackoverflow talking about that for the past hour.</p>\\n<p>PS: I don\\'t use vagrant.</p>\\n'),\n",
       " ('Create new input for local storage',\n",
       "  '<p>Incrementing and storing the scores on local storage are working fine. Score gets incremented depending if game is won or lost. When I refresh the page (scores go to 0) and start playing again, it starts updating the same local storage from the beginning.</p>\\n<p>Is it possible to leave the last local storage as it is and set/start with the new one when page is refreshed?</p>\\n<p>js</p>\\n<pre><code>function gameWon() {\\n    if (animalStatus === answer) {\\n        let oldScore = parseInt(document.getElementById(&quot;win&quot;).innerText);\\n        document.getElementById(&quot;win&quot;).innerText = ++oldScore;\\n        document.getElementById(&quot;key-container&quot;).innerHTML = `Well done! That was correct!&lt;br&gt; &lt;button id=&quot;play-again&quot; \\n        onclick=&quot;playAgain()&quot;&gt;Play again!&lt;/button&gt;`;\\n        localStorage.setItem(&quot;wins&quot;, document.getElementById(&quot;win&quot;).innerText);\\n    }\\n};\\n\\nfunction gameLost() {\\n    if (wrongGuess === 6) {\\n        let oldScore = parseInt(document.getElementById(&quot;loss&quot;).innerText);\\n        document.getElementById(&quot;loss&quot;).innerText = ++oldScore;\\n        document.getElementById(&quot;key-container&quot;).innerHTML = `Unfortunately you ran out of possible guesses.&lt;br&gt;\\n        Correct answer was: ${answer}!&lt;br&gt;&lt;button id=&quot;play-again&quot; onclick=&quot;playAgain()&quot;&gt;Play again!&lt;/button&gt;`;\\n        localStorage.setItem(&quot;losses&quot;, document.getElementById(&quot;loss&quot;).innerText);\\n    }\\n};\\n</code></pre>\\n'),\n",
       " ('Flutter - unable to compare 2 dates (FormatException: Trying to read yyyy from at position 0)',\n",
       "  \"<p>I am trying to hide/show a TextField in a Flutter application based on a comparation between 2 dates, but this condition always throws an error <code>FormatException: Trying to read yyyy from at position 0</code>.</p>\\n<p><strong>If I comment out the condition, there is no error</strong>.</p>\\n<p>The date I am trying to parse is 2022-10-11</p>\\n<p>My global variables:</p>\\n<pre><code>String validityString = '';\\n\\nDateTime currentDate = DateUtils.dateOnly(DateTime.now());\\n\\nDateTime thisValidity =\\n    Intl.withLocale('en', () =&gt; DateFormat(&quot;yyyy-MM-dd&quot;).parse(validityString));\\n</code></pre>\\n<p>This is where I assign the date:</p>\\n<pre><code>    if (response.data[&quot;status&quot;] == &quot;success&quot;) {\\n      setState(() {\\n        name = json.encode(response.data[&quot;data&quot;][&quot;name&quot;]);\\n        credit = json.encode(response.data[&quot;data&quot;][&quot;credit&quot;]);\\n        currency = json.encode(response.data[&quot;data&quot;][&quot;currency&quot;]);\\n        entryCount = json.encode(response.data[&quot;data&quot;][&quot;entryCount&quot;]);\\n        validity = json.encode(response.data[&quot;data&quot;][&quot;validity&quot;]);\\n\\n        validityString = validity.toString().replaceAll(RegExp('&quot;'), '');\\n      });\\n</code></pre>\\n<p>The condition is here:</p>\\n<pre><code>if (thisValidity.isBefore(currentDate))\\n     TextField(\\n       readOnly: true,\\n       enabled: false,\\n       decoration: InputDecoration(\\n          labelText:\\n            AppLocalizations.of(context)!.validity +\\n                                          validity\\n                                              .toString()\\n                                              .replaceAll(RegExp('&quot;'), ''),\\n            border: const OutlineInputBorder(),\\n            labelStyle: const TextStyle(\\n                          color: Colors.black,\\n                          fontWeight: FontWeight.bold),\\n                          filled: true,\\n                          fillColor: Colors.amberAccent,\\n         ),\\n       ),\\n</code></pre>\\n<p>Now if I do some logging, without the condition in use it will show me the correct data, but once I uncomment it, it will throw the mentioned error. I tried to all different positions to put my variables or date formatting, but no luck so far.</p>\\n<p>Any tips or help will be appriciated. :)</p>\\n\"),\n",
       " (None,\n",
       "  \"<p>Using the <code>add()</code> to store your data in a <code>Hive</code> box, will give it an incremental index as it's key, so you can imagine that your <code>Hive</code> box is like a list, so this:</p>\\n<pre><code>box.add(data); will add data to the box with a 0 index since it's the first and only element in the box.\\nbox.get('name'); // will return null because that key doesn't exist\\n</code></pre>\\n<p>there are two solutions for that case.\\n<br></p>\\n<p>Either saving the <code>data</code> in the box using <code>put()</code> with providing a &quot;name&quot; key like this:</p>\\n<pre><code>box.put('name', data); \\nbox.get('name');  //  will return data.\\n</code></pre>\\n<p>or trying to get the <code>data</code> with that index key with the <code>getAt()</code> like this:</p>\\n<pre><code> box.add(data); \\n    box.getAt(0);  //  will return data. (assuming that it's the first element so it's index is 0)\\n</code></pre>\\n\"),\n",
       " ('Spotipy: Is there any way to get how many times I played my top songs?',\n",
       "  \"<p>Is there any way to get how many times I played my top songs?</p>\\n<p>I'm using the method `</p>\\n<pre><code>current_user_top_tracks\\n</code></pre>\\n<p>` to build an application, but I notice it doesn't return the number of times I've listened to the categorized songs. Is there any way to implement this?</p>\\n\")]"
      ]
     },
     "execution_count": 4,
     "metadata": {},
     "output_type": "execute_result"
    }
   ],
   "source": [
    "posts"
   ]
  },
  {
   "cell_type": "code",
   "execution_count": 5,
   "metadata": {},
   "outputs": [
    {
     "name": "stdout",
     "output_type": "stream",
     "text": [
      "when I try to visualise my picture with this basic url on google :\n",
      "\n",
      "domain.com/storage/transports/picture.png\n",
      "\n",
      "I get (404) not found.\n",
      "(I don't have this error for a file outside the storage symlink in my tree picture and I can totaly see it without any problems, exemple :\n",
      "\n",
      "domain.com/logo.svg\n",
      "\n",
      "I have used php artisan storage:link to create the symlink, so far I'm abble to store the pictures exactly where I want to with that controller :\n",
      "public function storeTransports(Request $request)\n",
      "    {\n",
      "        try{\n",
      "            session(['content'=>'content_transports']);\n",
      "\n",
      "            $request->validate([\n",
      "                'name' => [ 'string', 'max:255'],\n",
      "                'picture' => [ 'required','image','mimes:jpeg,png,jpg,gif,svg', 'max:2048']\n",
      "            ]);\n",
      "\n",
      "            if(Transport::where('name', $request->name)->first()){\n",
      "                return redirect(RouteServiceProvider::HOME)->with('error_transports', 'Transport already exists');\n",
      "            }\n",
      "            else{\n",
      "                if($request->hasFile('picture')){\n",
      "                    $sanitized_image_name = strtolower(preg_replace(\"([^A-Za-z0-9])\", \"\", $request->name)).'_'.time();\n",
      "                    $image_name = $sanitized_image_name.'.'.$request->picture->extension();\n",
      "\n",
      "                    Transport::create([\n",
      "                        'name' => $request->name,\n",
      "                        'path_picture' => $image_name\n",
      "                    ]);\n",
      "\n",
      "                    $request->picture->storeAs('public/transports',$image_name);\n",
      "                }\n",
      "            }\n",
      "\n",
      "            return redirect(RouteServiceProvider::HOME)->with('success_transports', 'Transport saved successfully');\n",
      "        } catch (\\Illuminate\\Database\\QueryException $e){\n",
      "            return redirect(RouteServiceProvider::HOME)->with('error_transports',$e->errorInfo);\n",
      "        }\n",
      "    }\n",
      "\n",
      "I can also visualize my pictures in my public folder :\n",
      "\n",
      "i've rm rf public/storage many times already\n",
      "here is my configfiles.php :\n",
      "<?php\n",
      "\n",
      "return [\n",
      "\n",
      "\n",
      "    'default' => env('FILESYSTEM_DISK', 'public'),\n",
      "\n",
      "\n",
      "    'disks' => [\n",
      "\n",
      "        'local' => [\n",
      "            'driver' => 'local',\n",
      "            'root' => storage_path('app'),\n",
      "            'throw' => false,\n",
      "        ],\n",
      "\n",
      "        'public' => [\n",
      "            'driver' => 'local',\n",
      "            'root' => storage_path('app/public'),\n",
      "            'url' => env('APP_URL').'/storage',\n",
      "            'visibility' => 'public',\n",
      "            'throw' => false,\n",
      "        ],\n",
      "\n",
      "        's3' => [\n",
      "            'driver' => 's3',\n",
      "            'key' => env('AWS_ACCESS_KEY_ID'),\n",
      "            'secret' => env('AWS_SECRET_ACCESS_KEY'),\n",
      "            'region' => env('AWS_DEFAULT_REGION'),\n",
      "            'bucket' => env('AWS_BUCKET'),\n",
      "            'url' => env('AWS_URL'),\n",
      "            'endpoint' => env('AWS_ENDPOINT'),\n",
      "            'use_path_style_endpoint' => env('AWS_USE_PATH_STYLE_ENDPOINT', false),\n",
      "            'throw' => false,\n",
      "        ],\n",
      "\n",
      "    ],\n",
      "\n",
      "    'links' => [\n",
      "        public_path('storage') => storage_path('app/public'),\n",
      "    ],\n",
      "\n",
      "];\n",
      "\n",
      "I appreciate your help, I've been looking at all the stackoverflow talking about that for the past hour.\n",
      "PS: I don't use vagrant.\n",
      "\n"
     ]
    }
   ],
   "source": [
    "soup = BeautifulSoup(posts[0][1])\n",
    "print(soup.get_text())"
   ]
  },
  {
   "attachments": {},
   "cell_type": "markdown",
   "metadata": {},
   "source": [
    "# Extract and transform to text all posts"
   ]
  },
  {
   "cell_type": "code",
   "execution_count": 6,
   "metadata": {},
   "outputs": [
    {
     "name": "stdout",
     "output_type": "stream",
     "text": [
      "Column already exists\n"
     ]
    }
   ],
   "source": [
    "with connection:\n",
    "    with connection.cursor() as cursor:\n",
    "        cursor.execute(\"\"\"SELECT count(*)\n",
    "            FROM information_schema.columns\n",
    "            WHERE table_name = 'posts_19'\n",
    "            AND column_name = 'body_text'\n",
    "        \"\"\")\n",
    "        if cursor.fetchall()[0][0] == 0:\n",
    "            cursor.execute(\"ALTER TABLE posts_19 ADD COLUMN body_text TEXT;\")\n",
    "            print(\"Column created\")\n",
    "        else:\n",
    "            print(\"Column already exists\")"
   ]
  },
  {
   "cell_type": "code",
   "execution_count": 28,
   "metadata": {},
   "outputs": [
    {
     "data": {
      "text/plain": [
       "17069451"
      ]
     },
     "execution_count": 28,
     "metadata": {},
     "output_type": "execute_result"
    }
   ],
   "source": [
    "with connection:\n",
    "    with connection.cursor() as cursor:\n",
    "        cursor.execute(\"\"\"select count(*)\n",
    "        from posts_19 where body is not null\"\"\")\n",
    "        total_posts = cursor.fetchall()[0][0]\n",
    "total_posts"
   ]
  },
  {
   "cell_type": "code",
   "execution_count": 29,
   "metadata": {},
   "outputs": [],
   "source": [
    "def extract_text(id_body):\n",
    "    post_id, body = id_body\n",
    "    return post_id, BeautifulSoup(body, 'html.parser').get_text()"
   ]
  },
  {
   "cell_type": "code",
   "execution_count": null,
   "metadata": {},
   "outputs": [],
   "source": [
    "batch_size = 300000\n",
    "total_batches = (total_posts//batch_size)+1\n",
    "\n",
    "for batch_index in range(total_batches):\n",
    "\n",
    "    with connection:\n",
    "        with connection.cursor() as cursor:\n",
    "            cursor.execute(f\"\"\"select id, body\n",
    "            from posts_19\n",
    "            where body is not null\n",
    "            order by id\n",
    "            limit {batch_size} offset {batch_size*batch_index}\"\"\")\n",
    "            posts = cursor.fetchall()\n",
    "            \n",
    "    with Pool(8) as p:\n",
    "        maped_posts = p.map(extract_text, posts)\n",
    "    \n",
    "    with connection:\n",
    "        with connection.cursor() as cursor:\n",
    "            execute_values(cursor, \"\"\"UPDATE posts_19 SET body_text = data.body_text\n",
    "                                    FROM (VALUES %s) AS data (id, body_text)\n",
    "                                    WHERE posts_19.id = data.id\"\"\",\n",
    "                                    maped_posts)\n",
    "    print(f\"{(batch_index+1)/total_batches*100:.2f}% posts procesados\")"
   ]
  },
  {
   "cell_type": "code",
   "execution_count": 20,
   "metadata": {},
   "outputs": [
    {
     "data": {
      "text/plain": [
       "[(1755,)]"
      ]
     },
     "execution_count": 20,
     "metadata": {},
     "output_type": "execute_result"
    }
   ],
   "source": [
    "with connection:\n",
    "    with connection.cursor() as cursor:\n",
    "        cursor.execute(\"select count(*) from posts_19 where body_text is not null;\")\n",
    "        posts_body_sample = cursor.fetchall()[0][0]\n",
    "posts_body_sample"
   ]
  },
  {
   "cell_type": "code",
   "execution_count": 21,
   "metadata": {},
   "outputs": [
    {
     "data": {
      "text/plain": [
       "[(28756,\n",
       "  '<p>Whats the best/easiest way to obtain a count of items within an IEnumerable collection without enumerating over all of the items in the collection?</p>\\n\\n<p>Possible with LINQ or Lambda?</p>\\n',\n",
       "  'Whats the best/easiest way to obtain a count of items within an IEnumerable collection without enumerating over all of the items in the collection?\\nPossible with LINQ or Lambda?\\n'),\n",
       " (16747,\n",
       "  '<p>I am building a public website using ASP.NET, as part of the deliverable I need to do an Admin Site for data entry of the stuff shown in the public site, I was wondering what techniques or procedures are people using to validate entries using ASP.NET MVC.</p>\\n',\n",
       "  'I am building a public website using ASP.NET, as part of the deliverable I need to do an Admin Site for data entry of the stuff shown in the public site, I was wondering what techniques or procedures are people using to validate entries using ASP.NET MVC.\\n'),\n",
       " (22776,\n",
       "  '<p>One more, using <a href=\"http://docs.python.org/2/library/urllib.html#urllib.urlretrieve\" rel=\"noreferrer\"><code>urlretrieve</code></a>:</p>\\n<pre><code>import urllib.request\\nurllib.request.urlretrieve(&quot;http://www.example.com/songs/mp3.mp3&quot;, &quot;mp3.mp3&quot;)\\n</code></pre>\\n<p>(for Python 2 use <code>import urllib</code> and <code>urllib.urlretrieve</code>)</p>\\n',\n",
       "  'One more, using urlretrieve:\\nimport urllib.request\\nurllib.request.urlretrieve(\"http://www.example.com/songs/mp3.mp3\", \"mp3.mp3\")\\n\\n(for Python 2 use import urllib and urllib.urlretrieve)\\n')]"
      ]
     },
     "execution_count": 21,
     "metadata": {},
     "output_type": "execute_result"
    }
   ],
   "source": [
    "with connection:\n",
    "    with connection.cursor() as cursor:\n",
    "        cursor.execute(\"select id, body, body_text from posts_19 where body_text is not null limit 3;\")\n",
    "        posts_body_sample = cursor.fetchall()\n",
    "posts_body_sample"
   ]
  },
  {
   "cell_type": "code",
   "execution_count": null,
   "metadata": {},
   "outputs": [],
   "source": []
  }
 ],
 "metadata": {
  "kernelspec": {
   "display_name": "so_q_recom",
   "language": "python",
   "name": "python3"
  },
  "language_info": {
   "codemirror_mode": {
    "name": "ipython",
    "version": 3
   },
   "file_extension": ".py",
   "mimetype": "text/x-python",
   "name": "python",
   "nbconvert_exporter": "python",
   "pygments_lexer": "ipython3",
   "version": "3.10.6"
  },
  "orig_nbformat": 4
 },
 "nbformat": 4,
 "nbformat_minor": 2
}
