{
 "cells": [
  {
   "cell_type": "code",
   "execution_count": 1,
   "metadata": {},
   "outputs": [],
   "source": [
    "import psycopg2\n",
    "from psycopg2.extras import execute_values\n",
    "from bs4 import BeautifulSoup\n",
    "from multiprocessing import Pool"
   ]
  },
  {
   "cell_type": "code",
   "execution_count": 2,
   "metadata": {},
   "outputs": [],
   "source": [
    "connection = psycopg2.connect(user=\"postgres\", password=\"postgres\", host=\"127.0.0.1\", port=\"63333\", database=\"stack_overflow\")"
   ]
  },
  {
   "cell_type": "code",
   "execution_count": 4,
   "metadata": {},
   "outputs": [],
   "source": [
    "with connection:\n",
    "    with connection.cursor() as cursor:\n",
    "        cursor.execute(\"\"\"select title, body\n",
    "        from posts_19\n",
    "        limit 5\"\"\")\n",
    "        posts = cursor.fetchall()"
   ]
  },
  {
   "cell_type": "code",
   "execution_count": 5,
   "metadata": {},
   "outputs": [
    {
     "data": {
      "text/plain": [
       "[('Accessing Twitter Data: API/Cursor (twitter user) vs Streaming (hash_tag_list)',\n",
       "  \"<p>I was studying the code to access Twitter data. The code was written by someone whos shows how to access the twitter data in youtube.</p>\\n<p>Please see code below (some parts are truncated):</p>\\n<pre><code>from tweepy import API \\nfrom tweepy import Cursor\\nfrom tweepy.streaming import StreamListener\\nfrom tweepy import OAuthHandler\\nfrom tweepy import Stream\\n \\nimport twitter_credentials\\nimport numpy as np\\nimport pandas as pd\\n\\nclass TwitterClient():\\n    def __init__(self, twitter_user=None):\\n        self.auth = TwitterAuthenticator().authenticate_twitter_app()\\n        self.twitter_client = API(self.auth)\\n        self.twitter_user = twitter_user\\n    def get_user_timeline_tweets(self, num_tweets):\\n        tweets = []\\n        for tweet in Cursor(self.twitter_client.user_timeline, id=self.twitter_user).items(num_tweets):\\n            tweets.append(tweet)\\n        return tweets        \\n\\nclass TwitterAuthenticator():\\n    def authenticate_twitter_app(self):\\n        auth = xxxx\\n        return auth\\n\\nclass TwitterStreamer():\\n    &quot;&quot;&quot;\\n    Class for streaming and processing live tweets.\\n    &quot;&quot;&quot;\\n    def __init__(self):\\n        self.twitter_autenticator = TwitterAuthenticator()    \\n    def stream_tweets(self, fetched_tweets_filename, hash_tag_list):\\n        # This handles Twitter authetification and the connection to Twitter Streaming API\\n        listener = TwitterListener(fetched_tweets_filename)\\n        auth = self.twitter_autenticator.authenticate_twitter_app() \\n        stream = Stream(auth, listener)\\n\\n        # This line filter Twitter Streams to capture data by the keywords: \\n        stream.filter(track=hash_tag_list)\\n\\n\\nclass TwitterListener(StreamListener):\\n     xxxxxxx\\n\\nif __name__ == '__main__':\\n\\n    hash_tag_list = [&quot;donal trump&quot;, &quot;hillary clinton&quot;, &quot;barack obama&quot;, &quot;bernie sanders&quot;]\\n   \\n    twitter_client = TwitterClient('COVID19')\\n    print(twitter_client.get_user_timeline_tweets(1))\\n    twitter_streamer=TwitterStreamer()    \\n    twitter_streamer.stream_tweets(      \\n    fetched_tweets_filename, hash_tag_list)\\n</code></pre>\\n<p>From the code, I was wondering why create two classes <code>TwitterClient(</code>) and <code>TwitterStreamer()</code>?  <code>TwitterStreamer()</code> works with <code>hashtag</code> list while <code>TwitterClient()</code> is <code>user specific</code>. Does it mean that <code>TwitterStreamer()</code> is more like a large scale search   while <code>TwitterClient()</code> is more user specific. Why separating them in two?  and why using <code>TwitterStreamer()</code> class for the <code>hashtags</code> only ?</p>\\n<p>Can someone please comment on this bit of code as i am new to twitter data exploration.</p>\\n<p>Thanks so much</p>\\n\"),\n",
       " (None,\n",
       "  \"<p>My repository:</p>\\n<pre><code>Future&lt;List&lt;TarefaModel&gt;&gt; search(String term) async {\\n\\n    try {\\n\\n      final Database db = await _getDatabase();\\n      \\n      final List&lt;Map&lt;String, dynamic&gt;&gt; maps = await db.query(\\n        TAREFAS_TABLE,\\n        where: &quot;descricao LIKE ?&quot;,\\n        whereArgs: [\\n          '%$term%',\\n        ],\\n      );\\n\\n      return List.generate(\\n        maps.length,\\n        (i) {\\n          return TarefaModel(\\n            id: maps[i]['id'],\\n            descricao: maps[i]['descricao'],\\n         \\n          );\\n        },\\n      );\\n    } catch (ex) {\\n      print(ex);\\n      return new List&lt;TarefaModel&gt;();\\n    }\\n  }\\n\\n</code></pre>\\n\")]"
      ]
     },
     "execution_count": 5,
     "metadata": {},
     "output_type": "execute_result"
    }
   ],
   "source": [
    "posts[:2]"
   ]
  },
  {
   "cell_type": "code",
   "execution_count": 6,
   "metadata": {},
   "outputs": [
    {
     "name": "stdout",
     "output_type": "stream",
     "text": [
      "I was studying the code to access Twitter data. The code was written by someone whos shows how to access the twitter data in youtube.\n",
      "Please see code below (some parts are truncated):\n",
      "from tweepy import API \n",
      "from tweepy import Cursor\n",
      "from tweepy.streaming import StreamListener\n",
      "from tweepy import OAuthHandler\n",
      "from tweepy import Stream\n",
      " \n",
      "import twitter_credentials\n",
      "import numpy as np\n",
      "import pandas as pd\n",
      "\n",
      "class TwitterClient():\n",
      "    def __init__(self, twitter_user=None):\n",
      "        self.auth = TwitterAuthenticator().authenticate_twitter_app()\n",
      "        self.twitter_client = API(self.auth)\n",
      "        self.twitter_user = twitter_user\n",
      "    def get_user_timeline_tweets(self, num_tweets):\n",
      "        tweets = []\n",
      "        for tweet in Cursor(self.twitter_client.user_timeline, id=self.twitter_user).items(num_tweets):\n",
      "            tweets.append(tweet)\n",
      "        return tweets        \n",
      "\n",
      "class TwitterAuthenticator():\n",
      "    def authenticate_twitter_app(self):\n",
      "        auth = xxxx\n",
      "        return auth\n",
      "\n",
      "class TwitterStreamer():\n",
      "    \"\"\"\n",
      "    Class for streaming and processing live tweets.\n",
      "    \"\"\"\n",
      "    def __init__(self):\n",
      "        self.twitter_autenticator = TwitterAuthenticator()    \n",
      "    def stream_tweets(self, fetched_tweets_filename, hash_tag_list):\n",
      "        # This handles Twitter authetification and the connection to Twitter Streaming API\n",
      "        listener = TwitterListener(fetched_tweets_filename)\n",
      "        auth = self.twitter_autenticator.authenticate_twitter_app() \n",
      "        stream = Stream(auth, listener)\n",
      "\n",
      "        # This line filter Twitter Streams to capture data by the keywords: \n",
      "        stream.filter(track=hash_tag_list)\n",
      "\n",
      "\n",
      "class TwitterListener(StreamListener):\n",
      "     xxxxxxx\n",
      "\n",
      "if __name__ == '__main__':\n",
      "\n",
      "    hash_tag_list = [\"donal trump\", \"hillary clinton\", \"barack obama\", \"bernie sanders\"]\n",
      "   \n",
      "    twitter_client = TwitterClient('COVID19')\n",
      "    print(twitter_client.get_user_timeline_tweets(1))\n",
      "    twitter_streamer=TwitterStreamer()    \n",
      "    twitter_streamer.stream_tweets(      \n",
      "    fetched_tweets_filename, hash_tag_list)\n",
      "\n",
      "From the code, I was wondering why create two classes TwitterClient() and TwitterStreamer()?  TwitterStreamer() works with hashtag list while TwitterClient() is user specific. Does it mean that TwitterStreamer() is more like a large scale search   while TwitterClient() is more user specific. Why separating them in two?  and why using TwitterStreamer() class for the hashtags only ?\n",
      "Can someone please comment on this bit of code as i am new to twitter data exploration.\n",
      "Thanks so much\n",
      "\n"
     ]
    }
   ],
   "source": [
    "soup = BeautifulSoup(posts[0][1])\n",
    "print(soup.get_text())"
   ]
  },
  {
   "attachments": {},
   "cell_type": "markdown",
   "metadata": {},
   "source": [
    "# Extract and transform to text all posts"
   ]
  },
  {
   "cell_type": "code",
   "execution_count": 7,
   "metadata": {},
   "outputs": [
    {
     "name": "stdout",
     "output_type": "stream",
     "text": [
      "Column already exists\n"
     ]
    }
   ],
   "source": [
    "with connection:\n",
    "    with connection.cursor() as cursor:\n",
    "        cursor.execute(\"\"\"SELECT count(*)\n",
    "            FROM information_schema.columns\n",
    "            WHERE table_name = 'posts_19'\n",
    "            AND column_name = 'body_text'\n",
    "        \"\"\")\n",
    "        if cursor.fetchall()[0][0] == 0:\n",
    "            cursor.execute(\"ALTER TABLE posts_19 ADD COLUMN body_text TEXT;\")\n",
    "            print(\"Column created\")\n",
    "        else:\n",
    "            print(\"Column already exists\")"
   ]
  },
  {
   "cell_type": "code",
   "execution_count": 8,
   "metadata": {},
   "outputs": [
    {
     "data": {
      "text/plain": [
       "17069451"
      ]
     },
     "execution_count": 8,
     "metadata": {},
     "output_type": "execute_result"
    }
   ],
   "source": [
    "with connection:\n",
    "    with connection.cursor() as cursor:\n",
    "        cursor.execute(\"\"\"select count(*)\n",
    "        from posts_19 where body is not null\"\"\")\n",
    "        total_posts = cursor.fetchall()[0][0]\n",
    "total_posts"
   ]
  },
  {
   "cell_type": "code",
   "execution_count": 9,
   "metadata": {},
   "outputs": [],
   "source": [
    "def extract_text(id_body):\n",
    "    post_id, body = id_body\n",
    "    return post_id, BeautifulSoup(body, 'html.parser').get_text().encode(\"utf-8\", 'backslashreplace').decode().replace('\\0', '\\\\0')"
   ]
  },
  {
   "cell_type": "code",
   "execution_count": null,
   "metadata": {},
   "outputs": [],
   "source": [
    "batch_size = 300000\n",
    "total_batches = (total_posts//batch_size)+1\n",
    "\n",
    "for batch_index in range(total_batches):\n",
    "\n",
    "    with connection:\n",
    "        with connection.cursor() as cursor:\n",
    "            cursor.execute(f\"\"\"select id, body\n",
    "            from posts_19\n",
    "            where body is not null\n",
    "            order by id\n",
    "            limit {batch_size} offset {batch_size*batch_index}\"\"\")\n",
    "            posts = cursor.fetchall()\n",
    "            \n",
    "    with Pool(8) as p:\n",
    "        maped_posts = p.map(extract_text, posts)\n",
    "    \n",
    "    with connection:\n",
    "        with connection.cursor() as cursor:\n",
    "            execute_values(cursor, \"\"\"UPDATE posts_19 SET body_text = data.body_text\n",
    "                                    FROM (VALUES %s) AS data (id, body_text)\n",
    "                                    WHERE posts_19.id = data.id\"\"\",\n",
    "                                    maped_posts)\n",
    "    print(f\"{(batch_index+1)/total_batches*100:.2f}% posts procesados\")"
   ]
  },
  {
   "cell_type": "code",
   "execution_count": 23,
   "metadata": {},
   "outputs": [
    {
     "data": {
      "text/plain": [
       "17069451"
      ]
     },
     "execution_count": 23,
     "metadata": {},
     "output_type": "execute_result"
    }
   ],
   "source": [
    "with connection:\n",
    "    with connection.cursor() as cursor:\n",
    "        cursor.execute(\"select count(*) from posts_19 where body_text is not null;\")\n",
    "        posts_body_sample = cursor.fetchall()[0][0]\n",
    "posts_body_sample"
   ]
  },
  {
   "cell_type": "code",
   "execution_count": 24,
   "metadata": {},
   "outputs": [
    {
     "data": {
      "text/plain": [
       "[(68451754,\n",
       "  '<p>We are currently developing an AppEngine Standard application using Cloud Firestore in Native Mode which is working very well.\\nNow, we want to support a query that needs a composite index which we try to create using a <code>index.yaml</code> file:</p>\\n<pre><code>indexes:\\n  - kind: myentity\\n    properties:\\n      - name: owner\\n        direction: asc\\n      - name: created_at\\n        direction: asc\\n</code></pre>\\n<p>When testing this with <code>gcloud app deploy index.yaml</code>, we observe that indexes are being created. However, the created indexes are Cloud Datastore indexes not Cloud Firestore ones, even though Datastore is &quot;not even enabled&quot; (The Cloud console wants to send you directly to Firestore view if you try to access the Datastore view).\\nTherefore, our queries are failing.\\nHow do we instruct AppEngine to create Firestore indexes not Datastore indexes?</p>\\n',\n",
       "  'We are currently developing an AppEngine Standard application using Cloud Firestore in Native Mode which is working very well.\\nNow, we want to support a query that needs a composite index which we try to create using a index.yaml file:\\nindexes:\\n  - kind: myentity\\n    properties:\\n      - name: owner\\n        direction: asc\\n      - name: created_at\\n        direction: asc\\n\\nWhen testing this with gcloud app deploy index.yaml, we observe that indexes are being created. However, the created indexes are Cloud Datastore indexes not Cloud Firestore ones, even though Datastore is \"not even enabled\" (The Cloud console wants to send you directly to Firestore view if you try to access the Datastore view).\\nTherefore, our queries are failing.\\nHow do we instruct AppEngine to create Firestore indexes not Datastore indexes?\\n'),\n",
       " (68451756,\n",
       "  \"<p>I am trying to use AND operator between variables with the type of byte. the error below is bugging me.</p>\\n<pre><code>sqlalchemy.exc.ProgrammingError: (psycopg2.errors.UndefinedFunction) operator does not exist: bytea &amp; bytea\\nLINE 3: WHERE (doctors.schedule &amp; '\\\\x0000000000000000000000000000000...\\n                                ^\\nHINT:  No operator matches the given name and argument types. You might need to add explicit type casts.\\n</code></pre>\\n<p>let's say those two variables are:</p>\\n<pre><code>v = b'\\\\x00\\\\x00\\\\x00\\\\x03\\\\x00\\\\x00\\\\x00\\\\x00\\\\x00\\\\x02\\\\x00\\\\x00\\\\x00\\\\x00\\\\x00\\\\x00\\\\x00\\\\x00\\\\x00\\\\x00\\\\x00\\\\x00\\\\x00\\\\x00\\\\x00\\\\x00\\\\x00\\\\x00\\\\x00\\\\x00\\\\x00\\\\x00\\\\x00\\\\x00\\\\x00\\\\x00\\\\x00\\\\x00\\\\x00\\\\x00\\\\x00\\\\x00\\\\x00\\\\x00\\\\x00\\\\x00\\\\x00\\\\x00\\\\x00\\\\x00\\\\x00\\\\x00\\\\x00\\\\x00\\\\x00\\\\x00\\\\x00\\\\x00\\\\x00\\\\x00\\\\x00\\\\x00\\\\x00\\\\x00\\\\x00\\\\x00\\\\x00\\\\x00\\\\x00\\\\x00\\\\x00\\\\x00\\\\x00\\\\x00\\\\x00\\\\x00\\\\x00\\\\x00\\\\x00\\\\x00\\\\x00\\\\x00\\\\x00\\\\x00\\\\x00\\\\x00\\\\x00\\\\x00\\\\x00\\\\x00\\\\x00\\\\x00\\\\x00\\\\x00\\\\x00\\\\x00\\\\x00\\\\x00\\\\x00\\\\x00\\\\x00\\\\x00\\\\x00\\\\x00\\\\x00\\\\x00\\\\x00\\\\x00\\\\x00\\\\x00\\\\x00\\\\x00\\\\x00\\\\x00\\\\x00\\\\x00\\\\x00\\\\x00\\\\x00\\\\x00\\\\x00\\\\x00\\\\x00\\\\x00\\\\x00\\\\x00'\\n\\nc = b'\\\\xff\\\\xff\\\\xc0\\\\x03\\\\xff\\\\xff\\\\xff\\\\xff\\\\xfc\\\\x03\\\\xff\\\\xfe\\\\x00\\\\x00\\\\x00\\\\x00\\\\x00\\\\x00\\\\x00\\\\x00\\\\x00\\\\x00\\\\x00\\\\x00\\\\x00\\\\x00\\\\x00\\\\x00\\\\x00\\\\x00\\\\x00\\\\x00\\\\x00\\\\x00\\\\x00\\\\x00\\\\x00\\\\x00\\\\x00\\\\x00\\\\x00\\\\x00\\\\x00\\\\x00\\\\x00\\\\x00\\\\x00\\\\x00\\\\x00\\\\x00\\\\x00\\\\x00\\\\x00\\\\x00\\\\x00\\\\x00\\\\x00\\\\x00\\\\x00\\\\x00\\\\x00\\\\x00\\\\x00\\\\x00\\\\x00\\\\x00\\\\x00\\\\x00\\\\x00\\\\x00\\\\x00\\\\x00\\\\x00\\\\x00\\\\x00\\\\x00\\\\x00\\\\x00\\\\x00\\\\x00\\\\x00\\\\x00\\\\x00\\\\x00\\\\x00\\\\x00\\\\x00\\\\x00\\\\x00\\\\x00\\\\x00\\\\x00\\\\x00\\\\x00\\\\x00\\\\x00\\\\x00\\\\x00\\\\x00\\\\x00\\\\x00\\\\x00\\\\x00\\\\x00\\\\x00\\\\x00\\\\x00\\\\x00\\\\x00\\\\x00\\\\x00\\\\x00\\\\x00\\\\x00\\\\x00\\\\x00\\\\x00\\\\x00\\\\x00\\\\x00\\\\x00\\\\x00\\\\x00\\\\x00\\\\x00\\\\x00'\\n</code></pre>\\n<p>any idea how to solve this?\\nI appreciate it in advance.</p>\\n\",\n",
       "  \"I am trying to use AND operator between variables with the type of byte. the error below is bugging me.\\nsqlalchemy.exc.ProgrammingError: (psycopg2.errors.UndefinedFunction) operator does not exist: bytea & bytea\\nLINE 3: WHERE (doctors.schedule & '\\\\x0000000000000000000000000000000...\\n                                ^\\nHINT:  No operator matches the given name and argument types. You might need to add explicit type casts.\\n\\nlet's say those two variables are:\\nv = b'\\\\x00\\\\x00\\\\x00\\\\x03\\\\x00\\\\x00\\\\x00\\\\x00\\\\x00\\\\x02\\\\x00\\\\x00\\\\x00\\\\x00\\\\x00\\\\x00\\\\x00\\\\x00\\\\x00\\\\x00\\\\x00\\\\x00\\\\x00\\\\x00\\\\x00\\\\x00\\\\x00\\\\x00\\\\x00\\\\x00\\\\x00\\\\x00\\\\x00\\\\x00\\\\x00\\\\x00\\\\x00\\\\x00\\\\x00\\\\x00\\\\x00\\\\x00\\\\x00\\\\x00\\\\x00\\\\x00\\\\x00\\\\x00\\\\x00\\\\x00\\\\x00\\\\x00\\\\x00\\\\x00\\\\x00\\\\x00\\\\x00\\\\x00\\\\x00\\\\x00\\\\x00\\\\x00\\\\x00\\\\x00\\\\x00\\\\x00\\\\x00\\\\x00\\\\x00\\\\x00\\\\x00\\\\x00\\\\x00\\\\x00\\\\x00\\\\x00\\\\x00\\\\x00\\\\x00\\\\x00\\\\x00\\\\x00\\\\x00\\\\x00\\\\x00\\\\x00\\\\x00\\\\x00\\\\x00\\\\x00\\\\x00\\\\x00\\\\x00\\\\x00\\\\x00\\\\x00\\\\x00\\\\x00\\\\x00\\\\x00\\\\x00\\\\x00\\\\x00\\\\x00\\\\x00\\\\x00\\\\x00\\\\x00\\\\x00\\\\x00\\\\x00\\\\x00\\\\x00\\\\x00\\\\x00\\\\x00\\\\x00\\\\x00\\\\x00\\\\x00\\\\x00\\\\x00\\\\x00\\\\x00\\\\x00\\\\x00'\\n\\nc = b'\\\\xff\\\\xff\\\\xc0\\\\x03\\\\xff\\\\xff\\\\xff\\\\xff\\\\xfc\\\\x03\\\\xff\\\\xfe\\\\x00\\\\x00\\\\x00\\\\x00\\\\x00\\\\x00\\\\x00\\\\x00\\\\x00\\\\x00\\\\x00\\\\x00\\\\x00\\\\x00\\\\x00\\\\x00\\\\x00\\\\x00\\\\x00\\\\x00\\\\x00\\\\x00\\\\x00\\\\x00\\\\x00\\\\x00\\\\x00\\\\x00\\\\x00\\\\x00\\\\x00\\\\x00\\\\x00\\\\x00\\\\x00\\\\x00\\\\x00\\\\x00\\\\x00\\\\x00\\\\x00\\\\x00\\\\x00\\\\x00\\\\x00\\\\x00\\\\x00\\\\x00\\\\x00\\\\x00\\\\x00\\\\x00\\\\x00\\\\x00\\\\x00\\\\x00\\\\x00\\\\x00\\\\x00\\\\x00\\\\x00\\\\x00\\\\x00\\\\x00\\\\x00\\\\x00\\\\x00\\\\x00\\\\x00\\\\x00\\\\x00\\\\x00\\\\x00\\\\x00\\\\x00\\\\x00\\\\x00\\\\x00\\\\x00\\\\x00\\\\x00\\\\x00\\\\x00\\\\x00\\\\x00\\\\x00\\\\x00\\\\x00\\\\x00\\\\x00\\\\x00\\\\x00\\\\x00\\\\x00\\\\x00\\\\x00\\\\x00\\\\x00\\\\x00\\\\x00\\\\x00\\\\x00\\\\x00\\\\x00\\\\x00\\\\x00\\\\x00\\\\x00\\\\x00\\\\x00\\\\x00\\\\x00\\\\x00\\\\x00'\\n\\nany idea how to solve this?\\nI appreciate it in advance.\\n\"),\n",
       " (68451760,\n",
       "  '<p>I am trying to order the below object by <code>name</code>. I want the list  to be ordered in the following way 1)<code>balloon</code> 2)<code>term</code> 3)<code>instalment</code>.</p>\\n<pre><code>loanAdjustmentList = [\\n    {\\n        &quot;description&quot;: &quot;Restructure Option&quot;,\\n        &quot;name&quot;: &quot;instalment&quot;,\\n        &quot;restructureAllowed&quot;: &quot;N&quot;,\\n        &quot;reason&quot;: &quot;Due to the status of your account we are unable to process your request. Please contact 0860 669 669 for more information&quot;,\\n        &quot;reasonCode&quot;: &quot;1&quot;\\n    },\\n    {\\n        &quot;description&quot;: &quot;Restructure Option&quot;,\\n        &quot;name&quot;: &quot;term&quot;,\\n        &quot;restructureAllowed&quot;: &quot;N&quot;,\\n        &quot;reason&quot;: &quot;Due to the status of your account we are unable to process your request. Please contact 0860 669 669 for more information&quot;,\\n        &quot;reasonCode&quot;: &quot;1&quot;\\n    },\\n    {\\n        &quot;description&quot;: &quot;Restructure Option&quot;,\\n        &quot;name&quot;: &quot;balloon&quot;,\\n        &quot;restructureAllowed&quot;: &quot;N&quot;,\\n        &quot;reason&quot;: &quot;Due to the status of your account we are unable to process your request. Please contact 0860 669 669 for more information&quot;,\\n        &quot;reasonCode&quot;: &quot;1&quot;\\n    }\\n]\\n</code></pre>\\n<p>Any idea what I can try?</p>\\n',\n",
       "  'I am trying to order the below object by name. I want the list  to be ordered in the following way 1)balloon 2)term 3)instalment.\\nloanAdjustmentList = [\\n    {\\n        \"description\": \"Restructure Option\",\\n        \"name\": \"instalment\",\\n        \"restructureAllowed\": \"N\",\\n        \"reason\": \"Due to the status of your account we are unable to process your request. Please contact 0860 669 669 for more information\",\\n        \"reasonCode\": \"1\"\\n    },\\n    {\\n        \"description\": \"Restructure Option\",\\n        \"name\": \"term\",\\n        \"restructureAllowed\": \"N\",\\n        \"reason\": \"Due to the status of your account we are unable to process your request. Please contact 0860 669 669 for more information\",\\n        \"reasonCode\": \"1\"\\n    },\\n    {\\n        \"description\": \"Restructure Option\",\\n        \"name\": \"balloon\",\\n        \"restructureAllowed\": \"N\",\\n        \"reason\": \"Due to the status of your account we are unable to process your request. Please contact 0860 669 669 for more information\",\\n        \"reasonCode\": \"1\"\\n    }\\n]\\n\\nAny idea what I can try?\\n')]"
      ]
     },
     "execution_count": 24,
     "metadata": {},
     "output_type": "execute_result"
    }
   ],
   "source": [
    "with connection:\n",
    "    with connection.cursor() as cursor:\n",
    "        cursor.execute(\"select id, body, body_text from posts_19 where body_text is not null limit 3;\")\n",
    "        posts_body_sample = cursor.fetchall()\n",
    "posts_body_sample"
   ]
  }
 ],
 "metadata": {
  "kernelspec": {
   "display_name": "so_q_recom",
   "language": "python",
   "name": "python3"
  },
  "language_info": {
   "codemirror_mode": {
    "name": "ipython",
    "version": 3
   },
   "file_extension": ".py",
   "mimetype": "text/x-python",
   "name": "python",
   "nbconvert_exporter": "python",
   "pygments_lexer": "ipython3",
   "version": "3.10.6"
  },
  "orig_nbformat": 4
 },
 "nbformat": 4,
 "nbformat_minor": 2
}
