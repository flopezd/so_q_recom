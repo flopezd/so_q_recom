{
 "cells": [
  {
   "cell_type": "code",
   "execution_count": 2,
   "id": "153ca2de-53be-4e89-944f-d0a1aeb8efc9",
   "metadata": {},
   "outputs": [],
   "source": [
    "import fairsearchcore as fsc\n",
    "from fairsearchcore.models import FairScoreDoc\n",
    "import numpy as np\n",
    "import pandas as pd\n",
    "import matplotlib.pyplot as plt\n",
    "import numpy as np\n",
    "from fairsearchcore import re_ranker\n"
   ]
  },
  {
   "cell_type": "code",
   "execution_count": 3,
   "id": "3b122e5f-9f40-4bea-a933-bed812d90efb",
   "metadata": {},
   "outputs": [],
   "source": [
    "k = 20 # number of topK elements returned (value should be between 10 and 400)\n",
    "p = 0.25 # proportion of protected candidates in the topK elements (value should be between 0.02 and 0.98) \n",
    "alpha = 0.1 # significance level (value should be between 0.01 and 0.15)\n",
    "\n",
    "# create the Fair object \n",
    "fair = fsc.Fair(k, p, alpha)\n"
   ]
  },
  {
   "cell_type": "code",
   "execution_count": 4,
   "id": "a5665269-71ca-4a09-9a49-1ffe9e7a418c",
   "metadata": {},
   "outputs": [],
   "source": [
    "gen_ranking = [FairScoreDoc(d_id, score, protected)\n",
    "    for d_id, score, protected in\n",
    "    zip(range(k), np.random.rand(k), np.random.choice([True, False], k))]"
   ]
  },
  {
   "cell_type": "code",
   "execution_count": 5,
   "id": "7c70331e-7b3e-4f80-8133-92751250537f",
   "metadata": {},
   "outputs": [
    {
     "data": {
      "text/plain": [
       "True"
      ]
     },
     "execution_count": 5,
     "metadata": {},
     "output_type": "execute_result"
    }
   ],
   "source": [
    "fair.is_fair(gen_ranking)"
   ]
  },
  {
   "cell_type": "code",
   "execution_count": 6,
   "id": "dda3c328-cd75-4f47-b658-00f551f2659e",
   "metadata": {},
   "outputs": [
    {
     "data": {
      "text/plain": [
       "False"
      ]
     },
     "execution_count": 6,
     "metadata": {},
     "output_type": "execute_result"
    }
   ],
   "source": [
    "unfair_ranking = [FairScoreDoc(20, 20, False), FairScoreDoc(19, 19, False), FairScoreDoc(18, 18, False),\n",
    "                      FairScoreDoc(17, 17, False), FairScoreDoc(16, 16, False), FairScoreDoc(15, 15, False),\n",
    "                      FairScoreDoc(14, 14, False), FairScoreDoc(13, 13, False), FairScoreDoc(12, 12, False),\n",
    "                      FairScoreDoc(11, 11, False), FairScoreDoc(10, 10, False), FairScoreDoc(9, 9, False),\n",
    "                      FairScoreDoc(8, 8, False), FairScoreDoc(7, 7, False), FairScoreDoc(6, 6, True),\n",
    "                      FairScoreDoc(5, 5, True), FairScoreDoc(4, 4, True), FairScoreDoc(3, 3, True),\n",
    "                      FairScoreDoc(2, 2, True), FairScoreDoc(1, 1, True)]\n",
    "                      \n",
    "# let's check the ranking is considered fair\n",
    "fair.is_fair(unfair_ranking)\n"
   ]
  },
  {
   "cell_type": "code",
   "execution_count": 7,
   "id": "5950d622-7ac8-4763-8f8c-a5600aab4029",
   "metadata": {},
   "outputs": [
    {
     "data": {
      "text/plain": [
       "True"
      ]
     },
     "execution_count": 7,
     "metadata": {},
     "output_type": "execute_result"
    }
   ],
   "source": [
    "re_ranked = fair.re_rank(unfair_ranking)\n",
    "fair.is_fair(re_ranked)"
   ]
  },
  {
   "cell_type": "code",
   "execution_count": 8,
   "id": "dd7ec328",
   "metadata": {},
   "outputs": [
    {
     "data": {
      "text/plain": [
       "[<FairScoreDoc [Nonprotected]>,\n",
       " <FairScoreDoc [Nonprotected]>,\n",
       " <FairScoreDoc [Nonprotected]>,\n",
       " <FairScoreDoc [Nonprotected]>,\n",
       " <FairScoreDoc [Nonprotected]>,\n",
       " <FairScoreDoc [Nonprotected]>,\n",
       " <FairScoreDoc [Nonprotected]>,\n",
       " <FairScoreDoc [Nonprotected]>,\n",
       " <FairScoreDoc [Protected]>,\n",
       " <FairScoreDoc [Nonprotected]>,\n",
       " <FairScoreDoc [Nonprotected]>,\n",
       " <FairScoreDoc [Nonprotected]>,\n",
       " <FairScoreDoc [Nonprotected]>,\n",
       " <FairScoreDoc [Nonprotected]>,\n",
       " <FairScoreDoc [Nonprotected]>,\n",
       " <FairScoreDoc [Protected]>,\n",
       " <FairScoreDoc [Protected]>,\n",
       " <FairScoreDoc [Protected]>,\n",
       " <FairScoreDoc [Protected]>,\n",
       " <FairScoreDoc [Protected]>]"
      ]
     },
     "execution_count": 8,
     "metadata": {},
     "output_type": "execute_result"
    }
   ],
   "source": [
    "re_ranked"
   ]
  },
  {
   "cell_type": "markdown",
   "id": "17adf4b3",
   "metadata": {},
   "source": [
    "# Check fairness in the recommendations"
   ]
  },
  {
   "cell_type": "code",
   "execution_count": 9,
   "id": "bb59fed1",
   "metadata": {},
   "outputs": [],
   "source": [
    "k = 10 # number of topK elements returned (value should be between 10 and 400)\n",
    "# TODO: check if this p is the global p\n",
    "# 1−0,3602\n",
    "p = 0.6398 # proportion of protected candidates in the topK elements (value should be between 0.02 and 0.98) \n",
    "alpha = 0.1 # significance level (value should be between 0.01 and 0.15)\n",
    "\n",
    "# create the Fair object \n",
    "fair = fsc.Fair(k, p, alpha)"
   ]
  },
  {
   "cell_type": "code",
   "execution_count": 10,
   "id": "cdfa0286",
   "metadata": {},
   "outputs": [
    {
     "data": {
      "text/html": [
       "<div>\n",
       "<style scoped>\n",
       "    .dataframe tbody tr th:only-of-type {\n",
       "        vertical-align: middle;\n",
       "    }\n",
       "\n",
       "    .dataframe tbody tr th {\n",
       "        vertical-align: top;\n",
       "    }\n",
       "\n",
       "    .dataframe thead th {\n",
       "        text-align: right;\n",
       "    }\n",
       "</style>\n",
       "<table border=\"1\" class=\"dataframe\">\n",
       "  <thead>\n",
       "    <tr style=\"text-align: right;\">\n",
       "      <th></th>\n",
       "      <th>u_id</th>\n",
       "      <th>pscore</th>\n",
       "      <th>developed_country</th>\n",
       "    </tr>\n",
       "  </thead>\n",
       "  <tbody>\n",
       "    <tr>\n",
       "      <th>0</th>\n",
       "      <td>100297</td>\n",
       "      <td>2.263848</td>\n",
       "      <td>1.0</td>\n",
       "    </tr>\n",
       "    <tr>\n",
       "      <th>1</th>\n",
       "      <td>3874623</td>\n",
       "      <td>2.024328</td>\n",
       "      <td>1.0</td>\n",
       "    </tr>\n",
       "    <tr>\n",
       "      <th>2</th>\n",
       "      <td>5923139</td>\n",
       "      <td>1.902712</td>\n",
       "      <td>1.0</td>\n",
       "    </tr>\n",
       "    <tr>\n",
       "      <th>3</th>\n",
       "      <td>7574575</td>\n",
       "      <td>1.897878</td>\n",
       "      <td>0.0</td>\n",
       "    </tr>\n",
       "    <tr>\n",
       "      <th>4</th>\n",
       "      <td>325565</td>\n",
       "      <td>1.845899</td>\n",
       "      <td>1.0</td>\n",
       "    </tr>\n",
       "  </tbody>\n",
       "</table>\n",
       "</div>"
      ],
      "text/plain": [
       "      u_id    pscore  developed_country\n",
       "0   100297  2.263848                1.0\n",
       "1  3874623  2.024328                1.0\n",
       "2  5923139  1.902712                1.0\n",
       "3  7574575  1.897878                0.0\n",
       "4   325565  1.845899                1.0"
      ]
     },
     "execution_count": 10,
     "metadata": {},
     "output_type": "execute_result"
    }
   ],
   "source": [
    "df_for_fair = pd.read_csv(\"df_for_fair_74681417.csv\")\n",
    "df_for_fair.head()"
   ]
  },
  {
   "cell_type": "code",
   "execution_count": 11,
   "id": "f9d851b2",
   "metadata": {},
   "outputs": [],
   "source": [
    "recom_ranking = [FairScoreDoc(int(u_id), pscore, bool(1-dev_country))\n",
    "    for _, (u_id, pscore, dev_country) in df_for_fair.iterrows()]"
   ]
  },
  {
   "cell_type": "code",
   "execution_count": 12,
   "id": "c17e63d9",
   "metadata": {},
   "outputs": [
    {
     "ename": "ValueError",
     "evalue": "Number of documents in ranking and mtable length must be equal!",
     "output_type": "error",
     "traceback": [
      "\u001b[0;31m---------------------------------------------------------------------------\u001b[0m",
      "\u001b[0;31mValueError\u001b[0m                                Traceback (most recent call last)",
      "\u001b[0;32m/tmp/ipykernel_9296/87942556.py\u001b[0m in \u001b[0;36m<module>\u001b[0;34m\u001b[0m\n\u001b[0;32m----> 1\u001b[0;31m \u001b[0mfair\u001b[0m\u001b[0;34m.\u001b[0m\u001b[0mis_fair\u001b[0m\u001b[0;34m(\u001b[0m\u001b[0mrecom_ranking\u001b[0m\u001b[0;34m)\u001b[0m\u001b[0;34m\u001b[0m\u001b[0;34m\u001b[0m\u001b[0m\n\u001b[0m",
      "\u001b[0;32m~/.pyenv/versions/3.7.14/envs/so_q_recom_fair/lib/python3.7/site-packages/fairsearchcore/fair.py\u001b[0m in \u001b[0;36mis_fair\u001b[0;34m(self, ranking)\u001b[0m\n\u001b[1;32m     95\u001b[0m         \u001b[0;34m:\u001b[0m\u001b[0;32mreturn\u001b[0m\u001b[0;34m:\u001b[0m\u001b[0;34m\u001b[0m\u001b[0;34m\u001b[0m\u001b[0m\n\u001b[1;32m     96\u001b[0m         \"\"\"\n\u001b[0;32m---> 97\u001b[0;31m         \u001b[0;32mreturn\u001b[0m \u001b[0mcheck_ranking\u001b[0m\u001b[0;34m(\u001b[0m\u001b[0mranking\u001b[0m\u001b[0;34m,\u001b[0m \u001b[0mself\u001b[0m\u001b[0;34m.\u001b[0m\u001b[0mcreate_adjusted_mtable\u001b[0m\u001b[0;34m(\u001b[0m\u001b[0;34m)\u001b[0m\u001b[0;34m)\u001b[0m\u001b[0;34m\u001b[0m\u001b[0;34m\u001b[0m\u001b[0m\n\u001b[0m\u001b[1;32m     98\u001b[0m \u001b[0;34m\u001b[0m\u001b[0m\n\u001b[1;32m     99\u001b[0m     \u001b[0;32mdef\u001b[0m \u001b[0mre_rank\u001b[0m\u001b[0;34m(\u001b[0m\u001b[0mself\u001b[0m\u001b[0;34m,\u001b[0m \u001b[0mranking\u001b[0m\u001b[0;34m)\u001b[0m\u001b[0;34m:\u001b[0m\u001b[0;34m\u001b[0m\u001b[0;34m\u001b[0m\u001b[0m\n",
      "\u001b[0;32m~/.pyenv/versions/3.7.14/envs/so_q_recom_fair/lib/python3.7/site-packages/fairsearchcore/fair.py\u001b[0m in \u001b[0;36mcheck_ranking\u001b[0;34m(ranking, mtable)\u001b[0m\n\u001b[1;32m    142\u001b[0m     \u001b[0;31m# if the mtable has a different number elements than there are in the top docs return false\u001b[0m\u001b[0;34m\u001b[0m\u001b[0;34m\u001b[0m\u001b[0;34m\u001b[0m\u001b[0m\n\u001b[1;32m    143\u001b[0m     \u001b[0;32mif\u001b[0m \u001b[0mlen\u001b[0m\u001b[0;34m(\u001b[0m\u001b[0mranking\u001b[0m\u001b[0;34m)\u001b[0m \u001b[0;34m!=\u001b[0m \u001b[0mlen\u001b[0m\u001b[0;34m(\u001b[0m\u001b[0mmtable\u001b[0m\u001b[0;34m)\u001b[0m\u001b[0;34m:\u001b[0m\u001b[0;34m\u001b[0m\u001b[0;34m\u001b[0m\u001b[0m\n\u001b[0;32m--> 144\u001b[0;31m         \u001b[0;32mraise\u001b[0m \u001b[0mValueError\u001b[0m\u001b[0;34m(\u001b[0m\u001b[0;34m\"Number of documents in ranking and mtable length must be equal!\"\u001b[0m\u001b[0;34m)\u001b[0m\u001b[0;34m\u001b[0m\u001b[0;34m\u001b[0m\u001b[0m\n\u001b[0m\u001b[1;32m    145\u001b[0m \u001b[0;34m\u001b[0m\u001b[0m\n\u001b[1;32m    146\u001b[0m     \u001b[0;31m# check number of protected element at each rank\u001b[0m\u001b[0;34m\u001b[0m\u001b[0;34m\u001b[0m\u001b[0;34m\u001b[0m\u001b[0m\n",
      "\u001b[0;31mValueError\u001b[0m: Number of documents in ranking and mtable length must be equal!"
     ]
    }
   ],
   "source": [
    "fair.is_fair(recom_ranking)"
   ]
  },
  {
   "cell_type": "code",
   "execution_count": 34,
   "id": "c95a276e",
   "metadata": {},
   "outputs": [],
   "source": [
    "re_ranked = fair.re_rank(recom_ranking)"
   ]
  },
  {
   "cell_type": "code",
   "execution_count": 35,
   "id": "4b26d81b",
   "metadata": {},
   "outputs": [
    {
     "data": {
      "text/plain": [
       "True"
      ]
     },
     "execution_count": 35,
     "metadata": {},
     "output_type": "execute_result"
    }
   ],
   "source": [
    "fair.is_fair(re_ranked)"
   ]
  },
  {
   "cell_type": "code",
   "execution_count": 36,
   "id": "6c6d972d",
   "metadata": {},
   "outputs": [
    {
     "data": {
      "text/plain": [
       "[<FairScoreDoc [Nonprotected]>,\n",
       " <FairScoreDoc [Nonprotected]>,\n",
       " <FairScoreDoc [Protected]>,\n",
       " <FairScoreDoc [Nonprotected]>,\n",
       " <FairScoreDoc [Protected]>,\n",
       " <FairScoreDoc [Nonprotected]>,\n",
       " <FairScoreDoc [Nonprotected]>,\n",
       " <FairScoreDoc [Protected]>,\n",
       " <FairScoreDoc [Protected]>,\n",
       " <FairScoreDoc [Nonprotected]>]"
      ]
     },
     "execution_count": 36,
     "metadata": {},
     "output_type": "execute_result"
    }
   ],
   "source": [
    "re_ranked"
   ]
  },
  {
   "cell_type": "code",
   "execution_count": 37,
   "id": "a90f4d7e",
   "metadata": {},
   "outputs": [
    {
     "data": {
      "text/plain": [
       "0.44999999999999996"
      ]
     },
     "execution_count": 37,
     "metadata": {},
     "output_type": "execute_result"
    }
   ],
   "source": [
    "1-df_for_fair[:40][\"developed_country\"].mean()"
   ]
  },
  {
   "cell_type": "code",
   "execution_count": 38,
   "id": "254211ec",
   "metadata": {},
   "outputs": [],
   "source": [
    "recom_ranking = [FairScoreDoc(int(u_id), pscore, bool(1-dev_country))\n",
    "    for _, (u_id, pscore, dev_country) in df_for_fair[:38].iterrows()]"
   ]
  },
  {
   "cell_type": "code",
   "execution_count": 39,
   "id": "741dc97f",
   "metadata": {},
   "outputs": [],
   "source": [
    "k = 38\n",
    "p = 0.65\n",
    "alpha = 0.01\n",
    "\n",
    "fair2 = fsc.Fair(k, p, alpha)"
   ]
  },
  {
   "cell_type": "code",
   "execution_count": 40,
   "id": "d21bb317",
   "metadata": {},
   "outputs": [
    {
     "data": {
      "text/plain": [
       "True"
      ]
     },
     "execution_count": 40,
     "metadata": {},
     "output_type": "execute_result"
    }
   ],
   "source": [
    "fair2.is_fair(recom_ranking)"
   ]
  },
  {
   "cell_type": "code",
   "execution_count": 41,
   "id": "68dc5199",
   "metadata": {},
   "outputs": [],
   "source": [
    "re_ranked = fair2.re_rank(recom_ranking)"
   ]
  },
  {
   "cell_type": "code",
   "execution_count": 42,
   "id": "d86b9e44",
   "metadata": {},
   "outputs": [
    {
     "data": {
      "text/plain": [
       "True"
      ]
     },
     "execution_count": 42,
     "metadata": {},
     "output_type": "execute_result"
    }
   ],
   "source": [
    "fair2.is_fair(re_ranked)"
   ]
  },
  {
   "cell_type": "code",
   "execution_count": null,
   "id": "e1ff3a0e",
   "metadata": {},
   "outputs": [],
   "source": []
  },
  {
   "cell_type": "code",
   "execution_count": 43,
   "id": "c9983c96",
   "metadata": {},
   "outputs": [],
   "source": [
    "top_k = list(range(41))\n",
    "\n",
    "mean_proportion = []\n",
    "# process pool\n",
    "for k in top_k:\n",
    "    mean_proportion.append(df_for_fair.head(k)[\"developed_country\"].mean())"
   ]
  },
  {
   "cell_type": "code",
   "execution_count": 44,
   "id": "f1df1cfb",
   "metadata": {},
   "outputs": [
    {
     "data": {
      "image/png": "[encoded data removed]",
      "text/plain": [
       "<Figure size 640x480 with 1 Axes>"
      ]
     },
     "metadata": {},
     "output_type": "display_data"
    }
   ],
   "source": [
    "fig, ax1 = plt.subplots()\n",
    "\n",
    "color = 'tab:red'\n",
    "ax1.set_xlabel('k')\n",
    "ax1.set_ylabel('mean proportion per question')\n",
    "ax1.plot(top_k, mean_proportion, color=color)\n",
    "\n",
    "fig.tight_layout()\n",
    "plt.show()"
   ]
  },
  {
   "cell_type": "code",
   "execution_count": null,
   "id": "195f17bc",
   "metadata": {},
   "outputs": [],
   "source": []
  },
  {
   "cell_type": "code",
   "execution_count": 45,
   "id": "904407f3",
   "metadata": {},
   "outputs": [
    {
     "data": {
      "image/png": "[encoded data removed]",
      "text/plain": [
       "<Figure size 640x480 with 1 Axes>"
      ]
     },
     "metadata": {},
     "output_type": "display_data"
    }
   ],
   "source": [
    "fig, ax1 = plt.subplots()\n",
    "\n",
    "color = 'tab:red'\n",
    "ax1.set_xlabel('k')\n",
    "ax1.set_ylabel('cumulative sum protected')\n",
    "ax1.plot(range(38), (1-df_for_fair[:38][\"developed_country\"]).cumsum(), color=color)\n",
    "ax1.plot(range(38), fair2.create_adjusted_mtable())\n",
    "\n",
    "\n",
    "\n",
    "fig.tight_layout()\n",
    "plt.show()"
   ]
  },
  {
   "cell_type": "code",
   "execution_count": 47,
   "id": "4c6a2201",
   "metadata": {},
   "outputs": [],
   "source": [
    "# p = 0.63\n",
    "# alpha = 0.05\n",
    "\n",
    "# for k in range(10, 350, 5):\n",
    "#     recom_ranking = [FairScoreDoc(int(u_id), pscore, bool(1-dev_country))\n",
    "#         for _, (u_id, pscore, dev_country) in df_for_fair[:k].iterrows()]\n",
    "\n",
    "#     fair_aux = fsc.Fair(k, p, alpha)\n",
    "#     base_fair = fair_aux.is_fair(recom_ranking)\n",
    "#     re_ranked = fair_aux.re_rank(recom_ranking)\n",
    "#     re_ranked_fair = fair_aux.is_fair(re_ranked)\n",
    "#     if not base_fair and re_ranked_fair:\n",
    "#         print(k)"
   ]
  },
  {
   "cell_type": "code",
   "execution_count": 48,
   "id": "bfd724e5",
   "metadata": {},
   "outputs": [],
   "source": [
    "recom_ranking = []\n",
    "for k in range(10, 12):\n",
    "    recom_ranking.append([FairScoreDoc(int(u_id), pscore, bool(1-dev_country))\n",
    "        for _, (u_id, pscore, dev_country) in df_for_fair[:10].iterrows()])"
   ]
  },
  {
   "cell_type": "code",
   "execution_count": 49,
   "id": "97ab7f72",
   "metadata": {},
   "outputs": [
    {
     "data": {
      "text/plain": [
       "False"
      ]
     },
     "execution_count": 49,
     "metadata": {},
     "output_type": "execute_result"
    }
   ],
   "source": [
    "k=30\n",
    "p = 0.66\n",
    "alpha = 0.05\n",
    "\n",
    "recom_ranking = [FairScoreDoc(int(u_id), pscore, bool(1-dev_country))\n",
    "    for _, (u_id, pscore, dev_country) in df_for_fair[:k].iterrows()]\n",
    "\n",
    "fair_aux = fsc.Fair(k, p, alpha)\n",
    "fair_aux.is_fair(recom_ranking)"
   ]
  },
  {
   "cell_type": "code",
   "execution_count": 50,
   "id": "3f489156",
   "metadata": {},
   "outputs": [
    {
     "data": {
      "text/plain": [
       "True"
      ]
     },
     "execution_count": 50,
     "metadata": {},
     "output_type": "execute_result"
    }
   ],
   "source": [
    "re_ranked = fair_aux.re_rank(recom_ranking)\n",
    "fair_aux.is_fair(re_ranked)"
   ]
  },
  {
   "cell_type": "code",
   "execution_count": 51,
   "id": "1ffb3b32",
   "metadata": {},
   "outputs": [
    {
     "data": {
      "image/png": "[encoded data removed]",
      "text/plain": [
       "<Figure size 640x480 with 1 Axes>"
      ]
     },
     "metadata": {},
     "output_type": "display_data"
    }
   ],
   "source": [
    "fig, ax1 = plt.subplots()\n",
    "\n",
    "color = 'tab:red'\n",
    "ax1.set_xlabel('k')\n",
    "ax1.set_ylabel('cumulative sum protected')\n",
    "ax1.plot(range(30), (1-df_for_fair[:30][\"developed_country\"]).cumsum(), color=color)\n",
    "ax1.plot(range(30), fair_aux.create_adjusted_mtable())\n",
    "ax1.plot(range(30), np.cumsum([int(re_r.is_protected) for re_r in re_ranked]), color=\"green\")\n",
    "\n",
    "\n",
    "fig.tight_layout()\n",
    "plt.show()"
   ]
  },
  {
   "cell_type": "code",
   "execution_count": 52,
   "id": "5d503926",
   "metadata": {},
   "outputs": [
    {
     "data": {
      "text/plain": [
       "False"
      ]
     },
     "execution_count": 52,
     "metadata": {},
     "output_type": "execute_result"
    }
   ],
   "source": [
    "k=100\n",
    "p = 0.63\n",
    "alpha = 0.05\n",
    "\n",
    "recom_ranking = [FairScoreDoc(int(u_id), pscore, bool(1-dev_country))\n",
    "    for _, (u_id, pscore, dev_country) in df_for_fair[:k].iterrows()]\n",
    "\n",
    "fair_aux = fsc.Fair(k, p, alpha)\n",
    "fair_aux.is_fair(recom_ranking)"
   ]
  },
  {
   "cell_type": "code",
   "execution_count": 53,
   "id": "17576f72",
   "metadata": {},
   "outputs": [
    {
     "data": {
      "text/plain": [
       "False"
      ]
     },
     "execution_count": 53,
     "metadata": {},
     "output_type": "execute_result"
    }
   ],
   "source": [
    "re_ranked = fair_aux.re_rank(recom_ranking)\n",
    "fair_aux.is_fair(re_ranked)"
   ]
  },
  {
   "cell_type": "code",
   "execution_count": 54,
   "id": "8b14748f",
   "metadata": {},
   "outputs": [
    {
     "ename": "TypeError",
     "evalue": "is_fair() missing 1 required positional argument: 'ranking'",
     "output_type": "error",
     "traceback": [
      "\u001b[0;31m---------------------------------------------------------------------------\u001b[0m",
      "\u001b[0;31mTypeError\u001b[0m                                 Traceback (most recent call last)",
      "\u001b[0;32m/tmp/ipykernel_9296/341278341.py\u001b[0m in \u001b[0;36m<module>\u001b[0;34m\u001b[0m\n\u001b[0;32m----> 1\u001b[0;31m \u001b[0mfair_aux\u001b[0m\u001b[0;34m.\u001b[0m\u001b[0mis_fair\u001b[0m\u001b[0;34m(\u001b[0m\u001b[0;34m)\u001b[0m\u001b[0;34m\u001b[0m\u001b[0;34m\u001b[0m\u001b[0m\n\u001b[0m",
      "\u001b[0;31mTypeError\u001b[0m: is_fair() missing 1 required positional argument: 'ranking'"
     ]
    }
   ],
   "source": [
    "\n",
    "fair_aux.is_fair()"
   ]
  },
  {
   "cell_type": "code",
   "execution_count": null,
   "id": "df89d00b",
   "metadata": {},
   "outputs": [
    {
     "data": {
      "text/plain": [
       "100"
      ]
     },
     "execution_count": 50,
     "metadata": {},
     "output_type": "execute_result"
    }
   ],
   "source": [
    "len(fair_aux.re_rank([FairScoreDoc(int(u_id), pscore, bool(1-dev_country))\n",
    "    for _, (u_id, pscore, dev_country) in df_for_fair[:200].iterrows()]))"
   ]
  },
  {
   "cell_type": "code",
   "execution_count": null,
   "id": "8f780f58",
   "metadata": {},
   "outputs": [],
   "source": [
    "protected = []\n",
    "non_protected = []\n",
    "for _, (u_id, pscore, dev_country) in df_for_fair.iterrows():\n",
    "    if len(protected)<k and bool(1-dev_country):\n",
    "        protected.append(FairScoreDoc(int(u_id), pscore, bool(1-dev_country)))\n",
    "    elif len(non_protected)<k:\n",
    "        non_protected.append(FairScoreDoc(int(u_id), pscore, bool(1-dev_country)))\n",
    "    if len(protected) ==k and len(non_protected)==k:\n",
    "        break"
   ]
  },
  {
   "cell_type": "code",
   "execution_count": 62,
   "id": "0dead200",
   "metadata": {},
   "outputs": [
    {
     "data": {
      "text/plain": [
       "True"
      ]
     },
     "execution_count": 62,
     "metadata": {},
     "output_type": "execute_result"
    }
   ],
   "source": [
    "k=100\n",
    "p = 0.66\n",
    "alpha = 0.05\n",
    "\n",
    "recom_ranking = [FairScoreDoc(int(u_id), pscore, bool(1-dev_country))\n",
    "    for _, (u_id, pscore, dev_country) in df_for_fair.iterrows()]\n",
    "\n",
    "fair_aux = fsc.Fair(k, p, alpha)\n",
    "\n",
    "re_ranked = fair_aux.re_rank(recom_ranking)\n",
    "fair_aux.is_fair(re_ranked)"
   ]
  },
  {
   "cell_type": "markdown",
   "id": "598d9d06",
   "metadata": {},
   "source": [
    "cuantos cambios se hacen para hacer un ranking justo\n",
    "\n",
    "como cuento los cambios?"
   ]
  },
  {
   "cell_type": "code",
   "execution_count": 63,
   "id": "caf01ade",
   "metadata": {},
   "outputs": [
    {
     "data": {
      "image/png": "[encoded data removed]",
      "text/plain": [
       "<Figure size 640x480 with 1 Axes>"
      ]
     },
     "metadata": {},
     "output_type": "display_data"
    }
   ],
   "source": [
    "fig, ax1 = plt.subplots()\n",
    "\n",
    "color = 'tab:red'\n",
    "ax1.set_xlabel('k')\n",
    "ax1.set_ylabel('cumulative sum protected')\n",
    "ax1.plot(range(k), (1-df_for_fair[:k][\"developed_country\"]).cumsum(), color=color, label=\"original ranking\", linewidth=2)\n",
    "ax1.plot(range(k), fair_aux.create_adjusted_mtable(), label=\"adjusted mtable\", linewidth=2)\n",
    "ax1.plot(range(k), np.cumsum([int(re_r.is_protected) for re_r in re_ranked]), color=\"green\", label=\"fair ranking\", linewidth=1)\n",
    "fig.legend()\n",
    "\n",
    "fig.tight_layout()\n",
    "plt.show()"
   ]
  },
  {
   "cell_type": "code",
   "execution_count": null,
   "id": "479f7087",
   "metadata": {},
   "outputs": [],
   "source": []
  },
  {
   "cell_type": "markdown",
   "id": "f8bd306c",
   "metadata": {},
   "source": []
  }
 ],
 "metadata": {
  "kernelspec": {
   "display_name": "Python 3 (ipykernel)",
   "language": "python",
   "name": "python3"
  },
  "language_info": {
   "codemirror_mode": {
    "name": "ipython",
    "version": 3
   },
   "file_extension": ".py",
   "mimetype": "text/x-python",
   "name": "python",
   "nbconvert_exporter": "python",
   "pygments_lexer": "ipython3",
   "version": "3.7.14"
  }
 },
 "nbformat": 4,
 "nbformat_minor": 5
}
