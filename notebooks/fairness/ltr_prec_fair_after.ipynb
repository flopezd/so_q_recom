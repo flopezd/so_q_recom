{
 "cells": [
  {
   "cell_type": "code",
   "execution_count": 48,
   "id": "94db2c4e-301a-4262-8bda-8a8d3231732d",
   "metadata": {},
   "outputs": [],
   "source": [
    "import pandas as pd\n",
    "import psycopg2\n",
    "import seaborn as sns\n",
    "import tensorflow as tf\n",
    "import tensorflow.keras.backend as K\n",
    "from gensim.models.doc2vec import Doc2Vec\n",
    "from faiss import read_index\n",
    "import pickle\n",
    "from gensim.utils import simple_preprocess\n",
    "import numpy as np\n",
    "from psycopg2.extras import execute_values\n",
    "from xgboost import XGBRanker\n",
    "from operator import itemgetter\n",
    "import matplotlib.pyplot as plt\n",
    "from multiprocessing import Pool\n",
    "\n",
    "plt.rcParams['text.usetex'] = False\n",
    "# plt.rcParams['text.usetex'] = True\n",
    "plt.rcParams['text.latex.preamble'] = r\"\\usepackage{amsmath}\"\n",
    "plt.rcParams.update({'font.size': 18})\n",
    "plt.rcParams.update({'figure.figsize': [10, 6]})"
   ]
  },
  {
   "cell_type": "markdown",
   "id": "293fd5f8-109a-4600-814b-6806030a1c76",
   "metadata": {},
   "source": [
    "# Divide countries"
   ]
  },
  {
   "cell_type": "markdown",
   "id": "866bcb66-b54f-4211-9276-aa57a17b738e",
   "metadata": {},
   "source": [
    "## Get hdi"
   ]
  },
  {
   "cell_type": "code",
   "execution_count": 2,
   "id": "91535b2d-cbf9-43a2-acb1-0e5a2619abfb",
   "metadata": {},
   "outputs": [],
   "source": [
    "# https://data.humdata.org/dataset/human-development-index-hdi\n",
    "# https://hdr.undp.org/data-center/documentation-and-downloads"
   ]
  },
  {
   "cell_type": "code",
   "execution_count": 3,
   "id": "08af8f51-baa6-492d-80cb-9a0be1a05f68",
   "metadata": {},
   "outputs": [],
   "source": [
    "hdi_df = pd.read_excel(\"HDR21-22_Statistical_Annex_HDI_Table.xlsx\", header=4)\n",
    "hdi_df = hdi_df.rename(\n",
    "    columns={\"Unnamed: 1\": \"country\", \"Human Development Index (HDI) \": \"value\"}\n",
    ")\n",
    "hdi_df = hdi_df[[\"country\", \"value\"]].dropna()[1:]\n",
    "hdi_df[\"country\"] = hdi_df[\"country\"].str.lower()\n",
    "hdi_df[\"value\"] = pd.to_numeric(hdi_df[\"value\"], errors=\"coerce\")\n",
    "hdi_df = hdi_df.set_index(\"country\")"
   ]
  },
  {
   "cell_type": "code",
   "execution_count": 4,
   "id": "68ae227c-cd34-4c21-80a0-9058eddda860",
   "metadata": {},
   "outputs": [
    {
     "data": {
      "text/html": [
       "<div>\n",
       "<style scoped>\n",
       "    .dataframe tbody tr th:only-of-type {\n",
       "        vertical-align: middle;\n",
       "    }\n",
       "\n",
       "    .dataframe tbody tr th {\n",
       "        vertical-align: top;\n",
       "    }\n",
       "\n",
       "    .dataframe thead th {\n",
       "        text-align: right;\n",
       "    }\n",
       "</style>\n",
       "<table border=\"1\" class=\"dataframe\">\n",
       "  <thead>\n",
       "    <tr style=\"text-align: right;\">\n",
       "      <th></th>\n",
       "      <th>value</th>\n",
       "    </tr>\n",
       "    <tr>\n",
       "      <th>country</th>\n",
       "      <th></th>\n",
       "    </tr>\n",
       "  </thead>\n",
       "  <tbody>\n",
       "    <tr>\n",
       "      <th>switzerland</th>\n",
       "      <td>0.962</td>\n",
       "    </tr>\n",
       "    <tr>\n",
       "      <th>norway</th>\n",
       "      <td>0.961</td>\n",
       "    </tr>\n",
       "    <tr>\n",
       "      <th>iceland</th>\n",
       "      <td>0.959</td>\n",
       "    </tr>\n",
       "    <tr>\n",
       "      <th>hong kong, china (sar)</th>\n",
       "      <td>0.952</td>\n",
       "    </tr>\n",
       "    <tr>\n",
       "      <th>australia</th>\n",
       "      <td>0.951</td>\n",
       "    </tr>\n",
       "  </tbody>\n",
       "</table>\n",
       "</div>"
      ],
      "text/plain": [
       "                        value\n",
       "country                      \n",
       "switzerland             0.962\n",
       "norway                  0.961\n",
       "iceland                 0.959\n",
       "hong kong, china (sar)  0.952\n",
       "australia               0.951"
      ]
     },
     "execution_count": 4,
     "metadata": {},
     "output_type": "execute_result"
    }
   ],
   "source": [
    "hdi_df.head(5)"
   ]
  },
  {
   "cell_type": "code",
   "execution_count": 5,
   "id": "930d7237-9280-449f-a218-1658d1a62408",
   "metadata": {},
   "outputs": [
    {
     "data": {
      "text/html": [
       "<div>\n",
       "<style scoped>\n",
       "    .dataframe tbody tr th:only-of-type {\n",
       "        vertical-align: middle;\n",
       "    }\n",
       "\n",
       "    .dataframe tbody tr th {\n",
       "        vertical-align: top;\n",
       "    }\n",
       "\n",
       "    .dataframe thead th {\n",
       "        text-align: right;\n",
       "    }\n",
       "</style>\n",
       "<table border=\"1\" class=\"dataframe\">\n",
       "  <thead>\n",
       "    <tr style=\"text-align: right;\">\n",
       "      <th></th>\n",
       "      <th>value</th>\n",
       "    </tr>\n",
       "    <tr>\n",
       "      <th>country</th>\n",
       "      <th></th>\n",
       "    </tr>\n",
       "  </thead>\n",
       "  <tbody>\n",
       "    <tr>\n",
       "      <th>korea (democratic people's rep. of)</th>\n",
       "      <td>NaN</td>\n",
       "    </tr>\n",
       "    <tr>\n",
       "      <th>monaco</th>\n",
       "      <td>NaN</td>\n",
       "    </tr>\n",
       "    <tr>\n",
       "      <th>nauru</th>\n",
       "      <td>NaN</td>\n",
       "    </tr>\n",
       "    <tr>\n",
       "      <th>somalia</th>\n",
       "      <td>NaN</td>\n",
       "    </tr>\n",
       "  </tbody>\n",
       "</table>\n",
       "</div>"
      ],
      "text/plain": [
       "                                     value\n",
       "country                                   \n",
       "korea (democratic people's rep. of)    NaN\n",
       "monaco                                 NaN\n",
       "nauru                                  NaN\n",
       "somalia                                NaN"
      ]
     },
     "execution_count": 5,
     "metadata": {},
     "output_type": "execute_result"
    }
   ],
   "source": [
    "hdi_df[hdi_df[\"value\"].isna()]"
   ]
  },
  {
   "cell_type": "code",
   "execution_count": 6,
   "id": "4771d59d-33e3-4777-adcf-18f83fc91d5c",
   "metadata": {},
   "outputs": [],
   "source": [
    "hdi_df = hdi_df.dropna()"
   ]
  },
  {
   "cell_type": "markdown",
   "id": "b7399ef3-e837-4fce-84d8-8f794c598112",
   "metadata": {},
   "source": [
    "## Get user data"
   ]
  },
  {
   "cell_type": "code",
   "execution_count": 7,
   "id": "d2c4f4e5-efa0-4eb5-ab8e-3a7610f636cc",
   "metadata": {},
   "outputs": [],
   "source": [
    "connection = psycopg2.connect(\n",
    "    user=\"postgres\",\n",
    "    password=\"postgres\",\n",
    "    host=\"127.0.0.1\",\n",
    "    port=\"54320\",\n",
    "    database=\"stack_overflow\",\n",
    ")"
   ]
  },
  {
   "cell_type": "code",
   "execution_count": 8,
   "id": "8fcb94d0-d75e-4a5c-a23a-9bca076ea2a6",
   "metadata": {},
   "outputs": [
    {
     "name": "stdout",
     "output_type": "stream",
     "text": [
      "3941484\n"
     ]
    },
    {
     "data": {
      "text/html": [
       "<div>\n",
       "<style scoped>\n",
       "    .dataframe tbody tr th:only-of-type {\n",
       "        vertical-align: middle;\n",
       "    }\n",
       "\n",
       "    .dataframe tbody tr th {\n",
       "        vertical-align: top;\n",
       "    }\n",
       "\n",
       "    .dataframe thead th {\n",
       "        text-align: right;\n",
       "    }\n",
       "</style>\n",
       "<table border=\"1\" class=\"dataframe\">\n",
       "  <thead>\n",
       "    <tr style=\"text-align: right;\">\n",
       "      <th></th>\n",
       "      <th>user_id</th>\n",
       "      <th>country</th>\n",
       "    </tr>\n",
       "  </thead>\n",
       "  <tbody>\n",
       "    <tr>\n",
       "      <th>0</th>\n",
       "      <td>22545</td>\n",
       "      <td>New Zealand</td>\n",
       "    </tr>\n",
       "    <tr>\n",
       "      <th>1</th>\n",
       "      <td>22621</td>\n",
       "      <td>Norway</td>\n",
       "    </tr>\n",
       "    <tr>\n",
       "      <th>2</th>\n",
       "      <td>22656</td>\n",
       "      <td>United Kingdom</td>\n",
       "    </tr>\n",
       "    <tr>\n",
       "      <th>3</th>\n",
       "      <td>6050</td>\n",
       "      <td>United Kingdom</td>\n",
       "    </tr>\n",
       "    <tr>\n",
       "      <th>4</th>\n",
       "      <td>519</td>\n",
       "      <td>United States</td>\n",
       "    </tr>\n",
       "  </tbody>\n",
       "</table>\n",
       "</div>"
      ],
      "text/plain": [
       "   user_id         country\n",
       "0    22545     New Zealand\n",
       "1    22621          Norway\n",
       "2    22656  United Kingdom\n",
       "3     6050  United Kingdom\n",
       "4      519   United States"
      ]
     },
     "execution_count": 8,
     "metadata": {},
     "output_type": "execute_result"
    }
   ],
   "source": [
    "with connection:\n",
    "    with connection.cursor() as cursor:\n",
    "        cursor.execute(\n",
    "            f\"\"\"select id, country\n",
    "                            from users\n",
    "                            where country is not NULL\n",
    "                            \"\"\"\n",
    "        )\n",
    "        users = pd.DataFrame(cursor.fetchall(), columns=[\"user_id\", \"country\"])\n",
    "print(len(users))\n",
    "users.head()"
   ]
  },
  {
   "cell_type": "code",
   "execution_count": 9,
   "id": "c735912b-c9df-4aec-8af2-109c4dc5d224",
   "metadata": {},
   "outputs": [],
   "source": [
    "# missing_countries = users[users[\"value\"].isna()][\"country\"].unique()\n",
    "# [(missing_country, in_df_name[0])\n",
    "# for missing_country in missing_countries\n",
    "# if (in_df_name:=hdi_df.index[hdi_df.index.str.contains(missing_country)].values).size>0]\n",
    "\n",
    "# faroe islands HDI (2008)\t0.950\n",
    "# falkland islands HDI (2010)\t0.874\n",
    "# greenland HDI (2010)\t0.786\n",
    "# curacao HDI (2012)\t0.811\n",
    "# cayman islands HDI (2013)\t0.984\n",
    "# puerto rico HDI (2015)\t0.845\n",
    "# kosovo HDI (2016)\t0.742\n",
    "# guam HDI (2017) 0.901\n",
    "# aland islands HDI (2017)\t0.900\n",
    "# gibraltar HDI (2018)\t0.961\n",
    "# macao HDI (2019) 0.922\n",
    "# taiwan HDI (2021)\t0.926\n",
    "\n",
    "countries_to_replace = [\n",
    "    (\"russia\", \"russian federation\"),\n",
    "    (\"tanzania\", \"tanzania (united republic of)\"),\n",
    "    (\"hong kong\", \"hong kong, china (sar)\"),\n",
    "    (\"moldova\", \"moldova (republic of)\"),\n",
    "    (\"iran\", \"iran (islamic republic of)\"),\n",
    "    (\"i̇ran\", \"iran (islamic republic of)\"),\n",
    "    (\"syria\", \"syrian arab republic\"),\n",
    "    (\"venezuela\", \"venezuela (bolivarian republic of)\"),\n",
    "    (\"bolivia\", \"bolivia (plurinational state of)\"),\n",
    "    (\"brunei\", \"brunei darussalam\"),\n",
    "    (\"micronesia\", \"micronesia (federated states of)\"),\n",
    "    (\"eswatini\", \"eswatini (kingdom of)\"),\n",
    "    (\"turkey\", \"türkiye\"),\n",
    "    (\"vietnam\", \"viet nam\"),\n",
    "    (\"south korea\", \"korea (republic of)\"),\n",
    "    (\"democratic republic of the congo\", \"congo (democratic republic of the)\"),\n",
    "    (\"palestinian territory\", \"palestine, state of\"),\n",
    "    (\"timor leste\", \"timor-leste\"),\n",
    "    (\"ivory coast\", \"côte d'ivoire\"),\n",
    "    (\"laos\", \"lao people's democratic republic\"),\n",
    "    (\"republic of the congo\", \"congo\"),\n",
    "    (\"i̇taly\", \"italy\"),\n",
    "    (\"i̇raq\", \"iraq\"),\n",
    "]\n",
    "users[\"country\"] = users[\"country\"].str.lower()\n",
    "for original_country, replace_country in countries_to_replace:\n",
    "    users[\"country\"] = users[\"country\"].str.replace(original_country, replace_country)"
   ]
  },
  {
   "cell_type": "code",
   "execution_count": 10,
   "id": "a4f15ff7-d784-451a-bf41-9037e8ccc523",
   "metadata": {},
   "outputs": [
    {
     "data": {
      "text/html": [
       "<div>\n",
       "<style scoped>\n",
       "    .dataframe tbody tr th:only-of-type {\n",
       "        vertical-align: middle;\n",
       "    }\n",
       "\n",
       "    .dataframe tbody tr th {\n",
       "        vertical-align: top;\n",
       "    }\n",
       "\n",
       "    .dataframe thead th {\n",
       "        text-align: right;\n",
       "    }\n",
       "</style>\n",
       "<table border=\"1\" class=\"dataframe\">\n",
       "  <thead>\n",
       "    <tr style=\"text-align: right;\">\n",
       "      <th></th>\n",
       "      <th>user_id</th>\n",
       "      <th>country</th>\n",
       "      <th>value</th>\n",
       "    </tr>\n",
       "  </thead>\n",
       "  <tbody>\n",
       "    <tr>\n",
       "      <th>0</th>\n",
       "      <td>22545</td>\n",
       "      <td>new zealand</td>\n",
       "      <td>0.937</td>\n",
       "    </tr>\n",
       "    <tr>\n",
       "      <th>1</th>\n",
       "      <td>22621</td>\n",
       "      <td>norway</td>\n",
       "      <td>0.961</td>\n",
       "    </tr>\n",
       "    <tr>\n",
       "      <th>2</th>\n",
       "      <td>22656</td>\n",
       "      <td>united kingdom</td>\n",
       "      <td>0.929</td>\n",
       "    </tr>\n",
       "    <tr>\n",
       "      <th>3</th>\n",
       "      <td>6050</td>\n",
       "      <td>united kingdom</td>\n",
       "      <td>0.929</td>\n",
       "    </tr>\n",
       "    <tr>\n",
       "      <th>4</th>\n",
       "      <td>519</td>\n",
       "      <td>united states</td>\n",
       "      <td>0.921</td>\n",
       "    </tr>\n",
       "  </tbody>\n",
       "</table>\n",
       "</div>"
      ],
      "text/plain": [
       "   user_id         country  value\n",
       "0    22545     new zealand  0.937\n",
       "1    22621          norway  0.961\n",
       "2    22656  united kingdom  0.929\n",
       "3     6050  united kingdom  0.929\n",
       "4      519   united states  0.921"
      ]
     },
     "execution_count": 10,
     "metadata": {},
     "output_type": "execute_result"
    }
   ],
   "source": [
    "users = users.join(hdi_df, on=\"country\")\n",
    "users.head()"
   ]
  },
  {
   "cell_type": "code",
   "execution_count": 11,
   "id": "3b2dfd38-8836-48cf-9a21-87fba538e235",
   "metadata": {},
   "outputs": [
    {
     "data": {
      "text/plain": [
       "array(['error', 'taiwan', 'cayman islands', 'puerto rico', 'jersey',\n",
       "       'somalia', 'macao', 'kosovo', 'isle of man', 'bermuda',\n",
       "       'saint martin', 'guernsey', 'reunion', 'new caledonia',\n",
       "       'guadeloupe', 'greenland', 'american samoa', 'monaco',\n",
       "       'french southern territories', 'aruba', 'curacao', 'guam',\n",
       "       'faroe islands', 'anguilla', 'gibraltar', 'aland islands',\n",
       "       'saint helena', 'cook islands', 'french polynesia', 'martinique',\n",
       "       'christmas island', 'norfolk island', 'svalbard and jan mayen',\n",
       "       'sint maarten', 'north korea',\n",
       "       'bonaire, saint eustatius and saba ', 'turks and caicos islands',\n",
       "       'northern mariana islands', 'united states minor outlying islands',\n",
       "       'pitcairn', 'nauru', 'montserrat', 'u.s. virgin islands',\n",
       "       'western sahara', 'south georgia and the south sandwich islands',\n",
       "       'french guiana', 'niue', 'mayotte', 'british virgin islands',\n",
       "       'wallis and futuna', 'falkland islands',\n",
       "       'saint pierre and miquelon', 'vatican', 'tokelau',\n",
       "       'saint barthelemy'], dtype=object)"
      ]
     },
     "execution_count": 11,
     "metadata": {},
     "output_type": "execute_result"
    }
   ],
   "source": [
    "users[users[\"value\"].isna()][\"country\"].unique()"
   ]
  },
  {
   "cell_type": "code",
   "execution_count": 12,
   "id": "4f7001f3-252c-4dd4-b9c2-cbd91b1a3367",
   "metadata": {},
   "outputs": [
    {
     "data": {
      "text/plain": [
       "3872918"
      ]
     },
     "execution_count": 12,
     "metadata": {},
     "output_type": "execute_result"
    }
   ],
   "source": [
    "users = users[~users[\"value\"].isna()]\n",
    "len(users)"
   ]
  },
  {
   "cell_type": "code",
   "execution_count": 13,
   "id": "9b16f14f-e0df-4a78-ab6e-c78028f5be21",
   "metadata": {},
   "outputs": [
    {
     "data": {
      "text/plain": [
       "<seaborn.axisgrid.FacetGrid at 0x7449c2c63460>"
      ]
     },
     "execution_count": 13,
     "metadata": {},
     "output_type": "execute_result"
    },
    {
     "data": {
      "image/png": "[encoded data removed]",
      "text/plain": [
       "<Figure size 500x500 with 1 Axes>"
      ]
     },
     "metadata": {},
     "output_type": "display_data"
    }
   ],
   "source": [
    "sns.displot(users, x=\"value\")"
   ]
  },
  {
   "cell_type": "code",
   "execution_count": 14,
   "id": "c291258a-46b1-41a5-8223-3e56b49e860f",
   "metadata": {},
   "outputs": [
    {
     "data": {
      "text/plain": [
       "(719511, 0.633)"
      ]
     },
     "execution_count": 14,
     "metadata": {},
     "output_type": "execute_result"
    }
   ],
   "source": [
    "users[users[\"country\"] == \"india\"][\"country\"].count(), hdi_df.loc[\"india\"][\"value\"]"
   ]
  },
  {
   "cell_type": "code",
   "execution_count": 15,
   "id": "b29da2b9-6651-45dd-bc35-dceed94b963c",
   "metadata": {},
   "outputs": [
    {
     "data": {
      "text/plain": [
       "(574402, 0.921)"
      ]
     },
     "execution_count": 15,
     "metadata": {},
     "output_type": "execute_result"
    }
   ],
   "source": [
    "users[users[\"country\"] == \"united states\"][\"country\"].count(), hdi_df.loc[\n",
    "    \"united states\"\n",
    "][\"value\"]"
   ]
  },
  {
   "cell_type": "markdown",
   "id": "9905b824-9839-4383-a57e-5afb11105f71",
   "metadata": {},
   "source": [
    "## Divide users"
   ]
  },
  {
   "cell_type": "code",
   "execution_count": 16,
   "id": "af2874d3-6a50-4b56-89d2-e1e5c090e00b",
   "metadata": {},
   "outputs": [
    {
     "data": {
      "text/plain": [
       "0.3602363902359926"
      ]
     },
     "execution_count": 16,
     "metadata": {},
     "output_type": "execute_result"
    }
   ],
   "source": [
    "HDI_THRESHOLD = 0.92\n",
    "users[\"developed_country\"] = (users[\"value\"] > HDI_THRESHOLD).astype(int)\n",
    "users[\"developed_country\"].mean()"
   ]
  },
  {
   "cell_type": "code",
   "execution_count": 62,
   "id": "4fdf2594-377b-4091-85b9-38a06e918689",
   "metadata": {},
   "outputs": [],
   "source": [
    "hdi_for_plot = pd.concat([hdi_df[hdi_df[\"value\"]>0.92].sort_values(by=[\"value\"], ascending=False).tail(6),\n",
    "           hdi_df[hdi_df[\"value\"]<=0.92].sort_values(by=[\"value\"], ascending=False).head(6)]).reset_index()"
   ]
  },
  {
   "cell_type": "code",
   "execution_count": 95,
   "id": "65d5d80b-f2e2-4663-b61c-2a7ef84ab461",
   "metadata": {},
   "outputs": [
    {
     "data": {
      "text/html": [
       "<div>\n",
       "<style scoped>\n",
       "    .dataframe tbody tr th:only-of-type {\n",
       "        vertical-align: middle;\n",
       "    }\n",
       "\n",
       "    .dataframe tbody tr th {\n",
       "        vertical-align: top;\n",
       "    }\n",
       "\n",
       "    .dataframe thead th {\n",
       "        text-align: right;\n",
       "    }\n",
       "</style>\n",
       "<table border=\"1\" class=\"dataframe\">\n",
       "  <thead>\n",
       "    <tr style=\"text-align: right;\">\n",
       "      <th></th>\n",
       "      <th>country</th>\n",
       "      <th>value</th>\n",
       "    </tr>\n",
       "  </thead>\n",
       "  <tbody>\n",
       "    <tr>\n",
       "      <th>0</th>\n",
       "      <td>Liechtenstein</td>\n",
       "      <td>0.935</td>\n",
       "    </tr>\n",
       "    <tr>\n",
       "      <th>1</th>\n",
       "      <td>Luxembourg</td>\n",
       "      <td>0.930</td>\n",
       "    </tr>\n",
       "    <tr>\n",
       "      <th>2</th>\n",
       "      <td>United Kingdom</td>\n",
       "      <td>0.929</td>\n",
       "    </tr>\n",
       "    <tr>\n",
       "      <th>3</th>\n",
       "      <td>Japan</td>\n",
       "      <td>0.925</td>\n",
       "    </tr>\n",
       "    <tr>\n",
       "      <th>4</th>\n",
       "      <td>Korea (Republic Of)</td>\n",
       "      <td>0.925</td>\n",
       "    </tr>\n",
       "    <tr>\n",
       "      <th>5</th>\n",
       "      <td>United States</td>\n",
       "      <td>0.921</td>\n",
       "    </tr>\n",
       "    <tr>\n",
       "      <th>6</th>\n",
       "      <td>Israel</td>\n",
       "      <td>0.919</td>\n",
       "    </tr>\n",
       "    <tr>\n",
       "      <th>7</th>\n",
       "      <td>Malta</td>\n",
       "      <td>0.918</td>\n",
       "    </tr>\n",
       "    <tr>\n",
       "      <th>8</th>\n",
       "      <td>Slovenia</td>\n",
       "      <td>0.918</td>\n",
       "    </tr>\n",
       "    <tr>\n",
       "      <th>9</th>\n",
       "      <td>Austria</td>\n",
       "      <td>0.916</td>\n",
       "    </tr>\n",
       "    <tr>\n",
       "      <th>10</th>\n",
       "      <td>United Arab Emirates</td>\n",
       "      <td>0.911</td>\n",
       "    </tr>\n",
       "    <tr>\n",
       "      <th>11</th>\n",
       "      <td>Spain</td>\n",
       "      <td>0.905</td>\n",
       "    </tr>\n",
       "  </tbody>\n",
       "</table>\n",
       "</div>"
      ],
      "text/plain": [
       "                 country  value\n",
       "0          Liechtenstein  0.935\n",
       "1             Luxembourg  0.930\n",
       "2         United Kingdom  0.929\n",
       "3                  Japan  0.925\n",
       "4    Korea (Republic Of)  0.925\n",
       "5          United States  0.921\n",
       "6                 Israel  0.919\n",
       "7                  Malta  0.918\n",
       "8               Slovenia  0.918\n",
       "9                Austria  0.916\n",
       "10  United Arab Emirates  0.911\n",
       "11                 Spain  0.905"
      ]
     },
     "execution_count": 95,
     "metadata": {},
     "output_type": "execute_result"
    }
   ],
   "source": [
    "hdi_for_plot[\"country\"] = hdi_for_plot[\"country\"].str.title()\n",
    "hdi_for_plot"
   ]
  },
  {
   "cell_type": "code",
   "execution_count": 102,
   "id": "1da8cc94-bd75-441d-8a40-07661a50aec4",
   "metadata": {},
   "outputs": [
    {
     "data": {
      "image/png": "[encoded data removed]",
      "text/plain": [
       "<Figure size 1000x600 with 1 Axes>"
      ]
     },
     "metadata": {},
     "output_type": "display_data"
    }
   ],
   "source": [
    "\n",
    "g = sns.barplot(hdi_for_plot, x=\"country\", y=\"value\", color=\"tab:blue\")\n",
    "g.set_ylim([0.9, 0.94])\n",
    "plt.xticks(rotation=65)\n",
    "plt.title(\"Indice de Desarrollo Humano (HDI) en el valor de corte\")\n",
    "plt.xlabel(\"Pais\")\n",
    "plt.ylabel(\"HDI\")\n",
    "plt.axvline(x=5.5, color=\"red\", label=\"Corte: HDI=0.92\", linewidth=3, linestyle=\"--\")\n",
    "plt.legend()\n",
    "plt.tight_layout()\n",
    "plt.savefig(\"hdis.png\")"
   ]
  },
  {
   "cell_type": "markdown",
   "id": "5af00ad2-c682-4c57-b7a2-eb2035a8b273",
   "metadata": {},
   "source": [
    "# Create dataset"
   ]
  },
  {
   "cell_type": "code",
   "execution_count": 17,
   "id": "9cfaac50-3f71-4082-8859-b07464399a61",
   "metadata": {},
   "outputs": [
    {
     "name": "stdout",
     "output_type": "stream",
     "text": [
      "WARNING:tensorflow:No training configuration found in save file, so the model was *not* compiled. Compile it manually.\n"
     ]
    }
   ],
   "source": [
    "question_embeddings_model = Doc2Vec.load(\"../text_model/python.doc\")\n",
    "question_transformer_model = tf.keras.models.load_model(\n",
    "    \"../../scripts/text_model/question_transformer_model\"\n",
    ")\n",
    "index = read_index(\"../../scripts/text_model/users_imp.index\")"
   ]
  },
  {
   "cell_type": "code",
   "execution_count": 18,
   "id": "57bc7ffd-ef50-4ecc-a59e-54910ddc3f63",
   "metadata": {},
   "outputs": [],
   "source": [
    "with open(\"../../scripts/text_model/user_embeddings.pickle\", \"rb\") as f:\n",
    "    user_embedding, user_encoder = pickle.load(f)"
   ]
  },
  {
   "cell_type": "code",
   "execution_count": 19,
   "id": "9d911eb8-7db1-405e-83d8-fdd2b474ec49",
   "metadata": {},
   "outputs": [],
   "source": [
    "MIN_ANSWERS = 3\n",
    "with connection:\n",
    "    with connection.cursor() as cursor:\n",
    "        cursor.execute(\n",
    "            f\"\"\"select p.id, p.title, p.body_text\n",
    "        from posts_19 p\n",
    "        join posts_19_tags pt on pt.post_id=p.id\n",
    "        join posts_19 a on a.parent_id=p.id\n",
    "        join tags t on pt.tag_id=t.id\n",
    "        where p.body_text is not null\n",
    "        and p.creation_date >= '2022-01-01'\n",
    "        and t.tag_name = 'python'\n",
    "        group by p.id\n",
    "        HAVING count(*) > {MIN_ANSWERS}\n",
    "        limit 30000\"\"\"\n",
    "        )\n",
    "        posts = cursor.fetchall()"
   ]
  },
  {
   "cell_type": "code",
   "execution_count": 20,
   "id": "77bbb545-31ce-460a-a42e-3b0fc1180f87",
   "metadata": {},
   "outputs": [],
   "source": [
    "posts_vectors = []\n",
    "posts_ids = []\n",
    "for p_id, title, body in posts:\n",
    "    posts_ids.append(p_id)\n",
    "    post_text = body\n",
    "    if title is not None:\n",
    "        post_text = title + \"\\n\\n\" + body\n",
    "    posts_vectors.append(\n",
    "        question_embeddings_model.infer_vector(simple_preprocess(post_text))\n",
    "    )"
   ]
  },
  {
   "cell_type": "code",
   "execution_count": 21,
   "id": "3d993f59-57c7-46e5-960d-61dfa9ad8c6c",
   "metadata": {},
   "outputs": [
    {
     "data": {
      "text/plain": [
       "(3973, 50)"
      ]
     },
     "execution_count": 21,
     "metadata": {},
     "output_type": "execute_result"
    }
   ],
   "source": [
    "posts_vectors = np.array(posts_vectors)\n",
    "posts_vectors.shape"
   ]
  },
  {
   "cell_type": "code",
   "execution_count": 22,
   "id": "81c843fb-f852-493c-b2e4-f0bac86d7bbe",
   "metadata": {},
   "outputs": [
    {
     "name": "stdout",
     "output_type": "stream",
     "text": [
      "125/125 [==============================] - 0s 790us/step\n"
     ]
    },
    {
     "data": {
      "text/plain": [
       "(3973, 10)"
      ]
     },
     "execution_count": 22,
     "metadata": {},
     "output_type": "execute_result"
    }
   ],
   "source": [
    "questions_transformed = question_transformer_model.predict(posts_vectors)\n",
    "questions_transformed.shape"
   ]
  },
  {
   "cell_type": "code",
   "execution_count": 23,
   "id": "f273e962-71cb-4411-a2d6-d2c5d74cf3d5",
   "metadata": {},
   "outputs": [],
   "source": [
    "qid2emb = {pid: emb for pid, emb in zip(posts_ids, questions_transformed)}"
   ]
  },
  {
   "cell_type": "code",
   "execution_count": 24,
   "id": "e408ce81-8552-4060-831d-79f991ef9672",
   "metadata": {},
   "outputs": [],
   "source": [
    "distances, similar_questions = index.search(questions_transformed, 10000)\n",
    "features_df = pd.DataFrame(\n",
    "    list(zip(posts_ids, similar_questions)), columns=[\"q_id\", \"u_id\"]\n",
    ").explode(\"u_id\")\n",
    "features_df[\"u_id\"] = features_df[\"u_id\"].astype(int)"
   ]
  },
  {
   "cell_type": "code",
   "execution_count": 25,
   "id": "2c0e7d64-762c-4862-bac4-96333ca1ee3c",
   "metadata": {},
   "outputs": [],
   "source": [
    "batch_size = 1000000\n",
    "\n",
    "results = []\n",
    "with connection:\n",
    "    for batch_idx in range(len(features_df) // batch_size):\n",
    "        with connection.cursor() as cursor:\n",
    "            execute_values(\n",
    "                cursor,\n",
    "                \"\"\"select q_id, u_id, q_a.score\n",
    "                                    FROM (VALUES %s) AS base_questions (q_id, u_id)\n",
    "                                    JOIN posts_19 q_a ON q_a.parent_id = q_id\n",
    "                                    WHERE q_a.owner_user_id=u_id\"\"\",\n",
    "                features_df[batch_idx * batch_size : (batch_idx + 1) * batch_size][\n",
    "                    [\"q_id\", \"u_id\"]\n",
    "                ].values.tolist(),\n",
    "                page_size=batch_size,\n",
    "            )\n",
    "            results.extend(cursor.fetchall())\n",
    "dataset = pd.DataFrame(results, columns=[\"q_id\", \"u_id\", \"score\"])"
   ]
  },
  {
   "cell_type": "code",
   "execution_count": 26,
   "id": "a0446016-4857-4a9c-a247-5511e6cd5ab6",
   "metadata": {},
   "outputs": [
    {
     "name": "stdout",
     "output_type": "stream",
     "text": [
      "6411\n"
     ]
    },
    {
     "data": {
      "text/html": [
       "<div>\n",
       "<style scoped>\n",
       "    .dataframe tbody tr th:only-of-type {\n",
       "        vertical-align: middle;\n",
       "    }\n",
       "\n",
       "    .dataframe tbody tr th {\n",
       "        vertical-align: top;\n",
       "    }\n",
       "\n",
       "    .dataframe thead th {\n",
       "        text-align: right;\n",
       "    }\n",
       "</style>\n",
       "<table border=\"1\" class=\"dataframe\">\n",
       "  <thead>\n",
       "    <tr style=\"text-align: right;\">\n",
       "      <th></th>\n",
       "      <th>q_id</th>\n",
       "      <th>u_id</th>\n",
       "      <th>score</th>\n",
       "    </tr>\n",
       "  </thead>\n",
       "  <tbody>\n",
       "    <tr>\n",
       "      <th>46</th>\n",
       "      <td>70547027</td>\n",
       "      <td>901925</td>\n",
       "      <td>4</td>\n",
       "    </tr>\n",
       "    <tr>\n",
       "      <th>66</th>\n",
       "      <td>70547027</td>\n",
       "      <td>2988730</td>\n",
       "      <td>2</td>\n",
       "    </tr>\n",
       "    <tr>\n",
       "      <th>143</th>\n",
       "      <td>70547027</td>\n",
       "      <td>2988730</td>\n",
       "      <td>0</td>\n",
       "    </tr>\n",
       "    <tr>\n",
       "      <th>93</th>\n",
       "      <td>70547281</td>\n",
       "      <td>786593</td>\n",
       "      <td>0</td>\n",
       "    </tr>\n",
       "    <tr>\n",
       "      <th>53</th>\n",
       "      <td>70547281</td>\n",
       "      <td>14531062</td>\n",
       "      <td>0</td>\n",
       "    </tr>\n",
       "  </tbody>\n",
       "</table>\n",
       "</div>"
      ],
      "text/plain": [
       "         q_id      u_id  score\n",
       "46   70547027    901925      4\n",
       "66   70547027   2988730      2\n",
       "143  70547027   2988730      0\n",
       "93   70547281    786593      0\n",
       "53   70547281  14531062      0"
      ]
     },
     "execution_count": 26,
     "metadata": {},
     "output_type": "execute_result"
    }
   ],
   "source": [
    "dataset.sort_values(by=[\"q_id\"], inplace=True)\n",
    "print(len(dataset))\n",
    "dataset.head()"
   ]
  },
  {
   "cell_type": "code",
   "execution_count": 27,
   "id": "9a7bc5d5-4ae6-407a-85d7-70af19ea23e1",
   "metadata": {},
   "outputs": [
    {
     "data": {
      "text/html": [
       "<div>\n",
       "<style scoped>\n",
       "    .dataframe tbody tr th:only-of-type {\n",
       "        vertical-align: middle;\n",
       "    }\n",
       "\n",
       "    .dataframe tbody tr th {\n",
       "        vertical-align: top;\n",
       "    }\n",
       "\n",
       "    .dataframe thead th {\n",
       "        text-align: right;\n",
       "    }\n",
       "</style>\n",
       "<table border=\"1\" class=\"dataframe\">\n",
       "  <thead>\n",
       "    <tr style=\"text-align: right;\">\n",
       "      <th></th>\n",
       "      <th>q_id</th>\n",
       "      <th>u_id</th>\n",
       "      <th>developed_country</th>\n",
       "      <th>idx</th>\n",
       "      <th>pscore</th>\n",
       "    </tr>\n",
       "  </thead>\n",
       "  <tbody>\n",
       "    <tr>\n",
       "      <th>0</th>\n",
       "      <td>70547027</td>\n",
       "      <td>100297</td>\n",
       "      <td>1</td>\n",
       "      <td>0</td>\n",
       "      <td>2.340971</td>\n",
       "    </tr>\n",
       "    <tr>\n",
       "      <th>1</th>\n",
       "      <td>70547027</td>\n",
       "      <td>7574575</td>\n",
       "      <td>0</td>\n",
       "      <td>1</td>\n",
       "      <td>2.266549</td>\n",
       "    </tr>\n",
       "    <tr>\n",
       "      <th>2</th>\n",
       "      <td>70547027</td>\n",
       "      <td>11923558</td>\n",
       "      <td>0</td>\n",
       "      <td>2</td>\n",
       "      <td>2.071728</td>\n",
       "    </tr>\n",
       "    <tr>\n",
       "      <th>3</th>\n",
       "      <td>70547027</td>\n",
       "      <td>1624921</td>\n",
       "      <td>1</td>\n",
       "      <td>3</td>\n",
       "      <td>2.033441</td>\n",
       "    </tr>\n",
       "    <tr>\n",
       "      <th>4</th>\n",
       "      <td>70547027</td>\n",
       "      <td>325565</td>\n",
       "      <td>1</td>\n",
       "      <td>4</td>\n",
       "      <td>1.930067</td>\n",
       "    </tr>\n",
       "  </tbody>\n",
       "</table>\n",
       "</div>"
      ],
      "text/plain": [
       "       q_id      u_id  developed_country  idx    pscore\n",
       "0  70547027    100297                  1    0  2.340971\n",
       "1  70547027   7574575                  0    1  2.266549\n",
       "2  70547027  11923558                  0    2  2.071728\n",
       "3  70547027   1624921                  1    3  2.033441\n",
       "4  70547027    325565                  1    4  1.930067"
      ]
     },
     "execution_count": 27,
     "metadata": {},
     "output_type": "execute_result"
    }
   ],
   "source": [
    "after_fair_df = pd.read_csv(\"after_fair_data.csv\")\n",
    "after_fair_df.head()"
   ]
  },
  {
   "cell_type": "code",
   "execution_count": 28,
   "id": "8b308fb4-5531-4224-b5c3-74f40a1645e3",
   "metadata": {},
   "outputs": [
    {
     "data": {
      "text/plain": [
       "0     3973\n",
       "63    3973\n",
       "73    3973\n",
       "72    3973\n",
       "71    3973\n",
       "      ... \n",
       "30    3973\n",
       "29    3973\n",
       "28    3973\n",
       "27    3973\n",
       "99    3973\n",
       "Name: idx, Length: 100, dtype: int64"
      ]
     },
     "execution_count": 28,
     "metadata": {},
     "output_type": "execute_result"
    }
   ],
   "source": [
    "after_fair_df.idx.value_counts()"
   ]
  },
  {
   "cell_type": "code",
   "execution_count": 29,
   "id": "419ec899-c56d-4bae-a1f7-e38444181b79",
   "metadata": {},
   "outputs": [
    {
     "data": {
      "text/html": [
       "<div>\n",
       "<style scoped>\n",
       "    .dataframe tbody tr th:only-of-type {\n",
       "        vertical-align: middle;\n",
       "    }\n",
       "\n",
       "    .dataframe tbody tr th {\n",
       "        vertical-align: top;\n",
       "    }\n",
       "\n",
       "    .dataframe thead th {\n",
       "        text-align: right;\n",
       "    }\n",
       "</style>\n",
       "<table border=\"1\" class=\"dataframe\">\n",
       "  <thead>\n",
       "    <tr style=\"text-align: right;\">\n",
       "      <th></th>\n",
       "      <th>q_id</th>\n",
       "      <th>u_id</th>\n",
       "      <th>developed_country</th>\n",
       "      <th>idx</th>\n",
       "      <th>pscore</th>\n",
       "      <th>score</th>\n",
       "      <th>is_answer</th>\n",
       "    </tr>\n",
       "  </thead>\n",
       "  <tbody>\n",
       "    <tr>\n",
       "      <th>0</th>\n",
       "      <td>70547027</td>\n",
       "      <td>100297</td>\n",
       "      <td>1</td>\n",
       "      <td>0</td>\n",
       "      <td>2.340971</td>\n",
       "      <td>NaN</td>\n",
       "      <td>0</td>\n",
       "    </tr>\n",
       "    <tr>\n",
       "      <th>1</th>\n",
       "      <td>70547027</td>\n",
       "      <td>7574575</td>\n",
       "      <td>0</td>\n",
       "      <td>1</td>\n",
       "      <td>2.266549</td>\n",
       "      <td>NaN</td>\n",
       "      <td>0</td>\n",
       "    </tr>\n",
       "    <tr>\n",
       "      <th>2</th>\n",
       "      <td>70547027</td>\n",
       "      <td>11923558</td>\n",
       "      <td>0</td>\n",
       "      <td>2</td>\n",
       "      <td>2.071728</td>\n",
       "      <td>NaN</td>\n",
       "      <td>0</td>\n",
       "    </tr>\n",
       "    <tr>\n",
       "      <th>3</th>\n",
       "      <td>70547027</td>\n",
       "      <td>1624921</td>\n",
       "      <td>1</td>\n",
       "      <td>3</td>\n",
       "      <td>2.033441</td>\n",
       "      <td>NaN</td>\n",
       "      <td>0</td>\n",
       "    </tr>\n",
       "    <tr>\n",
       "      <th>4</th>\n",
       "      <td>70547027</td>\n",
       "      <td>325565</td>\n",
       "      <td>1</td>\n",
       "      <td>4</td>\n",
       "      <td>1.930067</td>\n",
       "      <td>NaN</td>\n",
       "      <td>0</td>\n",
       "    </tr>\n",
       "  </tbody>\n",
       "</table>\n",
       "</div>"
      ],
      "text/plain": [
       "       q_id      u_id  developed_country  idx    pscore  score  is_answer\n",
       "0  70547027    100297                  1    0  2.340971    NaN          0\n",
       "1  70547027   7574575                  0    1  2.266549    NaN          0\n",
       "2  70547027  11923558                  0    2  2.071728    NaN          0\n",
       "3  70547027   1624921                  1    3  2.033441    NaN          0\n",
       "4  70547027    325565                  1    4  1.930067    NaN          0"
      ]
     },
     "execution_count": 29,
     "metadata": {},
     "output_type": "execute_result"
    }
   ],
   "source": [
    "fair_dataset = after_fair_df.merge(dataset, on=[\"q_id\", \"u_id\"], how=\"left\")\n",
    "fair_dataset[\"is_answer\"] = (~fair_dataset[\"score\"].isna()).astype(int)\n",
    "fair_dataset.head()"
   ]
  },
  {
   "cell_type": "code",
   "execution_count": 30,
   "id": "a86616d1-0c83-4fda-8fe6-d1c5641c4cc9",
   "metadata": {},
   "outputs": [
    {
     "data": {
      "text/plain": [
       "0.0011024414799899321"
      ]
     },
     "execution_count": 30,
     "metadata": {},
     "output_type": "execute_result"
    }
   ],
   "source": [
    "fair_dataset[\"is_answer\"].mean()"
   ]
  },
  {
   "cell_type": "code",
   "execution_count": 31,
   "id": "bfce3041-da2c-4139-8be8-3085b363acad",
   "metadata": {},
   "outputs": [],
   "source": [
    "top_k = list(range(1, 100))\n",
    "\n",
    "\n",
    "def calculate_top_k_p(k):\n",
    "    top_df = fair_dataset.groupby(\"q_id\", group_keys=False)[\n",
    "        [\"developed_country\", \"is_answer\", \"q_id\"]\n",
    "    ].apply(lambda x: x.head(k))\n",
    "    return (\n",
    "        top_df[top_df[\"developed_country\"] == 1][\"is_answer\"].mean(),\n",
    "        top_df[top_df[\"developed_country\"] == 0][\"is_answer\"].mean(),\n",
    "    )\n",
    "\n",
    "\n",
    "with Pool(8) as p:\n",
    "    p_is_answer_cond = p.map(calculate_top_k_p, top_k)\n",
    "p_is_answer_dev, p_is_answer_no_dev = zip(*p_is_answer_cond)"
   ]
  },
  {
   "cell_type": "code",
   "execution_count": 32,
   "id": "89ecacc2-84d5-4a69-b8d0-d1715f5ed03c",
   "metadata": {},
   "outputs": [
    {
     "data": {
      "image/png": "[encoded data removed]",
      "text/plain": [
       "<Figure size 640x480 with 1 Axes>"
      ]
     },
     "metadata": {},
     "output_type": "display_data"
    }
   ],
   "source": [
    "fig, ax1 = plt.subplots()\n",
    "\n",
    "color = \"tab:red\"\n",
    "ax1.set_xlabel(\"k\")\n",
    "ax1.set_ylabel(\"$P[A=True|\\widehat{A}=True \\land C=x]$\")\n",
    "ax1.plot(top_k, p_is_answer_dev, color=color, label=\"$x=IDH^+$\")\n",
    "ax1.plot(top_k, p_is_answer_no_dev, color=\"tab:blue\", label=\"$x=IDH^-$\")\n",
    "ax1.set_ylim([0, 0.0037])\n",
    "ax1.legend()\n",
    "\n",
    "fig.tight_layout()\n",
    "fig.savefig(\"prec_mean_after.pdf\")\n",
    "plt.show()"
   ]
  },
  {
   "cell_type": "code",
   "execution_count": 33,
   "id": "618fc6ce-d878-4e70-9f1b-ee11cde18dec",
   "metadata": {},
   "outputs": [
    {
     "data": {
      "text/plain": [
       "((0.00027878449958182325,\n",
       "  0.003604902667627974,\n",
       "  0.003525724732306085,\n",
       "  0.002857142857142857,\n",
       "  0.002321147309956064),\n",
       " (0.0,\n",
       "  0.0004170141784820684,\n",
       "  0.0002346866932644919,\n",
       "  0.0004924491135915955,\n",
       "  0.0005126890540886952))"
      ]
     },
     "execution_count": 33,
     "metadata": {},
     "output_type": "execute_result"
    }
   ],
   "source": [
    "p_is_answer_dev[:5], p_is_answer_no_dev[:5]"
   ]
  },
  {
   "cell_type": "code",
   "execution_count": 34,
   "id": "936f8876-3c4d-4314-8603-31cf3898345b",
   "metadata": {},
   "outputs": [
    {
     "name": "stderr",
     "output_type": "stream",
     "text": [
      "No artists with labels found to put in legend.  Note that artists whose label start with an underscore are ignored when legend() is called with no argument.\n"
     ]
    },
    {
     "data": {
      "text/plain": [
       "<matplotlib.legend.Legend at 0x7f76f811ad70>"
      ]
     },
     "execution_count": 34,
     "metadata": {},
     "output_type": "execute_result"
    },
    {
     "data": {
      "image/png": "[encoded data removed]",
      "text/plain": [
       "<Figure size 640x480 with 1 Axes>"
      ]
     },
     "metadata": {},
     "output_type": "display_data"
    }
   ],
   "source": [
    "fig, ax1 = plt.subplots()\n",
    "\n",
    "mean_prec_difference = [np.absolute(k_dev_mean_prec - k_no_dev_mean_prec)\n",
    "                             for k_dev_mean_prec, k_no_dev_mean_prec\n",
    "                             in zip(p_is_answer_dev, p_is_answer_no_dev)]\n",
    "color = \"black\"\n",
    "ax1.set_xlabel(\"k\")\n",
    "ax1.set_ylabel(\"Mean absolute precision difference per question\")\n",
    "ax1.plot(top_k, mean_prec_difference, color=color)\n",
    "ax1.set_ylim(0, 0.0035)\n",
    "\n",
    "fig.savefig(\"prec_difference_after.pdf\")\n",
    "fig.tight_layout()\n",
    "ax1.legend()"
   ]
  },
  {
   "cell_type": "code",
   "execution_count": 37,
   "id": "136c3944-6d5e-4f35-82c9-7ebf90f55e87",
   "metadata": {},
   "outputs": [],
   "source": [
    "top_k = list(range(1, 100))\n",
    "\n",
    "def calculate_top_k_p_all(k):\n",
    "    top_df = fair_dataset.groupby(\"q_id\", group_keys=False)[\n",
    "        [\"developed_country\", \"is_answer\", \"q_id\"]\n",
    "    ].apply(lambda x: x.head(k))\n",
    "    return top_df[\"is_answer\"].mean()\n",
    "\n",
    "\n",
    "with Pool(8) as p:\n",
    "    p_is_answer_all = p.map(calculate_top_k_p_all, top_k)"
   ]
  },
  {
   "cell_type": "code",
   "execution_count": 41,
   "id": "d25dec58-13fe-4c45-8520-34de82c5e154",
   "metadata": {},
   "outputs": [
    {
     "name": "stderr",
     "output_type": "stream",
     "text": [
      "No artists with labels found to put in legend.  Note that artists whose label start with an underscore are ignored when legend() is called with no argument.\n"
     ]
    },
    {
     "data": {
      "image/png": "[encoded data removed]",
      "text/plain": [
       "<Figure size 640x480 with 1 Axes>"
      ]
     },
     "metadata": {},
     "output_type": "display_data"
    }
   ],
   "source": [
    "fig, ax1 = plt.subplots()\n",
    "\n",
    "color = \"black\"\n",
    "ax1.set_xlabel(\"k\")\n",
    "ax1.set_ylabel(\"$P[A=True|\\widehat{A}=True]$\")\n",
    "ax1.plot(top_k, p_is_answer_all, color=color)\n",
    "ax1.set_ylim([0, 0.003])\n",
    "ax1.legend()\n",
    "ax1.grid()\n",
    "\n",
    "fig.tight_layout()\n",
    "fig.savefig(\"prec_mean_after_all.pdf\")\n",
    "plt.show()"
   ]
  },
  {
   "cell_type": "code",
   "execution_count": null,
   "id": "32132e5e-ea6d-4134-9707-c6501d075a9f",
   "metadata": {},
   "outputs": [],
   "source": []
  }
 ],
 "metadata": {
  "kernelspec": {
   "display_name": "Python 3 (ipykernel)",
   "language": "python",
   "name": "python3"
  },
  "language_info": {
   "codemirror_mode": {
    "name": "ipython",
    "version": 3
   },
   "file_extension": ".py",
   "mimetype": "text/x-python",
   "name": "python",
   "nbconvert_exporter": "python",
   "pygments_lexer": "ipython3",
   "version": "3.10.12"
  }
 },
 "nbformat": 4,
 "nbformat_minor": 5
}
