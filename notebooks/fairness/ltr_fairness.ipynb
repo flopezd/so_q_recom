{
 "cells": [
  {
   "cell_type": "code",
   "execution_count": 2,
   "id": "94db2c4e-301a-4262-8bda-8a8d3231732d",
   "metadata": {},
   "outputs": [
    {
     "name": "stderr",
     "output_type": "stream",
     "text": [
      "2023-09-25 09:53:54.318810: I tensorflow/core/platform/cpu_feature_guard.cc:182] This TensorFlow binary is optimized to use available CPU instructions in performance-critical operations.\n",
      "To enable the following instructions: AVX2 FMA, in other operations, rebuild TensorFlow with the appropriate compiler flags.\n"
     ]
    }
   ],
   "source": [
    "import pandas as pd\n",
    "import psycopg2\n",
    "import seaborn as sns\n",
    "import tensorflow as tf\n",
    "import tensorflow.keras.backend as K\n",
    "from gensim.models.doc2vec import Doc2Vec\n",
    "from faiss import read_index\n",
    "import pickle\n",
    "from gensim.utils import simple_preprocess\n",
    "import numpy as np\n",
    "from psycopg2.extras import execute_values\n",
    "from xgboost import XGBRanker\n",
    "from operator import itemgetter\n",
    "import matplotlib.pyplot as plt\n",
    "from multiprocessing import Pool"
   ]
  },
  {
   "cell_type": "markdown",
   "id": "293fd5f8-109a-4600-814b-6806030a1c76",
   "metadata": {},
   "source": [
    "# Divide countries"
   ]
  },
  {
   "cell_type": "markdown",
   "id": "866bcb66-b54f-4211-9276-aa57a17b738e",
   "metadata": {},
   "source": [
    "## Get hdi"
   ]
  },
  {
   "cell_type": "code",
   "execution_count": 3,
   "id": "91535b2d-cbf9-43a2-acb1-0e5a2619abfb",
   "metadata": {},
   "outputs": [],
   "source": [
    "# https://data.humdata.org/dataset/human-development-index-hdi\n",
    "# https://hdr.undp.org/data-center/documentation-and-downloads"
   ]
  },
  {
   "cell_type": "code",
   "execution_count": 4,
   "id": "08af8f51-baa6-492d-80cb-9a0be1a05f68",
   "metadata": {},
   "outputs": [],
   "source": [
    "hdi_df = pd.read_excel(\"HDR21-22_Statistical_Annex_HDI_Table.xlsx\", header=4)\n",
    "hdi_df = hdi_df.rename(\n",
    "    columns={\"Unnamed: 1\": \"country\", \"Human Development Index (HDI) \": \"value\"}\n",
    ")\n",
    "hdi_df = hdi_df[[\"country\", \"value\"]].dropna()[1:]\n",
    "hdi_df[\"country\"] = hdi_df[\"country\"].str.lower()\n",
    "hdi_df[\"value\"] = pd.to_numeric(hdi_df[\"value\"], errors=\"coerce\")\n",
    "hdi_df = hdi_df.set_index(\"country\")"
   ]
  },
  {
   "cell_type": "code",
   "execution_count": 5,
   "id": "68ae227c-cd34-4c21-80a0-9058eddda860",
   "metadata": {},
   "outputs": [
    {
     "data": {
      "text/html": [
       "<div>\n",
       "<style scoped>\n",
       "    .dataframe tbody tr th:only-of-type {\n",
       "        vertical-align: middle;\n",
       "    }\n",
       "\n",
       "    .dataframe tbody tr th {\n",
       "        vertical-align: top;\n",
       "    }\n",
       "\n",
       "    .dataframe thead th {\n",
       "        text-align: right;\n",
       "    }\n",
       "</style>\n",
       "<table border=\"1\" class=\"dataframe\">\n",
       "  <thead>\n",
       "    <tr style=\"text-align: right;\">\n",
       "      <th></th>\n",
       "      <th>value</th>\n",
       "    </tr>\n",
       "    <tr>\n",
       "      <th>country</th>\n",
       "      <th></th>\n",
       "    </tr>\n",
       "  </thead>\n",
       "  <tbody>\n",
       "    <tr>\n",
       "      <th>switzerland</th>\n",
       "      <td>0.962</td>\n",
       "    </tr>\n",
       "    <tr>\n",
       "      <th>norway</th>\n",
       "      <td>0.961</td>\n",
       "    </tr>\n",
       "    <tr>\n",
       "      <th>iceland</th>\n",
       "      <td>0.959</td>\n",
       "    </tr>\n",
       "    <tr>\n",
       "      <th>hong kong, china (sar)</th>\n",
       "      <td>0.952</td>\n",
       "    </tr>\n",
       "    <tr>\n",
       "      <th>australia</th>\n",
       "      <td>0.951</td>\n",
       "    </tr>\n",
       "  </tbody>\n",
       "</table>\n",
       "</div>"
      ],
      "text/plain": [
       "                        value\n",
       "country                      \n",
       "switzerland             0.962\n",
       "norway                  0.961\n",
       "iceland                 0.959\n",
       "hong kong, china (sar)  0.952\n",
       "australia               0.951"
      ]
     },
     "execution_count": 5,
     "metadata": {},
     "output_type": "execute_result"
    }
   ],
   "source": [
    "hdi_df.head(5)"
   ]
  },
  {
   "cell_type": "code",
   "execution_count": 6,
   "id": "930d7237-9280-449f-a218-1658d1a62408",
   "metadata": {},
   "outputs": [
    {
     "data": {
      "text/html": [
       "<div>\n",
       "<style scoped>\n",
       "    .dataframe tbody tr th:only-of-type {\n",
       "        vertical-align: middle;\n",
       "    }\n",
       "\n",
       "    .dataframe tbody tr th {\n",
       "        vertical-align: top;\n",
       "    }\n",
       "\n",
       "    .dataframe thead th {\n",
       "        text-align: right;\n",
       "    }\n",
       "</style>\n",
       "<table border=\"1\" class=\"dataframe\">\n",
       "  <thead>\n",
       "    <tr style=\"text-align: right;\">\n",
       "      <th></th>\n",
       "      <th>value</th>\n",
       "    </tr>\n",
       "    <tr>\n",
       "      <th>country</th>\n",
       "      <th></th>\n",
       "    </tr>\n",
       "  </thead>\n",
       "  <tbody>\n",
       "    <tr>\n",
       "      <th>korea (democratic people's rep. of)</th>\n",
       "      <td>NaN</td>\n",
       "    </tr>\n",
       "    <tr>\n",
       "      <th>monaco</th>\n",
       "      <td>NaN</td>\n",
       "    </tr>\n",
       "    <tr>\n",
       "      <th>nauru</th>\n",
       "      <td>NaN</td>\n",
       "    </tr>\n",
       "    <tr>\n",
       "      <th>somalia</th>\n",
       "      <td>NaN</td>\n",
       "    </tr>\n",
       "  </tbody>\n",
       "</table>\n",
       "</div>"
      ],
      "text/plain": [
       "                                     value\n",
       "country                                   \n",
       "korea (democratic people's rep. of)    NaN\n",
       "monaco                                 NaN\n",
       "nauru                                  NaN\n",
       "somalia                                NaN"
      ]
     },
     "execution_count": 6,
     "metadata": {},
     "output_type": "execute_result"
    }
   ],
   "source": [
    "hdi_df[hdi_df[\"value\"].isna()]"
   ]
  },
  {
   "cell_type": "code",
   "execution_count": 7,
   "id": "4771d59d-33e3-4777-adcf-18f83fc91d5c",
   "metadata": {},
   "outputs": [],
   "source": [
    "hdi_df = hdi_df.dropna()"
   ]
  },
  {
   "cell_type": "markdown",
   "id": "b7399ef3-e837-4fce-84d8-8f794c598112",
   "metadata": {},
   "source": [
    "## Get user data"
   ]
  },
  {
   "cell_type": "code",
   "execution_count": 8,
   "id": "d2c4f4e5-efa0-4eb5-ab8e-3a7610f636cc",
   "metadata": {},
   "outputs": [],
   "source": [
    "connection = psycopg2.connect(\n",
    "    user=\"postgres\",\n",
    "    password=\"postgres\",\n",
    "    host=\"127.0.0.1\",\n",
    "    port=\"54320\",\n",
    "    database=\"stack_overflow\",\n",
    ")"
   ]
  },
  {
   "cell_type": "code",
   "execution_count": 9,
   "id": "8fcb94d0-d75e-4a5c-a23a-9bca076ea2a6",
   "metadata": {},
   "outputs": [
    {
     "name": "stdout",
     "output_type": "stream",
     "text": [
      "3941484\n"
     ]
    },
    {
     "data": {
      "text/html": [
       "<div>\n",
       "<style scoped>\n",
       "    .dataframe tbody tr th:only-of-type {\n",
       "        vertical-align: middle;\n",
       "    }\n",
       "\n",
       "    .dataframe tbody tr th {\n",
       "        vertical-align: top;\n",
       "    }\n",
       "\n",
       "    .dataframe thead th {\n",
       "        text-align: right;\n",
       "    }\n",
       "</style>\n",
       "<table border=\"1\" class=\"dataframe\">\n",
       "  <thead>\n",
       "    <tr style=\"text-align: right;\">\n",
       "      <th></th>\n",
       "      <th>user_id</th>\n",
       "      <th>country</th>\n",
       "    </tr>\n",
       "  </thead>\n",
       "  <tbody>\n",
       "    <tr>\n",
       "      <th>0</th>\n",
       "      <td>22545</td>\n",
       "      <td>New Zealand</td>\n",
       "    </tr>\n",
       "    <tr>\n",
       "      <th>1</th>\n",
       "      <td>22550</td>\n",
       "      <td>India</td>\n",
       "    </tr>\n",
       "    <tr>\n",
       "      <th>2</th>\n",
       "      <td>22554</td>\n",
       "      <td>India</td>\n",
       "    </tr>\n",
       "    <tr>\n",
       "      <th>3</th>\n",
       "      <td>22562</td>\n",
       "      <td>Germany</td>\n",
       "    </tr>\n",
       "    <tr>\n",
       "      <th>4</th>\n",
       "      <td>22564</td>\n",
       "      <td>Ireland</td>\n",
       "    </tr>\n",
       "  </tbody>\n",
       "</table>\n",
       "</div>"
      ],
      "text/plain": [
       "   user_id      country\n",
       "0    22545  New Zealand\n",
       "1    22550        India\n",
       "2    22554        India\n",
       "3    22562      Germany\n",
       "4    22564      Ireland"
      ]
     },
     "execution_count": 9,
     "metadata": {},
     "output_type": "execute_result"
    }
   ],
   "source": [
    "with connection:\n",
    "    with connection.cursor() as cursor:\n",
    "        cursor.execute(\n",
    "            f\"\"\"select id, country\n",
    "                            from users\n",
    "                            where country is not NULL\n",
    "                            \"\"\"\n",
    "        )\n",
    "        users = pd.DataFrame(cursor.fetchall(), columns=[\"user_id\", \"country\"])\n",
    "print(len(users))\n",
    "users.head()"
   ]
  },
  {
   "cell_type": "code",
   "execution_count": 10,
   "id": "c735912b-c9df-4aec-8af2-109c4dc5d224",
   "metadata": {},
   "outputs": [],
   "source": [
    "# missing_countries = users[users[\"value\"].isna()][\"country\"].unique()\n",
    "# [(missing_country, in_df_name[0])\n",
    "# for missing_country in missing_countries\n",
    "# if (in_df_name:=hdi_df.index[hdi_df.index.str.contains(missing_country)].values).size>0]\n",
    "\n",
    "# faroe islands HDI (2008)\t0.950\n",
    "# falkland islands HDI (2010)\t0.874\n",
    "# greenland HDI (2010)\t0.786\n",
    "# curacao HDI (2012)\t0.811\n",
    "# cayman islands HDI (2013)\t0.984\n",
    "# puerto rico HDI (2015)\t0.845\n",
    "# kosovo HDI (2016)\t0.742\n",
    "# guam HDI (2017) 0.901\n",
    "# aland islands HDI (2017)\t0.900\n",
    "# gibraltar HDI (2018)\t0.961\n",
    "# macao HDI (2019) 0.922\n",
    "# taiwan HDI (2021)\t0.926\n",
    "\n",
    "countries_to_replace = [\n",
    "    (\"russia\", \"russian federation\"),\n",
    "    (\"tanzania\", \"tanzania (united republic of)\"),\n",
    "    (\"hong kong\", \"hong kong, china (sar)\"),\n",
    "    (\"moldova\", \"moldova (republic of)\"),\n",
    "    (\"iran\", \"iran (islamic republic of)\"),\n",
    "    (\"i̇ran\", \"iran (islamic republic of)\"),\n",
    "    (\"syria\", \"syrian arab republic\"),\n",
    "    (\"venezuela\", \"venezuela (bolivarian republic of)\"),\n",
    "    (\"bolivia\", \"bolivia (plurinational state of)\"),\n",
    "    (\"brunei\", \"brunei darussalam\"),\n",
    "    (\"micronesia\", \"micronesia (federated states of)\"),\n",
    "    (\"eswatini\", \"eswatini (kingdom of)\"),\n",
    "    (\"turkey\", \"türkiye\"),\n",
    "    (\"vietnam\", \"viet nam\"),\n",
    "    (\"south korea\", \"korea (republic of)\"),\n",
    "    (\"democratic republic of the congo\", \"congo (democratic republic of the)\"),\n",
    "    (\"palestinian territory\", \"palestine, state of\"),\n",
    "    (\"timor leste\", \"timor-leste\"),\n",
    "    (\"ivory coast\", \"côte d'ivoire\"),\n",
    "    (\"laos\", \"lao people's democratic republic\"),\n",
    "    (\"republic of the congo\", \"congo\"),\n",
    "    (\"i̇taly\", \"italy\"),\n",
    "    (\"i̇raq\", \"iraq\"),\n",
    "]\n",
    "users[\"country\"] = users[\"country\"].str.lower()\n",
    "for original_country, replace_country in countries_to_replace:\n",
    "    users[\"country\"] = users[\"country\"].str.replace(original_country, replace_country)"
   ]
  },
  {
   "cell_type": "code",
   "execution_count": 11,
   "id": "a4f15ff7-d784-451a-bf41-9037e8ccc523",
   "metadata": {},
   "outputs": [
    {
     "data": {
      "text/html": [
       "<div>\n",
       "<style scoped>\n",
       "    .dataframe tbody tr th:only-of-type {\n",
       "        vertical-align: middle;\n",
       "    }\n",
       "\n",
       "    .dataframe tbody tr th {\n",
       "        vertical-align: top;\n",
       "    }\n",
       "\n",
       "    .dataframe thead th {\n",
       "        text-align: right;\n",
       "    }\n",
       "</style>\n",
       "<table border=\"1\" class=\"dataframe\">\n",
       "  <thead>\n",
       "    <tr style=\"text-align: right;\">\n",
       "      <th></th>\n",
       "      <th>user_id</th>\n",
       "      <th>country</th>\n",
       "      <th>value</th>\n",
       "    </tr>\n",
       "  </thead>\n",
       "  <tbody>\n",
       "    <tr>\n",
       "      <th>0</th>\n",
       "      <td>22545</td>\n",
       "      <td>new zealand</td>\n",
       "      <td>0.937</td>\n",
       "    </tr>\n",
       "    <tr>\n",
       "      <th>1</th>\n",
       "      <td>22550</td>\n",
       "      <td>india</td>\n",
       "      <td>0.633</td>\n",
       "    </tr>\n",
       "    <tr>\n",
       "      <th>2</th>\n",
       "      <td>22554</td>\n",
       "      <td>india</td>\n",
       "      <td>0.633</td>\n",
       "    </tr>\n",
       "    <tr>\n",
       "      <th>3</th>\n",
       "      <td>22562</td>\n",
       "      <td>germany</td>\n",
       "      <td>0.942</td>\n",
       "    </tr>\n",
       "    <tr>\n",
       "      <th>4</th>\n",
       "      <td>22564</td>\n",
       "      <td>ireland</td>\n",
       "      <td>0.945</td>\n",
       "    </tr>\n",
       "  </tbody>\n",
       "</table>\n",
       "</div>"
      ],
      "text/plain": [
       "   user_id      country  value\n",
       "0    22545  new zealand  0.937\n",
       "1    22550        india  0.633\n",
       "2    22554        india  0.633\n",
       "3    22562      germany  0.942\n",
       "4    22564      ireland  0.945"
      ]
     },
     "execution_count": 11,
     "metadata": {},
     "output_type": "execute_result"
    }
   ],
   "source": [
    "users = users.join(hdi_df, on=\"country\")\n",
    "users.head()"
   ]
  },
  {
   "cell_type": "code",
   "execution_count": 12,
   "id": "3b2dfd38-8836-48cf-9a21-87fba538e235",
   "metadata": {},
   "outputs": [
    {
     "data": {
      "text/plain": [
       "array(['somalia', 'puerto rico', 'error', 'jersey', 'guernsey', 'bermuda',\n",
       "       'isle of man', 'taiwan', 'kosovo', 'monaco',\n",
       "       'french southern territories', 'cayman islands', 'aruba',\n",
       "       'reunion', 'curacao', 'new caledonia', 'guam', 'faroe islands',\n",
       "       'anguilla', 'gibraltar', 'greenland', 'aland islands',\n",
       "       'saint helena', 'cook islands', 'guadeloupe', 'french polynesia',\n",
       "       'martinique', 'christmas island', 'macao', 'norfolk island',\n",
       "       'svalbard and jan mayen', 'american samoa', 'sint maarten',\n",
       "       'north korea', 'bonaire, saint eustatius and saba ',\n",
       "       'turks and caicos islands', 'northern mariana islands',\n",
       "       'united states minor outlying islands', 'pitcairn', 'nauru',\n",
       "       'montserrat', 'u.s. virgin islands', 'western sahara',\n",
       "       'south georgia and the south sandwich islands', 'french guiana',\n",
       "       'niue', 'mayotte', 'british virgin islands', 'wallis and futuna',\n",
       "       'saint martin', 'falkland islands', 'saint pierre and miquelon',\n",
       "       'vatican', 'tokelau', 'saint barthelemy'], dtype=object)"
      ]
     },
     "execution_count": 12,
     "metadata": {},
     "output_type": "execute_result"
    }
   ],
   "source": [
    "users[users[\"value\"].isna()][\"country\"].unique()"
   ]
  },
  {
   "cell_type": "code",
   "execution_count": 13,
   "id": "4f7001f3-252c-4dd4-b9c2-cbd91b1a3367",
   "metadata": {},
   "outputs": [
    {
     "data": {
      "text/plain": [
       "3872918"
      ]
     },
     "execution_count": 13,
     "metadata": {},
     "output_type": "execute_result"
    }
   ],
   "source": [
    "users = users[~users[\"value\"].isna()]\n",
    "len(users)"
   ]
  },
  {
   "cell_type": "code",
   "execution_count": 14,
   "id": "9b16f14f-e0df-4a78-ab6e-c78028f5be21",
   "metadata": {},
   "outputs": [
    {
     "data": {
      "text/plain": [
       "<seaborn.axisgrid.FacetGrid at 0x7fc4740e2770>"
      ]
     },
     "execution_count": 14,
     "metadata": {},
     "output_type": "execute_result"
    },
    {
     "data": {
      "image/png": "[encoded data removed]",
      "text/plain": [
       "<Figure size 500x500 with 1 Axes>"
      ]
     },
     "metadata": {},
     "output_type": "display_data"
    }
   ],
   "source": [
    "sns.displot(users, x=\"value\")"
   ]
  },
  {
   "cell_type": "code",
   "execution_count": 15,
   "id": "c291258a-46b1-41a5-8223-3e56b49e860f",
   "metadata": {},
   "outputs": [
    {
     "data": {
      "text/plain": [
       "(719511, 0.633)"
      ]
     },
     "execution_count": 15,
     "metadata": {},
     "output_type": "execute_result"
    }
   ],
   "source": [
    "users[users[\"country\"] == \"india\"][\"country\"].count(), hdi_df.loc[\"india\"][\"value\"]"
   ]
  },
  {
   "cell_type": "code",
   "execution_count": 16,
   "id": "b29da2b9-6651-45dd-bc35-dceed94b963c",
   "metadata": {},
   "outputs": [
    {
     "data": {
      "text/plain": [
       "(574402, 0.921)"
      ]
     },
     "execution_count": 16,
     "metadata": {},
     "output_type": "execute_result"
    }
   ],
   "source": [
    "users[users[\"country\"] == \"united states\"][\"country\"].count(), hdi_df.loc[\n",
    "    \"united states\"\n",
    "][\"value\"]"
   ]
  },
  {
   "cell_type": "markdown",
   "id": "9905b824-9839-4383-a57e-5afb11105f71",
   "metadata": {},
   "source": [
    "## Divide users"
   ]
  },
  {
   "cell_type": "code",
   "execution_count": 17,
   "id": "af2874d3-6a50-4b56-89d2-e1e5c090e00b",
   "metadata": {},
   "outputs": [
    {
     "data": {
      "text/plain": [
       "0.3602363902359926"
      ]
     },
     "execution_count": 17,
     "metadata": {},
     "output_type": "execute_result"
    }
   ],
   "source": [
    "HDI_THRESHOLD = 0.92\n",
    "users[\"developed_country\"] = (users[\"value\"] > HDI_THRESHOLD).astype(int)\n",
    "users[\"developed_country\"].mean()"
   ]
  },
  {
   "cell_type": "code",
   "execution_count": 19,
   "id": "719194a3-75d9-4df1-a2e1-c8f80d2ee68e",
   "metadata": {},
   "outputs": [],
   "source": [
    "users.to_csv(\"users_dev_country.csv\", index=False)"
   ]
  },
  {
   "cell_type": "markdown",
   "id": "5af00ad2-c682-4c57-b7a2-eb2035a8b273",
   "metadata": {},
   "source": [
    "# Create dataset"
   ]
  },
  {
   "cell_type": "code",
   "execution_count": 17,
   "id": "9cfaac50-3f71-4082-8859-b07464399a61",
   "metadata": {},
   "outputs": [
    {
     "name": "stdout",
     "output_type": "stream",
     "text": [
      "WARNING:tensorflow:No training configuration found in save file, so the model was *not* compiled. Compile it manually.\n"
     ]
    }
   ],
   "source": [
    "question_embeddings_model = Doc2Vec.load(\"../text_model/python.doc\")\n",
    "question_transformer_model = tf.keras.models.load_model(\n",
    "    \"../../scripts/text_model/question_transformer_model\"\n",
    ")\n",
    "index = read_index(\"../../scripts/text_model/users_imp.index\")"
   ]
  },
  {
   "cell_type": "code",
   "execution_count": 18,
   "id": "57bc7ffd-ef50-4ecc-a59e-54910ddc3f63",
   "metadata": {},
   "outputs": [],
   "source": [
    "with open(\"../../scripts/text_model/user_embeddings.pickle\", \"rb\") as f:\n",
    "    user_embedding, user_encoder = pickle.load(f)"
   ]
  },
  {
   "cell_type": "code",
   "execution_count": 19,
   "id": "9d911eb8-7db1-405e-83d8-fdd2b474ec49",
   "metadata": {},
   "outputs": [],
   "source": [
    "MIN_ANSWERS = 3\n",
    "with connection:\n",
    "    with connection.cursor() as cursor:\n",
    "        cursor.execute(\n",
    "            f\"\"\"select p.id, p.title, p.body_text\n",
    "        from posts_19 p\n",
    "        join posts_19_tags pt on pt.post_id=p.id\n",
    "        join posts_19 a on a.parent_id=p.id\n",
    "        join tags t on pt.tag_id=t.id\n",
    "        where p.body_text is not null\n",
    "        and p.creation_date >= '2022-01-01'\n",
    "        and t.tag_name = 'python'\n",
    "        group by p.id\n",
    "        HAVING count(*) > {MIN_ANSWERS}\n",
    "        limit 30000\"\"\"\n",
    "        )\n",
    "        posts = cursor.fetchall()"
   ]
  },
  {
   "cell_type": "code",
   "execution_count": 20,
   "id": "77bbb545-31ce-460a-a42e-3b0fc1180f87",
   "metadata": {},
   "outputs": [],
   "source": [
    "posts_vectors = []\n",
    "posts_ids = []\n",
    "for p_id, title, body in posts:\n",
    "    posts_ids.append(p_id)\n",
    "    post_text = body\n",
    "    if title is not None:\n",
    "        post_text = title + \"\\n\\n\" + body\n",
    "    posts_vectors.append(\n",
    "        question_embeddings_model.infer_vector(simple_preprocess(post_text))\n",
    "    )"
   ]
  },
  {
   "cell_type": "code",
   "execution_count": 21,
   "id": "3d993f59-57c7-46e5-960d-61dfa9ad8c6c",
   "metadata": {},
   "outputs": [
    {
     "data": {
      "text/plain": [
       "(3973, 50)"
      ]
     },
     "execution_count": 21,
     "metadata": {},
     "output_type": "execute_result"
    }
   ],
   "source": [
    "posts_vectors = np.array(posts_vectors)\n",
    "posts_vectors.shape"
   ]
  },
  {
   "cell_type": "code",
   "execution_count": 22,
   "id": "81c843fb-f852-493c-b2e4-f0bac86d7bbe",
   "metadata": {},
   "outputs": [
    {
     "name": "stdout",
     "output_type": "stream",
     "text": [
      "125/125 [==============================] - 0s 690us/step\n"
     ]
    },
    {
     "data": {
      "text/plain": [
       "(3973, 10)"
      ]
     },
     "execution_count": 22,
     "metadata": {},
     "output_type": "execute_result"
    }
   ],
   "source": [
    "questions_transformed = question_transformer_model.predict(posts_vectors)\n",
    "questions_transformed.shape"
   ]
  },
  {
   "cell_type": "code",
   "execution_count": 23,
   "id": "f273e962-71cb-4411-a2d6-d2c5d74cf3d5",
   "metadata": {},
   "outputs": [],
   "source": [
    "qid2emb = {pid: emb for pid, emb in zip(posts_ids, questions_transformed)}"
   ]
  },
  {
   "cell_type": "code",
   "execution_count": 24,
   "id": "e408ce81-8552-4060-831d-79f991ef9672",
   "metadata": {},
   "outputs": [],
   "source": [
    "distances, similar_questions = index.search(questions_transformed, 10000)\n",
    "features_df = pd.DataFrame(\n",
    "    list(zip(posts_ids, similar_questions)), columns=[\"q_id\", \"u_id\"]\n",
    ").explode(\"u_id\")\n",
    "features_df[\"u_id\"] = features_df[\"u_id\"].astype(int)"
   ]
  },
  {
   "cell_type": "code",
   "execution_count": 25,
   "id": "2c0e7d64-762c-4862-bac4-96333ca1ee3c",
   "metadata": {},
   "outputs": [],
   "source": [
    "batch_size = 1000000\n",
    "\n",
    "results = []\n",
    "with connection:\n",
    "    for batch_idx in range(len(features_df) // batch_size):\n",
    "        with connection.cursor() as cursor:\n",
    "            execute_values(\n",
    "                cursor,\n",
    "                \"\"\"select q_id, u_id, q_a.score\n",
    "                                    FROM (VALUES %s) AS base_questions (q_id, u_id)\n",
    "                                    JOIN posts_19 q_a ON q_a.parent_id = q_id\n",
    "                                    WHERE q_a.owner_user_id=u_id\"\"\",\n",
    "                features_df[batch_idx * batch_size : (batch_idx + 1) * batch_size][\n",
    "                    [\"q_id\", \"u_id\"]\n",
    "                ].values.tolist(),\n",
    "                page_size=batch_size,\n",
    "            )\n",
    "            results.extend(cursor.fetchall())\n",
    "dataset = pd.DataFrame(results, columns=[\"q_id\", \"u_id\", \"score\"])"
   ]
  },
  {
   "cell_type": "code",
   "execution_count": 26,
   "id": "a0446016-4857-4a9c-a247-5511e6cd5ab6",
   "metadata": {},
   "outputs": [
    {
     "name": "stdout",
     "output_type": "stream",
     "text": [
      "6411\n"
     ]
    },
    {
     "data": {
      "text/html": [
       "<div>\n",
       "<style scoped>\n",
       "    .dataframe tbody tr th:only-of-type {\n",
       "        vertical-align: middle;\n",
       "    }\n",
       "\n",
       "    .dataframe tbody tr th {\n",
       "        vertical-align: top;\n",
       "    }\n",
       "\n",
       "    .dataframe thead th {\n",
       "        text-align: right;\n",
       "    }\n",
       "</style>\n",
       "<table border=\"1\" class=\"dataframe\">\n",
       "  <thead>\n",
       "    <tr style=\"text-align: right;\">\n",
       "      <th></th>\n",
       "      <th>q_id</th>\n",
       "      <th>u_id</th>\n",
       "      <th>score</th>\n",
       "    </tr>\n",
       "  </thead>\n",
       "  <tbody>\n",
       "    <tr>\n",
       "      <th>1</th>\n",
       "      <td>70547027</td>\n",
       "      <td>901925</td>\n",
       "      <td>4</td>\n",
       "    </tr>\n",
       "    <tr>\n",
       "      <th>137</th>\n",
       "      <td>70547027</td>\n",
       "      <td>2988730</td>\n",
       "      <td>0</td>\n",
       "    </tr>\n",
       "    <tr>\n",
       "      <th>19</th>\n",
       "      <td>70547027</td>\n",
       "      <td>2988730</td>\n",
       "      <td>2</td>\n",
       "    </tr>\n",
       "    <tr>\n",
       "      <th>45</th>\n",
       "      <td>70547281</td>\n",
       "      <td>786593</td>\n",
       "      <td>0</td>\n",
       "    </tr>\n",
       "    <tr>\n",
       "      <th>8</th>\n",
       "      <td>70547281</td>\n",
       "      <td>14531062</td>\n",
       "      <td>0</td>\n",
       "    </tr>\n",
       "  </tbody>\n",
       "</table>\n",
       "</div>"
      ],
      "text/plain": [
       "         q_id      u_id  score\n",
       "1    70547027    901925      4\n",
       "137  70547027   2988730      0\n",
       "19   70547027   2988730      2\n",
       "45   70547281    786593      0\n",
       "8    70547281  14531062      0"
      ]
     },
     "execution_count": 26,
     "metadata": {},
     "output_type": "execute_result"
    }
   ],
   "source": [
    "dataset.sort_values(by=[\"q_id\"], inplace=True)\n",
    "print(len(dataset))\n",
    "dataset.head()"
   ]
  },
  {
   "cell_type": "code",
   "execution_count": 27,
   "id": "e5028e43-a02c-40df-aedb-697e184c85b0",
   "metadata": {},
   "outputs": [],
   "source": [
    "full_dataset = features_df.merge(dataset, on=[\"q_id\", \"u_id\"], how=\"left\")"
   ]
  },
  {
   "cell_type": "code",
   "execution_count": 28,
   "id": "6bdcbe47-425b-449c-9834-4649f00ea5cb",
   "metadata": {},
   "outputs": [],
   "source": [
    "full_dataset[\"feats\"] = np.concatenate(\n",
    "    (\n",
    "        user_embedding[user_encoder.transform(full_dataset[\"u_id\"])],\n",
    "        np.array(itemgetter(*full_dataset[\"q_id\"])(qid2emb)),\n",
    "    ),\n",
    "    axis=1,\n",
    ").tolist()"
   ]
  },
  {
   "cell_type": "code",
   "execution_count": 29,
   "id": "ed2fef62-f21f-4306-a887-f928b6f2ebf7",
   "metadata": {},
   "outputs": [],
   "source": [
    "scored_dataset = full_dataset[~full_dataset[\"score\"].isna()]\n",
    "eval_feats = np.array(scored_dataset[\"feats\"].values.tolist())\n",
    "eval_scores = scored_dataset[\"score\"]\n",
    "eval_q_ids = scored_dataset[\"q_id\"]"
   ]
  },
  {
   "cell_type": "code",
   "execution_count": 30,
   "id": "824e718d-c60e-4ef6-a772-2f13013d7da6",
   "metadata": {},
   "outputs": [],
   "source": [
    "full_dataset[\"is_answer\"] = (~full_dataset[\"score\"].isna()).astype(int)"
   ]
  },
  {
   "cell_type": "code",
   "execution_count": 31,
   "id": "56df06ff-ae56-4639-a96a-e2551b2e42a3",
   "metadata": {},
   "outputs": [],
   "source": [
    "full_dataset = full_dataset.join(users.set_index(\"user_id\"), on=\"u_id\")"
   ]
  },
  {
   "cell_type": "code",
   "execution_count": 32,
   "id": "844ae1ce-ba9f-4802-8970-e2afe424e5e6",
   "metadata": {},
   "outputs": [
    {
     "name": "stdout",
     "output_type": "stream",
     "text": [
      "39730071\n",
      "25916117\n"
     ]
    }
   ],
   "source": [
    "print(len(full_dataset))\n",
    "full_dataset = full_dataset[~full_dataset[\"country\"].isna()]\n",
    "print(len(full_dataset))"
   ]
  },
  {
   "cell_type": "markdown",
   "id": "08ac7e57-d195-497f-80e6-49401a7b2d72",
   "metadata": {},
   "source": [
    "# Calculate fairness"
   ]
  },
  {
   "cell_type": "markdown",
   "id": "86c8a581-e17e-47f4-a656-91de3f22fe5e",
   "metadata": {},
   "source": [
    "## Load LTR"
   ]
  },
  {
   "cell_type": "code",
   "execution_count": 33,
   "id": "775bbfa9-c2f7-4f20-a010-955b3988c8ea",
   "metadata": {},
   "outputs": [],
   "source": [
    "ranker = XGBRanker()\n",
    "ranker.load_model(\"../text_model/xgboost_ranker\")"
   ]
  },
  {
   "cell_type": "code",
   "execution_count": 34,
   "id": "4a314145-a5a6-4a6b-972e-ad86a106edce",
   "metadata": {},
   "outputs": [],
   "source": [
    "full_dataset[\"pscore\"] = ranker.predict(np.array(full_dataset[\"feats\"].values.tolist()))"
   ]
  },
  {
   "cell_type": "code",
   "execution_count": 35,
   "id": "28e7dbad-6632-49a3-8590-f3a98e458898",
   "metadata": {},
   "outputs": [],
   "source": [
    "full_dataset = full_dataset.sort_values(by=[\"q_id\", \"pscore\"], ascending=False)"
   ]
  },
  {
   "cell_type": "markdown",
   "id": "3430fc9c-663b-496f-b39a-13d6c1d58be5",
   "metadata": {},
   "source": [
    "## P(is_answer | developed_country) = P(is_answer | ~developed_country) ?\n",
    "!include condition by k"
   ]
  },
  {
   "cell_type": "code",
   "execution_count": 36,
   "id": "75c17ae8-e65b-4081-9a70-7e6a1f1c3765",
   "metadata": {},
   "outputs": [
    {
     "data": {
      "text/plain": [
       "(12312158, 13603959)"
      ]
     },
     "execution_count": 36,
     "metadata": {},
     "output_type": "execute_result"
    }
   ],
   "source": [
    "len(full_dataset[full_dataset[\"developed_country\"] == 1]), len(\n",
    "    full_dataset[full_dataset[\"developed_country\"] == 0]\n",
    ")"
   ]
  },
  {
   "cell_type": "code",
   "execution_count": 37,
   "id": "0c1d8c75-3f9a-435f-b430-d47c166742e8",
   "metadata": {},
   "outputs": [
    {
     "data": {
      "text/plain": [
       "0.01619841429177064"
      ]
     },
     "execution_count": 37,
     "metadata": {},
     "output_type": "execute_result"
    }
   ],
   "source": [
    "full_dataset[\"is_answer\"].mean() * 100"
   ]
  },
  {
   "cell_type": "code",
   "execution_count": 38,
   "id": "843fa6e9-29c7-4765-9ad5-5f5f82014b25",
   "metadata": {},
   "outputs": [
    {
     "data": {
      "text/plain": [
       "0.01835583981297186"
      ]
     },
     "execution_count": 38,
     "metadata": {},
     "output_type": "execute_result"
    }
   ],
   "source": [
    "full_dataset[full_dataset[\"developed_country\"] == 1][\"is_answer\"].mean() * 100"
   ]
  },
  {
   "cell_type": "code",
   "execution_count": 39,
   "id": "7365e6c6-ea90-4590-bd8c-7788a8a6fe1a",
   "metadata": {},
   "outputs": [
    {
     "data": {
      "text/plain": [
       "0.014245852990294957"
      ]
     },
     "execution_count": 39,
     "metadata": {},
     "output_type": "execute_result"
    }
   ],
   "source": [
    "full_dataset[full_dataset[\"developed_country\"] == 0][\"is_answer\"].mean() * 100"
   ]
  },
  {
   "cell_type": "markdown",
   "id": "678e6a26-deb6-46e6-8926-ef18b3cde98e",
   "metadata": {},
   "source": [
    "### In top k"
   ]
  },
  {
   "cell_type": "code",
   "execution_count": 43,
   "id": "3d0f9cfd-98a0-4a92-a10a-4a11024d6849",
   "metadata": {},
   "outputs": [],
   "source": [
    "top_k = [20, 200, 2000, 4000, 6000, 7000, 10000]\n",
    "\n",
    "\n",
    "def calculate_top_k_p(k):\n",
    "    top_df = full_dataset.groupby(\"q_id\", group_keys=False)[\n",
    "        [\"developed_country\", \"is_answer\", \"q_id\"]\n",
    "    ].apply(lambda x: x.head(k))\n",
    "    return (\n",
    "        top_df[\"is_answer\"].mean() * 100,\n",
    "        top_df[top_df[\"developed_country\"] == 1][\"is_answer\"].mean() * 100,\n",
    "        top_df[top_df[\"developed_country\"] == 0][\"is_answer\"].mean() * 100,\n",
    "    )\n",
    "\n",
    "\n",
    "with Pool(8) as p:\n",
    "    p_is_answer_cond = p.map(calculate_top_k_p, top_k)\n",
    "p_is_answer, p_is_answer_dev, p_is_answer_no_dev = zip(*p_is_answer_cond)"
   ]
  },
  {
   "cell_type": "code",
   "execution_count": 44,
   "id": "1d0a80be-c97d-4970-9410-60678301d5fb",
   "metadata": {},
   "outputs": [
    {
     "data": {
      "text/plain": [
       "((0.1261868807016818,\n",
       "  0.09937202101381207,\n",
       "  0.03246127719702992,\n",
       "  0.02215496873737119,\n",
       "  0.01868882726032564,\n",
       "  0.01835583981297186,\n",
       "  0.01835583981297186),\n",
       " (0.07390983000739099,\n",
       "  0.08664165013504146,\n",
       "  0.03146744750828319,\n",
       "  0.020472417565459027,\n",
       "  0.015242266281023105,\n",
       "  0.014245852990294957,\n",
       "  0.014245852990294957))"
      ]
     },
     "execution_count": 44,
     "metadata": {},
     "output_type": "execute_result"
    }
   ],
   "source": [
    "p_is_answer_dev, p_is_answer_no_dev"
   ]
  },
  {
   "cell_type": "code",
   "execution_count": 45,
   "id": "87ed0048-8ad1-445f-9317-e7dc94fc4902",
   "metadata": {},
   "outputs": [
    {
     "data": {
      "image/png": "[encoded data removed]",
      "text/plain": [
       "<Figure size 640x480 with 1 Axes>"
      ]
     },
     "metadata": {},
     "output_type": "display_data"
    }
   ],
   "source": [
    "fig, ax1 = plt.subplots()\n",
    "\n",
    "color = \"tab:red\"\n",
    "ax1.set_xlabel(\"k\")\n",
    "ax1.set_ylabel(\" P(is_answer | developed_country)\")\n",
    "ax1.plot(top_k, p_is_answer_dev, color=color, label=\"dev country\")\n",
    "ax1.plot(top_k, p_is_answer_no_dev, color=\"tab:blue\", label=\"not dev country\")\n",
    "\n",
    "fig.tight_layout()\n",
    "fig.legend()\n",
    "plt.show()"
   ]
  },
  {
   "cell_type": "code",
   "execution_count": 72,
   "id": "eb628ae3-29c2-4587-abca-d0665169b5b0",
   "metadata": {},
   "outputs": [],
   "source": [
    "top_k = list(range(1, 100, 3))\n",
    "\n",
    "with Pool(7) as p:\n",
    "    p_is_answer_cond = p.map(calculate_top_k_p, top_k)\n",
    "p_is_answer, p_is_answer_dev, p_is_answer_no_dev = zip(*p_is_answer_cond)"
   ]
  },
  {
   "cell_type": "code",
   "execution_count": 73,
   "id": "16cf0c58-2db8-49ed-bdb8-ba0227f29d9d",
   "metadata": {},
   "outputs": [
    {
     "data": {
      "image/png": "[encoded data removed]",
      "text/plain": [
       "<Figure size 640x480 with 1 Axes>"
      ]
     },
     "metadata": {},
     "output_type": "display_data"
    }
   ],
   "source": [
    "fig, ax1 = plt.subplots()\n",
    "\n",
    "color = \"tab:red\"\n",
    "ax1.set_xlabel(\"k\")\n",
    "ax1.set_ylabel(\" P(is_answer | developed_country)\")\n",
    "ax1.plot(top_k, p_is_answer, color=\"tab:brown\", label=\"all\")\n",
    "ax1.plot(top_k, p_is_answer_dev, color=color, label=\"dev country\")\n",
    "ax1.plot(top_k, p_is_answer_no_dev, color=\"tab:blue\", label=\"not dev country\")\n",
    "ax1.set_ylim([0, 0.37])\n",
    "\n",
    "fig.tight_layout()\n",
    "fig.legend()\n",
    "plt.show()"
   ]
  },
  {
   "cell_type": "code",
   "execution_count": null,
   "id": "922e8b99-3cfb-42b4-bd0c-594a04b6b70d",
   "metadata": {},
   "outputs": [],
   "source": [
    "fig, ax1 = plt.subplots()\n",
    "\n",
    "color = \"tab:red\"\n",
    "ax1.set_xlabel(\"k\")\n",
    "ax1.set_ylabel(\" P(is_answer | developed_country)\")\n",
    "ax1.plot(top_k[:20], p_is_answer[:20], color=\"tab:brown\", label=\"all\")\n",
    "ax1.plot(top_k[:20], p_is_answer_dev[:20], color=color, label=\"dev country\")\n",
    "ax1.plot(top_k[:20], p_is_answer_no_dev[:20], color=\"tab:blue\", label=\"not dev country\")\n",
    "ax1.set_ylim([0, 0.37])\n",
    "\n",
    "fig.tight_layout()\n",
    "fig.legend()\n",
    "plt.show()"
   ]
  },
  {
   "cell_type": "markdown",
   "id": "10fda882-59b1-42f3-9ba9-edf0f5b9fd08",
   "metadata": {},
   "source": [
    "## Proportion of developed countries in k"
   ]
  },
  {
   "cell_type": "code",
   "execution_count": null,
   "id": "af8f09e4-3616-44ba-b9d9-c36601b45d7f",
   "metadata": {},
   "outputs": [],
   "source": [
    "top_k = [20, 100, 1000, 2000, 4000, 6000, 7000, 10000]\n",
    "\n",
    "mean_proportion = []\n",
    "# process pool\n",
    "for k in top_k:\n",
    "    mean_proportion.append(\n",
    "        full_dataset.groupby(\"q_id\")[[\"developed_country\", \"q_id\"]]\n",
    "        .apply(\n",
    "            lambda x: x.head(k)[\"developed_country\"].mean()\n",
    "            if len(x.head(k)) == k\n",
    "            else -1\n",
    "        )\n",
    "        .loc[lambda x: x >= 0]\n",
    "        .mean()\n",
    "    )"
   ]
  },
  {
   "cell_type": "code",
   "execution_count": 46,
   "id": "eec52000-2fbd-4b76-81ef-3cd854845032",
   "metadata": {},
   "outputs": [
    {
     "data": {
      "text/plain": [
       "[0.6082808960483261,\n",
       " 0.5935363705008809,\n",
       " 0.531969796123836,\n",
       " 0.5140894789831362,\n",
       " 0.4956207525799144,\n",
       " 0.4790101938082054,\n",
       " nan,\n",
       " nan]"
      ]
     },
     "execution_count": 46,
     "metadata": {},
     "output_type": "execute_result"
    }
   ],
   "source": [
    "mean_proportion"
   ]
  },
  {
   "cell_type": "code",
   "execution_count": 47,
   "id": "d5872110-c572-4db3-8dbb-be70c83ade49",
   "metadata": {
    "scrolled": true
   },
   "outputs": [
    {
     "data": {
      "image/png": "[encoded data removed]",
      "text/plain": [
       "<Figure size 640x480 with 1 Axes>"
      ]
     },
     "metadata": {},
     "output_type": "display_data"
    }
   ],
   "source": [
    "fig, ax1 = plt.subplots()\n",
    "\n",
    "color = \"tab:red\"\n",
    "ax1.set_xlabel(\"k\")\n",
    "ax1.set_ylabel(\"mean proportion per question\")\n",
    "ax1.plot(top_k, mean_proportion, color=color)\n",
    "\n",
    "fig.tight_layout()\n",
    "plt.show()"
   ]
  },
  {
   "cell_type": "markdown",
   "id": "08e84324-4e24-4eaf-842d-c8eed7b7e150",
   "metadata": {},
   "source": [
    "### Top 400"
   ]
  },
  {
   "cell_type": "code",
   "execution_count": 48,
   "id": "c049f01b-72cf-4db2-9571-e7bec5394116",
   "metadata": {},
   "outputs": [],
   "source": [
    "top_k = list(range(351))\n",
    "\n",
    "mean_proportion = []\n",
    "# process pool\n",
    "for k in top_k:\n",
    "    mean_proportion.append(\n",
    "        full_dataset.groupby(\"q_id\")[[\"developed_country\", \"q_id\"]]\n",
    "        .apply(\n",
    "            lambda x: x.head(k)[\"developed_country\"].mean()\n",
    "            if len(x.head(k)) == k\n",
    "            else -1\n",
    "        )\n",
    "        .loc[lambda x: x >= 0]\n",
    "        .mean()\n",
    "    )"
   ]
  },
  {
   "cell_type": "code",
   "execution_count": 49,
   "id": "0d28fb97-a0ef-469a-ae77-7db2003c8900",
   "metadata": {
    "scrolled": true
   },
   "outputs": [
    {
     "data": {
      "image/png": "[encoded data removed]",
      "text/plain": [
       "<Figure size 640x480 with 1 Axes>"
      ]
     },
     "metadata": {},
     "output_type": "display_data"
    }
   ],
   "source": [
    "fig, ax1 = plt.subplots()\n",
    "\n",
    "color = \"tab:red\"\n",
    "ax1.set_xlabel(\"k\")\n",
    "ax1.set_ylabel(\"mean proportion per question\")\n",
    "ax1.plot(top_k, mean_proportion, color=color)\n",
    "\n",
    "fig.tight_layout()\n",
    "plt.show()"
   ]
  },
  {
   "cell_type": "code",
   "execution_count": 50,
   "id": "895f3cb9-2e0e-414a-995a-597024631445",
   "metadata": {},
   "outputs": [
    {
     "data": {
      "text/plain": [
       "[nan,\n",
       " 0.9028441983387868,\n",
       " 0.698212937326957,\n",
       " 0.6425035657353806,\n",
       " 0.6166624716838661,\n",
       " 0.6085577649131639,\n",
       " 0.6073076600385939,\n",
       " 0.6079968357844018,\n",
       " 0.608639567077775,\n",
       " 0.6087759040187936]"
      ]
     },
     "execution_count": 50,
     "metadata": {},
     "output_type": "execute_result"
    }
   ],
   "source": [
    "mean_proportion[:10]"
   ]
  },
  {
   "cell_type": "code",
   "execution_count": 51,
   "id": "d6503a86-7e18-41ae-a8e9-edc87b409c49",
   "metadata": {},
   "outputs": [],
   "source": [
    "# cambiar por xlxs\n",
    "# Leer fair, probar lib,metrica y algoritmo\n",
    "# identificar 1st fairness fairness and machine learning hardt\n",
    "# agregar al plot P(is_answer )"
   ]
  },
  {
   "cell_type": "code",
   "execution_count": 52,
   "id": "baeae99a-1e2b-4660-96f8-361752611e2a",
   "metadata": {},
   "outputs": [],
   "source": [
    "# granularidad ne las primeras 400\n",
    "# correr la libreria"
   ]
  },
  {
   "cell_type": "code",
   "execution_count": null,
   "id": "efe9089b-f7db-4875-8721-69fc6736a156",
   "metadata": {},
   "outputs": [],
   "source": []
  },
  {
   "cell_type": "code",
   "execution_count": 56,
   "id": "8758355e-56d2-4cc8-a889-110906f3615b",
   "metadata": {},
   "outputs": [
    {
     "data": {
      "text/html": [
       "<div>\n",
       "<style scoped>\n",
       "    .dataframe tbody tr th:only-of-type {\n",
       "        vertical-align: middle;\n",
       "    }\n",
       "\n",
       "    .dataframe tbody tr th {\n",
       "        vertical-align: top;\n",
       "    }\n",
       "\n",
       "    .dataframe thead th {\n",
       "        text-align: right;\n",
       "    }\n",
       "</style>\n",
       "<table border=\"1\" class=\"dataframe\">\n",
       "  <thead>\n",
       "    <tr style=\"text-align: right;\">\n",
       "      <th></th>\n",
       "      <th>q_id</th>\n",
       "      <th>u_id</th>\n",
       "      <th>score</th>\n",
       "      <th>feats</th>\n",
       "      <th>is_answer</th>\n",
       "      <th>country</th>\n",
       "      <th>value</th>\n",
       "      <th>developed_country</th>\n",
       "      <th>pscore</th>\n",
       "    </tr>\n",
       "  </thead>\n",
       "  <tbody>\n",
       "    <tr>\n",
       "      <th>39721880</th>\n",
       "      <td>74681417</td>\n",
       "      <td>100297</td>\n",
       "      <td>NaN</td>\n",
       "      <td>[0.3636975884437561, -0.17862990498542786, 0.3...</td>\n",
       "      <td>0</td>\n",
       "      <td>canada</td>\n",
       "      <td>0.936</td>\n",
       "      <td>1.0</td>\n",
       "      <td>2.263848</td>\n",
       "    </tr>\n",
       "    <tr>\n",
       "      <th>39720149</th>\n",
       "      <td>74681417</td>\n",
       "      <td>3874623</td>\n",
       "      <td>NaN</td>\n",
       "      <td>[0.36579445004463196, -0.17795097827911377, 0....</td>\n",
       "      <td>0</td>\n",
       "      <td>united states</td>\n",
       "      <td>0.921</td>\n",
       "      <td>1.0</td>\n",
       "      <td>2.024328</td>\n",
       "    </tr>\n",
       "    <tr>\n",
       "      <th>39720127</th>\n",
       "      <td>74681417</td>\n",
       "      <td>5923139</td>\n",
       "      <td>NaN</td>\n",
       "      <td>[0.365764319896698, -0.17794328927993774, 0.36...</td>\n",
       "      <td>0</td>\n",
       "      <td>united states</td>\n",
       "      <td>0.921</td>\n",
       "      <td>1.0</td>\n",
       "      <td>1.902712</td>\n",
       "    </tr>\n",
       "    <tr>\n",
       "      <th>39728383</th>\n",
       "      <td>74681417</td>\n",
       "      <td>7574575</td>\n",
       "      <td>NaN</td>\n",
       "      <td>[0.3638848662376404, -0.17976972460746765, 0.3...</td>\n",
       "      <td>0</td>\n",
       "      <td>india</td>\n",
       "      <td>0.633</td>\n",
       "      <td>0.0</td>\n",
       "      <td>1.897878</td>\n",
       "    </tr>\n",
       "    <tr>\n",
       "      <th>39729132</th>\n",
       "      <td>74681417</td>\n",
       "      <td>325565</td>\n",
       "      <td>NaN</td>\n",
       "      <td>[0.36622604727745056, -0.1847113072872162, 0.3...</td>\n",
       "      <td>0</td>\n",
       "      <td>united kingdom</td>\n",
       "      <td>0.929</td>\n",
       "      <td>1.0</td>\n",
       "      <td>1.845899</td>\n",
       "    </tr>\n",
       "  </tbody>\n",
       "</table>\n",
       "</div>"
      ],
      "text/plain": [
       "              q_id     u_id  score  \\\n",
       "39721880  74681417   100297    NaN   \n",
       "39720149  74681417  3874623    NaN   \n",
       "39720127  74681417  5923139    NaN   \n",
       "39728383  74681417  7574575    NaN   \n",
       "39729132  74681417   325565    NaN   \n",
       "\n",
       "                                                      feats  is_answer  \\\n",
       "39721880  [0.3636975884437561, -0.17862990498542786, 0.3...          0   \n",
       "39720149  [0.36579445004463196, -0.17795097827911377, 0....          0   \n",
       "39720127  [0.365764319896698, -0.17794328927993774, 0.36...          0   \n",
       "39728383  [0.3638848662376404, -0.17976972460746765, 0.3...          0   \n",
       "39729132  [0.36622604727745056, -0.1847113072872162, 0.3...          0   \n",
       "\n",
       "                 country  value  developed_country    pscore  \n",
       "39721880          canada  0.936                1.0  2.263848  \n",
       "39720149   united states  0.921                1.0  2.024328  \n",
       "39720127   united states  0.921                1.0  1.902712  \n",
       "39728383           india  0.633                0.0  1.897878  \n",
       "39729132  united kingdom  0.929                1.0  1.845899  "
      ]
     },
     "execution_count": 56,
     "metadata": {},
     "output_type": "execute_result"
    }
   ],
   "source": [
    "full_dataset.head()"
   ]
  },
  {
   "cell_type": "code",
   "execution_count": 57,
   "id": "df0ab049-a8fb-4ab0-87e7-aef7f3acc2b0",
   "metadata": {},
   "outputs": [
    {
     "data": {
      "text/html": [
       "<div>\n",
       "<style scoped>\n",
       "    .dataframe tbody tr th:only-of-type {\n",
       "        vertical-align: middle;\n",
       "    }\n",
       "\n",
       "    .dataframe tbody tr th {\n",
       "        vertical-align: top;\n",
       "    }\n",
       "\n",
       "    .dataframe thead th {\n",
       "        text-align: right;\n",
       "    }\n",
       "</style>\n",
       "<table border=\"1\" class=\"dataframe\">\n",
       "  <thead>\n",
       "    <tr style=\"text-align: right;\">\n",
       "      <th></th>\n",
       "      <th>u_id</th>\n",
       "      <th>pscore</th>\n",
       "      <th>developed_country</th>\n",
       "    </tr>\n",
       "  </thead>\n",
       "  <tbody>\n",
       "    <tr>\n",
       "      <th>39721880</th>\n",
       "      <td>100297</td>\n",
       "      <td>2.263848</td>\n",
       "      <td>1.0</td>\n",
       "    </tr>\n",
       "    <tr>\n",
       "      <th>39720149</th>\n",
       "      <td>3874623</td>\n",
       "      <td>2.024328</td>\n",
       "      <td>1.0</td>\n",
       "    </tr>\n",
       "    <tr>\n",
       "      <th>39720127</th>\n",
       "      <td>5923139</td>\n",
       "      <td>1.902712</td>\n",
       "      <td>1.0</td>\n",
       "    </tr>\n",
       "    <tr>\n",
       "      <th>39728383</th>\n",
       "      <td>7574575</td>\n",
       "      <td>1.897878</td>\n",
       "      <td>0.0</td>\n",
       "    </tr>\n",
       "    <tr>\n",
       "      <th>39729132</th>\n",
       "      <td>325565</td>\n",
       "      <td>1.845899</td>\n",
       "      <td>1.0</td>\n",
       "    </tr>\n",
       "  </tbody>\n",
       "</table>\n",
       "</div>"
      ],
      "text/plain": [
       "             u_id    pscore  developed_country\n",
       "39721880   100297  2.263848                1.0\n",
       "39720149  3874623  2.024328                1.0\n",
       "39720127  5923139  1.902712                1.0\n",
       "39728383  7574575  1.897878                0.0\n",
       "39729132   325565  1.845899                1.0"
      ]
     },
     "execution_count": 57,
     "metadata": {},
     "output_type": "execute_result"
    }
   ],
   "source": [
    "df_for_fair = full_dataset[full_dataset[\"q_id\"] == 74681417][\n",
    "    [\"u_id\", \"pscore\", \"developed_country\"]\n",
    "].head(350)\n",
    "df_for_fair.head()"
   ]
  },
  {
   "cell_type": "code",
   "execution_count": 59,
   "id": "3ee135e2-d485-48e5-8e5c-c7683892d9c9",
   "metadata": {},
   "outputs": [],
   "source": [
    "df_for_fair.to_csv(\"df_for_fair_74681417.csv\", index=False)"
   ]
  },
  {
   "cell_type": "code",
   "execution_count": null,
   "id": "ae123b54-370e-4278-b73d-d74634c35693",
   "metadata": {},
   "outputs": [],
   "source": []
  },
  {
   "cell_type": "code",
   "execution_count": null,
   "id": "5fd9b860-1f1d-4cea-a02f-d0913ccf0cfc",
   "metadata": {},
   "outputs": [],
   "source": []
  },
  {
   "cell_type": "code",
   "execution_count": 75,
   "id": "a0122997-54f8-4fb3-b174-044d698ee68f",
   "metadata": {},
   "outputs": [
    {
     "data": {
      "text/html": [
       "<div>\n",
       "<style scoped>\n",
       "    .dataframe tbody tr th:only-of-type {\n",
       "        vertical-align: middle;\n",
       "    }\n",
       "\n",
       "    .dataframe tbody tr th {\n",
       "        vertical-align: top;\n",
       "    }\n",
       "\n",
       "    .dataframe thead th {\n",
       "        text-align: right;\n",
       "    }\n",
       "</style>\n",
       "<table border=\"1\" class=\"dataframe\">\n",
       "  <thead>\n",
       "    <tr style=\"text-align: right;\">\n",
       "      <th></th>\n",
       "      <th>q_id</th>\n",
       "      <th>u_id</th>\n",
       "      <th>pscore</th>\n",
       "      <th>developed_country</th>\n",
       "    </tr>\n",
       "  </thead>\n",
       "  <tbody>\n",
       "    <tr>\n",
       "      <th>0</th>\n",
       "      <td>70547027</td>\n",
       "      <td>100297</td>\n",
       "      <td>2.340971</td>\n",
       "      <td>1.0</td>\n",
       "    </tr>\n",
       "    <tr>\n",
       "      <th>1</th>\n",
       "      <td>70547027</td>\n",
       "      <td>7574575</td>\n",
       "      <td>2.266549</td>\n",
       "      <td>0.0</td>\n",
       "    </tr>\n",
       "    <tr>\n",
       "      <th>2</th>\n",
       "      <td>70547027</td>\n",
       "      <td>11923558</td>\n",
       "      <td>2.071728</td>\n",
       "      <td>0.0</td>\n",
       "    </tr>\n",
       "    <tr>\n",
       "      <th>3</th>\n",
       "      <td>70547027</td>\n",
       "      <td>1624921</td>\n",
       "      <td>2.033441</td>\n",
       "      <td>1.0</td>\n",
       "    </tr>\n",
       "    <tr>\n",
       "      <th>4</th>\n",
       "      <td>70547027</td>\n",
       "      <td>325565</td>\n",
       "      <td>1.930067</td>\n",
       "      <td>1.0</td>\n",
       "    </tr>\n",
       "  </tbody>\n",
       "</table>\n",
       "</div>"
      ],
      "text/plain": [
       "       q_id      u_id    pscore  developed_country\n",
       "0  70547027    100297  2.340971                1.0\n",
       "1  70547027   7574575  2.266549                0.0\n",
       "2  70547027  11923558  2.071728                0.0\n",
       "3  70547027   1624921  2.033441                1.0\n",
       "4  70547027    325565  1.930067                1.0"
      ]
     },
     "execution_count": 75,
     "metadata": {},
     "output_type": "execute_result"
    }
   ],
   "source": [
    "df_for_fair_complete = (\n",
    "    full_dataset[[\"q_id\", \"u_id\", \"pscore\", \"developed_country\"]]\n",
    "    .groupby(\"q_id\")\n",
    "    .apply(lambda x: x.head(350))\n",
    "    .reset_index(drop=True)\n",
    ")\n",
    "df_for_fair_complete.head()"
   ]
  },
  {
   "cell_type": "code",
   "execution_count": 79,
   "id": "50f9337a-847c-4634-b311-b4d017c1fdf1",
   "metadata": {},
   "outputs": [],
   "source": [
    "df_for_fair_complete.to_csv(\"df_for_fair_complete.csv\", index=False)"
   ]
  },
  {
   "cell_type": "code",
   "execution_count": null,
   "id": "2ce4b75c-1a85-4292-9e74-b774b199bc2d",
   "metadata": {},
   "outputs": [],
   "source": []
  },
  {
   "cell_type": "code",
   "execution_count": null,
   "id": "ae06e9bb-21b2-4047-a565-eb896f3418a2",
   "metadata": {},
   "outputs": [],
   "source": []
  },
  {
   "cell_type": "code",
   "execution_count": null,
   "id": "36eabe3a-5658-4df9-b7fe-f02444f6f77a",
   "metadata": {},
   "outputs": [],
   "source": []
  }
 ],
 "metadata": {
  "kernelspec": {
   "display_name": "Python 3 (ipykernel)",
   "language": "python",
   "name": "python3"
  },
  "language_info": {
   "codemirror_mode": {
    "name": "ipython",
    "version": 3
   },
   "file_extension": ".py",
   "mimetype": "text/x-python",
   "name": "python",
   "nbconvert_exporter": "python",
   "pygments_lexer": "ipython3",
   "version": "3.10.12"
  }
 },
 "nbformat": 4,
 "nbformat_minor": 5
}
