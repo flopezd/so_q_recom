{
 "cells": [
  {
   "cell_type": "code",
   "execution_count": 1,
   "id": "ff94e9cf-ba0a-42db-b446-e1207fc4191f",
   "metadata": {},
   "outputs": [
    {
     "name": "stderr",
     "output_type": "stream",
     "text": [
      "2023-09-25 08:09:41.301564: I tensorflow/core/platform/cpu_feature_guard.cc:182] This TensorFlow binary is optimized to use available CPU instructions in performance-critical operations.\n",
      "To enable the following instructions: AVX2 FMA, in other operations, rebuild TensorFlow with the appropriate compiler flags.\n"
     ]
    }
   ],
   "source": [
    "import numpy as np\n",
    "from xgboost import XGBRanker\n",
    "from sklearn.metrics import ndcg_score\n",
    "import matplotlib.pyplot as plt\n",
    "import psycopg2\n",
    "from gensim.models.doc2vec import Doc2Vec\n",
    "from gensim.utils import simple_preprocess\n",
    "import tensorflow as tf\n",
    "import tensorflow.keras.backend as K\n",
    "from faiss import read_index\n",
    "from psycopg2.extras import execute_values\n",
    "import pickle\n",
    "import pandas as pd\n",
    "from operator import itemgetter"
   ]
  },
  {
   "cell_type": "markdown",
   "id": "b74cfe45-0d3d-4f0b-a08f-dcee43974275",
   "metadata": {},
   "source": [
    "# Load fair rank"
   ]
  },
  {
   "cell_type": "code",
   "execution_count": 6,
   "id": "3b32db32-a0bc-4560-a1f7-68859518c66c",
   "metadata": {},
   "outputs": [],
   "source": [
    "connection = psycopg2.connect(\n",
    "    user=\"postgres\",\n",
    "    password=\"postgres\",\n",
    "    host=\"127.0.0.1\",\n",
    "    port=\"54320\",\n",
    "    database=\"stack_overflow\",\n",
    ")"
   ]
  },
  {
   "cell_type": "code",
   "execution_count": 2,
   "id": "85a489a0-c389-46ea-ad1f-1410430cf138",
   "metadata": {},
   "outputs": [
    {
     "data": {
      "text/html": [
       "<div>\n",
       "<style scoped>\n",
       "    .dataframe tbody tr th:only-of-type {\n",
       "        vertical-align: middle;\n",
       "    }\n",
       "\n",
       "    .dataframe tbody tr th {\n",
       "        vertical-align: top;\n",
       "    }\n",
       "\n",
       "    .dataframe thead th {\n",
       "        text-align: right;\n",
       "    }\n",
       "</style>\n",
       "<table border=\"1\" class=\"dataframe\">\n",
       "  <thead>\n",
       "    <tr style=\"text-align: right;\">\n",
       "      <th></th>\n",
       "      <th>q_id</th>\n",
       "      <th>u_id</th>\n",
       "      <th>developed_country</th>\n",
       "      <th>idx</th>\n",
       "      <th>pscore</th>\n",
       "    </tr>\n",
       "  </thead>\n",
       "  <tbody>\n",
       "    <tr>\n",
       "      <th>0</th>\n",
       "      <td>70547027</td>\n",
       "      <td>100297</td>\n",
       "      <td>1</td>\n",
       "      <td>0</td>\n",
       "      <td>2.340971</td>\n",
       "    </tr>\n",
       "    <tr>\n",
       "      <th>1</th>\n",
       "      <td>70547027</td>\n",
       "      <td>7574575</td>\n",
       "      <td>0</td>\n",
       "      <td>1</td>\n",
       "      <td>2.266549</td>\n",
       "    </tr>\n",
       "    <tr>\n",
       "      <th>2</th>\n",
       "      <td>70547027</td>\n",
       "      <td>11923558</td>\n",
       "      <td>0</td>\n",
       "      <td>2</td>\n",
       "      <td>2.071728</td>\n",
       "    </tr>\n",
       "    <tr>\n",
       "      <th>3</th>\n",
       "      <td>70547027</td>\n",
       "      <td>1624921</td>\n",
       "      <td>1</td>\n",
       "      <td>3</td>\n",
       "      <td>2.033441</td>\n",
       "    </tr>\n",
       "    <tr>\n",
       "      <th>4</th>\n",
       "      <td>70547027</td>\n",
       "      <td>325565</td>\n",
       "      <td>1</td>\n",
       "      <td>4</td>\n",
       "      <td>1.930067</td>\n",
       "    </tr>\n",
       "  </tbody>\n",
       "</table>\n",
       "</div>"
      ],
      "text/plain": [
       "       q_id      u_id  developed_country  idx    pscore\n",
       "0  70547027    100297                  1    0  2.340971\n",
       "1  70547027   7574575                  0    1  2.266549\n",
       "2  70547027  11923558                  0    2  2.071728\n",
       "3  70547027   1624921                  1    3  2.033441\n",
       "4  70547027    325565                  1    4  1.930067"
      ]
     },
     "execution_count": 2,
     "metadata": {},
     "output_type": "execute_result"
    }
   ],
   "source": [
    "after_fair_df = pd.read_csv(\"after_fair_data.csv\")\n",
    "after_fair_df.head()"
   ]
  },
  {
   "cell_type": "code",
   "execution_count": 8,
   "id": "35fab2b6-5d5e-4a62-a822-070704d1cb79",
   "metadata": {},
   "outputs": [],
   "source": [
    "with connection:\n",
    "    with connection.cursor() as cursor:\n",
    "        execute_values(\n",
    "            cursor,\n",
    "            \"\"\"select q_id, u_id, q_a.score\n",
    "                                FROM (VALUES %s) AS base_questions (q_id, u_id)\n",
    "                                JOIN posts_19 q_a ON q_a.parent_id = q_id\n",
    "                                WHERE q_a.owner_user_id=u_id\"\"\",\n",
    "            after_fair_df[[\"q_id\", \"u_id\"]].values.tolist(),\n",
    "            page_size=len(after_fair_df),\n",
    "        )\n",
    "        answers_dataset = pd.DataFrame(\n",
    "            cursor.fetchall(), columns=[\"q_id\", \"u_id\", \"score\"]\n",
    "        )"
   ]
  },
  {
   "cell_type": "code",
   "execution_count": 14,
   "id": "8105e35b-646d-48e9-b63e-86bbf1568f33",
   "metadata": {},
   "outputs": [
    {
     "data": {
      "text/html": [
       "<div>\n",
       "<style scoped>\n",
       "    .dataframe tbody tr th:only-of-type {\n",
       "        vertical-align: middle;\n",
       "    }\n",
       "\n",
       "    .dataframe tbody tr th {\n",
       "        vertical-align: top;\n",
       "    }\n",
       "\n",
       "    .dataframe thead th {\n",
       "        text-align: right;\n",
       "    }\n",
       "</style>\n",
       "<table border=\"1\" class=\"dataframe\">\n",
       "  <thead>\n",
       "    <tr style=\"text-align: right;\">\n",
       "      <th></th>\n",
       "      <th>q_id</th>\n",
       "      <th>u_id</th>\n",
       "      <th>developed_country</th>\n",
       "      <th>idx</th>\n",
       "      <th>pscore</th>\n",
       "      <th>score</th>\n",
       "      <th>is_answer</th>\n",
       "    </tr>\n",
       "  </thead>\n",
       "  <tbody>\n",
       "    <tr>\n",
       "      <th>397200</th>\n",
       "      <td>74681417</td>\n",
       "      <td>100297</td>\n",
       "      <td>1</td>\n",
       "      <td>0</td>\n",
       "      <td>2.263848</td>\n",
       "      <td>NaN</td>\n",
       "      <td>0</td>\n",
       "    </tr>\n",
       "    <tr>\n",
       "      <th>397201</th>\n",
       "      <td>74681417</td>\n",
       "      <td>3874623</td>\n",
       "      <td>1</td>\n",
       "      <td>1</td>\n",
       "      <td>2.024328</td>\n",
       "      <td>NaN</td>\n",
       "      <td>0</td>\n",
       "    </tr>\n",
       "    <tr>\n",
       "      <th>397202</th>\n",
       "      <td>74681417</td>\n",
       "      <td>5923139</td>\n",
       "      <td>1</td>\n",
       "      <td>2</td>\n",
       "      <td>1.902712</td>\n",
       "      <td>NaN</td>\n",
       "      <td>0</td>\n",
       "    </tr>\n",
       "    <tr>\n",
       "      <th>397203</th>\n",
       "      <td>74681417</td>\n",
       "      <td>7574575</td>\n",
       "      <td>0</td>\n",
       "      <td>3</td>\n",
       "      <td>1.897878</td>\n",
       "      <td>NaN</td>\n",
       "      <td>0</td>\n",
       "    </tr>\n",
       "    <tr>\n",
       "      <th>397204</th>\n",
       "      <td>74681417</td>\n",
       "      <td>325565</td>\n",
       "      <td>1</td>\n",
       "      <td>4</td>\n",
       "      <td>1.845899</td>\n",
       "      <td>NaN</td>\n",
       "      <td>0</td>\n",
       "    </tr>\n",
       "  </tbody>\n",
       "</table>\n",
       "</div>"
      ],
      "text/plain": [
       "            q_id     u_id  developed_country  idx    pscore  score  is_answer\n",
       "397200  74681417   100297                  1    0  2.263848    NaN          0\n",
       "397201  74681417  3874623                  1    1  2.024328    NaN          0\n",
       "397202  74681417  5923139                  1    2  1.902712    NaN          0\n",
       "397203  74681417  7574575                  0    3  1.897878    NaN          0\n",
       "397204  74681417   325565                  1    4  1.845899    NaN          0"
      ]
     },
     "execution_count": 14,
     "metadata": {},
     "output_type": "execute_result"
    }
   ],
   "source": [
    "full_dataset = after_fair_df.merge(answers_dataset, on=[\"q_id\", \"u_id\"], how=\"left\")\n",
    "full_dataset[\"is_answer\"] = (~full_dataset[\"score\"].isna()).astype(int)\n",
    "full_dataset = full_dataset.sort_values(by=[\"q_id\", \"pscore\"], ascending=False)\n",
    "full_dataset.head()"
   ]
  },
  {
   "cell_type": "code",
   "execution_count": 35,
   "id": "fad46345-1f92-4821-9866-cbc64f71130a",
   "metadata": {},
   "outputs": [
    {
     "data": {
      "text/plain": [
       "444"
      ]
     },
     "execution_count": 35,
     "metadata": {},
     "output_type": "execute_result"
    }
   ],
   "source": [
    "full_dataset[\"is_answer\"].sum()"
   ]
  },
  {
   "cell_type": "markdown",
   "id": "0aac98bc-85ee-4ec7-bb0e-5384763a4a1e",
   "metadata": {},
   "source": [
    "# Evaluate recall"
   ]
  },
  {
   "cell_type": "code",
   "execution_count": 22,
   "id": "d102ae9c-4b00-4059-8846-3178e40c42f2",
   "metadata": {},
   "outputs": [
    {
     "data": {
      "text/plain": [
       "3973"
      ]
     },
     "execution_count": 22,
     "metadata": {},
     "output_type": "execute_result"
    }
   ],
   "source": [
    "posts_ids = full_dataset[\"q_id\"].unique().tolist()\n",
    "len(posts_ids)"
   ]
  },
  {
   "cell_type": "code",
   "execution_count": 36,
   "id": "e4bf9b20-7fba-4156-a993-318dab31f00c",
   "metadata": {},
   "outputs": [],
   "source": [
    "top_k = range(0, 100, 5)\n",
    "mean_retrieved_documents = []\n",
    "for k in top_k:\n",
    "    mean_retrieved_documents.append(\n",
    "        full_dataset.groupby(\"q_id\")\n",
    "        .apply(lambda x: x.head(k)[\"is_answer\"].sum())\n",
    "        .median()\n",
    "    )"
   ]
  },
  {
   "cell_type": "code",
   "execution_count": 30,
   "id": "d416f486-d1fe-46c3-b76b-0750bc24c781",
   "metadata": {},
   "outputs": [
    {
     "data": {
      "text/plain": [
       "[0.0, 0.0, 0.0, 0.0, 0.0, 0.0, 0.0, 0.0, 0.0, 0.0, 0.0, 0.0, 0.0]"
      ]
     },
     "execution_count": 30,
     "metadata": {},
     "output_type": "execute_result"
    }
   ],
   "source": [
    "mean_retrieved_documents"
   ]
  },
  {
   "cell_type": "code",
   "execution_count": 23,
   "id": "6ac73cbf-90dc-4e90-bfc8-c8e176fbe522",
   "metadata": {},
   "outputs": [],
   "source": [
    "with connection:\n",
    "    with connection.cursor() as cursor:\n",
    "        cursor.execute(\n",
    "            \"\"\"select q_a.parent_id, count(*) as answers\n",
    "                            FROM posts_19 q_a\n",
    "                            where q_a.parent_id in %s\n",
    "                            group by q_a.parent_id\"\"\",\n",
    "            (tuple(posts_ids),),\n",
    "        )\n",
    "        q_answers = cursor.fetchall()"
   ]
  },
  {
   "cell_type": "code",
   "execution_count": 24,
   "id": "a6cbcdf0-c488-415c-baee-a5b91ca64b50",
   "metadata": {},
   "outputs": [],
   "source": [
    "q_answers = {q_id: answers for q_id, answers in q_answers}"
   ]
  },
  {
   "cell_type": "code",
   "execution_count": 90,
   "id": "4977385e-b0d2-4180-8f0c-0619a0c04df3",
   "metadata": {},
   "outputs": [
    {
     "data": {
      "text/plain": [
       "429"
      ]
     },
     "execution_count": 90,
     "metadata": {},
     "output_type": "execute_result"
    }
   ],
   "source": [
    "len()"
   ]
  },
  {
   "cell_type": "code",
   "execution_count": 92,
   "id": "aee8e550-7b6f-4e30-908a-eb6fa84443c9",
   "metadata": {},
   "outputs": [
    {
     "data": {
      "text/plain": [
       "507"
      ]
     },
     "execution_count": 92,
     "metadata": {},
     "output_type": "execute_result"
    }
   ],
   "source": [
    "len(after_fair_df[after_fair_df[\"developed_country\"] == 0][\"u_id\"].as.unique())"
   ]
  },
  {
   "cell_type": "code",
   "execution_count": 91,
   "id": "db069044-40c5-4116-a89c-87df162aa445",
   "metadata": {},
   "outputs": [
    {
     "data": {
      "text/plain": [
       "936"
      ]
     },
     "execution_count": 91,
     "metadata": {},
     "output_type": "execute_result"
    }
   ],
   "source": [
    "len(after_fair_df[\"u_id\"].unique())"
   ]
  },
  {
   "cell_type": "code",
   "execution_count": null,
   "metadata": {},
   "outputs": [],
   "source": []
  },
  {
   "cell_type": "code",
   "execution_count": null,
   "metadata": {},
   "outputs": [],
   "source": [
    "with connection:\n",
    "    with connection.cursor() as cursor:\n",
    "        cursor.execute(\"\"\"select q_a.parent_id, q_a.owner_user_id\n",
    "                            FROM posts_19 q_a\n",
    "                            where q_a.parent_id in %s\"\"\",\n",
    "                                (tuple(posts_ids),))\n",
    "        q_answers_users = pd.DataFrame(cursor.fetchall(), columns=[\"qid\", \"uid\"])"
   ]
  },
  {
   "cell_type": "code",
   "execution_count": null,
   "metadata": {},
   "outputs": [],
   "source": [
    "len(q_answers_users), len(q_answers_users.groupby(\"qid\").count())"
   ]
  },
  {
   "cell_type": "code",
   "execution_count": null,
   "metadata": {},
   "outputs": [],
   "source": [
    "q_answers_2 = q_answers_users.groupby(\"qid\").count()\n",
    "q_answers_2dict = q_answers_2[\"uid\"].to_dict()"
   ]
  },
  {
   "cell_type": "code",
   "execution_count": null,
   "metadata": {},
   "outputs": [],
   "source": [
    "q_id_errors = []\n",
    "for q_id, answers in q_answers_2dict.items():\n",
    "    if answers != q_answers.get(q_id, 0):\n",
    "        q_id_errors.append(q_id)"
   ]
  },
  {
   "cell_type": "code",
   "execution_count": null,
   "metadata": {},
   "outputs": [],
   "source": [
    "q_answers_users[q_answers_users[\"uid\"].isin(users_dev_country)]"
   ]
  },
  {
   "cell_type": "code",
   "execution_count": null,
   "metadata": {},
   "outputs": [],
   "source": []
  },
  {
   "cell_type": "code",
   "execution_count": null,
   "metadata": {},
   "outputs": [],
   "source": [
    "users = pd.read_csv(\"users_dev_country.csv\")"
   ]
  },
  {
   "cell_type": "code",
   "execution_count": null,
   "metadata": {},
   "outputs": [],
   "source": [
    "users_dev_country = users[users[\"developed_country\"] == 1][\"user_id\"].tolist()\n",
    "\n",
    "with connection:\n",
    "    with connection.cursor() as cursor:\n",
    "        cursor.execute(\"\"\"select q_a.parent_id, count(*) as answers\n",
    "                            FROM posts_19 q_a\n",
    "                            JOIN users u ON q_a.owner_user_id=u.id\n",
    "                            where q_a.parent_id in %s\n",
    "                            AND u.id in %s\n",
    "                            group by q_a.parent_id\"\"\",\n",
    "                       (tuple(posts_ids), tuple(users_dev_country)))\n",
    "        q_answers_dev_country = cursor.fetchall()\n",
    "q_answers_dev_country = {q_id: answers for q_id, answers in q_answers_dev_country}"
   ]
  },
  {
   "cell_type": "code",
   "execution_count": null,
   "metadata": {},
   "outputs": [],
   "source": [
    "users_no_dev_country = users[users[\"developed_country\"] == 0][\"user_id\"].tolist()\n",
    "\n",
    "with connection:\n",
    "    with connection.cursor() as cursor:\n",
    "        cursor.execute(\"\"\"select q_a.parent_id, count(*) as answers\n",
    "                            FROM posts_19 q_a\n",
    "                            JOIN users u ON q_a.owner_user_id=u.id\n",
    "                            where q_a.parent_id in %s\n",
    "                            AND u.id in %s\n",
    "                            group by q_a.parent_id\"\"\",\n",
    "                                (tuple(posts_ids), tuple(users_no_dev_country)))\n",
    "        q_answers_no_dev_country = cursor.fetchall()\n",
    "q_answers_no_dev_country = {q_id: answers for q_id, answers in q_answers_no_dev_country}"
   ]
  },
  {
   "cell_type": "code",
   "execution_count": null,
   "metadata": {},
   "outputs": [],
   "source": []
  },
  {
   "cell_type": "code",
   "execution_count": null,
   "metadata": {},
   "outputs": [],
   "source": []
  },
  {
   "cell_type": "code",
   "execution_count": null,
   "metadata": {},
   "outputs": [],
   "source": []
  },
  {
   "cell_type": "code",
   "execution_count": null,
   "metadata": {},
   "outputs": [],
   "source": []
  },
  {
   "cell_type": "code",
   "execution_count": null,
   "metadata": {},
   "outputs": [],
   "source": []
  },
  {
   "cell_type": "code",
   "execution_count": null,
   "metadata": {},
   "outputs": [],
   "source": []
  },
  {
   "cell_type": "code",
   "execution_count": 97,
   "id": "3dcdb534-b18d-4976-9142-71c62ecd9055",
   "metadata": {},
   "outputs": [],
   "source": [
    "users_dev_country = (\n",
    "    after_fair_df[after_fair_df[\"developed_country\"] == 1][\"u_id\"].unique().tolist()\n",
    ")\n",
    "\n",
    "with connection:\n",
    "    with connection.cursor() as cursor:\n",
    "        cursor.execute(\n",
    "            \"\"\"select q_a.parent_id, count(*) as answers\n",
    "                            FROM posts_19 q_a\n",
    "                            JOIN users u ON q_a.owner_user_id=u.id\n",
    "                            where q_a.parent_id in %s\n",
    "                            AND u.id in %s\n",
    "                            group by q_a.parent_id\"\"\",\n",
    "            (tuple(posts_ids), tuple(users_dev_country)),\n",
    "        )\n",
    "        q_answers_dev_country = cursor.fetchall()\n",
    "q_answers_dev_country = {q_id: answers for q_id, answers in q_answers_dev_country}"
   ]
  },
  {
   "cell_type": "code",
   "execution_count": 98,
   "id": "bb67993d-941a-47c4-8137-13096960e974",
   "metadata": {},
   "outputs": [],
   "source": [
    "users_no_dev_country = (\n",
    "    after_fair_df[after_fair_df[\"developed_country\"] == 0][\"u_id\"].unique().tolist()\n",
    ")\n",
    "\n",
    "with connection:\n",
    "    with connection.cursor() as cursor:\n",
    "        cursor.execute(\n",
    "            \"\"\"select q_a.parent_id, count(*) as answers\n",
    "                            FROM posts_19 q_a\n",
    "                            JOIN users u ON q_a.owner_user_id=u.id\n",
    "                            where q_a.parent_id in %s\n",
    "                            AND u.id in %s\n",
    "                            group by q_a.parent_id\"\"\",\n",
    "            (tuple(posts_ids), tuple(users_no_dev_country)),\n",
    "        )\n",
    "        q_answers_no_dev_country = cursor.fetchall()\n",
    "q_answers_no_dev_country = {q_id: answers for q_id, answers in q_answers_no_dev_country}"
   ]
  },
  {
   "cell_type": "code",
   "execution_count": 99,
   "id": "8e698e3a-d0bc-4854-a10a-f228c38bf3cc",
   "metadata": {},
   "outputs": [
    {
     "ename": "KeyError",
     "evalue": "70547027",
     "output_type": "error",
     "traceback": [
      "\u001b[0;31m---------------------------------------------------------------------------\u001b[0m",
      "\u001b[0;31mKeyError\u001b[0m                                  Traceback (most recent call last)",
      "Cell \u001b[0;32mIn[99], line 14\u001b[0m\n\u001b[1;32m     12\u001b[0m \u001b[38;5;28;01mfor\u001b[39;00m k \u001b[38;5;129;01min\u001b[39;00m top_k:\n\u001b[1;32m     13\u001b[0m     mean_recall\u001b[38;5;241m.\u001b[39mappend(full_dataset[[\u001b[38;5;124m\"\u001b[39m\u001b[38;5;124mis_answer\u001b[39m\u001b[38;5;124m\"\u001b[39m, \u001b[38;5;124m\"\u001b[39m\u001b[38;5;124mq_id\u001b[39m\u001b[38;5;124m\"\u001b[39m, \u001b[38;5;124m\"\u001b[39m\u001b[38;5;124midx\u001b[39m\u001b[38;5;124m\"\u001b[39m]]\u001b[38;5;241m.\u001b[39mgroupby(\u001b[38;5;124m\"\u001b[39m\u001b[38;5;124mq_id\u001b[39m\u001b[38;5;124m\"\u001b[39m)\u001b[38;5;241m.\u001b[39mapply(\u001b[38;5;28;01mlambda\u001b[39;00m x: x[x[\u001b[38;5;124m\"\u001b[39m\u001b[38;5;124midx\u001b[39m\u001b[38;5;124m\"\u001b[39m] \u001b[38;5;241m<\u001b[39m\u001b[38;5;241m=\u001b[39m k][\u001b[38;5;124m\"\u001b[39m\u001b[38;5;124mis_answer\u001b[39m\u001b[38;5;124m\"\u001b[39m]\u001b[38;5;241m.\u001b[39msum()\u001b[38;5;241m/\u001b[39mq_answers[x[\u001b[38;5;124m\"\u001b[39m\u001b[38;5;124mq_id\u001b[39m\u001b[38;5;124m\"\u001b[39m]\u001b[38;5;241m.\u001b[39miloc[\u001b[38;5;241m0\u001b[39m]])\u001b[38;5;241m.\u001b[39mmean())\n\u001b[0;32m---> 14\u001b[0m     dev_mean_recall\u001b[38;5;241m.\u001b[39mappend(\u001b[43mdev_dataset\u001b[49m\u001b[43m[\u001b[49m\u001b[43m[\u001b[49m\u001b[38;5;124;43m\"\u001b[39;49m\u001b[38;5;124;43mis_answer\u001b[39;49m\u001b[38;5;124;43m\"\u001b[39;49m\u001b[43m,\u001b[49m\u001b[43m \u001b[49m\u001b[38;5;124;43m\"\u001b[39;49m\u001b[38;5;124;43mq_id\u001b[39;49m\u001b[38;5;124;43m\"\u001b[39;49m\u001b[43m,\u001b[49m\u001b[43m \u001b[49m\u001b[38;5;124;43m\"\u001b[39;49m\u001b[38;5;124;43midx\u001b[39;49m\u001b[38;5;124;43m\"\u001b[39;49m\u001b[43m]\u001b[49m\u001b[43m]\u001b[49m\u001b[38;5;241;43m.\u001b[39;49m\u001b[43mgroupby\u001b[49m\u001b[43m(\u001b[49m\u001b[38;5;124;43m\"\u001b[39;49m\u001b[38;5;124;43mq_id\u001b[39;49m\u001b[38;5;124;43m\"\u001b[39;49m\u001b[43m)\u001b[49m\u001b[38;5;241;43m.\u001b[39;49m\u001b[43mapply\u001b[49m\u001b[43m(\u001b[49m\u001b[38;5;28;43;01mlambda\u001b[39;49;00m\u001b[43m \u001b[49m\u001b[43mx\u001b[49m\u001b[43m:\u001b[49m\u001b[43m \u001b[49m\u001b[43mx\u001b[49m\u001b[43m[\u001b[49m\u001b[43mx\u001b[49m\u001b[43m[\u001b[49m\u001b[38;5;124;43m\"\u001b[39;49m\u001b[38;5;124;43midx\u001b[39;49m\u001b[38;5;124;43m\"\u001b[39;49m\u001b[43m]\u001b[49m\u001b[43m \u001b[49m\u001b[38;5;241;43m<\u001b[39;49m\u001b[38;5;241;43m=\u001b[39;49m\u001b[43m \u001b[49m\u001b[43mk\u001b[49m\u001b[43m]\u001b[49m\u001b[43m[\u001b[49m\u001b[38;5;124;43m\"\u001b[39;49m\u001b[38;5;124;43mis_answer\u001b[39;49m\u001b[38;5;124;43m\"\u001b[39;49m\u001b[43m]\u001b[49m\u001b[38;5;241;43m.\u001b[39;49m\u001b[43msum\u001b[49m\u001b[43m(\u001b[49m\u001b[43m)\u001b[49m\u001b[38;5;241;43m/\u001b[39;49m\u001b[43mq_answers_dev_country\u001b[49m\u001b[43m[\u001b[49m\u001b[43mx\u001b[49m\u001b[43m[\u001b[49m\u001b[38;5;124;43m\"\u001b[39;49m\u001b[38;5;124;43mq_id\u001b[39;49m\u001b[38;5;124;43m\"\u001b[39;49m\u001b[43m]\u001b[49m\u001b[38;5;241;43m.\u001b[39;49m\u001b[43miloc\u001b[49m\u001b[43m[\u001b[49m\u001b[38;5;241;43m0\u001b[39;49m\u001b[43m]\u001b[49m\u001b[43m]\u001b[49m\u001b[43m)\u001b[49m\u001b[38;5;241m.\u001b[39mmean())\n\u001b[1;32m     15\u001b[0m     no_dev_mean_recall\u001b[38;5;241m.\u001b[39mappend(no_dev_dataset[[\u001b[38;5;124m\"\u001b[39m\u001b[38;5;124mis_answer\u001b[39m\u001b[38;5;124m\"\u001b[39m, \u001b[38;5;124m\"\u001b[39m\u001b[38;5;124mq_id\u001b[39m\u001b[38;5;124m\"\u001b[39m, \u001b[38;5;124m\"\u001b[39m\u001b[38;5;124midx\u001b[39m\u001b[38;5;124m\"\u001b[39m]]\u001b[38;5;241m.\u001b[39mgroupby(\u001b[38;5;124m\"\u001b[39m\u001b[38;5;124mq_id\u001b[39m\u001b[38;5;124m\"\u001b[39m)\u001b[38;5;241m.\u001b[39mapply(\u001b[38;5;28;01mlambda\u001b[39;00m x: x[x[\u001b[38;5;124m\"\u001b[39m\u001b[38;5;124midx\u001b[39m\u001b[38;5;124m\"\u001b[39m] \u001b[38;5;241m<\u001b[39m\u001b[38;5;241m=\u001b[39m k][\u001b[38;5;124m\"\u001b[39m\u001b[38;5;124mis_answer\u001b[39m\u001b[38;5;124m\"\u001b[39m]\u001b[38;5;241m.\u001b[39msum()\u001b[38;5;241m/\u001b[39mq_answers_no_dev_country[x[\u001b[38;5;124m\"\u001b[39m\u001b[38;5;124mq_id\u001b[39m\u001b[38;5;124m\"\u001b[39m]\u001b[38;5;241m.\u001b[39miloc[\u001b[38;5;241m0\u001b[39m]])\u001b[38;5;241m.\u001b[39mmean())\n",
      "File \u001b[0;32m~/.pyenv/versions/so_q_recom/lib/python3.10/site-packages/pandas/core/groupby/groupby.py:1567\u001b[0m, in \u001b[0;36mGroupBy.apply\u001b[0;34m(self, func, *args, **kwargs)\u001b[0m\n\u001b[1;32m   1559\u001b[0m     new_msg \u001b[38;5;241m=\u001b[39m (\n\u001b[1;32m   1560\u001b[0m         \u001b[38;5;124mf\u001b[39m\u001b[38;5;124m\"\u001b[39m\u001b[38;5;124mThe operation \u001b[39m\u001b[38;5;132;01m{\u001b[39;00morig_func\u001b[38;5;132;01m}\u001b[39;00m\u001b[38;5;124m failed on a column. If any error is \u001b[39m\u001b[38;5;124m\"\u001b[39m\n\u001b[1;32m   1561\u001b[0m         \u001b[38;5;124mf\u001b[39m\u001b[38;5;124m\"\u001b[39m\u001b[38;5;124mraised, this will raise an exception in a future version \u001b[39m\u001b[38;5;124m\"\u001b[39m\n\u001b[1;32m   1562\u001b[0m         \u001b[38;5;124mf\u001b[39m\u001b[38;5;124m\"\u001b[39m\u001b[38;5;124mof pandas. Drop these columns to avoid this warning.\u001b[39m\u001b[38;5;124m\"\u001b[39m\n\u001b[1;32m   1563\u001b[0m     )\n\u001b[1;32m   1564\u001b[0m     \u001b[38;5;28;01mwith\u001b[39;00m rewrite_warning(\n\u001b[1;32m   1565\u001b[0m         old_msg, \u001b[38;5;167;01mFutureWarning\u001b[39;00m, new_msg\n\u001b[1;32m   1566\u001b[0m     ) \u001b[38;5;28;01mif\u001b[39;00m is_np_func \u001b[38;5;28;01melse\u001b[39;00m nullcontext():\n\u001b[0;32m-> 1567\u001b[0m         result \u001b[38;5;241m=\u001b[39m \u001b[38;5;28;43mself\u001b[39;49m\u001b[38;5;241;43m.\u001b[39;49m\u001b[43m_python_apply_general\u001b[49m\u001b[43m(\u001b[49m\u001b[43mf\u001b[49m\u001b[43m,\u001b[49m\u001b[43m \u001b[49m\u001b[38;5;28;43mself\u001b[39;49m\u001b[38;5;241;43m.\u001b[39;49m\u001b[43m_selected_obj\u001b[49m\u001b[43m)\u001b[49m\n\u001b[1;32m   1568\u001b[0m \u001b[38;5;28;01mexcept\u001b[39;00m \u001b[38;5;167;01mTypeError\u001b[39;00m:\n\u001b[1;32m   1569\u001b[0m     \u001b[38;5;66;03m# gh-20949\u001b[39;00m\n\u001b[1;32m   1570\u001b[0m     \u001b[38;5;66;03m# try again, with .apply acting as a filtering\u001b[39;00m\n\u001b[0;32m   (...)\u001b[0m\n\u001b[1;32m   1574\u001b[0m     \u001b[38;5;66;03m# fails on *some* columns, e.g. a numeric operation\u001b[39;00m\n\u001b[1;32m   1575\u001b[0m     \u001b[38;5;66;03m# on a string grouper column\u001b[39;00m\n\u001b[1;32m   1577\u001b[0m     \u001b[38;5;28;01mwith\u001b[39;00m \u001b[38;5;28mself\u001b[39m\u001b[38;5;241m.\u001b[39m_group_selection_context():\n\u001b[1;32m   1578\u001b[0m         \u001b[38;5;66;03m# GH#50538\u001b[39;00m\n",
      "File \u001b[0;32m~/.pyenv/versions/so_q_recom/lib/python3.10/site-packages/pandas/core/groupby/groupby.py:1629\u001b[0m, in \u001b[0;36mGroupBy._python_apply_general\u001b[0;34m(self, f, data, not_indexed_same, is_transform, is_agg)\u001b[0m\n\u001b[1;32m   1592\u001b[0m \u001b[38;5;129m@final\u001b[39m\n\u001b[1;32m   1593\u001b[0m \u001b[38;5;28;01mdef\u001b[39;00m \u001b[38;5;21m_python_apply_general\u001b[39m(\n\u001b[1;32m   1594\u001b[0m     \u001b[38;5;28mself\u001b[39m,\n\u001b[0;32m   (...)\u001b[0m\n\u001b[1;32m   1599\u001b[0m     is_agg: \u001b[38;5;28mbool\u001b[39m \u001b[38;5;241m=\u001b[39m \u001b[38;5;28;01mFalse\u001b[39;00m,\n\u001b[1;32m   1600\u001b[0m ) \u001b[38;5;241m-\u001b[39m\u001b[38;5;241m>\u001b[39m NDFrameT:\n\u001b[1;32m   1601\u001b[0m \u001b[38;5;250m    \u001b[39m\u001b[38;5;124;03m\"\"\"\u001b[39;00m\n\u001b[1;32m   1602\u001b[0m \u001b[38;5;124;03m    Apply function f in python space\u001b[39;00m\n\u001b[1;32m   1603\u001b[0m \n\u001b[0;32m   (...)\u001b[0m\n\u001b[1;32m   1627\u001b[0m \u001b[38;5;124;03m        data after applying f\u001b[39;00m\n\u001b[1;32m   1628\u001b[0m \u001b[38;5;124;03m    \"\"\"\u001b[39;00m\n\u001b[0;32m-> 1629\u001b[0m     values, mutated \u001b[38;5;241m=\u001b[39m \u001b[38;5;28;43mself\u001b[39;49m\u001b[38;5;241;43m.\u001b[39;49m\u001b[43mgrouper\u001b[49m\u001b[38;5;241;43m.\u001b[39;49m\u001b[43mapply\u001b[49m\u001b[43m(\u001b[49m\u001b[43mf\u001b[49m\u001b[43m,\u001b[49m\u001b[43m \u001b[49m\u001b[43mdata\u001b[49m\u001b[43m,\u001b[49m\u001b[43m \u001b[49m\u001b[38;5;28;43mself\u001b[39;49m\u001b[38;5;241;43m.\u001b[39;49m\u001b[43maxis\u001b[49m\u001b[43m)\u001b[49m\n\u001b[1;32m   1630\u001b[0m     \u001b[38;5;28;01mif\u001b[39;00m not_indexed_same \u001b[38;5;129;01mis\u001b[39;00m \u001b[38;5;28;01mNone\u001b[39;00m:\n\u001b[1;32m   1631\u001b[0m         not_indexed_same \u001b[38;5;241m=\u001b[39m mutated \u001b[38;5;129;01mor\u001b[39;00m \u001b[38;5;28mself\u001b[39m\u001b[38;5;241m.\u001b[39mmutated\n",
      "File \u001b[0;32m~/.pyenv/versions/so_q_recom/lib/python3.10/site-packages/pandas/core/groupby/ops.py:839\u001b[0m, in \u001b[0;36mBaseGrouper.apply\u001b[0;34m(self, f, data, axis)\u001b[0m\n\u001b[1;32m    837\u001b[0m \u001b[38;5;66;03m# group might be modified\u001b[39;00m\n\u001b[1;32m    838\u001b[0m group_axes \u001b[38;5;241m=\u001b[39m group\u001b[38;5;241m.\u001b[39maxes\n\u001b[0;32m--> 839\u001b[0m res \u001b[38;5;241m=\u001b[39m \u001b[43mf\u001b[49m\u001b[43m(\u001b[49m\u001b[43mgroup\u001b[49m\u001b[43m)\u001b[49m\n\u001b[1;32m    840\u001b[0m \u001b[38;5;28;01mif\u001b[39;00m \u001b[38;5;129;01mnot\u001b[39;00m mutated \u001b[38;5;129;01mand\u001b[39;00m \u001b[38;5;129;01mnot\u001b[39;00m _is_indexed_like(res, group_axes, axis):\n\u001b[1;32m    841\u001b[0m     mutated \u001b[38;5;241m=\u001b[39m \u001b[38;5;28;01mTrue\u001b[39;00m\n",
      "Cell \u001b[0;32mIn[99], line 14\u001b[0m, in \u001b[0;36m<lambda>\u001b[0;34m(x)\u001b[0m\n\u001b[1;32m     12\u001b[0m \u001b[38;5;28;01mfor\u001b[39;00m k \u001b[38;5;129;01min\u001b[39;00m top_k:\n\u001b[1;32m     13\u001b[0m     mean_recall\u001b[38;5;241m.\u001b[39mappend(full_dataset[[\u001b[38;5;124m\"\u001b[39m\u001b[38;5;124mis_answer\u001b[39m\u001b[38;5;124m\"\u001b[39m, \u001b[38;5;124m\"\u001b[39m\u001b[38;5;124mq_id\u001b[39m\u001b[38;5;124m\"\u001b[39m, \u001b[38;5;124m\"\u001b[39m\u001b[38;5;124midx\u001b[39m\u001b[38;5;124m\"\u001b[39m]]\u001b[38;5;241m.\u001b[39mgroupby(\u001b[38;5;124m\"\u001b[39m\u001b[38;5;124mq_id\u001b[39m\u001b[38;5;124m\"\u001b[39m)\u001b[38;5;241m.\u001b[39mapply(\u001b[38;5;28;01mlambda\u001b[39;00m x: x[x[\u001b[38;5;124m\"\u001b[39m\u001b[38;5;124midx\u001b[39m\u001b[38;5;124m\"\u001b[39m] \u001b[38;5;241m<\u001b[39m\u001b[38;5;241m=\u001b[39m k][\u001b[38;5;124m\"\u001b[39m\u001b[38;5;124mis_answer\u001b[39m\u001b[38;5;124m\"\u001b[39m]\u001b[38;5;241m.\u001b[39msum()\u001b[38;5;241m/\u001b[39mq_answers[x[\u001b[38;5;124m\"\u001b[39m\u001b[38;5;124mq_id\u001b[39m\u001b[38;5;124m\"\u001b[39m]\u001b[38;5;241m.\u001b[39miloc[\u001b[38;5;241m0\u001b[39m]])\u001b[38;5;241m.\u001b[39mmean())\n\u001b[0;32m---> 14\u001b[0m     dev_mean_recall\u001b[38;5;241m.\u001b[39mappend(dev_dataset[[\u001b[38;5;124m\"\u001b[39m\u001b[38;5;124mis_answer\u001b[39m\u001b[38;5;124m\"\u001b[39m, \u001b[38;5;124m\"\u001b[39m\u001b[38;5;124mq_id\u001b[39m\u001b[38;5;124m\"\u001b[39m, \u001b[38;5;124m\"\u001b[39m\u001b[38;5;124midx\u001b[39m\u001b[38;5;124m\"\u001b[39m]]\u001b[38;5;241m.\u001b[39mgroupby(\u001b[38;5;124m\"\u001b[39m\u001b[38;5;124mq_id\u001b[39m\u001b[38;5;124m\"\u001b[39m)\u001b[38;5;241m.\u001b[39mapply(\u001b[38;5;28;01mlambda\u001b[39;00m x: x[x[\u001b[38;5;124m\"\u001b[39m\u001b[38;5;124midx\u001b[39m\u001b[38;5;124m\"\u001b[39m] \u001b[38;5;241m<\u001b[39m\u001b[38;5;241m=\u001b[39m k][\u001b[38;5;124m\"\u001b[39m\u001b[38;5;124mis_answer\u001b[39m\u001b[38;5;124m\"\u001b[39m]\u001b[38;5;241m.\u001b[39msum()\u001b[38;5;241m/\u001b[39m\u001b[43mq_answers_dev_country\u001b[49m\u001b[43m[\u001b[49m\u001b[43mx\u001b[49m\u001b[43m[\u001b[49m\u001b[38;5;124;43m\"\u001b[39;49m\u001b[38;5;124;43mq_id\u001b[39;49m\u001b[38;5;124;43m\"\u001b[39;49m\u001b[43m]\u001b[49m\u001b[38;5;241;43m.\u001b[39;49m\u001b[43miloc\u001b[49m\u001b[43m[\u001b[49m\u001b[38;5;241;43m0\u001b[39;49m\u001b[43m]\u001b[49m\u001b[43m]\u001b[49m)\u001b[38;5;241m.\u001b[39mmean())\n\u001b[1;32m     15\u001b[0m     no_dev_mean_recall\u001b[38;5;241m.\u001b[39mappend(no_dev_dataset[[\u001b[38;5;124m\"\u001b[39m\u001b[38;5;124mis_answer\u001b[39m\u001b[38;5;124m\"\u001b[39m, \u001b[38;5;124m\"\u001b[39m\u001b[38;5;124mq_id\u001b[39m\u001b[38;5;124m\"\u001b[39m, \u001b[38;5;124m\"\u001b[39m\u001b[38;5;124midx\u001b[39m\u001b[38;5;124m\"\u001b[39m]]\u001b[38;5;241m.\u001b[39mgroupby(\u001b[38;5;124m\"\u001b[39m\u001b[38;5;124mq_id\u001b[39m\u001b[38;5;124m\"\u001b[39m)\u001b[38;5;241m.\u001b[39mapply(\u001b[38;5;28;01mlambda\u001b[39;00m x: x[x[\u001b[38;5;124m\"\u001b[39m\u001b[38;5;124midx\u001b[39m\u001b[38;5;124m\"\u001b[39m] \u001b[38;5;241m<\u001b[39m\u001b[38;5;241m=\u001b[39m k][\u001b[38;5;124m\"\u001b[39m\u001b[38;5;124mis_answer\u001b[39m\u001b[38;5;124m\"\u001b[39m]\u001b[38;5;241m.\u001b[39msum()\u001b[38;5;241m/\u001b[39mq_answers_no_dev_country[x[\u001b[38;5;124m\"\u001b[39m\u001b[38;5;124mq_id\u001b[39m\u001b[38;5;124m\"\u001b[39m]\u001b[38;5;241m.\u001b[39miloc[\u001b[38;5;241m0\u001b[39m]])\u001b[38;5;241m.\u001b[39mmean())\n",
      "\u001b[0;31mKeyError\u001b[0m: 70547027"
     ]
    }
   ],
   "source": [
    "# TODO: fix when calculating recall instead of q_answers use q_answers_protected_dev_country and q_answers_no_dev_country\n",
    "\n",
    "\n",
    "top_k = range(0, 100, 8)\n",
    "\n",
    "dev_dataset = full_dataset[full_dataset[\"developed_country\"] == 1]\n",
    "no_dev_dataset = full_dataset[full_dataset[\"developed_country\"] == 0]\n",
    "\n",
    "mean_recall = []\n",
    "dev_mean_recall = []\n",
    "no_dev_mean_recall = []\n",
    "for k in top_k:\n",
    "    mean_recall.append(\n",
    "        full_dataset[[\"is_answer\", \"q_id\", \"idx\"]]\n",
    "        .groupby(\"q_id\")\n",
    "        .apply(\n",
    "            lambda x: x[x[\"idx\"] <= k][\"is_answer\"].sum() / q_answers[x[\"q_id\"].iloc[0]]\n",
    "        )\n",
    "        .mean()\n",
    "    )\n",
    "    dev_mean_recall.append(\n",
    "        dev_dataset[[\"is_answer\", \"q_id\", \"idx\"]]\n",
    "        .groupby(\"q_id\")\n",
    "        .apply(\n",
    "            lambda x: x[x[\"idx\"] <= k][\"is_answer\"].sum()\n",
    "            / q_answers_dev_country[x[\"q_id\"].iloc[0]]\n",
    "        )\n",
    "        .mean()\n",
    "    )\n",
    "    no_dev_mean_recall.append(\n",
    "        no_dev_dataset[[\"is_answer\", \"q_id\", \"idx\"]]\n",
    "        .groupby(\"q_id\")\n",
    "        .apply(\n",
    "            lambda x: x[x[\"idx\"] <= k][\"is_answer\"].sum()\n",
    "            / q_answers_no_dev_country[x[\"q_id\"].iloc[0]]\n",
    "        )\n",
    "        .mean()\n",
    "    )"
   ]
  },
  {
   "cell_type": "code",
   "execution_count": 102,
   "id": "7d56c66d-4370-4a97-bbde-f234ff4b546a",
   "metadata": {},
   "outputs": [
    {
     "ename": "KeyError",
     "evalue": "70547027",
     "output_type": "error",
     "traceback": [
      "\u001b[0;31m---------------------------------------------------------------------------\u001b[0m",
      "\u001b[0;31mKeyError\u001b[0m                                  Traceback (most recent call last)",
      "Cell \u001b[0;32mIn[102], line 1\u001b[0m\n\u001b[0;32m----> 1\u001b[0m \u001b[43mq_answers_no_dev_country\u001b[49m\u001b[43m[\u001b[49m\u001b[38;5;241;43m70547027\u001b[39;49m\u001b[43m]\u001b[49m\n",
      "\u001b[0;31mKeyError\u001b[0m: 70547027"
     ]
    }
   ],
   "source": [
    "q_answers_no_dev_country[70547027]"
   ]
  },
  {
   "cell_type": "code",
   "execution_count": 104,
   "id": "7aa8d5e5-4d8e-4691-8ac4-0592633eaf67",
   "metadata": {},
   "outputs": [],
   "source": [
    "top_k = range(0, 100, 8)\n",
    "\n",
    "dev_dataset = full_dataset[full_dataset[\"developed_country\"] == 1]\n",
    "no_dev_dataset = full_dataset[full_dataset[\"developed_country\"] == 0]\n",
    "\n",
    "mean_recall = []\n",
    "dev_mean_recall = []\n",
    "no_dev_mean_recall = []\n",
    "for k in top_k:\n",
    "    mean_recall.append(\n",
    "        full_dataset[[\"is_answer\", \"q_id\", \"idx\"]]\n",
    "        .groupby(\"q_id\")\n",
    "        .apply(\n",
    "            lambda x: x[x[\"idx\"] <= k][\"is_answer\"].sum() / q_answers[x[\"q_id\"].iloc[0]]\n",
    "        )\n",
    "        .mean()\n",
    "    )\n",
    "    dev_mean_recall.append(\n",
    "        dev_dataset[[\"is_answer\", \"q_id\", \"idx\"]]\n",
    "        .groupby(\"q_id\")\n",
    "        .apply(\n",
    "            lambda x: (\n",
    "                x[x[\"idx\"] <= k][\"is_answer\"].sum()\n",
    "                / q_answers_dev_country[x[\"q_id\"].iloc[0]]\n",
    "                if x[\"q_id\"].iloc[0] in q_answers_dev_country\n",
    "                else np.NaN\n",
    "            )\n",
    "        )\n",
    "        .dropna()\n",
    "        .mean()\n",
    "    )\n",
    "    no_dev_mean_recall.append(\n",
    "        no_dev_dataset[[\"is_answer\", \"q_id\", \"idx\"]]\n",
    "        .groupby(\"q_id\")\n",
    "        .apply(\n",
    "            lambda x: (\n",
    "                x[x[\"idx\"] <= k][\"is_answer\"].sum()\n",
    "                / q_answers_no_dev_country[x[\"q_id\"].iloc[0]]\n",
    "                if x[\"q_id\"].iloc[0] in q_answers_no_dev_country\n",
    "                else np.NaN\n",
    "            )\n",
    "        )\n",
    "        .dropna()\n",
    "        .mean()\n",
    "    )"
   ]
  },
  {
   "cell_type": "code",
   "execution_count": 105,
   "id": "efcb8666-c879-4e5f-a094-03b9be6f04ba",
   "metadata": {},
   "outputs": [
    {
     "data": {
      "text/plain": [
       "(397300, 190696, 206604)"
      ]
     },
     "execution_count": 105,
     "metadata": {},
     "output_type": "execute_result"
    }
   ],
   "source": [
    "len(full_dataset), len(dev_dataset), len(no_dev_dataset)"
   ]
  },
  {
   "cell_type": "code",
   "execution_count": 106,
   "id": "fe4e3a02-fbe7-4c49-b2b5-c8b368cc1f1f",
   "metadata": {
    "scrolled": true
   },
   "outputs": [
    {
     "data": {
      "text/plain": [
       "<matplotlib.legend.Legend at 0x7f3906924b80>"
      ]
     },
     "execution_count": 106,
     "metadata": {},
     "output_type": "execute_result"
    },
    {
     "data": {
      "image/png": "[encoded data removed]",
      "text/plain": [
       "<Figure size 640x480 with 1 Axes>"
      ]
     },
     "metadata": {},
     "output_type": "display_data"
    }
   ],
   "source": [
    "fig, ax1 = plt.subplots()\n",
    "\n",
    "color = \"tab:red\"\n",
    "ax1.set_xlabel(\"k\")\n",
    "ax1.set_ylabel(\"mean recall per question\")\n",
    "ax1.plot(top_k, mean_recall, color=\"tab:brown\", label=\"all\")\n",
    "ax1.plot(top_k, dev_mean_recall, color=color, label=\"dev country\")\n",
    "ax1.plot(top_k, no_dev_mean_recall, color=\"tab:blue\", label=\"not dev country\")\n",
    "\n",
    "fig.tight_layout()\n",
    "fig.legend()"
   ]
  },
  {
   "cell_type": "code",
   "execution_count": 48,
   "id": "e41e3bee-a5e1-49da-86bf-d58c20b05f1a",
   "metadata": {},
   "outputs": [
    {
     "data": {
      "text/plain": [
       "0.012474380640753659"
      ]
     },
     "execution_count": 48,
     "metadata": {},
     "output_type": "execute_result"
    }
   ],
   "source": [
    "no_dev_dataset.groupby(\"q_id\")[[\"is_answer\", \"q_id\"]].apply(\n",
    "    lambda x: x.head(65)[\"is_answer\"].sum() / q_answers[x[\"q_id\"].iloc[0]]\n",
    ").mean()"
   ]
  },
  {
   "cell_type": "code",
   "execution_count": 55,
   "id": "0df01014-6a02-4a2c-8a6e-91db6dc6c193",
   "metadata": {},
   "outputs": [
    {
     "data": {
      "text/plain": [
       "0.05436697709539391"
      ]
     },
     "execution_count": 55,
     "metadata": {},
     "output_type": "execute_result"
    }
   ],
   "source": [
    "no_dev_dataset.groupby(\"q_id\")[[\"is_answer\", \"q_id\"]].apply(\n",
    "    lambda x: x.head(85)[\"is_answer\"].sum()\n",
    ").mean()"
   ]
  },
  {
   "cell_type": "code",
   "execution_count": 49,
   "id": "afd7d297-eeca-4b06-9cd2-5572e85bbef6",
   "metadata": {},
   "outputs": [
    {
     "data": {
      "text/plain": [
       "0.018090264044203132"
      ]
     },
     "execution_count": 49,
     "metadata": {},
     "output_type": "execute_result"
    }
   ],
   "source": [
    "full_dataset.groupby(\"q_id\")[[\"is_answer\", \"q_id\"]].apply(\n",
    "    lambda x: x.head(65)[\"is_answer\"].sum() / q_answers[x[\"q_id\"].iloc[0]]\n",
    ").mean()"
   ]
  },
  {
   "cell_type": "code",
   "execution_count": null,
   "id": "532a259d-6f07-4cbf-ab93-ca6bd356069d",
   "metadata": {},
   "outputs": [],
   "source": []
  },
  {
   "cell_type": "code",
   "execution_count": null,
   "id": "b2c95df6-350d-4674-98ff-dbb2d7a33227",
   "metadata": {},
   "outputs": [],
   "source": []
  },
  {
   "cell_type": "code",
   "execution_count": 84,
   "id": "6271e570-cdc6-4d9c-8a3d-9b6bb7a4caa9",
   "metadata": {},
   "outputs": [],
   "source": [
    "mean_answers = []\n",
    "dev_mean_answers = []\n",
    "no_dev_mean_answers = []\n",
    "for k in top_k:\n",
    "    mean_answers.append(\n",
    "        full_dataset[[\"is_answer\", \"q_id\", \"idx\"]]\n",
    "        .groupby(\"q_id\")\n",
    "        .apply(lambda x: x[x[\"idx\"] <= k][\"is_answer\"].sum())\n",
    "        .mean()\n",
    "    )\n",
    "    dev_mean_answers.append(\n",
    "        dev_dataset[[\"is_answer\", \"q_id\", \"idx\"]]\n",
    "        .groupby(\"q_id\")\n",
    "        .apply(lambda x: x[x[\"idx\"] <= k][\"is_answer\"].sum())\n",
    "        .mean()\n",
    "    )\n",
    "    no_dev_mean_answers.append(\n",
    "        no_dev_dataset[[\"is_answer\", \"q_id\", \"idx\"]]\n",
    "        .groupby(\"q_id\")\n",
    "        .apply(lambda x: x[x[\"idx\"] <= k][\"is_answer\"].sum())\n",
    "        .mean()\n",
    "    )"
   ]
  },
  {
   "cell_type": "code",
   "execution_count": 86,
   "id": "60c3c020-8e8f-47c0-a3a4-c0b220e3d9e5",
   "metadata": {},
   "outputs": [
    {
     "data": {
      "text/plain": [
       "<matplotlib.legend.Legend at 0x7f3909301ab0>"
      ]
     },
     "execution_count": 86,
     "metadata": {},
     "output_type": "execute_result"
    },
    {
     "data": {
      "image/png": "[encoded data removed]",
      "text/plain": [
       "<Figure size 640x480 with 1 Axes>"
      ]
     },
     "metadata": {},
     "output_type": "display_data"
    }
   ],
   "source": [
    "fig, ax1 = plt.subplots()\n",
    "\n",
    "color = \"tab:red\"\n",
    "ax1.set_xlabel(\"k\")\n",
    "ax1.set_ylabel(\"mean retrieved answers per question\")\n",
    "ax1.plot(top_k, mean_answers, color=\"tab:brown\", label=\"all\")\n",
    "ax1.plot(top_k, dev_mean_answers, color=color, label=\"dev country\")\n",
    "ax1.plot(top_k, no_dev_mean_answers, color=\"tab:blue\", label=\"not dev country\")\n",
    "\n",
    "fig.tight_layout()\n",
    "fig.legend()"
   ]
  },
  {
   "cell_type": "code",
   "execution_count": 79,
   "id": "2fe33e29-d7d4-4e54-b865-3b89f5f0a8dd",
   "metadata": {},
   "outputs": [],
   "source": [
    "total_answers = []\n",
    "dev_total_answers = []\n",
    "no_dev_total_answers = []\n",
    "for k in top_k:\n",
    "    total_answers.append(\n",
    "        full_dataset[[\"is_answer\", \"q_id\", \"idx\"]]\n",
    "        .groupby(\"q_id\")\n",
    "        .apply(lambda x: x[x[\"idx\"] <= k][\"is_answer\"].sum())\n",
    "        .sum()\n",
    "    )\n",
    "    dev_total_answers.append(\n",
    "        dev_dataset[[\"is_answer\", \"q_id\", \"idx\"]]\n",
    "        .groupby(\"q_id\")\n",
    "        .apply(lambda x: x[x[\"idx\"] <= k][\"is_answer\"].sum())\n",
    "        .sum()\n",
    "    )\n",
    "    no_dev_total_answers.append(\n",
    "        no_dev_dataset[[\"is_answer\", \"q_id\", \"idx\"]]\n",
    "        .groupby(\"q_id\")\n",
    "        .apply(lambda x: x[x[\"idx\"] <= k][\"is_answer\"].sum())\n",
    "        .sum()\n",
    "    )"
   ]
  },
  {
   "cell_type": "code",
   "execution_count": 80,
   "id": "5297f366-1b38-4c98-ba0f-6f05b73ae766",
   "metadata": {},
   "outputs": [
    {
     "data": {
      "image/png": "[encoded data removed]",
      "text/plain": [
       "<Figure size 640x480 with 1 Axes>"
      ]
     },
     "metadata": {},
     "output_type": "display_data"
    }
   ],
   "source": [
    "fig, ax1 = plt.subplots()\n",
    "\n",
    "color = \"tab:red\"\n",
    "ax1.set_xlabel(\"k\")\n",
    "ax1.set_ylabel(\"total retrieved answers per question\")\n",
    "ax1.plot(top_k, total_answers, color=\"tab:brown\", label=\"all\")\n",
    "ax1.plot(top_k, dev_total_answers, color=color, label=\"dev country\")\n",
    "ax1.plot(top_k, no_dev_total_answers, color=\"tab:blue\", label=\"not dev country\")\n",
    "\n",
    "fig.tight_layout()\n",
    "fig.legend();"
   ]
  },
  {
   "cell_type": "code",
   "execution_count": null,
   "id": "82bd4cef-eb4c-4dff-ad54-b87f661082d0",
   "metadata": {},
   "outputs": [],
   "source": []
  }
 ],
 "metadata": {
  "kernelspec": {
   "display_name": "Python 3 (ipykernel)",
   "language": "python",
   "name": "python3"
  },
  "language_info": {
   "codemirror_mode": {
    "name": "ipython",
    "version": 3
   },
   "file_extension": ".py",
   "mimetype": "text/x-python",
   "name": "python",
   "nbconvert_exporter": "python",
   "pygments_lexer": "ipython3",
   "version": "3.10.12"
  }
 },
 "nbformat": 4,
 "nbformat_minor": 5
}
