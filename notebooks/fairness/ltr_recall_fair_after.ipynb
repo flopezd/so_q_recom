{
 "cells": [
  {
   "cell_type": "code",
   "execution_count": 1,
   "id": "ff94e9cf-ba0a-42db-b446-e1207fc4191f",
   "metadata": {},
   "outputs": [
    {
     "name": "stderr",
     "output_type": "stream",
     "text": [
      "2024-06-28 11:22:53.713913: I tensorflow/core/platform/cpu_feature_guard.cc:182] This TensorFlow binary is optimized to use available CPU instructions in performance-critical operations.\n",
      "To enable the following instructions: AVX2 FMA, in other operations, rebuild TensorFlow with the appropriate compiler flags.\n"
     ]
    }
   ],
   "source": [
    "import numpy as np\n",
    "from xgboost import XGBRanker\n",
    "from sklearn.metrics import ndcg_score\n",
    "import matplotlib.pyplot as plt\n",
    "import psycopg2\n",
    "from gensim.models.doc2vec import Doc2Vec\n",
    "from gensim.utils import simple_preprocess\n",
    "import tensorflow as tf\n",
    "import tensorflow.keras.backend as K\n",
    "from faiss import read_index\n",
    "from psycopg2.extras import execute_values\n",
    "import pickle\n",
    "import pandas as pd\n",
    "import seaborn as sns\n",
    "from operator import itemgetter\n",
    "from utils.utils import get_q_answers\n",
    "\n",
    "plt.rcParams['text.usetex'] = True\n",
    "plt.rcParams['text.latex.preamble'] = r\"\\usepackage{amsmath}\""
   ]
  },
  {
   "cell_type": "markdown",
   "id": "b74cfe45-0d3d-4f0b-a08f-dcee43974275",
   "metadata": {},
   "source": [
    "# Load fair rank"
   ]
  },
  {
   "cell_type": "code",
   "execution_count": 2,
   "id": "3b32db32-a0bc-4560-a1f7-68859518c66c",
   "metadata": {},
   "outputs": [],
   "source": [
    "connection = psycopg2.connect(\n",
    "    user=\"postgres\",\n",
    "    password=\"postgres\",\n",
    "    host=\"127.0.0.1\",\n",
    "    port=\"54320\",\n",
    "    database=\"stack_overflow\",\n",
    ")"
   ]
  },
  {
   "cell_type": "code",
   "execution_count": 3,
   "id": "85a489a0-c389-46ea-ad1f-1410430cf138",
   "metadata": {},
   "outputs": [
    {
     "data": {
      "text/html": [
       "<div>\n",
       "<style scoped>\n",
       "    .dataframe tbody tr th:only-of-type {\n",
       "        vertical-align: middle;\n",
       "    }\n",
       "\n",
       "    .dataframe tbody tr th {\n",
       "        vertical-align: top;\n",
       "    }\n",
       "\n",
       "    .dataframe thead th {\n",
       "        text-align: right;\n",
       "    }\n",
       "</style>\n",
       "<table border=\"1\" class=\"dataframe\">\n",
       "  <thead>\n",
       "    <tr style=\"text-align: right;\">\n",
       "      <th></th>\n",
       "      <th>q_id</th>\n",
       "      <th>u_id</th>\n",
       "      <th>developed_country</th>\n",
       "      <th>idx</th>\n",
       "      <th>pscore</th>\n",
       "    </tr>\n",
       "  </thead>\n",
       "  <tbody>\n",
       "    <tr>\n",
       "      <th>0</th>\n",
       "      <td>70547027</td>\n",
       "      <td>100297</td>\n",
       "      <td>1</td>\n",
       "      <td>0</td>\n",
       "      <td>2.340971</td>\n",
       "    </tr>\n",
       "    <tr>\n",
       "      <th>1</th>\n",
       "      <td>70547027</td>\n",
       "      <td>7574575</td>\n",
       "      <td>0</td>\n",
       "      <td>1</td>\n",
       "      <td>2.266549</td>\n",
       "    </tr>\n",
       "    <tr>\n",
       "      <th>2</th>\n",
       "      <td>70547027</td>\n",
       "      <td>11923558</td>\n",
       "      <td>0</td>\n",
       "      <td>2</td>\n",
       "      <td>2.071728</td>\n",
       "    </tr>\n",
       "    <tr>\n",
       "      <th>3</th>\n",
       "      <td>70547027</td>\n",
       "      <td>1624921</td>\n",
       "      <td>1</td>\n",
       "      <td>3</td>\n",
       "      <td>2.033441</td>\n",
       "    </tr>\n",
       "    <tr>\n",
       "      <th>4</th>\n",
       "      <td>70547027</td>\n",
       "      <td>325565</td>\n",
       "      <td>1</td>\n",
       "      <td>4</td>\n",
       "      <td>1.930067</td>\n",
       "    </tr>\n",
       "  </tbody>\n",
       "</table>\n",
       "</div>"
      ],
      "text/plain": [
       "       q_id      u_id  developed_country  idx    pscore\n",
       "0  70547027    100297                  1    0  2.340971\n",
       "1  70547027   7574575                  0    1  2.266549\n",
       "2  70547027  11923558                  0    2  2.071728\n",
       "3  70547027   1624921                  1    3  2.033441\n",
       "4  70547027    325565                  1    4  1.930067"
      ]
     },
     "execution_count": 3,
     "metadata": {},
     "output_type": "execute_result"
    }
   ],
   "source": [
    "after_fair_df = pd.read_csv(\"after_fair_data.csv\")\n",
    "after_fair_df.head()"
   ]
  },
  {
   "cell_type": "code",
   "execution_count": 4,
   "id": "35fab2b6-5d5e-4a62-a822-070704d1cb79",
   "metadata": {},
   "outputs": [],
   "source": [
    "with connection:\n",
    "    with connection.cursor() as cursor:\n",
    "        execute_values(\n",
    "            cursor,\n",
    "            \"\"\"select q_id, u_id, q_a.score\n",
    "            FROM (VALUES %s) AS base_questions (q_id, u_id)\n",
    "            JOIN posts_19 q_a ON q_a.parent_id = q_id\n",
    "            WHERE q_a.owner_user_id=u_id\"\"\",\n",
    "            after_fair_df[[\"q_id\", \"u_id\"]].values.tolist(),\n",
    "            page_size=len(after_fair_df),\n",
    "        )\n",
    "        answers_dataset = pd.DataFrame(\n",
    "            cursor.fetchall(), columns=[\"q_id\", \"u_id\", \"score\"]\n",
    "        )"
   ]
  },
  {
   "cell_type": "code",
   "execution_count": 11,
   "id": "8105e35b-646d-48e9-b63e-86bbf1568f33",
   "metadata": {},
   "outputs": [
    {
     "data": {
      "text/html": [
       "<div>\n",
       "<style scoped>\n",
       "    .dataframe tbody tr th:only-of-type {\n",
       "        vertical-align: middle;\n",
       "    }\n",
       "\n",
       "    .dataframe tbody tr th {\n",
       "        vertical-align: top;\n",
       "    }\n",
       "\n",
       "    .dataframe thead th {\n",
       "        text-align: right;\n",
       "    }\n",
       "</style>\n",
       "<table border=\"1\" class=\"dataframe\">\n",
       "  <thead>\n",
       "    <tr style=\"text-align: right;\">\n",
       "      <th></th>\n",
       "      <th>q_id</th>\n",
       "      <th>u_id</th>\n",
       "      <th>developed_country</th>\n",
       "      <th>idx</th>\n",
       "      <th>pscore</th>\n",
       "      <th>score</th>\n",
       "      <th>is_answer</th>\n",
       "    </tr>\n",
       "  </thead>\n",
       "  <tbody>\n",
       "    <tr>\n",
       "      <th>397200</th>\n",
       "      <td>74681417</td>\n",
       "      <td>100297</td>\n",
       "      <td>1</td>\n",
       "      <td>0</td>\n",
       "      <td>2.263848</td>\n",
       "      <td>NaN</td>\n",
       "      <td>0</td>\n",
       "    </tr>\n",
       "    <tr>\n",
       "      <th>397201</th>\n",
       "      <td>74681417</td>\n",
       "      <td>3874623</td>\n",
       "      <td>1</td>\n",
       "      <td>1</td>\n",
       "      <td>2.024328</td>\n",
       "      <td>NaN</td>\n",
       "      <td>0</td>\n",
       "    </tr>\n",
       "    <tr>\n",
       "      <th>397202</th>\n",
       "      <td>74681417</td>\n",
       "      <td>5923139</td>\n",
       "      <td>1</td>\n",
       "      <td>2</td>\n",
       "      <td>1.902712</td>\n",
       "      <td>NaN</td>\n",
       "      <td>0</td>\n",
       "    </tr>\n",
       "    <tr>\n",
       "      <th>397203</th>\n",
       "      <td>74681417</td>\n",
       "      <td>7574575</td>\n",
       "      <td>0</td>\n",
       "      <td>3</td>\n",
       "      <td>1.897878</td>\n",
       "      <td>NaN</td>\n",
       "      <td>0</td>\n",
       "    </tr>\n",
       "    <tr>\n",
       "      <th>397204</th>\n",
       "      <td>74681417</td>\n",
       "      <td>325565</td>\n",
       "      <td>1</td>\n",
       "      <td>4</td>\n",
       "      <td>1.845899</td>\n",
       "      <td>NaN</td>\n",
       "      <td>0</td>\n",
       "    </tr>\n",
       "  </tbody>\n",
       "</table>\n",
       "</div>"
      ],
      "text/plain": [
       "            q_id     u_id  developed_country  idx    pscore  score  is_answer\n",
       "397200  74681417   100297                  1    0  2.263848    NaN          0\n",
       "397201  74681417  3874623                  1    1  2.024328    NaN          0\n",
       "397202  74681417  5923139                  1    2  1.902712    NaN          0\n",
       "397203  74681417  7574575                  0    3  1.897878    NaN          0\n",
       "397204  74681417   325565                  1    4  1.845899    NaN          0"
      ]
     },
     "execution_count": 11,
     "metadata": {},
     "output_type": "execute_result"
    }
   ],
   "source": [
    "full_dataset = after_fair_df.merge(answers_dataset, on=[\"q_id\", \"u_id\"], how=\"left\")\n",
    "full_dataset[\"is_answer\"] = (~full_dataset[\"score\"].isna()).astype(int)\n",
    "full_dataset = full_dataset.sort_values(by=[\"q_id\", \"pscore\"], ascending=False)\n",
    "full_dataset[full_dataset[\"is_answer\"]==0].head()"
   ]
  },
  {
   "cell_type": "code",
   "execution_count": 12,
   "id": "ae6bfaaf-3c25-40da-bd5d-e7c2225efc5c",
   "metadata": {},
   "outputs": [
    {
     "data": {
      "text/html": [
       "<div>\n",
       "<style scoped>\n",
       "    .dataframe tbody tr th:only-of-type {\n",
       "        vertical-align: middle;\n",
       "    }\n",
       "\n",
       "    .dataframe tbody tr th {\n",
       "        vertical-align: top;\n",
       "    }\n",
       "\n",
       "    .dataframe thead th {\n",
       "        text-align: right;\n",
       "    }\n",
       "</style>\n",
       "<table border=\"1\" class=\"dataframe\">\n",
       "  <thead>\n",
       "    <tr style=\"text-align: right;\">\n",
       "      <th></th>\n",
       "      <th>q_id</th>\n",
       "      <th>u_id</th>\n",
       "      <th>developed_country</th>\n",
       "      <th>idx</th>\n",
       "      <th>pscore</th>\n",
       "      <th>score</th>\n",
       "      <th>is_answer</th>\n",
       "    </tr>\n",
       "  </thead>\n",
       "  <tbody>\n",
       "    <tr>\n",
       "      <th>396621</th>\n",
       "      <td>74671391</td>\n",
       "      <td>235698</td>\n",
       "      <td>0</td>\n",
       "      <td>21</td>\n",
       "      <td>1.588857</td>\n",
       "      <td>1.0</td>\n",
       "      <td>1</td>\n",
       "    </tr>\n",
       "    <tr>\n",
       "      <th>395676</th>\n",
       "      <td>74659510</td>\n",
       "      <td>5459839</td>\n",
       "      <td>1</td>\n",
       "      <td>76</td>\n",
       "      <td>1.393546</td>\n",
       "      <td>0.0</td>\n",
       "      <td>1</td>\n",
       "    </tr>\n",
       "    <tr>\n",
       "      <th>395122</th>\n",
       "      <td>74651157</td>\n",
       "      <td>494134</td>\n",
       "      <td>1</td>\n",
       "      <td>22</td>\n",
       "      <td>1.602037</td>\n",
       "      <td>0.0</td>\n",
       "      <td>1</td>\n",
       "    </tr>\n",
       "    <tr>\n",
       "      <th>393637</th>\n",
       "      <td>74632313</td>\n",
       "      <td>364696</td>\n",
       "      <td>1</td>\n",
       "      <td>37</td>\n",
       "      <td>1.377957</td>\n",
       "      <td>0.0</td>\n",
       "      <td>1</td>\n",
       "    </tr>\n",
       "    <tr>\n",
       "      <th>392995</th>\n",
       "      <td>74620209</td>\n",
       "      <td>5459839</td>\n",
       "      <td>1</td>\n",
       "      <td>95</td>\n",
       "      <td>1.359678</td>\n",
       "      <td>3.0</td>\n",
       "      <td>1</td>\n",
       "    </tr>\n",
       "  </tbody>\n",
       "</table>\n",
       "</div>"
      ],
      "text/plain": [
       "            q_id     u_id  developed_country  idx    pscore  score  is_answer\n",
       "396621  74671391   235698                  0   21  1.588857    1.0          1\n",
       "395676  74659510  5459839                  1   76  1.393546    0.0          1\n",
       "395122  74651157   494134                  1   22  1.602037    0.0          1\n",
       "393637  74632313   364696                  1   37  1.377957    0.0          1\n",
       "392995  74620209  5459839                  1   95  1.359678    3.0          1"
      ]
     },
     "execution_count": 12,
     "metadata": {},
     "output_type": "execute_result"
    }
   ],
   "source": [
    "full_dataset = after_fair_df.merge(answers_dataset, on=[\"q_id\", \"u_id\"], how=\"left\")\n",
    "full_dataset[\"is_answer\"] = (~full_dataset[\"score\"].isna()).astype(int)\n",
    "full_dataset = full_dataset.sort_values(by=[\"q_id\", \"pscore\"], ascending=False)\n",
    "full_dataset[full_dataset[\"is_answer\"]==1].head()"
   ]
  },
  {
   "cell_type": "code",
   "execution_count": 13,
   "id": "fad46345-1f92-4821-9866-cbc64f71130a",
   "metadata": {},
   "outputs": [
    {
     "data": {
      "text/plain": [
       "444"
      ]
     },
     "execution_count": 13,
     "metadata": {},
     "output_type": "execute_result"
    }
   ],
   "source": [
    "full_dataset[\"is_answer\"].sum()"
   ]
  },
  {
   "cell_type": "markdown",
   "id": "0aac98bc-85ee-4ec7-bb0e-5384763a4a1e",
   "metadata": {},
   "source": [
    "# Evaluate recall"
   ]
  },
  {
   "cell_type": "code",
   "execution_count": 14,
   "id": "d102ae9c-4b00-4059-8846-3178e40c42f2",
   "metadata": {},
   "outputs": [
    {
     "data": {
      "text/plain": [
       "3973"
      ]
     },
     "execution_count": 14,
     "metadata": {},
     "output_type": "execute_result"
    }
   ],
   "source": [
    "posts_ids = full_dataset[\"q_id\"].unique().tolist()\n",
    "len(posts_ids)"
   ]
  },
  {
   "cell_type": "code",
   "execution_count": 15,
   "id": "1771ebb3-8909-4b84-9271-9dd1bb35efc0",
   "metadata": {},
   "outputs": [
    {
     "data": {
      "text/plain": [
       "(2788, 2806)"
      ]
     },
     "execution_count": 15,
     "metadata": {},
     "output_type": "execute_result"
    }
   ],
   "source": [
    "q_answers_dev_country, q_answers_no_dev_country = get_q_answers(connection, tuple(posts_ids))\n",
    "len(q_answers_dev_country), len(q_answers_no_dev_country)"
   ]
  },
  {
   "cell_type": "code",
   "execution_count": 17,
   "id": "aee8e550-7b6f-4e30-908a-eb6fa84443c9",
   "metadata": {},
   "outputs": [
    {
     "data": {
      "text/plain": [
       "507"
      ]
     },
     "execution_count": 17,
     "metadata": {},
     "output_type": "execute_result"
    }
   ],
   "source": [
    "len(after_fair_df[after_fair_df[\"developed_country\"] == 0][\"u_id\"].unique())"
   ]
  },
  {
   "cell_type": "code",
   "execution_count": 18,
   "id": "db069044-40c5-4116-a89c-87df162aa445",
   "metadata": {},
   "outputs": [
    {
     "data": {
      "text/plain": [
       "936"
      ]
     },
     "execution_count": 18,
     "metadata": {},
     "output_type": "execute_result"
    }
   ],
   "source": [
    "len(after_fair_df[\"u_id\"].unique())"
   ]
  },
  {
   "cell_type": "code",
   "execution_count": null,
   "id": "64245848",
   "metadata": {},
   "outputs": [],
   "source": []
  },
  {
   "cell_type": "code",
   "execution_count": null,
   "id": "73d59574",
   "metadata": {},
   "outputs": [],
   "source": [
    "with connection:\n",
    "    with connection.cursor() as cursor:\n",
    "        cursor.execute(\"\"\"select q_a.parent_id, q_a.owner_user_id\n",
    "                            FROM posts_19 q_a\n",
    "                            where q_a.parent_id in %s\"\"\",\n",
    "                                (tuple(posts_ids),))\n",
    "        q_answers_users = pd.DataFrame(cursor.fetchall(), columns=[\"qid\", \"uid\"])"
   ]
  },
  {
   "cell_type": "code",
   "execution_count": null,
   "id": "74547f62",
   "metadata": {},
   "outputs": [],
   "source": [
    "len(q_answers_users), len(q_answers_users.groupby(\"qid\").count())"
   ]
  },
  {
   "cell_type": "code",
   "execution_count": null,
   "id": "ecb565ea",
   "metadata": {},
   "outputs": [],
   "source": [
    "q_answers_2 = q_answers_users.groupby(\"qid\").count()\n",
    "q_answers_2dict = q_answers_2[\"uid\"].to_dict()"
   ]
  },
  {
   "cell_type": "code",
   "execution_count": null,
   "id": "9dbf83ab",
   "metadata": {},
   "outputs": [],
   "source": [
    "q_id_errors = []\n",
    "for q_id, answers in q_answers_2dict.items():\n",
    "    if answers != q_answers.get(q_id, 0):\n",
    "        q_id_errors.append(q_id)"
   ]
  },
  {
   "cell_type": "code",
   "execution_count": null,
   "id": "0d9e16e1",
   "metadata": {},
   "outputs": [],
   "source": [
    "q_answers_users[q_answers_users[\"uid\"].isin(users_dev_country)]"
   ]
  },
  {
   "cell_type": "code",
   "execution_count": null,
   "id": "1187125c",
   "metadata": {},
   "outputs": [],
   "source": []
  },
  {
   "cell_type": "code",
   "execution_count": null,
   "id": "2a5858c8",
   "metadata": {},
   "outputs": [],
   "source": [
    "users = pd.read_csv(\"users_dev_country.csv\")"
   ]
  },
  {
   "cell_type": "code",
   "execution_count": null,
   "id": "303580b7",
   "metadata": {},
   "outputs": [],
   "source": [
    "users_dev_country = users[users[\"developed_country\"] == 1][\"user_id\"].tolist()\n",
    "\n",
    "with connection:\n",
    "    with connection.cursor() as cursor:\n",
    "        cursor.execute(\"\"\"select q_a.parent_id, count(*) as answers\n",
    "                            FROM posts_19 q_a\n",
    "                            JOIN users u ON q_a.owner_user_id=u.id\n",
    "                            where q_a.parent_id in %s\n",
    "                            AND u.id in %s\n",
    "                            group by q_a.parent_id\"\"\",\n",
    "                       (tuple(posts_ids), tuple(users_dev_country)))\n",
    "        q_answers_dev_country = cursor.fetchall()\n",
    "q_answers_dev_country = {q_id: answers for q_id, answers in q_answers_dev_country}"
   ]
  },
  {
   "cell_type": "code",
   "execution_count": null,
   "id": "53397493",
   "metadata": {},
   "outputs": [],
   "source": [
    "users_no_dev_country = users[users[\"developed_country\"] == 0][\"user_id\"].tolist()\n",
    "\n",
    "with connection:\n",
    "    with connection.cursor() as cursor:\n",
    "        cursor.execute(\"\"\"select q_a.parent_id, count(*) as answers\n",
    "                            FROM posts_19 q_a\n",
    "                            JOIN users u ON q_a.owner_user_id=u.id\n",
    "                            where q_a.parent_id in %s\n",
    "                            AND u.id in %s\n",
    "                            group by q_a.parent_id\"\"\",\n",
    "                                (tuple(posts_ids), tuple(users_no_dev_country)))\n",
    "        q_answers_no_dev_country = cursor.fetchall()\n",
    "q_answers_no_dev_country = {q_id: answers for q_id, answers in q_answers_no_dev_country}"
   ]
  },
  {
   "cell_type": "code",
   "execution_count": null,
   "id": "2eeba7c3",
   "metadata": {},
   "outputs": [],
   "source": []
  },
  {
   "cell_type": "code",
   "execution_count": 39,
   "id": "06fcea46",
   "metadata": {},
   "outputs": [
    {
     "data": {
      "text/html": [
       "<div>\n",
       "<style scoped>\n",
       "    .dataframe tbody tr th:only-of-type {\n",
       "        vertical-align: middle;\n",
       "    }\n",
       "\n",
       "    .dataframe tbody tr th {\n",
       "        vertical-align: top;\n",
       "    }\n",
       "\n",
       "    .dataframe thead th {\n",
       "        text-align: right;\n",
       "    }\n",
       "</style>\n",
       "<table border=\"1\" class=\"dataframe\">\n",
       "  <thead>\n",
       "    <tr style=\"text-align: right;\">\n",
       "      <th></th>\n",
       "      <th>value</th>\n",
       "      <th>dev</th>\n",
       "    </tr>\n",
       "  </thead>\n",
       "  <tbody>\n",
       "    <tr>\n",
       "      <th>0</th>\n",
       "      <td>1</td>\n",
       "      <td>0</td>\n",
       "    </tr>\n",
       "    <tr>\n",
       "      <th>1</th>\n",
       "      <td>2</td>\n",
       "      <td>0</td>\n",
       "    </tr>\n",
       "    <tr>\n",
       "      <th>2</th>\n",
       "      <td>2</td>\n",
       "      <td>0</td>\n",
       "    </tr>\n",
       "    <tr>\n",
       "      <th>3</th>\n",
       "      <td>2</td>\n",
       "      <td>0</td>\n",
       "    </tr>\n",
       "    <tr>\n",
       "      <th>4</th>\n",
       "      <td>2</td>\n",
       "      <td>0</td>\n",
       "    </tr>\n",
       "  </tbody>\n",
       "</table>\n",
       "</div>"
      ],
      "text/plain": [
       "   value  dev\n",
       "0      1    0\n",
       "1      2    0\n",
       "2      2    0\n",
       "3      2    0\n",
       "4      2    0"
      ]
     },
     "execution_count": 39,
     "metadata": {},
     "output_type": "execute_result"
    }
   ],
   "source": [
    "no_dev_df = pd.DataFrame(list(q_answers_no_dev_country.values()), columns=[\"value\"])\n",
    "no_dev_df[\"dev\"] = 0\n",
    "dev_df = pd.DataFrame(list(q_answers_dev_country.values()), columns=[\"value\"])\n",
    "dev_df[\"dev\"] = 1\n",
    "\n",
    "base_count_df = pd.concat([no_dev_df, dev_df])\n",
    "base_count_df.head()"
   ]
  },
  {
   "cell_type": "code",
   "execution_count": 42,
   "id": "b3fb2094",
   "metadata": {},
   "outputs": [
    {
     "data": {
      "text/plain": [
       "<Axes: xlabel='value', ylabel='count'>"
      ]
     },
     "execution_count": 42,
     "metadata": {},
     "output_type": "execute_result"
    },
    {
     "data": {
      "image/png": "[encoded data removed]",
      "text/plain": [
       "<Figure size 640x480 with 1 Axes>"
      ]
     },
     "metadata": {},
     "output_type": "display_data"
    }
   ],
   "source": [
    "sns.countplot(base_count_df,x=\"value\",hue=\"dev\")"
   ]
  },
  {
   "cell_type": "code",
   "execution_count": null,
   "id": "5c543600-2146-4f3c-ab9e-e33a0ddaab02",
   "metadata": {},
   "outputs": [],
   "source": []
  },
  {
   "cell_type": "code",
   "execution_count": null,
   "id": "267964df",
   "metadata": {},
   "outputs": [],
   "source": [
    "top_k = range(0, 101, 2)\n",
    "\n",
    "dev_dataset = full_dataset[full_dataset[\"developed_country\"] == 1]\n",
    "no_dev_dataset = full_dataset[full_dataset[\"developed_country\"] == 0]\n",
    "\n",
    "dev_mean_recall = []\n",
    "no_dev_mean_recall = []\n",
    "for k in top_k:    \n",
    "    dev_recall = (dev_dataset[[\"is_answer\", \"q_id\", \"idx\"]]\n",
    "        .groupby(\"q_id\")\n",
    "        .apply(\n",
    "            lambda x: (\n",
    "                x[x[\"idx\"] <= k][\"is_answer\"].sum()\n",
    "            )\n",
    "        )\n",
    "        .dropna())\n",
    "    dev_mean_recall.append(dev_recall.sum())\n",
    "    \n",
    "    \n",
    "    no_dev_recall = (no_dev_dataset[[\"is_answer\", \"q_id\", \"idx\"]]\n",
    "        .groupby(\"q_id\")\n",
    "        .apply(\n",
    "            lambda x: (\n",
    "                x[x[\"idx\"] <= k][\"is_answer\"].sum()\n",
    "            )\n",
    "        )\n",
    "        .dropna()\n",
    "    )\n",
    "    no_dev_mean_recall.append(no_dev_recall.sum())\n",
    "    "
   ]
  },
  {
   "cell_type": "code",
   "execution_count": 45,
   "id": "ee76f3d3",
   "metadata": {},
   "outputs": [
    {
     "data": {
      "image/png": "[encoded data removed]",
      "text/plain": [
       "<Figure size 640x480 with 1 Axes>"
      ]
     },
     "metadata": {},
     "output_type": "display_data"
    }
   ],
   "source": [
    "fig, ax1 = plt.subplots()\n",
    "\n",
    "color = \"tab:red\"\n",
    "ax1.set_xlabel(\"k\")\n",
    "ax1.set_ylabel(\"$P[\\widehat{A}=True|A=True \\land C=x]$\")\n",
    "ax1.plot(top_k, dev_mean_recall, color=color, label=\"$x=IDH^+$\")\n",
    "ax1.plot(top_k, no_dev_mean_recall, color=\"tab:blue\", label=\"$x=IDH^-$\")\n",
    "ax1.legend(loc=\"upper left\")\n",
    "\n",
    "fig.tight_layout()"
   ]
  },
  {
   "cell_type": "code",
   "execution_count": null,
   "id": "3f030c60",
   "metadata": {},
   "outputs": [],
   "source": []
  },
  {
   "cell_type": "code",
   "execution_count": 47,
   "id": "3dcdb534-b18d-4976-9142-71c62ecd9055",
   "metadata": {},
   "outputs": [],
   "source": [
    "top_k = range(0, 101, 2)\n",
    "\n",
    "dev_dataset = full_dataset[full_dataset[\"developed_country\"] == 1]\n",
    "no_dev_dataset = full_dataset[full_dataset[\"developed_country\"] == 0]\n",
    "\n",
    "dev_mean_recall = []\n",
    "no_dev_mean_recall = []\n",
    "for k in top_k:    \n",
    "    dev_recall = (dev_dataset[[\"is_answer\", \"q_id\", \"idx\"]]\n",
    "        .groupby(\"q_id\")\n",
    "        .apply(\n",
    "            lambda x: (\n",
    "                x[x[\"idx\"] <= k][\"is_answer\"].sum()\n",
    "                / q_answers_dev_country[x[\"q_id\"].iloc[0]]\n",
    "                if x[\"q_id\"].iloc[0] in q_answers_dev_country\n",
    "                else np.NaN\n",
    "            )\n",
    "        )\n",
    "        .dropna())\n",
    "    dev_mean_recall.append(dev_recall.mean())\n",
    "    \n",
    "    \n",
    "    no_dev_recall = (no_dev_dataset[[\"is_answer\", \"q_id\", \"idx\"]]\n",
    "        .groupby(\"q_id\")\n",
    "        .apply(\n",
    "            lambda x: (\n",
    "                x[x[\"idx\"] <= k][\"is_answer\"].sum()\n",
    "                / q_answers_no_dev_country[x[\"q_id\"].iloc[0]]\n",
    "                if x[\"q_id\"].iloc[0] in q_answers_no_dev_country\n",
    "                else np.NaN\n",
    "            )\n",
    "        )\n",
    "        .dropna()\n",
    "    )\n",
    "    no_dev_mean_recall.append(no_dev_recall.mean())\n",
    "    "
   ]
  },
  {
   "cell_type": "code",
   "execution_count": 48,
   "id": "fe4e3a02-fbe7-4c49-b2b5-c8b368cc1f1f",
   "metadata": {
    "scrolled": true
   },
   "outputs": [
    {
     "data": {
      "image/png": "[encoded data removed]",
      "text/plain": [
       "<Figure size 640x480 with 1 Axes>"
      ]
     },
     "metadata": {},
     "output_type": "display_data"
    }
   ],
   "source": [
    "fig, ax1 = plt.subplots()\n",
    "\n",
    "color = \"tab:red\"\n",
    "ax1.set_xlabel(\"k\")\n",
    "ax1.set_ylabel(\"$P[\\widehat{A}=True|A=True \\land C=x]$\")\n",
    "ax1.plot(top_k, dev_mean_recall, color=color, label=\"$x=IDH^+$\")\n",
    "ax1.plot(top_k, no_dev_mean_recall, color=\"tab:blue\", label=\"$x=IDH^-$\")\n",
    "ax1.set_ylim(0, 0.07)\n",
    "ax1.legend(loc=\"upper left\")\n",
    "\n",
    "fig.tight_layout()\n",
    "fig.savefig(\"recall_mean_after.pdf\")"
   ]
  },
  {
   "cell_type": "code",
   "execution_count": null,
   "id": "b89f6c87-ebe9-4386-a9ba-215fe1996b20",
   "metadata": {},
   "outputs": [],
   "source": []
  },
  {
   "cell_type": "code",
   "execution_count": 49,
   "id": "d36386bb-de50-4ee4-818b-220953455b5a",
   "metadata": {},
   "outputs": [
    {
     "name": "stderr",
     "output_type": "stream",
     "text": [
      "No artists with labels found to put in legend.  Note that artists whose label start with an underscore are ignored when legend() is called with no argument.\n"
     ]
    },
    {
     "data": {
      "image/png": "[encoded data removed]",
      "text/plain": [
       "<Figure size 640x480 with 1 Axes>"
      ]
     },
     "metadata": {},
     "output_type": "display_data"
    }
   ],
   "source": [
    "fig, ax1 = plt.subplots()\n",
    "\n",
    "dev_mean_recall_difference = [np.absolute(k_dev_mean_recall - k_no_dev_mean_recall)\n",
    "                             for k_dev_mean_recall, k_no_dev_mean_recall\n",
    "                             in zip(dev_mean_recall, no_dev_mean_recall)]\n",
    "color = \"black\"\n",
    "ax1.set_xlabel(\"k\")\n",
    "ax1.set_ylabel(\"mean recall difference per question\")\n",
    "ax1.plot(top_k, dev_mean_recall_difference, color=color)\n",
    "ax1.set_ylim(0, 0.02)\n",
    "ax1.legend()\n",
    "\n",
    "fig.tight_layout()\n",
    "fig.savefig(\"recall_difference_after.pdf\")"
   ]
  },
  {
   "cell_type": "code",
   "execution_count": 51,
   "id": "b2c95df6-350d-4674-98ff-dbb2d7a33227",
   "metadata": {},
   "outputs": [
    {
     "name": "stdout",
     "output_type": "stream",
     "text": [
      "The mean recall in high HDI countries in the top 20 is 0.012344571975131516\n",
      "The mean recall in low HDI countries in the top 20 is 0.005405084343074363\n",
      "The mean recall difference in low HDI countries vs high HDIin the top 20 is 0.0069394876320571525\n",
      "The mean recall in high HDI countries in the top 60 is 0.034552845528455285\n",
      "The mean recall in low HDI countries in the top 60 is 0.0353528153955809\n",
      "The mean recall difference in low HDI countries vs high HDIin the top 60 is 0.000799969867125612\n",
      "The mean recall in high HDI countries in the top 100 is 0.05015542802486848\n",
      "The mean recall in low HDI countries in the top 100 is 0.05049893086243763\n",
      "The mean recall difference in low HDI countries vs high HDIin the top 100 is 0.0003435028375691554\n"
     ]
    }
   ],
   "source": [
    "for k in (20, 60, 100):\n",
    "    print(f\"The mean recall in high HDI countries in the top {top_k[k//2]} \"\n",
    "          f\"is {dev_mean_recall[k//2]}\")\n",
    "    print(f\"The mean recall in low HDI countries in the top {top_k[k//2]} \"\n",
    "          f\"is {no_dev_mean_recall[k//2]}\")\n",
    "    print(\"The mean recall difference in low HDI countries vs high HDI\"\n",
    "          f\"in the top {top_k[k//2]} \"\n",
    "          f\"is {dev_mean_recall_difference[k//2]}\")"
   ]
  },
  {
   "cell_type": "code",
   "execution_count": 52,
   "id": "80d70140-af54-4e94-9343-38d795660738",
   "metadata": {},
   "outputs": [
    {
     "name": "stdout",
     "output_type": "stream",
     "text": [
      "The maximum difference in recall is in k 26 with 0.009905308976153784\n"
     ]
    }
   ],
   "source": [
    "max_difference_index = 13\n",
    "print(f\"The maximum difference in recall is in k {top_k[max_difference_index]} \"\n",
    "      f\"with {dev_mean_recall_difference[max_difference_index]}\")"
   ]
  },
  {
   "cell_type": "code",
   "execution_count": 53,
   "id": "4ace3212-e3bd-4b0f-9c83-85540f341781",
   "metadata": {},
   "outputs": [],
   "source": [
    "with connection:\n",
    "    with connection.cursor() as cursor:\n",
    "        cursor.execute(\n",
    "            \"\"\"SELECT q_a.parent_id, count(*) as answers\n",
    "                FROM posts_19 q_a\n",
    "                JOIN users u ON q_a.owner_user_id=u.id\n",
    "                where q_a.parent_id in %s\n",
    "                group by q_a.parent_id, u.high_hdi\"\"\",\n",
    "            (tuple(posts_ids),),\n",
    "        )\n",
    "        q_answers_result = cursor.fetchall()\n",
    "\n",
    "q_answers = {q_id: count_answers for q_id, count_answers in q_answers_result}"
   ]
  },
  {
   "cell_type": "code",
   "execution_count": 54,
   "id": "90f12f5f-f9e8-46c2-8e42-7b1bd7e7e440",
   "metadata": {},
   "outputs": [],
   "source": [
    "top_k = range(0, 101)\n",
    "\n",
    "mean_recall = []\n",
    "for k in top_k:    \n",
    "    k_recall = (full_dataset[[\"is_answer\", \"q_id\", \"idx\"]]\n",
    "        .groupby(\"q_id\")\n",
    "        .apply(\n",
    "            lambda x: (\n",
    "                x[x[\"idx\"] <= k][\"is_answer\"].sum()\n",
    "                / q_answers[x[\"q_id\"].iloc[0]]\n",
    "                if x[\"q_id\"].iloc[0] in q_answers\n",
    "                else np.NaN\n",
    "            )\n",
    "        )\n",
    "        .dropna())\n",
    "    mean_recall.append(k_recall.mean())\n",
    "\n"
   ]
  },
  {
   "cell_type": "code",
   "execution_count": 55,
   "id": "afb75c0e-f8f6-4ce4-834a-db031e5c03e5",
   "metadata": {},
   "outputs": [
    {
     "data": {
      "image/png": "[encoded data removed]",
      "text/plain": [
       "<Figure size 640x480 with 1 Axes>"
      ]
     },
     "metadata": {},
     "output_type": "display_data"
    }
   ],
   "source": [
    "fig, ax1 = plt.subplots()\n",
    "\n",
    "color = \"black\"\n",
    "ax1.set_xlabel(\"k\")\n",
    "ax1.set_ylabel(\"$P[\\widehat{A}=True|A=True]$\")\n",
    "ax1.plot(top_k, mean_recall, color=color)\n",
    "ax1.set_ylim(0, 0.08)\n",
    "ax1.grid()\n",
    "\n",
    "fig.tight_layout()\n",
    "fig.savefig(\"recall_mean_after_all.pdf\")"
   ]
  },
  {
   "cell_type": "code",
   "execution_count": null,
   "id": "a5e43bc8-7428-438d-9531-8dd690d75f7a",
   "metadata": {},
   "outputs": [],
   "source": []
  }
 ],
 "metadata": {
  "kernelspec": {
   "display_name": "Python 3 (ipykernel)",
   "language": "python",
   "name": "python3"
  },
  "language_info": {
   "codemirror_mode": {
    "name": "ipython",
    "version": 3
   },
   "file_extension": ".py",
   "mimetype": "text/x-python",
   "name": "python",
   "nbconvert_exporter": "python",
   "pygments_lexer": "ipython3",
   "version": "3.10.12"
  }
 },
 "nbformat": 4,
 "nbformat_minor": 5
}
