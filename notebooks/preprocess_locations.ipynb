{
 "cells": [
  {
   "cell_type": "code",
   "execution_count": 593,
   "metadata": {},
   "outputs": [],
   "source": [
    "import psycopg2\n",
    "import pandas as pd\n",
    "import re\n",
    "from multiprocessing import Pool\n",
    "import matplotlib.pyplot as plt\n",
    "plt.rcParams['figure.figsize'] = [10, 6]"
   ]
  },
  {
   "cell_type": "code",
   "execution_count": 3,
   "metadata": {},
   "outputs": [],
   "source": [
    "connection = psycopg2.connect(user=\"postgres\", password=\"postgres\", host=\"127.0.0.1\", port=\"54320\", database=\"stack_overflow\")"
   ]
  },
  {
   "cell_type": "code",
   "execution_count": 565,
   "metadata": {},
   "outputs": [],
   "source": [
    "with connection.cursor() as cursor:\n",
    "    cursor.execute(\"select location from users where location is not null;\")\n",
    "    locations = cursor.fetchall()\n",
    "    locations = [l[0] for l in locations]"
   ]
  },
  {
   "cell_type": "code",
   "execution_count": 566,
   "metadata": {},
   "outputs": [
    {
     "data": {
      "text/plain": [
       "(4096670, ['London, United Kingdom', 'Jerusalem, Israel'])"
      ]
     },
     "execution_count": 566,
     "metadata": {},
     "output_type": "execute_result"
    }
   ],
   "source": [
    "len(locations), locations[:2]"
   ]
  },
  {
   "cell_type": "markdown",
   "metadata": {},
   "source": [
    "The following dataframes are created with the cities5000.txt and countryInfo.txt files from https://download.geonames.org/export/dump/"
   ]
  },
  {
   "cell_type": "code",
   "execution_count": 567,
   "metadata": {},
   "outputs": [
    {
     "data": {
      "text/html": [
       "<div>\n",
       "<style scoped>\n",
       "    .dataframe tbody tr th:only-of-type {\n",
       "        vertical-align: middle;\n",
       "    }\n",
       "\n",
       "    .dataframe tbody tr th {\n",
       "        vertical-align: top;\n",
       "    }\n",
       "\n",
       "    .dataframe thead th {\n",
       "        text-align: right;\n",
       "    }\n",
       "</style>\n",
       "<table border=\"1\" class=\"dataframe\">\n",
       "  <thead>\n",
       "    <tr style=\"text-align: right;\">\n",
       "      <th></th>\n",
       "      <th>1</th>\n",
       "      <th>2</th>\n",
       "      <th>3</th>\n",
       "      <th>8</th>\n",
       "    </tr>\n",
       "  </thead>\n",
       "  <tbody>\n",
       "    <tr>\n",
       "      <th>0</th>\n",
       "      <td>Sant Julià de Lòria</td>\n",
       "      <td>Sant Julia de Loria</td>\n",
       "      <td>San Julia,San Julià,Sant Julia de Loria,Sant J...</td>\n",
       "      <td>AD</td>\n",
       "    </tr>\n",
       "    <tr>\n",
       "      <th>1</th>\n",
       "      <td>Ordino</td>\n",
       "      <td>Ordino</td>\n",
       "      <td>Ordino,ao er di nuo,orudino jiao qu,Ордино,オルデ...</td>\n",
       "      <td>AD</td>\n",
       "    </tr>\n",
       "  </tbody>\n",
       "</table>\n",
       "</div>"
      ],
      "text/plain": [
       "                     1                    2  \\\n",
       "0  Sant Julià de Lòria  Sant Julia de Loria   \n",
       "1               Ordino               Ordino   \n",
       "\n",
       "                                                   3   8  \n",
       "0  San Julia,San Julià,Sant Julia de Loria,Sant J...  AD  \n",
       "1  Ordino,ao er di nuo,orudino jiao qu,Ордино,オルデ...  AD  "
      ]
     },
     "execution_count": 567,
     "metadata": {},
     "output_type": "execute_result"
    }
   ],
   "source": [
    "cities_df = pd.read_csv(\"cities5000.txt\", delimiter=\"\\t\", header=None, usecols=[1,2,3,8])\n",
    "cities_df.head(2)"
   ]
  },
  {
   "cell_type": "code",
   "execution_count": 568,
   "metadata": {},
   "outputs": [
    {
     "data": {
      "text/html": [
       "<div>\n",
       "<style scoped>\n",
       "    .dataframe tbody tr th:only-of-type {\n",
       "        vertical-align: middle;\n",
       "    }\n",
       "\n",
       "    .dataframe tbody tr th {\n",
       "        vertical-align: top;\n",
       "    }\n",
       "\n",
       "    .dataframe thead th {\n",
       "        text-align: right;\n",
       "    }\n",
       "</style>\n",
       "<table border=\"1\" class=\"dataframe\">\n",
       "  <thead>\n",
       "    <tr style=\"text-align: right;\">\n",
       "      <th></th>\n",
       "      <th>ISO</th>\n",
       "      <th>Country</th>\n",
       "    </tr>\n",
       "  </thead>\n",
       "  <tbody>\n",
       "    <tr>\n",
       "      <th>0</th>\n",
       "      <td>AD</td>\n",
       "      <td>Andorra</td>\n",
       "    </tr>\n",
       "    <tr>\n",
       "      <th>1</th>\n",
       "      <td>AE</td>\n",
       "      <td>United Arab Emirates</td>\n",
       "    </tr>\n",
       "  </tbody>\n",
       "</table>\n",
       "</div>"
      ],
      "text/plain": [
       "  ISO               Country\n",
       "0  AD               Andorra\n",
       "1  AE  United Arab Emirates"
      ]
     },
     "execution_count": 568,
     "metadata": {},
     "output_type": "execute_result"
    }
   ],
   "source": [
    "countries_df = pd.read_csv(\"countryInfo.txt\", delimiter=\"\\t\", usecols=[\"ISO\", \"Country\"])\n",
    "countries_df.head(2)"
   ]
  },
  {
   "cell_type": "code",
   "execution_count": 569,
   "metadata": {},
   "outputs": [],
   "source": [
    "cities_df = cities_df.join(countries_df.set_index('ISO'), on=8)"
   ]
  },
  {
   "cell_type": "code",
   "execution_count": 570,
   "metadata": {},
   "outputs": [],
   "source": [
    "cc_delim_begin = r\"\\b(\" \n",
    "cc_delim_end = r\")\\b\"\n",
    "\n",
    "cities_df[1]=cities_df[1].str.lower()\n",
    "cities_df[2]=cities_df[2].str.lower()\n",
    "\n",
    "countries_names = re.compile(cc_delim_begin+ \"|\".join(cities_df[\"Country\"].unique()) + cc_delim_end, re.IGNORECASE)\n",
    "cities_names_1 = re.compile(cc_delim_begin+ \"|\".join(cities_df[1].apply(lambda x: re.escape(x))) + cc_delim_end, re.IGNORECASE)\n",
    "cities_names_2 = re.compile(cc_delim_begin+\"|\".join(cities_df[~cities_df[2].isna()][2].apply(lambda x: re.escape(x))) + cc_delim_end, re.IGNORECASE)"
   ]
  },
  {
   "cell_type": "code",
   "execution_count": 571,
   "metadata": {},
   "outputs": [],
   "source": [
    "country_regex = cities_df[[\"Country\", 3]].dropna()\n",
    "country_regex[3] = country_regex[3].apply(lambda x: re.escape(x))\n",
    "country_regex[3] = cc_delim_begin+ country_regex[3].str.replace(\",\", \"|\") +cc_delim_end\n",
    "country_regex = country_regex.values"
   ]
  },
  {
   "cell_type": "code",
   "execution_count": 572,
   "metadata": {},
   "outputs": [],
   "source": [
    "country_regex = [(c, re.compile(r, re.IGNORECASE)) for c, r in country_regex]"
   ]
  },
  {
   "cell_type": "code",
   "execution_count": 575,
   "metadata": {},
   "outputs": [],
   "source": [
    "def search_country(loc_text):\n",
    "    try:\n",
    "        country_match = countries_names.search(loc_text)\n",
    "        if country_match is not None:\n",
    "            return (loc_text, country_match.group(0))\n",
    "            \n",
    "        city_match = cities_names_1.search(loc_text)\n",
    "        if city_match is not None:\n",
    "            return (loc_text, cities_df[cities_df[1] == city_match.group(1).lower()][\"Country\"].iloc[0])\n",
    "\n",
    "        city_match = cities_names_2.search(loc_text)\n",
    "        if city_match is not None:\n",
    "            return (loc_text, cities_df[cities_df[2] == city_match.group(1).lower()][\"Country\"].iloc[0])\n",
    "            \n",
    "        for country, c_regex in country_regex:\n",
    "            if c_regex.search(loc_text) is not None:\n",
    "                return (loc_text, country)\n",
    "        return (loc_text, None)\n",
    "    except:\n",
    "        return (loc_text, \"Error\")"
   ]
  },
  {
   "cell_type": "code",
   "execution_count": 576,
   "metadata": {},
   "outputs": [],
   "source": [
    "with Pool(8) as p:\n",
    "    maped_countries = p.map(search_country, locations)"
   ]
  },
  {
   "cell_type": "code",
   "execution_count": 578,
   "metadata": {},
   "outputs": [],
   "source": [
    "maped_countries = pd.DataFrame(maped_countries, columns =['location', 'country'])"
   ]
  },
  {
   "cell_type": "code",
   "execution_count": 583,
   "metadata": {},
   "outputs": [
    {
     "name": "stdout",
     "output_type": "stream",
     "text": [
      "Total locations: 4096670\n",
      "Locations without match: 208567\n",
      "Errors during matching: 12566\n"
     ]
    }
   ],
   "source": [
    "print(\"Total locations:\", len(maped_countries))\n",
    "print(\"Locations without match:\", maped_countries[\"country\"].isna().sum())\n",
    "print(\"Errors during matching:\", (maped_countries[\"country\"]==\"Error\").sum())"
   ]
  },
  {
   "cell_type": "code",
   "execution_count": 581,
   "metadata": {},
   "outputs": [
    {
     "data": {
      "text/plain": [
       "India             710832\n",
       "United States     506019\n",
       "United Kingdom    164877\n",
       "Canada            149501\n",
       "Germany           131894\n",
       "Australia         113345\n",
       "Brazil            107610\n",
       "China             106541\n",
       "France             84867\n",
       "Pakistan           80377\n",
       "Name: country, dtype: int64"
      ]
     },
     "execution_count": 581,
     "metadata": {},
     "output_type": "execute_result"
    }
   ],
   "source": [
    "maped_countries[\"country\"].value_counts()[:10]"
   ]
  },
  {
   "cell_type": "code",
   "execution_count": 594,
   "metadata": {},
   "outputs": [
    {
     "data": {
      "text/plain": [
       "<AxesSubplot:>"
      ]
     },
     "execution_count": 594,
     "metadata": {},
     "output_type": "execute_result"
    },
    {
     "data": {
      "image/png": "[encoded data removed]",
      "text/plain": [
       "<Figure size 1000x600 with 1 Axes>"
      ]
     },
     "metadata": {},
     "output_type": "display_data"
    }
   ],
   "source": [
    "maped_countries[\"country\"].value_counts()[:20].plot(kind=\"bar\")"
   ]
  },
  {
   "cell_type": "code",
   "execution_count": 595,
   "metadata": {},
   "outputs": [
    {
     "data": {
      "text/plain": [
       "India             0.182822\n",
       "United States     0.130145\n",
       "United Kingdom    0.042406\n",
       "Canada            0.038451\n",
       "Germany           0.033922\n",
       "Australia         0.029152\n",
       "Brazil            0.027677\n",
       "China             0.027402\n",
       "France            0.021827\n",
       "Pakistan          0.020673\n",
       "Name: country, dtype: float64"
      ]
     },
     "execution_count": 595,
     "metadata": {},
     "output_type": "execute_result"
    }
   ],
   "source": [
    "maped_countries[\"country\"].value_counts(normalize=True)[:10]"
   ]
  },
  {
   "cell_type": "code",
   "execution_count": null,
   "metadata": {},
   "outputs": [],
   "source": []
  }
 ],
 "metadata": {
  "kernelspec": {
   "display_name": "Python 3.10.6 64-bit ('ardudor_sv')",
   "language": "python",
   "name": "python3"
  },
  "language_info": {
   "codemirror_mode": {
    "name": "ipython",
    "version": 3
   },
   "file_extension": ".py",
   "mimetype": "text/x-python",
   "name": "python",
   "nbconvert_exporter": "python",
   "pygments_lexer": "ipython3",
   "version": "3.10.6"
  },
  "orig_nbformat": 4,
  "vscode": {
   "interpreter": {
    "hash": "bc522436dc25287a87f3a4a1f5a99587c3a6afd07b9a421f82d1fc78c3b5addf"
   }
  }
 },
 "nbformat": 4,
 "nbformat_minor": 2
}
