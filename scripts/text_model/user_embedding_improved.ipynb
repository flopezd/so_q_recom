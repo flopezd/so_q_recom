{
 "cells": [
  {
   "cell_type": "code",
   "execution_count": 60,
   "id": "01833529-d4fb-4515-a227-734291cba313",
   "metadata": {},
   "outputs": [],
   "source": [
    "import tensorflow as tf\n",
    "import tensorflow.keras.backend as K\n",
    "import numpy as np\n",
    "from sklearn import preprocessing\n",
    "import pandas as pd\n",
    "import psycopg2\n",
    "import faiss\n",
    "import matplotlib.pyplot as plt\n",
    "from sklearn.model_selection import train_test_split\n",
    "from gensim.models.doc2vec import Doc2Vec\n",
    "from gensim.utils import simple_preprocess\n",
    "from psycopg2.extras import execute_values\n",
    "import pickle\n",
    "from tensorflow.keras.utils import plot_model\n",
    "from faiss import write_index\n",
    "import matplotlib as mpl\n",
    "\n",
    "params = {'legend.fontsize': 10,\n",
    "         'axes.labelsize': 10,\n",
    "         'xtick.labelsize':10,\n",
    "         'ytick.labelsize':10,\n",
    "         'axes.grid':True}\n",
    "mpl.rcParams.update(params)"
   ]
  },
  {
   "cell_type": "markdown",
   "id": "407b2a87-569f-4f79-89db-f05c5607f57c",
   "metadata": {},
   "source": [
    "# Load question embeddings"
   ]
  },
  {
   "cell_type": "code",
   "execution_count": 13,
   "id": "9c02f776-00b5-4219-8e36-9f3f0df60b85",
   "metadata": {},
   "outputs": [],
   "source": [
    "question_embeddings_model = Doc2Vec.load(\"python.doc\")"
   ]
  },
  {
   "cell_type": "markdown",
   "id": "4e6df365-64ae-4442-914b-08f02c969b13",
   "metadata": {},
   "source": [
    "# Create Dataset"
   ]
  },
  {
   "cell_type": "code",
   "execution_count": 14,
   "id": "24955b06-e08f-4c66-8039-f0930ef771ed",
   "metadata": {},
   "outputs": [],
   "source": [
    "connection = psycopg2.connect(\n",
    "    user=\"postgres\",\n",
    "    password=\"postgres\",\n",
    "    host=\"127.0.0.1\",\n",
    "    port=\"54320\",\n",
    "    database=\"stack_overflow\",\n",
    ")"
   ]
  },
  {
   "cell_type": "code",
   "execution_count": 15,
   "id": "2c157046-f171-4fad-a6bc-4e19ac7fb2d3",
   "metadata": {},
   "outputs": [],
   "source": [
    "tag = \"python\"\n",
    "until_date = \"2022-01-01\"\n",
    "# answers_samples = 12000\n",
    "not_answers_samples = 2000000"
   ]
  },
  {
   "cell_type": "code",
   "execution_count": 16,
   "id": "698012da-b32b-4961-bc04-919042a7a4e4",
   "metadata": {},
   "outputs": [
    {
     "data": {
      "text/plain": [
       "[(1124030,)]"
      ]
     },
     "execution_count": 16,
     "metadata": {},
     "output_type": "execute_result"
    }
   ],
   "source": [
    "with connection:\n",
    "    with connection.cursor() as cursor:\n",
    "        cursor.execute(\n",
    "            f\"\"\"select count(1)\n",
    "        from posts_19 p\n",
    "        join posts_19_tags pt on pt.post_id=p.id\n",
    "        join tags t on pt.tag_id=t.id\n",
    "        join posts_19 q_a ON q_a.parent_id = p.id\n",
    "        where p.body_text is not null\n",
    "        and p.post_type_id=1 \n",
    "        and q_a.post_type_id=2 \n",
    "        and p.creation_date < '{until_date}'\n",
    "        and t.tag_name = '{tag}'\"\"\"\n",
    "        )\n",
    "        total_answers = cursor.fetchall()\n",
    "total_answers"
   ]
  },
  {
   "cell_type": "code",
   "execution_count": 17,
   "id": "9a9f3777-6b92-4e95-b553-4fbdeda65f9a",
   "metadata": {},
   "outputs": [],
   "source": [
    "with connection:\n",
    "    with connection.cursor() as cursor:\n",
    "        cursor.execute(\n",
    "            f\"\"\"select p.id, q_a.owner_user_id\n",
    "                    from posts_19 p\n",
    "                    join posts_19_tags pt on pt.post_id=p.id\n",
    "                    join tags t on pt.tag_id=t.id\n",
    "                    join posts_19 q_a ON q_a.parent_id = p.id\n",
    "                    where p.body_text is not null\n",
    "                    and p.post_type_id=1 \n",
    "                    and q_a.post_type_id=2 \n",
    "                    and q_a.owner_user_id is not NULL\n",
    "                    and p.creation_date < '{until_date}'\n",
    "                    and t.tag_name = '{tag}'\n",
    "                    and p.id in %s\"\"\",\n",
    "            # limit {answers_samples}\"\"\",\n",
    "            (tuple(question_embeddings_model.dv.index_to_key),),\n",
    "        )\n",
    "        answers_dataset = pd.DataFrame(\n",
    "            cursor.fetchall(), columns=[\"question_id\", \"user_id\"]\n",
    "        )\n",
    "        answers_dataset[\"is_answer\"] = 1"
   ]
  },
  {
   "cell_type": "code",
   "execution_count": 18,
   "id": "8d3eb422-f6b4-4cc5-9352-cc1954e9146e",
   "metadata": {},
   "outputs": [
    {
     "data": {
      "text/plain": [
       "1114213"
      ]
     },
     "execution_count": 18,
     "metadata": {},
     "output_type": "execute_result"
    }
   ],
   "source": [
    "len(answers_dataset)"
   ]
  },
  {
   "cell_type": "code",
   "execution_count": 19,
   "id": "c0789904-5f64-4b18-be54-b7fab1da97d3",
   "metadata": {},
   "outputs": [],
   "source": [
    "with connection:\n",
    "    with connection.cursor() as cursor:\n",
    "        cursor.execute(\n",
    "            f\"\"\"select p.id, q_a.owner_user_id\n",
    "                from posts_19 q_a, posts_19 p\n",
    "                join posts_19_tags pt on pt.post_id=p.id\n",
    "                join tags t on pt.tag_id=t.id\n",
    "                where p.body_text is not null\n",
    "                and random() <= 0.001\n",
    "                and p.post_type_id=1\n",
    "                and q_a.post_type_id=2\n",
    "                and q_a.parent_id != p.id\n",
    "                and q_a.owner_user_id is not NULL\n",
    "                and p.creation_date < '{until_date}'\n",
    "                and t.tag_name = '{tag}'\n",
    "                and p.id in %s\n",
    "                limit {not_answers_samples}\"\"\",\n",
    "            (tuple(question_embeddings_model.dv.index_to_key),),\n",
    "        )\n",
    "        not_answers_dataset = pd.DataFrame(\n",
    "            cursor.fetchall(), columns=[\"question_id\", \"user_id\"]\n",
    "        )\n",
    "        not_answers_dataset[\"is_answer\"] = 0"
   ]
  },
  {
   "cell_type": "code",
   "execution_count": 20,
   "id": "3f272cbe-3101-419b-93c6-4474a8c4a9d4",
   "metadata": {},
   "outputs": [
    {
     "name": "stdout",
     "output_type": "stream",
     "text": [
      "3114213\n"
     ]
    },
    {
     "data": {
      "text/html": [
       "<div>\n",
       "<style scoped>\n",
       "    .dataframe tbody tr th:only-of-type {\n",
       "        vertical-align: middle;\n",
       "    }\n",
       "\n",
       "    .dataframe tbody tr th {\n",
       "        vertical-align: top;\n",
       "    }\n",
       "\n",
       "    .dataframe thead th {\n",
       "        text-align: right;\n",
       "    }\n",
       "</style>\n",
       "<table border=\"1\" class=\"dataframe\">\n",
       "  <thead>\n",
       "    <tr style=\"text-align: right;\">\n",
       "      <th></th>\n",
       "      <th>question_id</th>\n",
       "      <th>user_id</th>\n",
       "      <th>is_answer</th>\n",
       "    </tr>\n",
       "  </thead>\n",
       "  <tbody>\n",
       "    <tr>\n",
       "      <th>0</th>\n",
       "      <td>55641539</td>\n",
       "      <td>3443106</td>\n",
       "      <td>1</td>\n",
       "    </tr>\n",
       "    <tr>\n",
       "      <th>1</th>\n",
       "      <td>55641550</td>\n",
       "      <td>9161389</td>\n",
       "      <td>1</td>\n",
       "    </tr>\n",
       "    <tr>\n",
       "      <th>2</th>\n",
       "      <td>55641550</td>\n",
       "      <td>10317656</td>\n",
       "      <td>1</td>\n",
       "    </tr>\n",
       "    <tr>\n",
       "      <th>3</th>\n",
       "      <td>55660542</td>\n",
       "      <td>9273718</td>\n",
       "      <td>1</td>\n",
       "    </tr>\n",
       "    <tr>\n",
       "      <th>4</th>\n",
       "      <td>55642036</td>\n",
       "      <td>9462829</td>\n",
       "      <td>1</td>\n",
       "    </tr>\n",
       "  </tbody>\n",
       "</table>\n",
       "</div>"
      ],
      "text/plain": [
       "   question_id   user_id  is_answer\n",
       "0     55641539   3443106          1\n",
       "1     55641550   9161389          1\n",
       "2     55641550  10317656          1\n",
       "3     55660542   9273718          1\n",
       "4     55642036   9462829          1"
      ]
     },
     "execution_count": 20,
     "metadata": {},
     "output_type": "execute_result"
    }
   ],
   "source": [
    "dataset = pd.concat([answers_dataset, not_answers_dataset])\n",
    "\n",
    "print(len(dataset))\n",
    "dataset.head(5)"
   ]
  },
  {
   "cell_type": "code",
   "execution_count": 21,
   "id": "37501a62-914e-4e1b-9fe0-2e3794900803",
   "metadata": {},
   "outputs": [
    {
     "data": {
      "text/plain": [
       "(155711, 2958502)"
      ]
     },
     "execution_count": 21,
     "metadata": {},
     "output_type": "execute_result"
    }
   ],
   "source": [
    "test_size = 0.05\n",
    "\n",
    "trainset, testset = train_test_split(dataset, test_size=test_size, random_state=42)\n",
    "len(testset), len(trainset)"
   ]
  },
  {
   "cell_type": "markdown",
   "id": "10e1355d-14c1-444c-8814-feb55a79672f",
   "metadata": {},
   "source": [
    "## Encode answers, questions and users"
   ]
  },
  {
   "cell_type": "code",
   "execution_count": 22,
   "id": "cd24c78e-cb20-468f-a64f-0d41699256bd",
   "metadata": {},
   "outputs": [
    {
     "data": {
      "text/plain": [
       "253517"
      ]
     },
     "execution_count": 22,
     "metadata": {},
     "output_type": "execute_result"
    }
   ],
   "source": [
    "user_encoder = preprocessing.LabelEncoder()\n",
    "user_encoder.fit(dataset[\"user_id\"])\n",
    "users_train = user_encoder.transform(trainset[\"user_id\"])\n",
    "\n",
    "user_embedding_dim = 10\n",
    "total_users = len(user_encoder.classes_)\n",
    "total_users"
   ]
  },
  {
   "cell_type": "code",
   "execution_count": 23,
   "id": "0099ceda-db3e-4b1a-9d92-57f3ea5a09af",
   "metadata": {},
   "outputs": [
    {
     "data": {
      "text/plain": [
       "878637"
      ]
     },
     "execution_count": 23,
     "metadata": {},
     "output_type": "execute_result"
    }
   ],
   "source": [
    "question_encoder = preprocessing.LabelEncoder()\n",
    "question_encoder.fit(dataset[\"question_id\"])\n",
    "questions_train = question_encoder.transform(trainset[\"question_id\"])\n",
    "\n",
    "total_questions = len(question_encoder.classes_)\n",
    "total_questions"
   ]
  },
  {
   "cell_type": "code",
   "execution_count": 30,
   "id": "90bb8240-f7b4-479f-b1ca-dabee1f3bb00",
   "metadata": {},
   "outputs": [],
   "source": [
    "answer_distances_train = 2 * (1 - trainset[\"is_answer\"])"
   ]
  },
  {
   "cell_type": "markdown",
   "id": "c8250a0d-f592-45ee-b718-ffc2bd976317",
   "metadata": {},
   "source": [
    "# Create distance model"
   ]
  },
  {
   "cell_type": "code",
   "execution_count": 34,
   "id": "4048e01d-c248-443e-b8c0-3e2bf9e93831",
   "metadata": {},
   "outputs": [],
   "source": [
    "embedding_matrix = np.zeros(\n",
    "    (len(question_encoder.classes_), question_embeddings_model.dv.vector_size)\n",
    ")\n",
    "for idx, q_id in enumerate(question_encoder.classes_):\n",
    "    embedding_matrix[idx] = question_embeddings_model.dv[str(q_id)]"
   ]
  },
  {
   "cell_type": "code",
   "execution_count": 35,
   "id": "000c4ccf-c0d7-46b8-aaa9-29178c143fb3",
   "metadata": {},
   "outputs": [
    {
     "name": "stdout",
     "output_type": "stream",
     "text": [
      "Model: \"distance_model\"\n",
      "__________________________________________________________________________________________________\n",
      " Layer (type)                   Output Shape         Param #     Connected to                     \n",
      "==================================================================================================\n",
      " question_id (InputLayer)       [(None,)]            0           []                               \n",
      "                                                                                                  \n",
      " question_embedding (Embedding)  (None, 50)          43931850    ['question_id[0][0]']            \n",
      "                                                                                                  \n",
      " question_transform_l01 (Dense)  (None, 25)          1275        ['question_embedding[0][0]']     \n",
      "                                                                                                  \n",
      " question_transform_l02 (Dropou  (None, 25)          0           ['question_transform_l01[0][0]'] \n",
      " t)                                                                                               \n",
      "                                                                                                  \n",
      " user_id (InputLayer)           [(None,)]            0           []                               \n",
      "                                                                                                  \n",
      " question_in_user_dim (Dense)   (None, 10)           260         ['question_transform_l02[0][0]'] \n",
      "                                                                                                  \n",
      " normalized_user_embedding (Emb  (None, 10)          2535170     ['user_id[0][0]']                \n",
      " edding)                                                                                          \n",
      "                                                                                                  \n",
      " normalized_question_in_user_di  (None, 10)          0           ['question_in_user_dim[0][0]']   \n",
      " m (Lambda)                                                                                       \n",
      "                                                                                                  \n",
      " embeddings_difference (Subtrac  (None, 10)          0           ['normalized_user_embedding[0][0]\n",
      " t)                                                              ',                               \n",
      "                                                                  'normalized_question_in_user_dim\n",
      "                                                                 [0][0]']                         \n",
      "                                                                                                  \n",
      " embeddings_distance (Lambda)   (None,)              0           ['embeddings_difference[0][0]']  \n",
      "                                                                                                  \n",
      "==================================================================================================\n",
      "Total params: 46,468,555\n",
      "Trainable params: 2,536,705\n",
      "Non-trainable params: 43,931,850\n",
      "__________________________________________________________________________________________________\n"
     ]
    }
   ],
   "source": [
    "p_dropout = 0.3\n",
    "transformation_1l_neurons = 25\n",
    "\n",
    "user_id = tf.keras.layers.Input(shape=(), name=\"user_id\")\n",
    "normalized_user_embedding = tf.keras.layers.Embedding(\n",
    "    total_users,\n",
    "    user_embedding_dim,\n",
    "    embeddings_constraint=tf.keras.constraints.UnitNorm(axis=1),\n",
    "    trainable=True,\n",
    "    name=\"normalized_user_embedding\",\n",
    ")(user_id)\n",
    "\n",
    "question_id = tf.keras.layers.Input(shape=(), name=\"question_id\")\n",
    "question_embedding = tf.keras.layers.Embedding(\n",
    "    total_questions,\n",
    "    question_embeddings_model.dv.vector_size,\n",
    "    embeddings_initializer=tf.keras.initializers.Constant(embedding_matrix),\n",
    "    trainable=False,\n",
    "    name=\"question_embedding\",\n",
    ")(question_id)\n",
    "\n",
    "question_transform_l01 = tf.keras.layers.Dense(\n",
    "    transformation_1l_neurons, activation=\"sigmoid\", name=\"question_transform_l01\"\n",
    ")(question_embedding)\n",
    "question_transform_l02 = tf.keras.layers.Dropout(\n",
    "    p_dropout, name=\"question_transform_l02\"\n",
    ")(question_transform_l01)\n",
    "question_in_user_dim = tf.keras.layers.Dense(\n",
    "    user_embedding_dim, activation=\"tanh\", name=\"question_in_user_dim\"\n",
    ")(question_transform_l02)\n",
    "\n",
    "normalized_question_in_user_dim = tf.keras.layers.Lambda(\n",
    "    lambda x: K.l2_normalize(x, axis=1), name=\"normalized_question_in_user_dim\"\n",
    ")(question_in_user_dim)\n",
    "embeddings_difference = tf.keras.layers.Subtract(name=\"embeddings_difference\")(\n",
    "    [normalized_user_embedding, normalized_question_in_user_dim]\n",
    ")\n",
    "\n",
    "embeddings_distance = tf.keras.layers.Lambda(\n",
    "    lambda x: tf.norm(x, axis=1), name=\"embeddings_distance\"\n",
    ")(embeddings_difference)\n",
    "distance_model = tf.keras.models.Model(\n",
    "    inputs=[user_id, question_id], outputs=embeddings_distance, name=\"distance_model\"\n",
    ")\n",
    "distance_model.summary()"
   ]
  },
  {
   "cell_type": "code",
   "execution_count": 36,
   "id": "8d30dea3-a4f7-42e6-9626-e591acf0b072",
   "metadata": {},
   "outputs": [
    {
     "data": {
      "image/png": "[encoded data removed]",
      "text/plain": [
       "<IPython.core.display.Image object>"
      ]
     },
     "execution_count": 36,
     "metadata": {},
     "output_type": "execute_result"
    }
   ],
   "source": [
    "plot_model(distance_model)  # Include dims"
   ]
  },
  {
   "cell_type": "code",
   "execution_count": 37,
   "id": "05c54330-c613-4c13-a9f4-c09df4f99824",
   "metadata": {},
   "outputs": [],
   "source": [
    "distance_model.compile(optimizer=\"rmsprop\", loss=\"mse\")"
   ]
  },
  {
   "cell_type": "markdown",
   "id": "d8deadd3-136b-458f-a6a5-e0dfa6339aa3",
   "metadata": {},
   "source": [
    "## Fit distance model"
   ]
  },
  {
   "cell_type": "code",
   "execution_count": 38,
   "id": "24693970-a107-4d4a-848f-a47bf37d15d6",
   "metadata": {},
   "outputs": [
    {
     "name": "stdout",
     "output_type": "stream",
     "text": [
      "Epoch 1/30\n",
      "21958/21958 [==============================] - 267s 12ms/step - loss: 0.6095 - val_loss: 0.5207\n",
      "Epoch 2/30\n",
      "21958/21958 [==============================] - 267s 12ms/step - loss: 0.4918 - val_loss: 0.4692\n",
      "Epoch 3/30\n",
      "21958/21958 [==============================] - 269s 12ms/step - loss: 0.4489 - val_loss: 0.4372\n",
      "Epoch 4/30\n",
      "21958/21958 [==============================] - 271s 12ms/step - loss: 0.4197 - val_loss: 0.4144\n",
      "Epoch 5/30\n",
      "21958/21958 [==============================] - 261s 12ms/step - loss: 0.3975 - val_loss: 0.3966\n",
      "Epoch 6/30\n",
      "21958/21958 [==============================] - 262s 12ms/step - loss: 0.3797 - val_loss: 0.3821\n",
      "Epoch 7/30\n",
      "21958/21958 [==============================] - 262s 12ms/step - loss: 0.3646 - val_loss: 0.3697\n",
      "Epoch 8/30\n",
      "21958/21958 [==============================] - 252s 11ms/step - loss: 0.3515 - val_loss: 0.3595\n",
      "Epoch 9/30\n",
      "21958/21958 [==============================] - 252s 11ms/step - loss: 0.3400 - val_loss: 0.3499\n",
      "Epoch 10/30\n",
      "21958/21958 [==============================] - 251s 11ms/step - loss: 0.3297 - val_loss: 0.3418\n",
      "Epoch 11/30\n",
      "21958/21958 [==============================] - 253s 12ms/step - loss: 0.3204 - val_loss: 0.3344\n",
      "Epoch 12/30\n",
      "21958/21958 [==============================] - 253s 12ms/step - loss: 0.3120 - val_loss: 0.3276\n",
      "Epoch 13/30\n",
      "21958/21958 [==============================] - 253s 12ms/step - loss: 0.3042 - val_loss: 0.3216\n",
      "Epoch 14/30\n",
      "21958/21958 [==============================] - 252s 11ms/step - loss: 0.2971 - val_loss: 0.3159\n",
      "Epoch 15/30\n",
      "21958/21958 [==============================] - 253s 12ms/step - loss: 0.2905 - val_loss: 0.3106\n",
      "Epoch 16/30\n",
      "21958/21958 [==============================] - 252s 11ms/step - loss: 0.2843 - val_loss: 0.3059\n",
      "Epoch 17/30\n",
      "21958/21958 [==============================] - 253s 12ms/step - loss: 0.2785 - val_loss: 0.3014\n",
      "Epoch 18/30\n",
      "21958/21958 [==============================] - 253s 12ms/step - loss: 0.2731 - val_loss: 0.2973\n",
      "Epoch 19/30\n",
      "21958/21958 [==============================] - 254s 12ms/step - loss: 0.2680 - val_loss: 0.2933\n",
      "Epoch 20/30\n",
      "21958/21958 [==============================] - 252s 11ms/step - loss: 0.2632 - val_loss: 0.2894\n",
      "Epoch 21/30\n",
      "21958/21958 [==============================] - 252s 11ms/step - loss: 0.2585 - val_loss: 0.2860\n",
      "Epoch 22/30\n",
      "21958/21958 [==============================] - 253s 12ms/step - loss: 0.2542 - val_loss: 0.2829\n",
      "Epoch 23/30\n",
      "21958/21958 [==============================] - 253s 12ms/step - loss: 0.2500 - val_loss: 0.2794\n",
      "Epoch 24/30\n",
      "21958/21958 [==============================] - 253s 12ms/step - loss: 0.2461 - val_loss: 0.2766\n",
      "Epoch 25/30\n",
      "21958/21958 [==============================] - 252s 11ms/step - loss: 0.2423 - val_loss: 0.2739\n",
      "Epoch 26/30\n",
      "21958/21958 [==============================] - 252s 11ms/step - loss: 0.2386 - val_loss: 0.2710\n",
      "Epoch 27/30\n",
      "21958/21958 [==============================] - 252s 11ms/step - loss: 0.2351 - val_loss: 0.2686\n",
      "Epoch 28/30\n",
      "21958/21958 [==============================] - 253s 12ms/step - loss: 0.2318 - val_loss: 0.2663\n",
      "Epoch 29/30\n",
      "21958/21958 [==============================] - 251s 11ms/step - loss: 0.2286 - val_loss: 0.2640\n",
      "Epoch 30/30\n",
      "21958/21958 [==============================] - 252s 11ms/step - loss: 0.2255 - val_loss: 0.2616\n"
     ]
    }
   ],
   "source": [
    "epochs_to_train = 30\n",
    "validation_split = 0.05\n",
    "batch_size = 128\n",
    "\n",
    "history = distance_model.fit(\n",
    "    [users_train, questions_train],\n",
    "    answer_distances_train,\n",
    "    validation_split=validation_split,\n",
    "    epochs=epochs_to_train,\n",
    "    batch_size=batch_size,\n",
    ")"
   ]
  },
  {
   "cell_type": "code",
   "execution_count": 70,
   "id": "bdf5b853-c9e6-4f4a-9ceb-518cae879d6d",
   "metadata": {},
   "outputs": [
    {
     "data": {
      "image/png": "[encoded data removed]",
      "text/plain": [
       "<Figure size 640x350 with 1 Axes>"
      ]
     },
     "metadata": {},
     "output_type": "display_data"
    }
   ],
   "source": [
    "fig, ax1 = plt.subplots()\n",
    "\n",
    "fig.set_figheight(3.5)\n",
    "\n",
    "ax1.plot(history.history[\"loss\"])\n",
    "ax1.plot(history.history[\"val_loss\"])\n",
    "ax1.set_ylabel(\"loss\")\n",
    "ax1.set_xlabel(\"epoch\")\n",
    "ax1.legend([\"train\", \"validation\"])\n",
    "fig.tight_layout()\n",
    "fig.savefig(\"user_emb_loss.pdf\")\n",
    "plt.show()"
   ]
  },
  {
   "cell_type": "code",
   "execution_count": 40,
   "id": "6da7c119-6ab3-4020-bf4e-d59c7aaa5b31",
   "metadata": {},
   "outputs": [],
   "source": [
    "users_test = user_encoder.transform(testset[\"user_id\"])\n",
    "questions_test = question_encoder.transform(testset[\"question_id\"])\n",
    "answer_distances_test = 4 * (1 - testset[\"is_answer\"])"
   ]
  },
  {
   "cell_type": "code",
   "execution_count": 41,
   "id": "46778474-f995-4aff-b1d3-1e933820324d",
   "metadata": {},
   "outputs": [
    {
     "name": "stdout",
     "output_type": "stream",
     "text": [
      "4866/4866 [==============================] - 4s 734us/step - loss: 2.9020\n"
     ]
    },
    {
     "data": {
      "text/plain": [
       "2.9020259380340576"
      ]
     },
     "execution_count": 41,
     "metadata": {},
     "output_type": "execute_result"
    }
   ],
   "source": [
    "distance_model.evaluate([users_test, questions_test], answer_distances_test)"
   ]
  },
  {
   "cell_type": "markdown",
   "id": "e7a1dde3-04a3-4c6c-a5d5-4cba0438d9ef",
   "metadata": {},
   "source": [
    "## Store users embeddings"
   ]
  },
  {
   "cell_type": "code",
   "execution_count": 97,
   "id": "18030625-68d9-4590-8d0c-b72566797bfe",
   "metadata": {},
   "outputs": [],
   "source": [
    "with open(\"user_embeddings.pickle\", \"wb\") as f:\n",
    "    pickle.dump(\n",
    "        (\n",
    "            distance_model.get_layer(\"normalized_user_embedding\").get_weights()[0],\n",
    "            user_encoder,\n",
    "        ),\n",
    "        f,\n",
    "    )"
   ]
  },
  {
   "cell_type": "markdown",
   "id": "4374567a-f0eb-4ee6-80cb-a30e0465e8a3",
   "metadata": {},
   "source": [
    "# Create users index"
   ]
  },
  {
   "cell_type": "code",
   "execution_count": 98,
   "id": "1cdc307d-8b37-4045-8711-7261f6691b0d",
   "metadata": {},
   "outputs": [
    {
     "data": {
      "text/plain": [
       "array([0.9999999 , 0.99999976, 0.9999999 , ..., 0.9999998 , 0.9999998 ,\n",
       "       0.9999998 ], dtype=float32)"
      ]
     },
     "execution_count": 98,
     "metadata": {},
     "output_type": "execute_result"
    }
   ],
   "source": [
    "(distance_model.get_layer(\"normalized_user_embedding\").get_weights()[0] ** 2).sum(\n",
    "    axis=1\n",
    ")"
   ]
  },
  {
   "cell_type": "code",
   "execution_count": 99,
   "id": "2e5416d1-940c-4ac6-8ec6-359195ba7be5",
   "metadata": {},
   "outputs": [],
   "source": [
    "index_type = \"IDMap,Flat\"\n",
    "index = faiss.index_factory(user_embedding_dim, index_type)\n",
    "\n",
    "\n",
    "index.train(distance_model.get_layer(\"normalized_user_embedding\").get_weights()[0])\n",
    "index.add_with_ids(\n",
    "    distance_model.get_layer(\"normalized_user_embedding\").get_weights()[0],\n",
    "    user_encoder.classes_,\n",
    ")"
   ]
  },
  {
   "cell_type": "markdown",
   "id": "8f4ca9d2-2d7e-4cb2-8abb-ca0c23595370",
   "metadata": {},
   "source": [
    "## Store index"
   ]
  },
  {
   "cell_type": "code",
   "execution_count": 100,
   "id": "2ac1efc1-a1be-4b4e-8f37-e992aef6b858",
   "metadata": {},
   "outputs": [],
   "source": [
    "write_index(index, \"users_imp.index\")"
   ]
  },
  {
   "cell_type": "markdown",
   "id": "e45c272f-db8a-4427-ba57-1c60eed1ea0c",
   "metadata": {},
   "source": [
    "# Create question transformation"
   ]
  },
  {
   "cell_type": "code",
   "execution_count": 101,
   "id": "3ae6f00b-a874-408d-a54f-4c1fa4ab1f23",
   "metadata": {},
   "outputs": [
    {
     "name": "stdout",
     "output_type": "stream",
     "text": [
      "Model: \"question_transformer_model\"\n",
      "_________________________________________________________________\n",
      " Layer (type)                Output Shape              Param #   \n",
      "=================================================================\n",
      " input_4 (InputLayer)        [(None, 50)]              0         \n",
      "                                                                 \n",
      " question_transform_l01 (Den  (None, 25)               1275      \n",
      " se)                                                             \n",
      "                                                                 \n",
      " question_transform_l02 (Dro  (None, 25)               0         \n",
      " pout)                                                           \n",
      "                                                                 \n",
      " question_in_user_dim (Dense  (None, 10)               260       \n",
      " )                                                               \n",
      "                                                                 \n",
      " normalized_question_in_user  (None, 10)               0         \n",
      " _dim (Lambda)                                                   \n",
      "                                                                 \n",
      "=================================================================\n",
      "Total params: 1,535\n",
      "Trainable params: 1,535\n",
      "Non-trainable params: 0\n",
      "_________________________________________________________________\n"
     ]
    }
   ],
   "source": [
    "question_transformer_model = tf.keras.models.Model(\n",
    "    inputs=distance_model.get_layer(\"question_embedding\").output,\n",
    "    outputs=distance_model.get_layer(\"normalized_question_in_user_dim\").output,\n",
    "    name=\"question_transformer_model\",\n",
    ")\n",
    "\n",
    "question_transformer_model.summary()"
   ]
  },
  {
   "cell_type": "code",
   "execution_count": 102,
   "id": "7550a7d9-2ce9-45e8-8753-50a97a031211",
   "metadata": {},
   "outputs": [
    {
     "data": {
      "image/png": "[encoded data removed]",
      "text/plain": [
       "<IPython.core.display.Image object>"
      ]
     },
     "execution_count": 102,
     "metadata": {},
     "output_type": "execute_result"
    }
   ],
   "source": [
    "plot_model(question_transformer_model)"
   ]
  },
  {
   "cell_type": "markdown",
   "id": "8dd34f60-332f-4d3b-87cb-581bc82bfa9e",
   "metadata": {},
   "source": [
    "## Store questions transformation"
   ]
  },
  {
   "cell_type": "code",
   "execution_count": 103,
   "id": "d905f31c-5282-49e8-b3e7-fc5b1b947371",
   "metadata": {},
   "outputs": [
    {
     "name": "stdout",
     "output_type": "stream",
     "text": [
      "WARNING:tensorflow:Compiled the loaded model, but the compiled metrics have yet to be built. `model.compile_metrics` will be empty until you train or evaluate the model.\n",
      "INFO:tensorflow:Assets written to: question_transformer_model/assets\n"
     ]
    },
    {
     "name": "stderr",
     "output_type": "stream",
     "text": [
      "2024-05-15 00:28:22.404156: I tensorflow/core/common_runtime/executor.cc:1197] [/device:CPU:0] (DEBUG INFO) Executor start aborting (this does not indicate an error and you can ignore this message): INVALID_ARGUMENT: You must feed a value for placeholder tensor 'inputs' with dtype float and shape [?,25]\n",
      "\t [[{{node inputs}}]]\n",
      "2024-05-15 00:28:22.489506: I tensorflow/core/common_runtime/executor.cc:1197] [/device:CPU:0] (DEBUG INFO) Executor start aborting (this does not indicate an error and you can ignore this message): INVALID_ARGUMENT: You must feed a value for placeholder tensor 'inputs' with dtype float and shape [?,25]\n",
      "\t [[{{node inputs}}]]\n"
     ]
    }
   ],
   "source": [
    "question_transformer_model.save(\"question_transformer_model\")"
   ]
  },
  {
   "cell_type": "markdown",
   "id": "b48765d5-ad73-4e5f-a0d7-4bca0cde175a",
   "metadata": {},
   "source": [
    "# Calculate recall"
   ]
  },
  {
   "cell_type": "markdown",
   "id": "a508e00f-aa87-47ec-b16c-65aae3e43217",
   "metadata": {},
   "source": [
    "## Make dataset"
   ]
  },
  {
   "cell_type": "code",
   "execution_count": 49,
   "id": "59bc4484-bf69-4585-8bd9-e5336c9c05f1",
   "metadata": {},
   "outputs": [],
   "source": [
    "MIN_ANSWERS = 9\n",
    "with connection:\n",
    "    with connection.cursor() as cursor:\n",
    "        cursor.execute(\n",
    "            f\"\"\"select p.id, p.title, p.body_text\n",
    "        from posts_19 p\n",
    "        join posts_19_tags pt on pt.post_id=p.id\n",
    "        join posts_19 a on a.parent_id=p.id\n",
    "        join tags t on pt.tag_id=t.id\n",
    "        where p.body_text is not null\n",
    "        and p.creation_date < '2022-01-01'\n",
    "        and t.tag_name = 'python'\n",
    "        group by p.id\n",
    "        HAVING count(*) > {MIN_ANSWERS}\n",
    "        limit 3000\"\"\"\n",
    "        )\n",
    "        posts = cursor.fetchall()"
   ]
  },
  {
   "cell_type": "code",
   "execution_count": 104,
   "id": "34c74b7d-5ef2-4fb9-8f3e-ecc900c0a691",
   "metadata": {},
   "outputs": [],
   "source": [
    "posts_vectors = []\n",
    "posts_ids = []\n",
    "for p_id, title, body in posts:\n",
    "    posts_ids.append(p_id)\n",
    "    post_text = body\n",
    "    if title is not None:\n",
    "        post_text = title + \"\\n\\n\" + body\n",
    "    posts_vectors.append(\n",
    "        question_embeddings_model.infer_vector(simple_preprocess(post_text))\n",
    "    )"
   ]
  },
  {
   "cell_type": "code",
   "execution_count": 105,
   "id": "d6a31537-7903-4b46-9ad8-c6f03677ba66",
   "metadata": {},
   "outputs": [
    {
     "data": {
      "text/plain": [
       "(1371, 50)"
      ]
     },
     "execution_count": 105,
     "metadata": {},
     "output_type": "execute_result"
    }
   ],
   "source": [
    "posts_vectors = np.array(posts_vectors)\n",
    "posts_vectors.shape"
   ]
  },
  {
   "cell_type": "code",
   "execution_count": 106,
   "id": "a9681677-5f68-4ffd-ab63-4023727afabb",
   "metadata": {},
   "outputs": [
    {
     "name": "stdout",
     "output_type": "stream",
     "text": [
      "43/43 [==============================] - 0s 674us/step\n"
     ]
    },
    {
     "data": {
      "text/plain": [
       "(1371, 10)"
      ]
     },
     "execution_count": 106,
     "metadata": {},
     "output_type": "execute_result"
    }
   ],
   "source": [
    "questions_transformed = question_transformer_model.predict(posts_vectors)\n",
    "questions_transformed.shape"
   ]
  },
  {
   "cell_type": "markdown",
   "id": "8a4b209f-0c52-4ecc-b1f6-ff321c394671",
   "metadata": {},
   "source": [
    "## Calculate recall"
   ]
  },
  {
   "cell_type": "code",
   "execution_count": 107,
   "id": "2f7a1473-6f00-4f8b-8eda-e1254bbdda55",
   "metadata": {},
   "outputs": [],
   "source": [
    "def get_recall_dist(features_df):\n",
    "    with connection:\n",
    "        with connection.cursor() as cursor:\n",
    "            execute_values(\n",
    "                cursor,\n",
    "                \"\"\"\n",
    "                                    with base_recs as (\n",
    "                                        select q_id, u_id\n",
    "                                        FROM (VALUES %s) AS base_data (q_id, u_id)\n",
    "                                    ),\n",
    "                                    answers_per_question as (\n",
    "                                        select a.parent_id as q_id, count(*) as answers\n",
    "                                        FROM posts_19 a\n",
    "                                        WHERE a.parent_id in (select distinct q_id FROM base_recs)\n",
    "                                        GROUP BY a.parent_id),\n",
    "                                    retrieved_answers_per_question as (\n",
    "                                        select a.parent_id as q_id, count(*) as answers\n",
    "                                        FROM posts_19 a\n",
    "                                        JOIN base_recs on q_id = a.parent_id\n",
    "                                        WHERE a.owner_user_id = base_recs.u_id\n",
    "                                        GROUP BY a.parent_id)\n",
    "                                    \n",
    "                                    select COALESCE(retrieved_answers_per_question.answers, 0) / answers_per_question.answers::float\n",
    "                                    FROM answers_per_question \n",
    "                                    LEFT JOIN retrieved_answers_per_question\n",
    "                                    ON answers_per_question.q_id = retrieved_answers_per_question.q_id\"\"\",\n",
    "                features_df[[\"q_id\", \"u_id\"]].values.tolist(),\n",
    "                page_size=len(features_df),\n",
    "            )\n",
    "            recalls = np.array(cursor.fetchall()).flatten()\n",
    "    return recalls.mean(), recalls.std()"
   ]
  },
  {
   "cell_type": "code",
   "execution_count": 108,
   "id": "633c5037-be0b-46ea-8ffc-a8954a4b000c",
   "metadata": {},
   "outputs": [],
   "source": [
    "distances, similar_questions = index.search(questions_transformed[:3], 15)\n",
    "features_df = pd.DataFrame(\n",
    "    list(zip(posts_ids, similar_questions)), columns=[\"q_id\", \"u_id\"]\n",
    ").explode(\"u_id\")\n",
    "features_df[\"u_id\"] = features_df[\"u_id\"].astype(int)\n",
    "features_df = pd.concat(\n",
    "    [\n",
    "        features_df,\n",
    "        pd.DataFrame(\n",
    "            [\n",
    "                (3061, 25450),\n",
    "                (3061, 5532667),\n",
    "                (22676, 14927325),\n",
    "                (22676, 15760624),\n",
    "                (22676, 394),\n",
    "            ],\n",
    "            columns=[\"q_id\", \"u_id\"],\n",
    "        ),\n",
    "    ]\n",
    ")"
   ]
  },
  {
   "cell_type": "code",
   "execution_count": 109,
   "id": "0a318fda-53c3-488f-8720-3540444ee047",
   "metadata": {},
   "outputs": [
    {
     "data": {
      "text/plain": [
       "(0.13203463203463203, 0.09429879182161023)"
      ]
     },
     "execution_count": 109,
     "metadata": {},
     "output_type": "execute_result"
    }
   ],
   "source": [
    "get_recall_dist(features_df)"
   ]
  },
  {
   "cell_type": "code",
   "execution_count": 110,
   "id": "3e7911ff-104d-40a7-a36b-dec7045575c0",
   "metadata": {},
   "outputs": [],
   "source": [
    "test_k = [50, 100, 200, 350, 500] +list(range(1000,50001,1000))\n",
    "recall_dist = []\n",
    "for k in test_k:\n",
    "    distances, cand_users = index.search(questions_transformed[:50], k)\n",
    "    features_df = pd.DataFrame(\n",
    "        list(zip(posts_ids, cand_users)), columns=[\"q_id\", \"u_id\"]\n",
    "    ).explode(\"u_id\")\n",
    "    features_df[\"u_id\"] = features_df[\"u_id\"].astype(int)\n",
    "    recall_dist.append(get_recall_dist(features_df))\n",
    "recall_dist = np.array(recall_dist)"
   ]
  },
  {
   "cell_type": "code",
   "execution_count": 111,
   "id": "dff7db36-da90-4580-8c60-da643bc7b078",
   "metadata": {},
   "outputs": [
    {
     "data": {
      "image/png": "[encoded data removed]",
      "text/plain": [
       "<Figure size 640x350 with 1 Axes>"
      ]
     },
     "metadata": {},
     "output_type": "display_data"
    }
   ],
   "source": [
    "fig, ax1 = plt.subplots()\n",
    "\n",
    "fig.set_figheight(3.5)\n",
    "color = \"tab:blue\"\n",
    "ax1.set_xlabel(\"k\")\n",
    "ax1.set_ylabel(\"Recall\")\n",
    "ax1.plot(test_k, recall_dist[:, 0], color=color)\n",
    "ax1.fill_between(test_k, recall_dist[:, 0] - recall_dist[:, 1], recall_dist[:, 0] + recall_dist[:, 1], alpha=0.2)\n",
    "ax1.set_ylim(bottom=0)\n",
    "\n",
    "fig.tight_layout()\n",
    "fig.savefig(\"mean_std_recall_user_emb.pdf\")\n",
    "plt.show()"
   ]
  },
  {
   "cell_type": "code",
   "execution_count": 112,
   "id": "e58e29de-7fd8-4474-95fb-3b55ff0d8a16",
   "metadata": {},
   "outputs": [],
   "source": [
    "import pickle\n",
    "\n",
    "with open('mean_std_recall_user_emb.pickle', 'wb') as f:\n",
    "    pickle.dump((test_k, recall_dist), f)\n"
   ]
  },
  {
   "cell_type": "code",
   "execution_count": null,
   "id": "e39414f5-2a9a-4ac2-9181-b3ea12c857dd",
   "metadata": {},
   "outputs": [],
   "source": [
    "with open('mean_std_recall_user_emb.pickle', 'rb') as f:\n",
    "    test_k, recall_dist = pickle.load(f)"
   ]
  }
 ],
 "metadata": {
  "kernelspec": {
   "display_name": "Python 3 (ipykernel)",
   "language": "python",
   "name": "python3"
  },
  "language_info": {
   "codemirror_mode": {
    "name": "ipython",
    "version": 3
   },
   "file_extension": ".py",
   "mimetype": "text/x-python",
   "name": "python",
   "nbconvert_exporter": "python",
   "pygments_lexer": "ipython3",
   "version": "3.10.12"
  }
 },
 "nbformat": 4,
 "nbformat_minor": 5
}
